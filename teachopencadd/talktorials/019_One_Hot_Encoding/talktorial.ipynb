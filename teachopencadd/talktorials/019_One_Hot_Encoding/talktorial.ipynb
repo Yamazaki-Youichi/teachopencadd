{
 "cells": [
  {
   "cell_type": "markdown",
   "metadata": {},
   "source": [
    "# T021 ·  One-Hot Encoding\n",
    "\n",
    "Developed in the CADD seminar 2020, Volkamer Lab, Charité/FU Berlin \n",
    "\n",
    "Authors :\n",
    "\n",
    "- Sakshi Misra, CADD seminar 2020, Charité/FU Berlin\n",
    "- Talia B. Kimber, 2020, [Volkamer lab](https://volkamerlab.org), Charité\n",
    "- Yonghui Chen, 2020, [Volkamer lab](https://volkamerlab.org), Charité\n",
    "- Andrea Volkamer, 2020, [Volkamer lab](https://volkamerlab.org), Charité"
   ]
  },
  {
   "cell_type": "markdown",
   "metadata": {},
   "source": [
    "## Aim of this talktorial\n",
    "\n",
    "The aim of the talktorial is to perform one-hot encoding of SMILES structures on a subset of the ChEMBL dataset to gain a deeper understanding on the one-hot encoding concept and why it is useful as a pre-processing step in various machine learning algorithms. \n",
    "\n",
    "<div style=\"text-align: center;\">\n",
    "    <img src=\"images/logo.PNG\" style=\"max-width: 300px; width:50%;\" />\n",
    "</div>\n",
    "\n",
    "*Figure 1* : One-hot encoding in python. The figure is taken from the [blogpost](https://towardsdatascience.com/learning-one-hot-encoding-in-python-the-easy-way-665010457ad9)."
   ]
  },
  {
   "cell_type": "markdown",
   "metadata": {},
   "source": [
    "### Contents in *Theory*\n",
    "\n",
    "- Molecular data and representation\n",
    "    - ChEMBL database\n",
    "    - SMILES structures and rules\n",
    "- What is categorical data?\n",
    "     - What is the problem with categorical data?\n",
    "     - How to convert categorical data to numerical data?\n",
    "- The One-Hot Encoding concept\n",
    "     - Why using one-hot encoding?\n",
    "     - Example of one-hot encoding\n",
    "     - Advantages of one-hot encoding\n",
    "     - Disadvantages of one-hot encoding\n",
    "- Other similar transformation: Integer encoding (label encoder)\n",
    "- Difference between label and one-hot encoding\n",
    "- Padding\n",
    "- Further readings"
   ]
  },
  {
   "cell_type": "markdown",
   "metadata": {},
   "source": [
    "### Contents in *Practical*\n",
    "\n",
    "- Import necessary packages\n",
    "- Load data, draw molecules and visualize the dataframe\n",
    "- Apply one-hot encoding using own implementation\n",
    "  - Visualization of one-hot encoded matrix (unequal dimension)\n",
    "  - Discussion of shortcomings of defined *smiles_encoder* function\n",
    "- Pre-process SMILES data to overcome shortcomings\n",
    "- Apply one-hot encoding using own implementation on preprocessed data\n",
    "  - Visualization of one-hot encoded matrix (equal dimension)\n",
    "- Apply one-hot encoding using implementation in [scikit-learn](https://scikit-learn.org/stable/modules/generated/sklearn.preprocessing.LabelEncoder.html)\n",
    "   - Without padding (unequal dimension) and visualization of the matrix\n",
    "   - With padding (equal dimension)\n",
    "       - Padding after one-hot encoding is performed and visualization of the matrix\n",
    "       - Padding before one-hot encoding performed and visualization of the matrix\n",
    "- Apply one-hot encoding using implementation in [keras](https://keras.io/)\n",
    "  - Without padding (unequal dimension) and visualization of the matrix\n",
    "  - With padding (equal dimension) and visualization of the matrix"
   ]
  },
  {
   "cell_type": "markdown",
   "metadata": {},
   "source": [
    "## References\n",
    "\n",
    "- Theoretical background:\n",
    "     - ChEMBL database: \"The ChEMBL bioactivity database: an update.\" ([<i>Nucleic acids research<i> (2014), <b>42.D1</b>, D1083-D1090](https://doi.org/10.1093/nar/gkt1031))\n",
    "     - Blogpost: Jason Brownlee, *How to One Hot Encode Sequence Data in Python*, [Machine Learning Mastery, accessed November 9th, 2020](https://machinelearningmastery.com/how-to-one-hot-encode-sequence-data-in-python/).\n",
    "     - Blogpost: Krishna Kumar Mahto, *One-Hot-Encoding, Multicollinearity and the Dummy Variable Trap*, towardsdatascience, Available from [one-hot-encoding-multicollinearity](https://towardsdatascience.com/one-hot-encoding-multicollinearity-and-the-dummy-variable-trap-b5840be3c41a/), accessed July 8th, 2019.\n",
    "     - Blogpost: Chris, *What is padding in a neural network?*, MACHINECURVE, Available from [Padding](https://www.machinecurve.com/index.php/2020/02/07/what-is-padding-in-a-neural-network/#:~:text=Padding%20avoids%20the%20loss%20of%20spatial%20dimensions,-Sometimes%2C%20however%2C%20you&text=You%20need%20the%20output%20images,in%20order%20to%20generate%20them.), accessed February 7th, 2020\n",
    "     \n",
    "\n",
    "- Packages and functions used:\n",
    "     - [**rdkit**](https://www.rdkit.org/docs/GettingStartedInPython.html): Greg Landrum,  *RDKit Documentation*, [PDF](https://buildmedia.readthedocs.org/media/pdf/rdkit/latest/rdkit.pdf), Release on 2019.09.1.\n",
    "     - [**scikit-learn**](https://scikit-learn.org/stable/): \n",
    "        - [Scikit-learn: Machine Learning in Python](https://jmlr.csail.mit.edu/papers/v12/pedregosa11a.html), Pedregosa *et al.*, JMLR 12, pp. 2825-2830, 2011.\n",
    "        - Jiangang Hao, et al. \"A Review of Scikit-learn Package in Python Programming Language.\" [*Journal of Education and Behavioral Statistics* **Volume: 44 issue: 3** (2019), page(s): 348-361](https://doi.org/10.3102/1076998619832248.)\n",
    "     - [**keras**](https://keras.io/): Book chapter: \"An Introduction to Deep Learning and Keras\" in [*Learn Keras for Deep Neural Networks* (2019), **page(s):1-16**](https://doi.org/10.1007/978-1-4842-4240-7).\n",
    "     - [**Matplotlib**](https://matplotlib.org/)\n",
    "     - [**timeit**](https://docs.python.org/3/library/timeit.html)\n",
    "     - `SMILES encoder` function: Blogpost by iwatobipen, *encode and decode SMILES strings* , [Wordpress, accessed November 9th, 2020](https://iwatobipen.wordpress.com/2017/01/22/encode-and-decode-smiles-strings/)"
   ]
  },
  {
   "cell_type": "markdown",
   "metadata": {},
   "source": [
    "## Theory"
   ]
  },
  {
   "cell_type": "markdown",
   "metadata": {},
   "source": [
    "### Molecular data and representation"
   ]
  },
  {
   "cell_type": "markdown",
   "metadata": {},
   "source": [
    "#### ChEMBL database\n",
    "\n",
    "- [ChEMBL](https://www.ebi.ac.uk/chembl/) is an open large-scale bioactivity database, containing molecules with drug-like properties. \n",
    "- Recent release 17 contains information extracted from  more than 51,000 publications, together with bioactivity   data sets from 18 other sources (depositors and databases). In total, there are now more than 1.3 million distinct compound structures and 12 million bioactivity data points.\n",
    "- It is maintained by [European Bioinformatics Institute](https://en.wikipedia.org/wiki/European_Bioinformatics_Institute).\n"
   ]
  },
  {
   "cell_type": "markdown",
   "metadata": {},
   "source": [
    "#### SMILES structures and rules\n",
    "- [SMILES](https://en.wikipedia.org/wiki/Simplified_molecular-input_line-entry_system) (Simplified Molecular Input Line Entry System) notation is a chemical notation that allows a user to represent a chemical structure of a molecule in a linear way that can be read by the computer (see \"Modern Aspects of the Smiles Rearrangement\" (2017), [*Chemistry A European Journal*, **Volume23, Issue38**, 8992-9008](https://doi.org/10.1002/chem.201700353) for further information).\n",
    "- It contains a sequence of letters, numbers and characters that specify a molecule's atoms, their connectivity, bond order and chirality."
   ]
  },
  {
   "cell_type": "markdown",
   "metadata": {},
   "source": [
    "**Some SMILES specification rules**\n",
    "\n",
    "- **Atoms** - are represented by their atomic symbols. Also metal atoms are represented with symbols in square bracket, e.g. Gold `[Au]`.\n",
    "- **Bonds** - single, double and triple bonds are represented by symbols `-`, `=` and `#` respectively. Single bonds are the default and therefore do not need to be specified. \n",
    "- **Aromaticity** - While atomic symbols are generally used in upper case, such as C, O, S and N; to specify aromatic atoms lower case symbols are used instead, such as 'c', 'o', 's' and 'n'. Sometimes implicit bonds in rings (alternating `=` and `-`) are also used to describe aromatic atoms such as C1=CC=CC=C1.\n",
    "- **Rings** - SMILES allows a user to identify ring structures by using numbers to identify the opening and closing ring atom. For example, in `C1CCCCC1`, the first carbon has a number '1' which connects by a single bond with the last carbon which also has a number '1'. The resulting structure is cyclohexane.\n",
    "- **Branches** - are specified by enclosing them in parentheses, and can be nested or arranged. For example, 2-Propanol is represented by `CC(O)C`."
   ]
  },
  {
   "cell_type": "markdown",
   "metadata": {},
   "source": [
    "### What is categorical data?\n",
    "Categorical data are variables that contain labels rather than numeric values.\n",
    "Some examples include:\n",
    "\n",
    "- A “pet” variable with the values: “dog” and “cat“.\n",
    "- A “color” variable with the values: “red“, “green” and “blue“.\n",
    "- A “place” variable with the values: “first”, “second” and “third“."
   ]
  },
  {
   "cell_type": "markdown",
   "metadata": {},
   "source": [
    "#### What is the problem with categorical data?\n",
    "Machine Learning is, after all, a bunch of mathematical operations translated to a computer via low-level programming languages. Computers are brilliant when dealing with numbers. So we must somehow convert our input data to numbers. \n",
    "There are many machine learning algorithms which cannot operate on categorical data directly so they must be converted to a numerical form so all our input variables and output variables will be numeric (see [**Blogpost**](https://www.analyticsvidhya.com/blog/2020/03/one-hot-encoding-vs-label-encoding-using-scikit-learn/): Alakh Sethi, *One-Hot Encoding vs. Label Encoding using Scikit-Learn* , Analytics Vidya, accessed March 6th, 2020 for further information).\n",
    "\n",
    "<div style=\"text-align: center;\">\n",
    "<img src=\"https://cdn.analyticsvidhya.com/wp-content/uploads/2020/03/external-content.duckduckgo.com_.jpeg\" alt=\"Drawing\" style=\"max-width: 500px; width:400%;\"/>\n",
    "</div>\n",
    "\n",
    "*Figure 2*: Displays the categorical encoding required for computers to understand the input. The figure comes from this [blogpost](https://www.analyticsvidhya.com/blog/2020/03/one-hot-encoding-vs-label-encoding-using-scikit-learn/)."
   ]
  },
  {
   "cell_type": "markdown",
   "metadata": {},
   "source": [
    "#### How to convert categorical data to numerical data?\n",
    "There are many ways to convert categorical values into numerical values. Each approach has its own positive and negative impact on the feature set. Hereby, two main methods will be the focus: `One-Hot` encoding and `Label` encoding.\n",
    "Both of these encoders are part of the [scikit-learn](https://scikit-learn.org/stable/modules/generated/sklearn.preprocessing.LabelEncoder.html) library (one of the most widely used Python libraries) and are used to convert text or categorical data into numerical data which the model expects and and can work with."
   ]
  },
  {
   "cell_type": "markdown",
   "metadata": {},
   "source": [
    "### The *One-Hot Encoding* concept\n",
    "The one-hot encoding is a vector representation where all the elements of the vector are set to `0` except one, which has `1` as its value. For example, `[0 0 0 1 0 0]` is a one-hot vector.\n",
    "Simply put, one-hot encoding, also known as binary encoding, is a binary representation of categorical variables as binary vectors. \n",
    "\n",
    "The figure shown below helps us gain an overall idea of the one-hot encoding concept. \n",
    "\n",
    "\n",
    "\n",
    "<div style=\"text-align: center;\">\n",
    "    <img src=\"images/OneHotEncoding.png\" style=\"max-width: 500px; width:100%;\" />\n",
    "</div>\n",
    "\n",
    "\n",
    "*Figure 3* : Displays the one-hot encoding of the toluene molecule. Figure taken from the article [<i>BMC Bioinformatics.</i> (2018), <b>19</b>,526](https://doi.org/10.1186/s12859-018-2523-5), more information can be found there.\n",
    " \n",
    "\n",
    "Let us take a deeper look into the concept with the help of a simple example that will describe the basic concept of one-hot encoding, why it is useful and how one can approach it."
   ]
  },
  {
   "cell_type": "markdown",
   "metadata": {},
   "source": [
    "#### Why using one-hot encoding?\n",
    "One-hot encoding allows the representation of categorical data to be more expressive.\n",
    "It is difficult for many machine learning algorithms to work with categorical data directly that's why the label values which are categorical must be converted into numbers first as a preprocessing step. This is required for both input and output variables that are categorical.\n",
    "\n",
    "We could also use an *integer encoding* directly. This may work for problems where there is a natural ordinal relationship between the categories, and in turn the integer values, such as labels for temperature ‘cold’, warm’, and ‘hot’.\n",
    "There may be problems when there is no ordinal relationship and allowing the representation to lean on any such relationship by using integer encoding might be not useful to solve the problem. An example might be the labels ‘dog’ and ‘cat’.\n"
   ]
  },
  {
   "cell_type": "markdown",
   "metadata": {},
   "source": [
    "#### Example of one-hot encoding\n",
    "Let us take a look at a very simple example to understand this concept. Assume we have the “color” variable which has three labels `RED` , `BLUE` and `GREEN`.\n",
    "All these labels must be converted into numeric form in order to work with our machine learning algorithm. This can be done by creating three new columns having all three labels and use `1` for the color of the respective label and `0` for the other colors as shown in Figure 4.\n",
    "\n",
    "\n",
    "<div style=\"text-align: center;\">\n",
    "    <img src=\"images/OneHotEncoding_eg.png\" style=\"max-width: 700px; width:200%;\" />\n",
    "</div>\n",
    "\n",
    "*Figure 4* : The visual demonstration of one-hot encoding done on the variable \"color\". Figure taken from the article: \"*Building a One Hot Encoding Layer with TensorFlow*\", George Novack, [towardsdatascience](https://towardsdatascience.com/building-a-one-hot-encoding-layer-with-tensorflow-f907d686bf39), more details can be found there.\n"
   ]
  },
  {
   "cell_type": "markdown",
   "metadata": {},
   "source": [
    "####  Advantages of one-hot encoding \n",
    "-  If the cardinality (the number of categories) of the categorical features is low (relative to the amount of data), one-hot encoding will work best.\n",
    "-  One hot encoding has the advantage that the result is binary rather than ordinal and that everything sits in an orthogonal vector space."
   ]
  },
  {
   "cell_type": "markdown",
   "metadata": {},
   "source": [
    "####  Disadvantages of one-hot encoding \n",
    "-  Increase in dimensionality, after adding several columns based on categorical variables which may result in an increase in the computational cost.\n",
    "- There is a high chance of multi-collinearity due to dummy variables which can affect the performance of our model.\n",
    "-  One-hot encoding can result in increasing the [sparsity](https://en.wikipedia.org/wiki/Sparse_matrix) of a dataset (a sparse matrix is a matrix in which most of the elements are zero)."
   ]
  },
  {
   "cell_type": "markdown",
   "metadata": {},
   "source": [
    "### Other similar transformation: Integer encoding (label encoder)\n",
    "\n",
    "[Label Encoding](https://scikit-learn.org/stable/modules/generated/sklearn.preprocessing.LabelEncoder.html), or integer encoding, is a popular encoding technique for handling categorical variables and is easily reversible. In this technique, each label is assigned a unique integer based on alphabetical ordering, so that machines can work with it properly.\n",
    "Machine learning algorithms can then decide in a better way on how labels must be operated on.\n",
    "It is an important preprocessing step for the structured dataset in supervised learning."
   ]
  },
  {
   "cell_type": "markdown",
   "metadata": {},
   "source": [
    "**Example of integer encoding**\n",
    "\n",
    "Let us take a similar example as above: we have a color variable and we can assign `red` as `0`, `green` as `1`, and `blue` as `2` as shown in Figure 5.\n",
    "\n",
    "\n",
    "\n",
    "![OneHotEncoding Example](images/label_encoding_example.png)\n",
    "\n",
    "*Figure 5* : The visual demonstration of label encoding done on the variable \"color\". Figure taken from the article: \"*Know about Categorical Encoding, even New Ones!*\", Ahmed Othmen, [towardsdatascience](https://towardsdatascience.com/know-about-categorical-encoding-even-new-ones-c266227b9cbd), more details can be found there.\n"
   ]
  },
  {
   "cell_type": "markdown",
   "metadata": {},
   "source": [
    "### Difference between label and one-hot encoding\n",
    "\n",
    "There is not much difference between these two encoding techniques, it mainly depends on the type of data and model we are using. For example if we have categorical features which are not ordinal (dog or cat) then we can use one-hot encoding. Label encoding works best with ordinal data like `Good=0, Better=1, Best=2`.\n",
    "Also when there are more categorical variables then it might be good to choose label encoding just to avoid high memory consumption and sparsity."
   ]
  },
  {
   "cell_type": "markdown",
   "metadata": {},
   "source": [
    "### Padding \n",
    "\n",
    "**What is padding?**\n",
    "\n",
    "Additionally, we will perform padding in the practical section which is used to add zeros on the resulted one-hot encoded matrix. There are different types of padding, we chose to performed zero padding in here. For more details, please refer to this [Blogpost](https://www.machinecurve.com/index.php/2020/02/07/what-is-padding-in-a-neural-network/#:~:text=Padding%20avoids%20the%20loss%20of%20spatial%20dimensions,-Sometimes%2C%20however%2C%20you&text=You%20need%20the%20output%20images,in%20order%20to%20generate%20them.).\n",
    "\n",
    "**Why is it performed?**\n",
    "\n",
    "- Padding is performed to make the dimensions of the matrix equal or to say preserve the height and the width and don't have to worry too much about tensor dimensions when used as an input for the deep learning models.\n",
    "- It avoids the loss of spatial dimensions.\n",
    "- It also allows to build deeper networks because without padding reduction in volume size would reduce too quickly.\n",
    "\n",
    "\n",
    "**How is it performed?**\n",
    "\n",
    "It can be performed by using the [numpy.pad](https://numpy.org/doc/stable/reference/generated/numpy.pad.html) function which takes several parameters like the `array` which needs to be padded, `pad_width` which is number of values added to the edges of each axis and `mode` which by default is 'constant'.\n",
    "\n",
    "In this talktorial, *padding* is performed\n",
    "- *implicitly*: when applying one-hot encoding using our own implementation on the preprocessed data, where we have given the maximum length of the string as the parameter so that all the resulting one-hot encoded matrices are of the same dimension\n",
    "- *explicitly*: when applying one-hot encoding using *keras* and under two scenarios when using *scikit-learn*. Padding is performed\n",
    "    - *before one-hot encoding* : In this scenario, a function is defined to first pad the label encoded characters of the SMILES string and then perform one-hot encoding using scikit-learn.\n",
    "    - *after one-hot encoding*: Whereas in this scenario, a function was defined to one-hot encode all the SMILES string and then perform padding on the resulted one-hot encoded matrix.\n",
    "\n",
    "Both of these paddings are performed to compare the time difference in achieving one-hot encoding when no padding is performed and when the padding is performed."
   ]
  },
  {
   "cell_type": "markdown",
   "metadata": {},
   "source": [
    "### Further readings\n",
    "\n",
    "This section lists some resources for further reading:\n",
    "\n",
    "- [What is one-hot encoding and when is it used in data science?](https://www.quora.com/What-is-one-hot-encoding-and-when-is-it-used-in-data-science)\n",
    "- [Categorical encoding using Label-Encoding and One-Hot-Encoder](https://towardsdatascience.com/categorical-encoding-using-label-encoding-and-one-hot-encoder-911ef77fb5bd#:~:text=One%2DHot%20Encoding%20in%20Python&text=OneHotEncoder%20from%20SciKit%20library%20only,apply%20OneHotEncoder%20on%20column%20Bridge_Types_Cat.)\n",
    "- Hirohara, M., Saito, Y., Koda, Y. et al. Convolutional neural network based on SMILES representation of compounds for detecting chemical motif. [_BMC Bioinformatics_ **19**, 526 (2018)](https://doi.org/10.1186/s12859-018-2523-5)\n",
    "- [How one can use matplotlib.pyplot.imshow() in Python](https://www.geeksforgeeks.org/matplotlib-pyplot-imshow-in-python/)"
   ]
  },
  {
   "cell_type": "markdown",
   "metadata": {},
   "source": [
    "## Practical"
   ]
  },
  {
   "cell_type": "markdown",
   "metadata": {},
   "source": [
    "### Import necessary packages"
   ]
  },
  {
   "cell_type": "code",
   "execution_count": 1,
   "metadata": {},
   "outputs": [
    {
     "name": "stderr",
     "output_type": "stream",
     "text": [
      "Matplotlib created a temporary config/cache directory at /tmp/matplotlib-sjknjsmr because the default path (/home/andrea/.cache/matplotlib) is not a writable directory; it is highly recommended to set the MPLCONFIGDIR environment variable to a writable directory, in particular to speed up the import of Matplotlib and to better support multiprocessing.\n"
     ]
    }
   ],
   "source": [
    "from pathlib import Path\n",
    "from warnings import filterwarnings\n",
    "from timeit import default_timer as timer\n",
    "\n",
    "import pandas as pd\n",
    "import numpy as np\n",
    "from pathlib import Path\n",
    "from rdkit import Chem\n",
    "from rdkit.Chem import Draw, PandasTools\n",
    "from sklearn.preprocessing import LabelEncoder\n",
    "from sklearn.preprocessing import OneHotEncoder\n",
    "import keras\n",
    "from keras.utils import to_categorical\n",
    "from keras.preprocessing.text import Tokenizer\n",
    "import matplotlib.pyplot as plt\n",
    "\n",
    "# Silence some expected warnings\n",
    "filterwarnings(\"ignore\")"
   ]
  },
  {
   "cell_type": "code",
   "execution_count": 2,
   "metadata": {},
   "outputs": [],
   "source": [
    "# Set path to this notebook\n",
    "HERE = Path(_dh[-1])\n",
    "DATA = HERE / \"data\""
   ]
  },
  {
   "cell_type": "markdown",
   "metadata": {},
   "source": [
    "### Load data, draw molecules and visualize the dataframe\n",
    "\n",
    "Using the `pandas` library, we first load the subset of the ChEMBL dataset and then draw the molecules using the `rdkit.draw` function. Then we apply different implementations of `one-hot encoding` to the SMILES structures.\n",
    "\n",
    "Let's load the data and quickly analyze its column values and check if there are any missing values:"
   ]
  },
  {
   "cell_type": "code",
   "execution_count": 3,
   "metadata": {},
   "outputs": [],
   "source": [
    "df = pd.read_csv(DATA/'CHEMBL25_activities_EGFR.csv',\n",
    "                 lineterminator='\\n')  # NBVAL_CHECK_OUTPUT"
   ]
  },
  {
   "cell_type": "code",
   "execution_count": 4,
   "metadata": {},
   "outputs": [
    {
     "name": "stdout",
     "output_type": "stream",
     "text": [
      "Shape of dataframe :  (3906, 6)\n",
      "<class 'pandas.core.frame.DataFrame'>\n",
      "RangeIndex: 3906 entries, 0 to 3905\n",
      "Data columns (total 6 columns):\n",
      " #   Column            Non-Null Count  Dtype  \n",
      "---  ------            --------------  -----  \n",
      " 0   Unnamed: 0        3906 non-null   int64  \n",
      " 1   chembl_id         3906 non-null   object \n",
      " 2   IC50              3906 non-null   float64\n",
      " 3   units             3906 non-null   object \n",
      " 4   canonical_smiles  3906 non-null   object \n",
      " 5   pIC50             3906 non-null   float64\n",
      "dtypes: float64(2), int64(1), object(3)\n",
      "memory usage: 183.2+ KB\n"
     ]
    },
    {
     "data": {
      "text/html": [
       "<div>\n",
       "<style scoped>\n",
       "    .dataframe tbody tr th:only-of-type {\n",
       "        vertical-align: middle;\n",
       "    }\n",
       "\n",
       "    .dataframe tbody tr th {\n",
       "        vertical-align: top;\n",
       "    }\n",
       "\n",
       "    .dataframe thead th {\n",
       "        text-align: right;\n",
       "    }\n",
       "</style>\n",
       "<table border=\"1\" class=\"dataframe\">\n",
       "  <thead>\n",
       "    <tr style=\"text-align: right;\">\n",
       "      <th></th>\n",
       "      <th>Unnamed: 0</th>\n",
       "      <th>chembl_id</th>\n",
       "      <th>IC50</th>\n",
       "      <th>units</th>\n",
       "      <th>canonical_smiles</th>\n",
       "      <th>pIC50</th>\n",
       "    </tr>\n",
       "  </thead>\n",
       "  <tbody>\n",
       "    <tr>\n",
       "      <th>0</th>\n",
       "      <td>1777</td>\n",
       "      <td>CHEMBL207869</td>\n",
       "      <td>77.0</td>\n",
       "      <td>nM</td>\n",
       "      <td>Clc1c(OCc2cc(F)ccc2)ccc(Nc2c(C#Cc3ncccn3)cncn2)c1</td>\n",
       "      <td>7.113509</td>\n",
       "    </tr>\n",
       "    <tr>\n",
       "      <th>1</th>\n",
       "      <td>5785</td>\n",
       "      <td>CHEMBL3940060</td>\n",
       "      <td>330.0</td>\n",
       "      <td>nM</td>\n",
       "      <td>ClCC(=O)OCCN1C(=O)Oc2c1cc1c(Nc3cc(Cl)c(F)cc3)n...</td>\n",
       "      <td>6.481486</td>\n",
       "    </tr>\n",
       "    <tr>\n",
       "      <th>2</th>\n",
       "      <td>6373</td>\n",
       "      <td>CHEMBL3678951</td>\n",
       "      <td>1.0</td>\n",
       "      <td>nM</td>\n",
       "      <td>FC(F)(F)c1cc(Nc2n(C(C)C)c3nc(Nc4ccc(N5CC[NH+](...</td>\n",
       "      <td>9.000000</td>\n",
       "    </tr>\n",
       "  </tbody>\n",
       "</table>\n",
       "</div>"
      ],
      "text/plain": [
       "   Unnamed: 0      chembl_id   IC50 units  \\\n",
       "0        1777   CHEMBL207869   77.0    nM   \n",
       "1        5785  CHEMBL3940060  330.0    nM   \n",
       "2        6373  CHEMBL3678951    1.0    nM   \n",
       "\n",
       "                                    canonical_smiles     pIC50  \n",
       "0  Clc1c(OCc2cc(F)ccc2)ccc(Nc2c(C#Cc3ncccn3)cncn2)c1  7.113509  \n",
       "1  ClCC(=O)OCCN1C(=O)Oc2c1cc1c(Nc3cc(Cl)c(F)cc3)n...  6.481486  \n",
       "2  FC(F)(F)c1cc(Nc2n(C(C)C)c3nc(Nc4ccc(N5CC[NH+](...  9.000000  "
      ]
     },
     "execution_count": 4,
     "metadata": {},
     "output_type": "execute_result"
    }
   ],
   "source": [
    "# Check the dimension and missing value of the data\n",
    "print(\"Shape of dataframe : \", df.shape)\n",
    "df.info()\n",
    "\n",
    "# Look at head\n",
    "df.head(3)  # NBVAL_CHECK_OUTPUT"
   ]
  },
  {
   "cell_type": "code",
   "execution_count": 5,
   "metadata": {},
   "outputs": [],
   "source": [
    "# select the columns which are necessary\n",
    "df = df[['chembl_id', 'canonical_smiles', 'pIC50']]"
   ]
  },
  {
   "cell_type": "markdown",
   "metadata": {},
   "source": [
    "We can visualize the molecules with their ChEMBL ID using pandas tools and the draw method as shown below."
   ]
  },
  {
   "cell_type": "code",
   "execution_count": 6,
   "metadata": {},
   "outputs": [
    {
     "data": {
      "image/png": "[encoded data removed]",
      "text/plain": [
       "<PIL.PngImagePlugin.PngImageFile image mode=RGB size=1000x400 at 0x7F90EF9841C0>"
      ]
     },
     "execution_count": 6,
     "metadata": {},
     "output_type": "execute_result"
    }
   ],
   "source": [
    "# Using pandas tools and the draw method\n",
    "PandasTools.AddMoleculeColumnToFrame(df, smilesCol='canonical_smiles', molCol='Mol2D' )\n",
    "Draw.MolsToGridImage(list(df.Mol2D[0:10]),\n",
    "                     legends=list(df.chembl_id[0:20]),\n",
    "                     molsPerRow=5)  # NBVAL_CHECK_OUTPUT"
   ]
  },
  {
   "cell_type": "markdown",
   "metadata": {},
   "source": [
    "### Apply one-hot encoding using own implementation\n",
    "\n",
    "First we created a list of all the possible characters which can be present in the SMILES strings."
   ]
  },
  {
   "cell_type": "code",
   "execution_count": 7,
   "metadata": {},
   "outputs": [],
   "source": [
    "# Create list of all possible SMILES characters\n",
    "SMILES_CHARS = [' ', '#', '%', '(',\n",
    "                    ')', '+', '-', '.', '/', '0', '1', '2', '3',\n",
    "                    '4', '5', '6', '7', '8', '9',\n",
    "                    '=', '@', 'A', 'B', 'C', 'F', 'H', 'I', 'K', 'L', 'M',\n",
    "                    'N', 'O', 'P', 'R', 'S', 'T', 'V', 'X', 'Z',\n",
    "                    '[', '\\\\', ']', 'a', 'b', 'c', 'e', 'g', 'i',\n",
    "                    'l', 'n', 'o', 'p', 'r', 's', 't', 'u']"
   ]
  },
  {
   "cell_type": "markdown",
   "metadata": {},
   "source": [
    "Then a function named `smiles_encoder` is defined which will be useful to create the one-hot encoded matrix of the SMILES strings, it takes smiles string and smiles characters as its parameter and returns the one hot encoded matrix of the smiles string."
   ]
  },
  {
   "cell_type": "code",
   "execution_count": 8,
   "metadata": {},
   "outputs": [],
   "source": [
    "# Function defined to create one-hot encoded matrix\n",
    "def smiles_encoder(smiles, smiles_char):\n",
    "    \"\"\"\n",
    "    One-hot encodes a given SMILES string\n",
    "    using the given pre-defined characters.\n",
    "\n",
    "    Parameters\n",
    "    ----------\n",
    "    smiles : str\n",
    "          SMILES string of a compound.\n",
    "    smiles_char : list\n",
    "          list of all possible SMILES characters\n",
    "\n",
    "    Returns\n",
    "    -------\n",
    "    smiles_matrix: ndarray\n",
    "          One-hot encoded matrix of shape\n",
    "          (defined SMILES_CHARS, length of individual SMILES).\n",
    "    \"\"\"\n",
    "\n",
    "    # Convert the dataset into a dictionary\n",
    "    smi2index = dict((char, index) for index, char in enumerate(SMILES_CHARS))\n",
    "    # one-hot encoding\n",
    "    smiles_length = len(smiles)\n",
    "    smiles_matrix = np.zeros((len(SMILES_CHARS), smiles_length), dtype=int)\n",
    "    for index, char in enumerate(smiles):\n",
    "        smiles_matrix[smi2index[char], index] = 1\n",
    "    return smiles_matrix"
   ]
  },
  {
   "cell_type": "code",
   "execution_count": 9,
   "metadata": {},
   "outputs": [
    {
     "data": {
      "text/html": [
       "<div>\n",
       "<style scoped>\n",
       "    .dataframe tbody tr th:only-of-type {\n",
       "        vertical-align: middle;\n",
       "    }\n",
       "\n",
       "    .dataframe tbody tr th {\n",
       "        vertical-align: top;\n",
       "    }\n",
       "\n",
       "    .dataframe thead th {\n",
       "        text-align: right;\n",
       "    }\n",
       "</style>\n",
       "<table border=\"1\" class=\"dataframe\">\n",
       "  <thead>\n",
       "    <tr style=\"text-align: right;\">\n",
       "      <th></th>\n",
       "      <th>chembl_id</th>\n",
       "      <th>canonical_smiles</th>\n",
       "      <th>pIC50</th>\n",
       "      <th>Mol2D</th>\n",
       "      <th>own_ohe_matrix</th>\n",
       "    </tr>\n",
       "  </thead>\n",
       "  <tbody>\n",
       "    <tr>\n",
       "      <th>0</th>\n",
       "      <td>CHEMBL207869</td>\n",
       "      <td>Clc1c(OCc2cc(F)ccc2)ccc(Nc2c(C#Cc3ncccn3)cncn2)c1</td>\n",
       "      <td>7.113509</td>\n",
       "      <td><img data-content=\"rdkit/molecule\" src=\"data:image/png;base64,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\" alt=\"Mol\"/></td>\n",
       "      <td>[[0, 0, 0, 0, 0, 0, 0, 0, 0, 0, 0, 0, 0, 0, 0,...</td>\n",
       "    </tr>\n",
       "    <tr>\n",
       "      <th>1</th>\n",
       "      <td>CHEMBL3940060</td>\n",
       "      <td>ClCC(=O)OCCN1C(=O)Oc2c1cc1c(Nc3cc(Cl)c(F)cc3)n...</td>\n",
       "      <td>6.481486</td>\n",
       "      <td><img data-content=\"rdkit/molecule\" src=\"data:image/png;base64,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\" alt=\"Mol\"/></td>\n",
       "      <td>[[0, 0, 0, 0, 0, 0, 0, 0, 0, 0, 0, 0, 0, 0, 0,...</td>\n",
       "    </tr>\n",
       "    <tr>\n",
       "      <th>2</th>\n",
       "      <td>CHEMBL3678951</td>\n",
       "      <td>FC(F)(F)c1cc(Nc2n(C(C)C)c3nc(Nc4ccc(N5CC[NH+](...</td>\n",
       "      <td>9.000000</td>\n",
       "      <td><img data-content=\"rdkit/molecule\" src=\"data:image/png;base64,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\" alt=\"Mol\"/></td>\n",
       "      <td>[[0, 0, 0, 0, 0, 0, 0, 0, 0, 0, 0, 0, 0, 0, 0,...</td>\n",
       "    </tr>\n",
       "  </tbody>\n",
       "</table>\n",
       "</div>"
      ],
      "text/plain": [
       "       chembl_id                                   canonical_smiles     pIC50  \\\n",
       "0   CHEMBL207869  Clc1c(OCc2cc(F)ccc2)ccc(Nc2c(C#Cc3ncccn3)cncn2)c1  7.113509   \n",
       "1  CHEMBL3940060  ClCC(=O)OCCN1C(=O)Oc2c1cc1c(Nc3cc(Cl)c(F)cc3)n...  6.481486   \n",
       "2  CHEMBL3678951  FC(F)(F)c1cc(Nc2n(C(C)C)c3nc(Nc4ccc(N5CC[NH+](...  9.000000   \n",
       "\n",
       "                                               Mol2D  \\\n",
       "0  <img data-content=\"rdkit/molecule\" src=\"data:i...   \n",
       "1  <img data-content=\"rdkit/molecule\" src=\"data:i...   \n",
       "2  <img data-content=\"rdkit/molecule\" src=\"data:i...   \n",
       "\n",
       "                                      own_ohe_matrix  \n",
       "0  [[0, 0, 0, 0, 0, 0, 0, 0, 0, 0, 0, 0, 0, 0, 0,...  \n",
       "1  [[0, 0, 0, 0, 0, 0, 0, 0, 0, 0, 0, 0, 0, 0, 0,...  \n",
       "2  [[0, 0, 0, 0, 0, 0, 0, 0, 0, 0, 0, 0, 0, 0, 0,...  "
      ]
     },
     "execution_count": 9,
     "metadata": {},
     "output_type": "execute_result"
    }
   ],
   "source": [
    "# Apply the function to the canonical SMILES strings in the dataframe\n",
    "start = timer()\n",
    "df['own_ohe_matrix'] = df['canonical_smiles'].apply(smiles_encoder, smiles_char=SMILES_CHARS)\n",
    "end = timer()\n",
    "df.head(3)  # NBVAL_CHECK_OUTPUT"
   ]
  },
  {
   "cell_type": "code",
   "execution_count": 10,
   "metadata": {},
   "outputs": [
    {
     "name": "stdout",
     "output_type": "stream",
     "text": [
      "Time to execute the function: 0.15 secs\n"
     ]
    }
   ],
   "source": [
    "# Print time required for execution\n",
    "smiles_encoder_time = end - start\n",
    "print(f\"Time to execute the function: \"\n",
    "      f\"{smiles_encoder_time:.2f} secs\")  "
   ]
  },
  {
   "cell_type": "markdown",
   "metadata": {},
   "source": [
    "#### Visualization of one-hot encoded matrix (equal dimension)"
   ]
  },
  {
   "cell_type": "markdown",
   "metadata": {},
   "source": [
    "`Matplotlib` is a plotting library for the python programming language and `Pyplot` is a state-based interface to a matplotlib module which provides a MATLAB-like interface.\n",
    "The [imshow()](https://matplotlib.org/3.2.1/api/_as_gen/matplotlib.pyplot.imshow.html) function in the pyplot module of the matplotlib library is used to display data as an image i.e. on a 2D space.\n",
    "\n",
    "We now visualize our one-hot encoded matrix using `imshow()` by defining our own `one_hot_matrix_plot` function as shown below."
   ]
  },
  {
   "cell_type": "code",
   "execution_count": 11,
   "metadata": {},
   "outputs": [],
   "source": [
    "def one_hot_matrix_plot(ohe_matrix, smiles_char, smiles):\n",
    "    \"\"\"\n",
    "    Visualize one-hot encoded matrix\n",
    "    using matplotlib imshow() function.\n",
    "\n",
    "    Parameters\n",
    "    ----------\n",
    "    one_hot_matrix_plot : ndarray\n",
    "       One-hot encoded (ohe) matrix of shape\n",
    "       (defined SMILES_CHARS, length individual SMILES).\n",
    "    smiles_char : list\n",
    "        list of all possible SMILES characters.\n",
    "    smiles : string\n",
    "        SMILES string of respective molecule        \n",
    "\n",
    "    Returns\n",
    "    ------\n",
    "    None\n",
    "\n",
    "    \"\"\"\n",
    "    im = plt.imshow(ohe_matrix, cmap='hot', interpolation='None')\n",
    "    plt.xlabel('Length of SMILES string')\n",
    "    plt.ylabel(f'Char in SMILES ({len(smiles_char)})')\n",
    "    plt.title('Visualization of one-hot encoded matrix')\n",
    "    plt.show()\n",
    "    print('Shape of one-hot matrix : ', ohe_matrix.shape)\n",
    "    print('Associated canonical SMILES: ', smiles)\n",
    "    return None"
   ]
  },
  {
   "cell_type": "markdown",
   "metadata": {},
   "source": [
    "Now you can choose the index of the compound of your own choice for which you want to visualize the one-hot encoded matrix."
   ]
  },
  {
   "cell_type": "code",
   "execution_count": 12,
   "metadata": {},
   "outputs": [
    {
     "data": {
      "image/png": "[encoded data removed]",
      "text/plain": [
       "<Figure size 432x288 with 1 Axes>"
      ]
     },
     "metadata": {
      "needs_background": "light"
     },
     "output_type": "display_data"
    },
    {
     "name": "stdout",
     "output_type": "stream",
     "text": [
      "Shape of one-hot matrix :  (56, 49)\n",
      "Associated canonical SMILES:  Clc1c(OCc2cc(F)ccc2)ccc(Nc2c(C#Cc3ncccn3)cncn2)c1\n"
     ]
    }
   ],
   "source": [
    "# choose index \n",
    "index = 0\n",
    "one_hot_matrix_plot(df.iloc[index]['own_ohe_matrix'], SMILES_CHARS, \n",
    "                    df.iloc[index]['canonical_smiles'])  # NBVAL_CHECK_OUTPUT"
   ]
  },
  {
   "cell_type": "markdown",
   "metadata": {},
   "source": [
    "Out of curiosity, we wanted to find and draw the shortest and the longest SMILES string and visualize their matrix. It was achieved by using `max` and `min` functions on the *canonical_smiles* column as shown below."
   ]
  },
  {
   "cell_type": "code",
   "execution_count": 13,
   "metadata": {},
   "outputs": [
    {
     "data": {
      "text/plain": [
       "[2705]"
      ]
     },
     "execution_count": 13,
     "metadata": {},
     "output_type": "execute_result"
    }
   ],
   "source": [
    "# Print the index of the longest smile string\n",
    "longest_smile = max(df[\"canonical_smiles\"], key = len) \n",
    "longest_smile_index = df.canonical_smiles[df.canonical_smiles == longest_smile].index.tolist()\n",
    "longest_smile_index"
   ]
  },
  {
   "cell_type": "code",
   "execution_count": 14,
   "metadata": {},
   "outputs": [
    {
     "data": {
      "text/plain": [
       "[1176]"
      ]
     },
     "execution_count": 14,
     "metadata": {},
     "output_type": "execute_result"
    }
   ],
   "source": [
    "# Print the index of the shortest smile string\n",
    "shortest_smile = min(df[\"canonical_smiles\"], key = len) \n",
    "shortest_smile_index = df.canonical_smiles[df.canonical_smiles == shortest_smile].index.tolist()\n",
    "shortest_smile_index"
   ]
  },
  {
   "cell_type": "markdown",
   "metadata": {},
   "source": [
    "Now, we know the index of the longest and shortest SMILES string, we can pass these indexes to our `one_hot_matrix_plot` function and visualize their matrix. We can also draw the molecules using `Chem.MolFromSmiles` function from rdkit."
   ]
  },
  {
   "cell_type": "code",
   "execution_count": 15,
   "metadata": {},
   "outputs": [
    {
     "data": {
      "image/png": "[encoded data removed]",
      "text/plain": [
       "<Figure size 432x288 with 1 Axes>"
      ]
     },
     "metadata": {
      "needs_background": "light"
     },
     "output_type": "display_data"
    },
    {
     "name": "stdout",
     "output_type": "stream",
     "text": [
      "Shape of one-hot matrix :  (56, 267)\n",
      "Associated canonical SMILES:  O=C(N[C@@H]1C(=O)N[C@H](CCC[NH3+])C(=O)N[C@@H]([C@H](CC)C)C(=O)N[C@H](Cc2ccccc2)C(=O)N[C@@H](Cc2[nH]cnc2)C(=O)N[C@H](CC(=O)[O-])C(=O)N[C@@H](CC(=O)N)C(=O)NCCCC1)[C@@H](NC(=O)[C@H](NC(=O)[C@@H](NC(=O)[C@H]1N=C([C@@H]([NH3+])[C@H](CC)C)SC1)CC(C)C)CCC(=O)[O-])[C@H](CC)C\n"
     ]
    },
    {
     "data": {
      "image/png": "[encoded data removed]",
      "text/plain": [
       "<rdkit.Chem.rdchem.Mol at 0x7f908c4ca990>"
      ]
     },
     "execution_count": 15,
     "metadata": {},
     "output_type": "execute_result"
    }
   ],
   "source": [
    "# Pass the index of the longest smile string to visualize the matrix\n",
    "one_hot_matrix_plot(df.iloc[longest_smile_index[0]]['own_ohe_matrix'], SMILES_CHARS, \n",
    "                    longest_smile)  # NBVAL_CHECK_OUTPUT\n",
    "\n",
    "# Draw the longest smile molecule\n",
    "longest_smile_mol = Chem.MolFromSmiles(longest_smile)\n",
    "longest_smile_mol"
   ]
  },
  {
   "cell_type": "code",
   "execution_count": 16,
   "metadata": {},
   "outputs": [
    {
     "data": {
      "image/png": "[encoded data removed]",
      "text/plain": [
       "<Figure size 432x288 with 1 Axes>"
      ]
     },
     "metadata": {
      "needs_background": "light"
     },
     "output_type": "display_data"
    },
    {
     "name": "stdout",
     "output_type": "stream",
     "text": [
      "Shape of one-hot matrix :  (56, 5)\n",
      "Associated canonical SMILES:  [Cl-]\n"
     ]
    },
    {
     "data": {
      "image/png": "[encoded data removed]",
      "text/plain": [
       "<rdkit.Chem.rdchem.Mol at 0x7f908c3a5e90>"
      ]
     },
     "execution_count": 16,
     "metadata": {},
     "output_type": "execute_result"
    }
   ],
   "source": [
    "# Pass the index of the shortest smile string to visualize the matrix\n",
    "one_hot_matrix_plot(df.iloc[shortest_smile_index[0]]['own_ohe_matrix'], SMILES_CHARS, \n",
    "                    shortest_smile)  # NBVAL_CHECK_OUTPUT\n",
    "\n",
    "# Draw the shortest smile molecule\n",
    "shortest_smile_mol = Chem.MolFromSmiles(shortest_smile)\n",
    "shortest_smile_mol"
   ]
  },
  {
   "cell_type": "markdown",
   "metadata": {},
   "source": [
    "From above, the matrix visualization was performed using matplotlib `imshow()` function, we can also visualize the entire matrix using [numpy.matrix](https://numpy.org/doc/stable/reference/generated/numpy.matrix.html) function, e.g. the one-hot encoded matrix of the longest SMILES string as shown below."
   ]
  },
  {
   "cell_type": "code",
   "execution_count": 17,
   "metadata": {},
   "outputs": [
    {
     "name": "stdout",
     "output_type": "stream",
     "text": [
      "First 5 rows of the ohe matrix, representing the charcters [' ', '#', '%', '(', ')']\n",
      "\n",
      "[[0 0 0 0 0 0 0 0 0 0 0 0 0 0 0 0 0 0 0 0 0 0 0 0 0 0 0 0 0 0 0 0 0 0 0 0\n",
      "  0 0 0 0 0 0 0 0 0 0 0 0 0 0 0 0 0 0 0 0 0 0 0 0 0 0 0 0 0 0 0 0 0 0 0 0\n",
      "  0 0 0 0 0 0 0 0 0 0 0 0 0 0 0 0 0 0 0 0 0 0 0 0 0 0 0 0 0 0 0 0 0 0 0 0\n",
      "  0 0 0 0 0 0 0 0 0 0 0 0 0 0 0 0 0 0 0 0 0 0 0 0 0 0 0 0 0 0 0 0 0 0 0 0\n",
      "  0 0 0 0 0 0 0 0 0 0 0 0 0 0 0 0 0 0 0 0 0 0 0 0 0 0 0 0 0 0 0 0 0 0 0 0\n",
      "  0 0 0 0 0 0 0 0 0 0 0 0 0 0 0 0 0 0 0 0 0 0 0 0 0 0 0 0 0 0 0 0 0 0 0 0\n",
      "  0 0 0 0 0 0 0 0 0 0 0 0 0 0 0 0 0 0 0 0 0 0 0 0 0 0 0 0 0 0 0 0 0 0 0 0\n",
      "  0 0 0 0 0 0 0 0 0 0 0 0 0 0 0]\n",
      " [0 0 0 0 0 0 0 0 0 0 0 0 0 0 0 0 0 0 0 0 0 0 0 0 0 0 0 0 0 0 0 0 0 0 0 0\n",
      "  0 0 0 0 0 0 0 0 0 0 0 0 0 0 0 0 0 0 0 0 0 0 0 0 0 0 0 0 0 0 0 0 0 0 0 0\n",
      "  0 0 0 0 0 0 0 0 0 0 0 0 0 0 0 0 0 0 0 0 0 0 0 0 0 0 0 0 0 0 0 0 0 0 0 0\n",
      "  0 0 0 0 0 0 0 0 0 0 0 0 0 0 0 0 0 0 0 0 0 0 0 0 0 0 0 0 0 0 0 0 0 0 0 0\n",
      "  0 0 0 0 0 0 0 0 0 0 0 0 0 0 0 0 0 0 0 0 0 0 0 0 0 0 0 0 0 0 0 0 0 0 0 0\n",
      "  0 0 0 0 0 0 0 0 0 0 0 0 0 0 0 0 0 0 0 0 0 0 0 0 0 0 0 0 0 0 0 0 0 0 0 0\n",
      "  0 0 0 0 0 0 0 0 0 0 0 0 0 0 0 0 0 0 0 0 0 0 0 0 0 0 0 0 0 0 0 0 0 0 0 0\n",
      "  0 0 0 0 0 0 0 0 0 0 0 0 0 0 0]\n",
      " [0 0 0 0 0 0 0 0 0 0 0 0 0 0 0 0 0 0 0 0 0 0 0 0 0 0 0 0 0 0 0 0 0 0 0 0\n",
      "  0 0 0 0 0 0 0 0 0 0 0 0 0 0 0 0 0 0 0 0 0 0 0 0 0 0 0 0 0 0 0 0 0 0 0 0\n",
      "  0 0 0 0 0 0 0 0 0 0 0 0 0 0 0 0 0 0 0 0 0 0 0 0 0 0 0 0 0 0 0 0 0 0 0 0\n",
      "  0 0 0 0 0 0 0 0 0 0 0 0 0 0 0 0 0 0 0 0 0 0 0 0 0 0 0 0 0 0 0 0 0 0 0 0\n",
      "  0 0 0 0 0 0 0 0 0 0 0 0 0 0 0 0 0 0 0 0 0 0 0 0 0 0 0 0 0 0 0 0 0 0 0 0\n",
      "  0 0 0 0 0 0 0 0 0 0 0 0 0 0 0 0 0 0 0 0 0 0 0 0 0 0 0 0 0 0 0 0 0 0 0 0\n",
      "  0 0 0 0 0 0 0 0 0 0 0 0 0 0 0 0 0 0 0 0 0 0 0 0 0 0 0 0 0 0 0 0 0 0 0 0\n",
      "  0 0 0 0 0 0 0 0 0 0 0 0 0 0 0]\n",
      " [0 0 0 1 0 0 0 0 0 0 0 0 0 1 0 0 0 0 0 0 0 0 0 1 0 0 0 0 0 0 0 0 0 0 0 1\n",
      "  0 0 0 0 0 0 0 0 0 0 1 0 0 0 0 0 1 0 0 0 0 0 0 1 0 0 0 0 0 0 0 0 0 1 0 0\n",
      "  0 0 0 0 0 0 0 0 0 1 0 0 0 0 0 0 0 0 0 0 1 0 0 0 0 0 0 0 0 0 0 0 0 0 1 0\n",
      "  0 0 0 0 0 0 0 0 1 0 0 1 0 0 0 0 0 0 0 0 0 1 0 0 0 0 0 0 0 0 0 0 1 0 0 1\n",
      "  0 0 0 0 0 0 1 0 0 0 0 0 0 0 0 0 0 0 0 0 0 0 0 1 0 0 1 0 0 0 0 0 0 0 0 1\n",
      "  0 0 1 0 0 0 0 0 0 0 0 0 1 0 0 1 0 0 0 0 0 0 0 0 0 0 0 0 1 0 0 0 0 0 0 1\n",
      "  0 0 0 0 0 0 0 0 0 0 0 0 1 0 0 0 0 0 0 0 0 0 0 0 1 0 0 0 0 0 0 0 1 0 0 0\n",
      "  0 0 0 0 0 0 0 0 0 0 1 0 0 0 0]\n",
      " [0 0 0 0 0 0 0 0 0 0 0 0 0 0 0 0 1 0 0 0 0 0 0 0 0 0 0 0 0 0 0 0 0 1 0 0\n",
      "  0 0 1 0 0 0 0 0 0 0 0 0 0 0 0 0 0 0 0 1 0 1 0 0 0 0 1 0 0 0 0 0 0 0 0 0\n",
      "  0 0 0 0 0 0 0 1 0 0 0 0 1 0 0 0 0 0 0 0 0 0 0 0 0 0 0 0 0 0 0 0 1 0 0 0\n",
      "  0 1 0 0 0 0 0 0 0 0 0 0 0 0 1 0 0 0 0 1 0 0 0 0 1 0 0 0 0 0 0 0 0 0 0 0\n",
      "  0 0 1 0 1 0 0 0 0 1 0 0 0 0 0 0 1 0 0 0 0 0 0 0 0 0 0 0 0 1 0 0 0 0 0 0\n",
      "  0 0 0 0 0 1 0 0 0 0 0 0 0 0 0 0 0 0 1 0 0 0 0 0 0 0 0 0 0 0 0 0 0 0 0 0\n",
      "  0 0 0 0 0 0 1 0 0 0 0 0 0 0 0 1 0 1 0 0 0 1 0 0 0 0 1 0 1 0 0 0 0 0 0 1\n",
      "  0 0 0 0 1 0 0 0 0 0 0 0 0 1 0]]\n"
     ]
    }
   ],
   "source": [
    "# Print the some rows of the matrix for the longest smile\n",
    "np.set_printoptions(threshold=np.inf)\n",
    "subset=5\n",
    "print(f'First {subset} rows of the ohe matrix, representing the charcters {SMILES_CHARS[0:subset]}\\n')\n",
    "print(np.matrix(df.iloc[longest_smile_index[0]]['own_ohe_matrix'])[0:subset, :])"
   ]
  },
  {
   "cell_type": "markdown",
   "metadata": {},
   "source": [
    "#### Discussion of shortcomings of defined `smiles_encoder` function"
   ]
  },
  {
   "cell_type": "markdown",
   "metadata": {},
   "source": [
    "**and solutions to overcome those**\n",
    "- First, as we notice from the visualizations above, SMILES strings could have unequal dimension since their string length might differ. For machine learning application, having equal dimension throughout the data set is required. In order to achieve this, we can first search for the SMILES string with the maximum length (e.g. [len()](https://www.geeksforgeeks.org/python-string-length-len/) method) and pass it as an argument in our function for all the strings.\n",
    "\n",
    "- Second, in the above function, we have created a dataset of 56 possible SMILES characters, but to optimize our one-hot encoding, we considered reducing the number of 56 characters. Searching for all the unique characters present in the SMILES data set, will allow us to remove those characters not present in the current data set.\n",
    "\n",
    "- Third, many elements in the periodic table are represented by two characters, e.g. 'Cl' stands for chloride. This double-character phenomenon will be misinterpreted by the above smiles_encoder function, i.e. it would split 'Cl' into two characters, namely 'C' and 'l', and that could lead to discrepancies, so searching for each unique character and encoding them may not be optimal. Hence, we suggest here to search for all double-character elements in our SMILES data set by comparing the atoms present in our strings with all the possible elements present in the periodic table and to replace all the two alphabetic elements with one character, for example change 'Cl' to 'L'."
   ]
  },
  {
   "cell_type": "markdown",
   "metadata": {},
   "source": [
    "### Pre-process SMILES data to overcome shortcomings"
   ]
  },
  {
   "cell_type": "markdown",
   "metadata": {},
   "source": [
    "Now we define the `preprocessing_data` function to pre-process the smiles strings by implementing the above discussed shortcomings.\n",
    "\n",
    "**Note:** This function is highly specific to the above dataset used, because we replace two letter elements that were found in this particular dataset. One can adapt the function and add more two letter elements if found when using another dataset and convert them into single letter element accordingly."
   ]
  },
  {
   "cell_type": "code",
   "execution_count": 18,
   "metadata": {},
   "outputs": [],
   "source": [
    "def assess_two_letter_elements(df):\n",
    "    \"\"\"\n",
    "    Find the two letter elements in dataframe\n",
    "\n",
    "    Parameters\n",
    "    ----------\n",
    "    df : pandas.DataFrame\n",
    "       Dataframe which requires preprocessing.\n",
    "\n",
    "    Returns\n",
    "    -------\n",
    "    Two_letter_elements : list\n",
    "        List with found two letter elements\n",
    "    \"\"\"\n",
    "    # Search for unique characters in our SMILES strings\n",
    "    unique_chars = set(df.canonical_smiles.apply(list).sum())\n",
    "    upper_chars = [] \n",
    "    lower_chars = [] \n",
    "    for entry in unique_chars:\n",
    "        if entry.isalpha():\n",
    "            if entry.isupper():\n",
    "                upper_chars.append(entry)\n",
    "            elif entry.islower():\n",
    "                lower_chars.append(entry)\n",
    "    print(f'Upper letter characters {upper_chars}')\n",
    "    print(f'Lower letter characters {lower_chars}')\n",
    "    \n",
    "    # List of all possible periodic elements\n",
    "    periodic_elements = ['Ac',\n",
    "                         'Al', 'Am', 'Sb', 'Ar', 'As', 'At', 'Ba',\n",
    "                         'Bk', 'Be', 'Bi', 'Bh', 'B', 'Br', 'Cd', 'Ca',\n",
    "                         'Cf', 'C', 'Ce', 'Cs', 'Cl', 'Cr', 'Co', 'Cn',\n",
    "                         'Cu', 'Cm', 'Ds', 'Db', 'Dy', 'Es', 'Er', 'Eu',\n",
    "                         'Fm', 'Fl', 'F', 'Fr', 'Gd', 'Ga', 'Ge', 'Au',\n",
    "                         'Hf', 'Hs', 'He', 'Ho', 'H', 'In', 'I', 'Ir',\n",
    "                         'Fe', 'Kr', 'La', 'Lr', 'Pb', 'Li', 'Lv',\n",
    "                         'Lu', 'Mg', 'Mn', 'Mt', 'Md', 'Hg', 'Mo',\n",
    "                         'Mc', 'Nd', 'Ne', 'Np', 'Ni', 'Nh', 'Nb',\n",
    "                         'N', 'No', 'Og', 'Os', 'O', 'Pd', 'P',\n",
    "                         'Pt', 'Pu', 'Po', 'K', 'Pr', 'Pm', 'Pa',\n",
    "                         'Ra', 'Rn', 'Re', 'Rh', 'Rg', 'Rb', 'Ru', 'Rf',\n",
    "                         'Sm', 'Sc', 'Sg', 'Se', 'Si', 'Ag', 'Na',\n",
    "                         'Sr', 'S', 'Ta', 'Tc', 'Te', 'Ts', 'Tb', 'Tl', 'Th',\n",
    "                         'Tm', 'Sn',\n",
    "                         'Ti', 'W', 'U', 'V', 'Xe', 'Yb', 'Y', 'Zn', 'Zr']\n",
    "\n",
    "    # 'two_char_elements' is a list that contains two letter elements\n",
    "    # which are valid when compared with all the possible periodic elements.\n",
    "    two_char_elements = []\n",
    "    for upper in upper_chars:\n",
    "        for lower in lower_chars:\n",
    "            ch = upper + lower\n",
    "            if (ch in periodic_elements):\n",
    "                two_char_elements.append(ch)\n",
    "\n",
    "    # 'two_charc_elements_smiles' is a set that contains all the possible\n",
    "    # two letter elements in our SMILES strings, that is specific to our dataset.\n",
    "    two_char_elements_smiles = set()\n",
    "    for char in two_char_elements:\n",
    "        for index in range(len(df)):\n",
    "            if (df['canonical_smiles'].iloc[index].find(char) != -1):\n",
    "                two_char_elements_smiles.add(char)\n",
    "    return(two_char_elements_smiles)"
   ]
  },
  {
   "cell_type": "code",
   "execution_count": 19,
   "metadata": {},
   "outputs": [
    {
     "name": "stdout",
     "output_type": "stream",
     "text": [
      "Upper letter characters ['C', 'F', 'S', 'O', 'N', 'P', 'B', 'H', 'I']\n",
      "Lower letter characters ['n', 'o', 'l', 'r', 's', 'e', 'c']\n",
      "Two letter elements found in data set: {'Cn', 'Cl', 'Br', 'Se', 'Sc'}\n"
     ]
    }
   ],
   "source": [
    "elements_found = assess_two_letter_elements(df)\n",
    "print(f'Two letter elements found in data set: {elements_found}')"
   ]
  },
  {
   "cell_type": "markdown",
   "metadata": {},
   "source": [
    "Based on this finding we defined our own dictionary for replacement. Note that\n",
    "- We excluded *Sc* from replacement, since it is more likely that sulfur (S) and and aromatic carbon (c) are contained in a molecule than scandium (Sc).\n",
    "- In isomeric SMILES `@` and `@@` are used to describe enantiomers, thus we also need to replace the latter by a one letter code.\n",
    "- If you are working wit a different data set, you may want to adapt the below mapping dictionary."
   ]
  },
  {
   "cell_type": "code",
   "execution_count": 20,
   "metadata": {},
   "outputs": [],
   "source": [
    "# Dictionary to replace the two letter elements found\n",
    "replace_dict ={'Cl':'L', 'Br':'R' ,'Cn':'X' , 'Se':'Z' , '@@':'$'}"
   ]
  },
  {
   "cell_type": "code",
   "execution_count": 21,
   "metadata": {},
   "outputs": [],
   "source": [
    "# Function used to create the preprocessed data\n",
    "def preprocessing_data(df, replacement):\n",
    "    \"\"\"\n",
    "    Preprocess the SMILES structures in a data set.\n",
    "\n",
    "    Parameters\n",
    "    ----------\n",
    "    df : pandas.DataFrame\n",
    "       Dataframe which requires preprocessing.\n",
    "    replacement : dict\n",
    "       Dictionary with mapping for replacement.\n",
    "       \n",
    "    Returns\n",
    "    -------\n",
    "    df : pandas.DataFrame\n",
    "        Dataframe with new processed canonical SMILES column.\n",
    "    unique_char : list\n",
    "        List with unique characters present in SMILES.\n",
    "    SMILES_maxlen : int\n",
    "        Maximum length of SMILES string.\n",
    "    \"\"\"\n",
    "    # Print warning if the dataset has a 'Sc' element\n",
    "    for tmp_smiles in df.canonical_smiles:\n",
    "        if (tmp_smiles.find('Sc') != -1): \n",
    "            print('**Warning**: \"Sc\" element is found in the dataset, since the element is rarely found '\n",
    "                  'in the drugs so we are not converting  '\n",
    "                  'it to single letter element, instead considering \"S\" '\n",
    "                  'and \"c\" as seperate elements. ')\n",
    "            break\n",
    "\n",
    "    \n",
    "    # Create a new column having processed canonical SMILES\n",
    "    df['processed_canonical_smiles'] = \"\"\n",
    "\n",
    "    # Replace the two letter elements found\n",
    "    # with one character\n",
    "    for index in range(len(df)):\n",
    "        cur_smiles = df['canonical_smiles'].iloc[index]\n",
    "        for key, value in replacement.items():\n",
    "            cur_smiles = cur_smiles.replace(key,value)\n",
    "        df['processed_canonical_smiles'].iloc[index] = cur_smiles\n",
    "    \n",
    "    # Calculate max length of the SMILES strings\n",
    "    SMILES_maxlen = df[\"processed_canonical_smiles\"].str.len().max()\n",
    "    \n",
    "    unique_char = set(df.processed_canonical_smiles.apply(list).sum())\n",
    "    return unique_char, df, SMILES_maxlen"
   ]
  },
  {
   "cell_type": "markdown",
   "metadata": {},
   "source": [
    "### Apply one-hot encoding using own implementation on preprocessed data"
   ]
  },
  {
   "cell_type": "code",
   "execution_count": 22,
   "metadata": {},
   "outputs": [
    {
     "name": "stdout",
     "output_type": "stream",
     "text": [
      "**Warning**: \"Sc\" element is found in the dataset, since the element is rarely found in the drugs so we are not converting  it to single letter element, instead considering \"S\" and \"c\" as seperate elements. \n"
     ]
    }
   ],
   "source": [
    "# Calling function\n",
    "unique_char, df, SMILES_maxlen = preprocessing_data(df, replace_dict)"
   ]
  },
  {
   "cell_type": "markdown",
   "metadata": {},
   "source": [
    "The new version of `smiles_encoder` function is defined which is named as `new_smiles_encoder` with an additional parameter of *maxlen* which takes the maximum length of the SMILES string and *uniquechar* which takes the list of unique characters present in the *processed canonical string*."
   ]
  },
  {
   "cell_type": "code",
   "execution_count": 23,
   "metadata": {},
   "outputs": [],
   "source": [
    "# Function defined to create one-hot encoded matrix\n",
    "def new_smiles_encoder(smiles, maxlen, uniquechar):\n",
    "    \"\"\"\n",
    "    Function defined using all unique characters in our\n",
    "    processed canonical smiles structures created\n",
    "    from preprocessed function.\n",
    "\n",
    "    Parameters\n",
    "    ----------\n",
    "    smiles : str\n",
    "         SMILES data in string format.\n",
    "    uniquechar : list\n",
    "         list of unique characters in the string dataset.\n",
    "    maxlen : int\n",
    "         maximum length of the SMILES string.\n",
    "\n",
    "    Returns\n",
    "    -------\n",
    "    smiles_matrix : ndarray\n",
    "         One-hot encoded matrix of fixed shape\n",
    "         (unique char in smiles, max smile length).\n",
    "    \"\"\"\n",
    "    # create dictionary of the unique char dataset\n",
    "    smi2index = dict((char, index) for index, char in enumerate(unique_char))\n",
    "    # one hot encoding\n",
    "    smiles_matrix = np.zeros((len(unique_char), maxlen))\n",
    "    for index, char in enumerate(smiles):\n",
    "        smiles_matrix[smi2index[char], index] = 1\n",
    "    return smiles_matrix"
   ]
  },
  {
   "cell_type": "code",
   "execution_count": 24,
   "metadata": {},
   "outputs": [
    {
     "data": {
      "text/html": [
       "<div>\n",
       "<style scoped>\n",
       "    .dataframe tbody tr th:only-of-type {\n",
       "        vertical-align: middle;\n",
       "    }\n",
       "\n",
       "    .dataframe tbody tr th {\n",
       "        vertical-align: top;\n",
       "    }\n",
       "\n",
       "    .dataframe thead th {\n",
       "        text-align: right;\n",
       "    }\n",
       "</style>\n",
       "<table border=\"1\" class=\"dataframe\">\n",
       "  <thead>\n",
       "    <tr style=\"text-align: right;\">\n",
       "      <th></th>\n",
       "      <th>chembl_id</th>\n",
       "      <th>canonical_smiles</th>\n",
       "      <th>pIC50</th>\n",
       "      <th>Mol2D</th>\n",
       "      <th>own_ohe_matrix</th>\n",
       "      <th>processed_canonical_smiles</th>\n",
       "      <th>unique_char_ohe_matrix</th>\n",
       "    </tr>\n",
       "  </thead>\n",
       "  <tbody>\n",
       "    <tr>\n",
       "      <th>0</th>\n",
       "      <td>CHEMBL207869</td>\n",
       "      <td>Clc1c(OCc2cc(F)ccc2)ccc(Nc2c(C#Cc3ncccn3)cncn2)c1</td>\n",
       "      <td>7.113509</td>\n",
       "      <td><img data-content=\"rdkit/molecule\" src=\"data:image/png;base64,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\" alt=\"Mol\"/></td>\n",
       "      <td>[[0, 0, 0, 0, 0, 0, 0, 0, 0, 0, 0, 0, 0, 0, 0,...</td>\n",
       "      <td>Lc1c(OCc2cc(F)ccc2)ccc(Nc2c(C#Cc3ncccn3)cncn2)c1</td>\n",
       "      <td>[[0.0, 0.0, 0.0, 0.0, 0.0, 0.0, 0.0, 0.0, 0.0,...</td>\n",
       "    </tr>\n",
       "    <tr>\n",
       "      <th>1</th>\n",
       "      <td>CHEMBL3940060</td>\n",
       "      <td>ClCC(=O)OCCN1C(=O)Oc2c1cc1c(Nc3cc(Cl)c(F)cc3)n...</td>\n",
       "      <td>6.481486</td>\n",
       "      <td><img data-content=\"rdkit/molecule\" src=\"data:image/png;base64,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\" alt=\"Mol\"/></td>\n",
       "      <td>[[0, 0, 0, 0, 0, 0, 0, 0, 0, 0, 0, 0, 0, 0, 0,...</td>\n",
       "      <td>LCC(=O)OCCN1C(=O)Oc2c1cc1c(Nc3cc(L)c(F)cc3)ncn...</td>\n",
       "      <td>[[0.0, 0.0, 0.0, 0.0, 0.0, 0.0, 0.0, 0.0, 0.0,...</td>\n",
       "    </tr>\n",
       "    <tr>\n",
       "      <th>2</th>\n",
       "      <td>CHEMBL3678951</td>\n",
       "      <td>FC(F)(F)c1cc(Nc2n(C(C)C)c3nc(Nc4ccc(N5CC[NH+](...</td>\n",
       "      <td>9.000000</td>\n",
       "      <td><img data-content=\"rdkit/molecule\" src=\"data:image/png;base64,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\" alt=\"Mol\"/></td>\n",
       "      <td>[[0, 0, 0, 0, 0, 0, 0, 0, 0, 0, 0, 0, 0, 0, 0,...</td>\n",
       "      <td>FC(F)(F)c1cc(Nc2n(C(C)C)c3nc(Nc4ccc(N5CC[NH+](...</td>\n",
       "      <td>[[0.0, 0.0, 0.0, 0.0, 0.0, 0.0, 0.0, 0.0, 0.0,...</td>\n",
       "    </tr>\n",
       "  </tbody>\n",
       "</table>\n",
       "</div>"
      ],
      "text/plain": [
       "       chembl_id                                   canonical_smiles     pIC50  \\\n",
       "0   CHEMBL207869  Clc1c(OCc2cc(F)ccc2)ccc(Nc2c(C#Cc3ncccn3)cncn2)c1  7.113509   \n",
       "1  CHEMBL3940060  ClCC(=O)OCCN1C(=O)Oc2c1cc1c(Nc3cc(Cl)c(F)cc3)n...  6.481486   \n",
       "2  CHEMBL3678951  FC(F)(F)c1cc(Nc2n(C(C)C)c3nc(Nc4ccc(N5CC[NH+](...  9.000000   \n",
       "\n",
       "                                               Mol2D  \\\n",
       "0  <img data-content=\"rdkit/molecule\" src=\"data:i...   \n",
       "1  <img data-content=\"rdkit/molecule\" src=\"data:i...   \n",
       "2  <img data-content=\"rdkit/molecule\" src=\"data:i...   \n",
       "\n",
       "                                      own_ohe_matrix  \\\n",
       "0  [[0, 0, 0, 0, 0, 0, 0, 0, 0, 0, 0, 0, 0, 0, 0,...   \n",
       "1  [[0, 0, 0, 0, 0, 0, 0, 0, 0, 0, 0, 0, 0, 0, 0,...   \n",
       "2  [[0, 0, 0, 0, 0, 0, 0, 0, 0, 0, 0, 0, 0, 0, 0,...   \n",
       "\n",
       "                          processed_canonical_smiles  \\\n",
       "0   Lc1c(OCc2cc(F)ccc2)ccc(Nc2c(C#Cc3ncccn3)cncn2)c1   \n",
       "1  LCC(=O)OCCN1C(=O)Oc2c1cc1c(Nc3cc(L)c(F)cc3)ncn...   \n",
       "2  FC(F)(F)c1cc(Nc2n(C(C)C)c3nc(Nc4ccc(N5CC[NH+](...   \n",
       "\n",
       "                              unique_char_ohe_matrix  \n",
       "0  [[0.0, 0.0, 0.0, 0.0, 0.0, 0.0, 0.0, 0.0, 0.0,...  \n",
       "1  [[0.0, 0.0, 0.0, 0.0, 0.0, 0.0, 0.0, 0.0, 0.0,...  \n",
       "2  [[0.0, 0.0, 0.0, 0.0, 0.0, 0.0, 0.0, 0.0, 0.0,...  "
      ]
     },
     "execution_count": 24,
     "metadata": {},
     "output_type": "execute_result"
    }
   ],
   "source": [
    "# Apply the function to the processed canonical SMILES strings\n",
    "start = timer()\n",
    "df['unique_char_ohe_matrix'] = df['processed_canonical_smiles'].apply(\n",
    "                                  new_smiles_encoder, maxlen=SMILES_maxlen, \n",
    "                                  uniquechar=unique_char)\n",
    "end = timer()\n",
    "df.head(3)  # NBVAL_CHECK_OUTPUT"
   ]
  },
  {
   "cell_type": "code",
   "execution_count": 25,
   "metadata": {
    "scrolled": true
   },
   "outputs": [
    {
     "name": "stdout",
     "output_type": "stream",
     "text": [
      "Time to execute the function: 0.32 secs\n"
     ]
    }
   ],
   "source": [
    "# Print time required for execution\n",
    "smiles_encoder_equal_dim = end - start\n",
    "print(f\"Time to execute the function: \"\n",
    "      f\"{smiles_encoder_equal_dim:.2f} secs\")  "
   ]
  },
  {
   "cell_type": "markdown",
   "metadata": {},
   "source": [
    "#### Visualization of one-hot encoded matrix (equal dimension)"
   ]
  },
  {
   "cell_type": "code",
   "execution_count": 26,
   "metadata": {},
   "outputs": [
    {
     "data": {
      "image/png": "[encoded data removed]",
      "text/plain": [
       "<Figure size 432x288 with 1 Axes>"
      ]
     },
     "metadata": {
      "needs_background": "light"
     },
     "output_type": "display_data"
    },
    {
     "name": "stdout",
     "output_type": "stream",
     "text": [
      "Shape of one-hot matrix :  (37, 260)\n",
      "Associated canonical SMILES:  Lc1c(OCc2cc(F)ccc2)ccc(Nc2c(C#Cc3ncccn3)cncn2)c1\n"
     ]
    }
   ],
   "source": [
    "# choose index of the compound for which the OHE matrix is visualised \n",
    "index = 0\n",
    "one_hot_matrix_plot(df.iloc[index]['unique_char_ohe_matrix'],\n",
    "                    unique_char,\n",
    "                    df.iloc[index]['processed_canonical_smiles'])  # NBVAL_CHECK_OUTPUT"
   ]
  },
  {
   "cell_type": "code",
   "execution_count": 27,
   "metadata": {},
   "outputs": [
    {
     "data": {
      "image/png": "[encoded data removed]",
      "text/plain": [
       "<Figure size 432x288 with 1 Axes>"
      ]
     },
     "metadata": {
      "needs_background": "light"
     },
     "output_type": "display_data"
    },
    {
     "name": "stdout",
     "output_type": "stream",
     "text": [
      "Shape of one-hot matrix :  (37, 260)\n",
      "Associated canonical SMILES:  O=C(N[C$H]1C(=O)N[C@H](CCC[NH3+])C(=O)N[C$H]([C@H](CC)C)C(=O)N[C@H](Cc2ccccc2)C(=O)N[C$H](Cc2[nH]cnc2)C(=O)N[C@H](CC(=O)[O-])C(=O)N[C$H](CC(=O)N)C(=O)NCCCC1)[C$H](NC(=O)[C@H](NC(=O)[C$H](NC(=O)[C@H]1N=C([C$H]([NH3+])[C@H](CC)C)SC1)CC(C)C)CCC(=O)[O-])[C@H](CC)C\n"
     ]
    }
   ],
   "source": [
    "index = 2705\n",
    "one_hot_matrix_plot(df.iloc[index]['unique_char_ohe_matrix'],\n",
    "                    unique_char,\n",
    "                    df.iloc[index]['processed_canonical_smiles'])  # NBVAL_CHECK_OUTPUT"
   ]
  },
  {
   "cell_type": "markdown",
   "metadata": {},
   "source": [
    "From the above visualizations, we can conclude that the dimensions are equal for all the molecule's one-hot encoded SMILES using `preprocessing_data` and `new_smiles_encoder` functions."
   ]
  },
  {
   "cell_type": "markdown",
   "metadata": {},
   "source": [
    "### Apply one-hot encoding using implementation in scikit-learn"
   ]
  },
  {
   "cell_type": "markdown",
   "metadata": {},
   "source": [
    "Before implementing one hot encoding using scikit-learn, we have defined the functions named `later_padding` which adds horizontal and vertical padding to the given matrix and `initial_padding` which adds zeros to the character list after they are label encoded by using the `numpy.pad` function as discussed in the theory section. \n",
    "\n",
    "It is defined here because it will be used as a boolean parameter (islaterpadding and isinitialpadding) later in the scikit-learn and keras implementations to choose if later padding or initial padding is required or not."
   ]
  },
  {
   "cell_type": "code",
   "execution_count": 28,
   "metadata": {},
   "outputs": [],
   "source": [
    "# Function to add padding after one-hot encoding\n",
    "def later_padding(ohe_matrix, maxlen, uniquechar):\n",
    "    \"\"\"\n",
    "    Add horizontal and vertical padding\n",
    "    to the given matrix using numpy.pad() function.\n",
    "\n",
    "    Parameters\n",
    "    ----------\n",
    "    ohe_matrix: ndarray\n",
    "        Character array.\n",
    "    smiles_max_len: int\n",
    "        Maximum length of the SMILES string.\n",
    "    unique_char: list\n",
    "        List of unique characters in the string dataset.\n",
    "            \n",
    "    Returns\n",
    "    -------\n",
    "    padded_matrix: ndarray\n",
    "           Padded one-hot encoded matrix of\n",
    "           shape (unique char in smiles, max smile_length).\n",
    "   \"\"\"\n",
    "    \n",
    "    padded_matrix = np.pad(ohe_matrix, ((0, SMILES_maxlen-len(ohe_matrix)),\n",
    "                                         (0, len(unique_char)-len(\n",
    "                                          ohe_matrix[0]))), 'constant')\n",
    "    return padded_matrix"
   ]
  },
  {
   "cell_type": "code",
   "execution_count": 29,
   "metadata": {},
   "outputs": [],
   "source": [
    "# Function to add padding before one-hot encoding\n",
    "# after label (integer) encoding\n",
    "def initial_padding(smiles, maxlen):\n",
    "    \"\"\"\n",
    "    Add zeroes to the list of characters \n",
    "    after integer encoding them\n",
    "\n",
    "    Parameters\n",
    "    ----------\n",
    "    smiles : str\n",
    "       SMILES string.\n",
    "    maxlen: int\n",
    "       Maximum length of the SMILES string\n",
    "\n",
    "    Returns\n",
    "    -------\n",
    "    ndarray\n",
    "      One-hot encoded matrix with intial padding of shape\n",
    "      (unique char in smiles, max smile_length).\n",
    "    \"\"\"\n",
    "    canonical_char = list(smiles)\n",
    "    # perform padding on the list of characters\n",
    "    canonical_char_padded = np.pad(canonical_char, (0,\n",
    "                         maxlen-len(canonical_char)), 'constant')\n",
    "    return canonical_char_padded"
   ]
  },
  {
   "cell_type": "markdown",
   "metadata": {},
   "source": [
    "Now, we proceed with our second implementation of one-hot encoding from scikit-learn. We can use [OneHotEncoder](https://scikit-learn.org/stable/modules/generated/sklearn.preprocessing.OneHotEncoder.html) from the `sklearn` library but it only takes numerical categorical values, hence any value of string type should be [label_encoded](https://scikit-learn.org/stable/modules/generated/sklearn.preprocessing.LabelEncoder.html) first before one-hot encoded."
   ]
  },
  {
   "cell_type": "markdown",
   "metadata": {},
   "source": [
    "Running the functions below first give integer encoded SMILES of the labels and finally one-hot encode the SMILES structures.\n",
    "\n",
    "By default, the OneHotEncoder class will return a more efficient sparse encoding which can be useful in some applications but in this case, we disabled the sparse return type by setting the `sparse=False` argument."
   ]
  },
  {
   "cell_type": "code",
   "execution_count": 30,
   "metadata": {},
   "outputs": [],
   "source": [
    "# Use Scikit-learn implementation of one-hot encoding\n",
    "def sklearn_one_hot_encoded_matrix(smiles, islaterpadding, isinitialpadding):\n",
    "    \"\"\"\n",
    "    Label and one-hot encodes the SMILES\n",
    "    using sklearn LabelEncoder and OneHotEncoder implementation.\n",
    "    \n",
    "    Parameters\n",
    "    ----------\n",
    "    smiles : str\n",
    "        SMILES string of a compound.\n",
    "    islaterpadding : bool\n",
    "        Paramater is `True` if `later_padding` is required,\n",
    "        `False` otherwise.\n",
    "    isinitialpadding : bool\n",
    "        Paramater is `True` if `initial_padding` is required,\n",
    "        `False` otherwise.\n",
    "          \n",
    "    Returns\n",
    "    -------\n",
    "    onehot_encoded : ndarray\n",
    "        One-hot encoded matrix of shape\n",
    "        (chars in individual SMILES, length of individual SMILES).\n",
    "    \"\"\"\n",
    "    # Integer encoding\n",
    "    canonical_char = list(smiles)\n",
    "    label_encoder = LabelEncoder()\n",
    "    # Fit_transform function is used to first fit the data and then transform it\n",
    "    integer_encoded = label_encoder.fit_transform(canonical_char)\n",
    "    \n",
    "    if (isinitialpadding == True):\n",
    "        integer_encoded = initial_padding(integer_encoded, SMILES_maxlen)\n",
    "        \n",
    "    # One-hot encoding\n",
    "    onehot_encoder = OneHotEncoder(sparse=False)\n",
    "    integer_encoded = integer_encoded.reshape(len(integer_encoded), 1)\n",
    "    onehot_encoded = onehot_encoder.fit_transform(integer_encoded)\n",
    "    \n",
    "    if (islaterpadding == True):\n",
    "        onehot_encoded = later_padding(onehot_encoded, SMILES_maxlen, unique_char)\n",
    "    \n",
    "    onehot_encoded = onehot_encoded.transpose()\n",
    "    return onehot_encoded"
   ]
  },
  {
   "cell_type": "markdown",
   "metadata": {},
   "source": [
    "#### Without padding (unequal dimension)\n",
    "\n",
    "We can use the `sklearn_one_hot_encoded_matrix` function defined above to create the one-hot encoded matrix and no padding is perfomed, it will create unequal dimensions of the matrix because it will first label encode all the characters present in the SMILES strings (individually) and then one-hot encode them."
   ]
  },
  {
   "cell_type": "code",
   "execution_count": 31,
   "metadata": {},
   "outputs": [
    {
     "data": {
      "text/html": [
       "<div>\n",
       "<style scoped>\n",
       "    .dataframe tbody tr th:only-of-type {\n",
       "        vertical-align: middle;\n",
       "    }\n",
       "\n",
       "    .dataframe tbody tr th {\n",
       "        vertical-align: top;\n",
       "    }\n",
       "\n",
       "    .dataframe thead th {\n",
       "        text-align: right;\n",
       "    }\n",
       "</style>\n",
       "<table border=\"1\" class=\"dataframe\">\n",
       "  <thead>\n",
       "    <tr style=\"text-align: right;\">\n",
       "      <th></th>\n",
       "      <th>chembl_id</th>\n",
       "      <th>canonical_smiles</th>\n",
       "      <th>pIC50</th>\n",
       "      <th>Mol2D</th>\n",
       "      <th>own_ohe_matrix</th>\n",
       "      <th>processed_canonical_smiles</th>\n",
       "      <th>unique_char_ohe_matrix</th>\n",
       "      <th>sklearn_ohe_matrix_no_padding</th>\n",
       "    </tr>\n",
       "  </thead>\n",
       "  <tbody>\n",
       "    <tr>\n",
       "      <th>0</th>\n",
       "      <td>CHEMBL207869</td>\n",
       "      <td>Clc1c(OCc2cc(F)ccc2)ccc(Nc2c(C#Cc3ncccn3)cncn2)c1</td>\n",
       "      <td>7.113509</td>\n",
       "      <td><img data-content=\"rdkit/molecule\" src=\"data:image/png;base64,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\" alt=\"Mol\"/></td>\n",
       "      <td>[[0, 0, 0, 0, 0, 0, 0, 0, 0, 0, 0, 0, 0, 0, 0,...</td>\n",
       "      <td>Lc1c(OCc2cc(F)ccc2)ccc(Nc2c(C#Cc3ncccn3)cncn2)c1</td>\n",
       "      <td>[[0.0, 0.0, 0.0, 0.0, 0.0, 0.0, 0.0, 0.0, 0.0,...</td>\n",
       "      <td>[[0.0, 0.0, 0.0, 0.0, 0.0, 0.0, 0.0, 0.0, 0.0,...</td>\n",
       "    </tr>\n",
       "    <tr>\n",
       "      <th>1</th>\n",
       "      <td>CHEMBL3940060</td>\n",
       "      <td>ClCC(=O)OCCN1C(=O)Oc2c1cc1c(Nc3cc(Cl)c(F)cc3)n...</td>\n",
       "      <td>6.481486</td>\n",
       "      <td><img data-content=\"rdkit/molecule\" src=\"data:image/png;base64,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\" alt=\"Mol\"/></td>\n",
       "      <td>[[0, 0, 0, 0, 0, 0, 0, 0, 0, 0, 0, 0, 0, 0, 0,...</td>\n",
       "      <td>LCC(=O)OCCN1C(=O)Oc2c1cc1c(Nc3cc(L)c(F)cc3)ncn...</td>\n",
       "      <td>[[0.0, 0.0, 0.0, 0.0, 0.0, 0.0, 0.0, 0.0, 0.0,...</td>\n",
       "      <td>[[0.0, 0.0, 0.0, 1.0, 0.0, 0.0, 0.0, 0.0, 0.0,...</td>\n",
       "    </tr>\n",
       "  </tbody>\n",
       "</table>\n",
       "</div>"
      ],
      "text/plain": [
       "       chembl_id                                   canonical_smiles     pIC50  \\\n",
       "0   CHEMBL207869  Clc1c(OCc2cc(F)ccc2)ccc(Nc2c(C#Cc3ncccn3)cncn2)c1  7.113509   \n",
       "1  CHEMBL3940060  ClCC(=O)OCCN1C(=O)Oc2c1cc1c(Nc3cc(Cl)c(F)cc3)n...  6.481486   \n",
       "\n",
       "                                               Mol2D  \\\n",
       "0  <img data-content=\"rdkit/molecule\" src=\"data:i...   \n",
       "1  <img data-content=\"rdkit/molecule\" src=\"data:i...   \n",
       "\n",
       "                                      own_ohe_matrix  \\\n",
       "0  [[0, 0, 0, 0, 0, 0, 0, 0, 0, 0, 0, 0, 0, 0, 0,...   \n",
       "1  [[0, 0, 0, 0, 0, 0, 0, 0, 0, 0, 0, 0, 0, 0, 0,...   \n",
       "\n",
       "                          processed_canonical_smiles  \\\n",
       "0   Lc1c(OCc2cc(F)ccc2)ccc(Nc2c(C#Cc3ncccn3)cncn2)c1   \n",
       "1  LCC(=O)OCCN1C(=O)Oc2c1cc1c(Nc3cc(L)c(F)cc3)ncn...   \n",
       "\n",
       "                              unique_char_ohe_matrix  \\\n",
       "0  [[0.0, 0.0, 0.0, 0.0, 0.0, 0.0, 0.0, 0.0, 0.0,...   \n",
       "1  [[0.0, 0.0, 0.0, 0.0, 0.0, 0.0, 0.0, 0.0, 0.0,...   \n",
       "\n",
       "                       sklearn_ohe_matrix_no_padding  \n",
       "0  [[0.0, 0.0, 0.0, 0.0, 0.0, 0.0, 0.0, 0.0, 0.0,...  \n",
       "1  [[0.0, 0.0, 0.0, 1.0, 0.0, 0.0, 0.0, 0.0, 0.0,...  "
      ]
     },
     "execution_count": 31,
     "metadata": {},
     "output_type": "execute_result"
    }
   ],
   "source": [
    "# Apply the function over the processed canonical SMILES strings\n",
    "start = timer()\n",
    "df['sklearn_ohe_matrix_no_padding'] = df['processed_canonical_smiles'].apply(\n",
    "                                          sklearn_one_hot_encoded_matrix, \n",
    "                                          islaterpadding=False, \n",
    "                                          isinitialpadding=False)\n",
    "end = timer()\n",
    "df.head(2) # NBVAL_CHECK_OUTPUT"
   ]
  },
  {
   "cell_type": "code",
   "execution_count": 32,
   "metadata": {},
   "outputs": [
    {
     "name": "stdout",
     "output_type": "stream",
     "text": [
      "Time to execute the function: 1.23 secs\n"
     ]
    }
   ],
   "source": [
    "# Print time required for execution\n",
    "sklearn_time_without_padding = end - start\n",
    "print(f\"Time to execute the function: \"\n",
    "      f\"{sklearn_time_without_padding:.2f} secs\")  "
   ]
  },
  {
   "cell_type": "markdown",
   "metadata": {},
   "source": [
    "**Visualization with Matplotlib.imshow() function**"
   ]
  },
  {
   "cell_type": "code",
   "execution_count": 33,
   "metadata": {},
   "outputs": [
    {
     "data": {
      "image/png": "[encoded data removed]",
      "text/plain": [
       "<Figure size 432x288 with 1 Axes>"
      ]
     },
     "metadata": {
      "needs_background": "light"
     },
     "output_type": "display_data"
    },
    {
     "name": "stdout",
     "output_type": "stream",
     "text": [
      "Shape of one-hot matrix :  (13, 48)\n",
      "Associated canonical SMILES:  Lc1c(OCc2cc(F)ccc2)ccc(Nc2c(C#Cc3ncccn3)cncn2)c1\n"
     ]
    }
   ],
   "source": [
    "# choose index of the compound for which the OHE matrix is visualised \n",
    "index = 0\n",
    "one_hot_matrix_plot(df.iloc[index]['sklearn_ohe_matrix_no_padding'],\n",
    "                    df.iloc[index]['sklearn_ohe_matrix_no_padding'],\n",
    "                    df.iloc[index]['processed_canonical_smiles'])  # NBVAL_CHECK_OUTPUT"
   ]
  },
  {
   "cell_type": "code",
   "execution_count": 34,
   "metadata": {},
   "outputs": [
    {
     "data": {
      "image/png": "[encoded data removed]",
      "text/plain": [
       "<Figure size 432x288 with 1 Axes>"
      ]
     },
     "metadata": {
      "needs_background": "light"
     },
     "output_type": "display_data"
    },
    {
     "name": "stdout",
     "output_type": "stream",
     "text": [
      "Shape of one-hot matrix :  (15, 43)\n",
      "Associated canonical SMILES:  N([C@H](C)c1ccccc1)c1ncnc2oc(-c3ccccc3)cc12\n"
     ]
    }
   ],
   "source": [
    "index = 100\n",
    "one_hot_matrix_plot(df.iloc[index]['sklearn_ohe_matrix_no_padding'],\n",
    "                    df.iloc[index]['sklearn_ohe_matrix_no_padding'],\n",
    "                    df.iloc[index]['processed_canonical_smiles'])  # NBVAL_CHECK_OUTPUT"
   ]
  },
  {
   "cell_type": "markdown",
   "metadata": {},
   "source": [
    "It can be confirmed from the above visualizations that the one-hot encoded matrix from the sklearn implementation does not have equal dimensions because sklearn's `OneHotEncoder` function takes individual strings as an input.\n",
    "\n",
    "So we equalize dimensions of the one-hot encoded matrix by adding **padding** as described above. "
   ]
  },
  {
   "cell_type": "markdown",
   "metadata": {},
   "source": [
    "#### With padding (equal dimension)\n",
    "It can be either done after one-hot encoding is performed on the SMILES strings or before, meaning after we label encode the SMILES characters. We discuss both scenarios in the next sections."
   ]
  },
  {
   "cell_type": "markdown",
   "metadata": {},
   "source": [
    "##### Padding after one-hot encoding is performed\n",
    "\n",
    "We simply pass **True** to the `islaterpadding` boolean parameter in `sklearn_one_hot_encoded_matrix` function as shown below to pad the matrix after one hot encoding is performed,"
   ]
  },
  {
   "cell_type": "code",
   "execution_count": 35,
   "metadata": {},
   "outputs": [
    {
     "data": {
      "text/html": [
       "<div>\n",
       "<style scoped>\n",
       "    .dataframe tbody tr th:only-of-type {\n",
       "        vertical-align: middle;\n",
       "    }\n",
       "\n",
       "    .dataframe tbody tr th {\n",
       "        vertical-align: top;\n",
       "    }\n",
       "\n",
       "    .dataframe thead th {\n",
       "        text-align: right;\n",
       "    }\n",
       "</style>\n",
       "<table border=\"1\" class=\"dataframe\">\n",
       "  <thead>\n",
       "    <tr style=\"text-align: right;\">\n",
       "      <th></th>\n",
       "      <th>chembl_id</th>\n",
       "      <th>canonical_smiles</th>\n",
       "      <th>pIC50</th>\n",
       "      <th>Mol2D</th>\n",
       "      <th>own_ohe_matrix</th>\n",
       "      <th>processed_canonical_smiles</th>\n",
       "      <th>unique_char_ohe_matrix</th>\n",
       "      <th>sklearn_ohe_matrix_no_padding</th>\n",
       "      <th>sklearn_ohe_matrix_later_padding</th>\n",
       "    </tr>\n",
       "  </thead>\n",
       "  <tbody>\n",
       "    <tr>\n",
       "      <th>0</th>\n",
       "      <td>CHEMBL207869</td>\n",
       "      <td>Clc1c(OCc2cc(F)ccc2)ccc(Nc2c(C#Cc3ncccn3)cncn2)c1</td>\n",
       "      <td>7.113509</td>\n",
       "      <td><img data-content=\"rdkit/molecule\" src=\"data:image/png;base64,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\" alt=\"Mol\"/></td>\n",
       "      <td>[[0, 0, 0, 0, 0, 0, 0, 0, 0, 0, 0, 0, 0, 0, 0,...</td>\n",
       "      <td>Lc1c(OCc2cc(F)ccc2)ccc(Nc2c(C#Cc3ncccn3)cncn2)c1</td>\n",
       "      <td>[[0.0, 0.0, 0.0, 0.0, 0.0, 0.0, 0.0, 0.0, 0.0,...</td>\n",
       "      <td>[[0.0, 0.0, 0.0, 0.0, 0.0, 0.0, 0.0, 0.0, 0.0,...</td>\n",
       "      <td>[[0.0, 0.0, 0.0, 0.0, 0.0, 0.0, 0.0, 0.0, 0.0,...</td>\n",
       "    </tr>\n",
       "    <tr>\n",
       "      <th>1</th>\n",
       "      <td>CHEMBL3940060</td>\n",
       "      <td>ClCC(=O)OCCN1C(=O)Oc2c1cc1c(Nc3cc(Cl)c(F)cc3)n...</td>\n",
       "      <td>6.481486</td>\n",
       "      <td><img data-content=\"rdkit/molecule\" src=\"data:image/png;base64,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\" alt=\"Mol\"/></td>\n",
       "      <td>[[0, 0, 0, 0, 0, 0, 0, 0, 0, 0, 0, 0, 0, 0, 0,...</td>\n",
       "      <td>LCC(=O)OCCN1C(=O)Oc2c1cc1c(Nc3cc(L)c(F)cc3)ncn...</td>\n",
       "      <td>[[0.0, 0.0, 0.0, 0.0, 0.0, 0.0, 0.0, 0.0, 0.0,...</td>\n",
       "      <td>[[0.0, 0.0, 0.0, 1.0, 0.0, 0.0, 0.0, 0.0, 0.0,...</td>\n",
       "      <td>[[0.0, 0.0, 0.0, 1.0, 0.0, 0.0, 0.0, 0.0, 0.0,...</td>\n",
       "    </tr>\n",
       "  </tbody>\n",
       "</table>\n",
       "</div>"
      ],
      "text/plain": [
       "       chembl_id                                   canonical_smiles     pIC50  \\\n",
       "0   CHEMBL207869  Clc1c(OCc2cc(F)ccc2)ccc(Nc2c(C#Cc3ncccn3)cncn2)c1  7.113509   \n",
       "1  CHEMBL3940060  ClCC(=O)OCCN1C(=O)Oc2c1cc1c(Nc3cc(Cl)c(F)cc3)n...  6.481486   \n",
       "\n",
       "                                               Mol2D  \\\n",
       "0  <img data-content=\"rdkit/molecule\" src=\"data:i...   \n",
       "1  <img data-content=\"rdkit/molecule\" src=\"data:i...   \n",
       "\n",
       "                                      own_ohe_matrix  \\\n",
       "0  [[0, 0, 0, 0, 0, 0, 0, 0, 0, 0, 0, 0, 0, 0, 0,...   \n",
       "1  [[0, 0, 0, 0, 0, 0, 0, 0, 0, 0, 0, 0, 0, 0, 0,...   \n",
       "\n",
       "                          processed_canonical_smiles  \\\n",
       "0   Lc1c(OCc2cc(F)ccc2)ccc(Nc2c(C#Cc3ncccn3)cncn2)c1   \n",
       "1  LCC(=O)OCCN1C(=O)Oc2c1cc1c(Nc3cc(L)c(F)cc3)ncn...   \n",
       "\n",
       "                              unique_char_ohe_matrix  \\\n",
       "0  [[0.0, 0.0, 0.0, 0.0, 0.0, 0.0, 0.0, 0.0, 0.0,...   \n",
       "1  [[0.0, 0.0, 0.0, 0.0, 0.0, 0.0, 0.0, 0.0, 0.0,...   \n",
       "\n",
       "                       sklearn_ohe_matrix_no_padding  \\\n",
       "0  [[0.0, 0.0, 0.0, 0.0, 0.0, 0.0, 0.0, 0.0, 0.0,...   \n",
       "1  [[0.0, 0.0, 0.0, 1.0, 0.0, 0.0, 0.0, 0.0, 0.0,...   \n",
       "\n",
       "                    sklearn_ohe_matrix_later_padding  \n",
       "0  [[0.0, 0.0, 0.0, 0.0, 0.0, 0.0, 0.0, 0.0, 0.0,...  \n",
       "1  [[0.0, 0.0, 0.0, 1.0, 0.0, 0.0, 0.0, 0.0, 0.0,...  "
      ]
     },
     "execution_count": 35,
     "metadata": {},
     "output_type": "execute_result"
    }
   ],
   "source": [
    "# Apply the function over the processed canonical smiles strings\n",
    "start = timer()\n",
    "df['sklearn_ohe_matrix_later_padding'] = df['processed_canonical_smiles'].apply(\n",
    "                                             sklearn_one_hot_encoded_matrix, \n",
    "                                             islaterpadding=True, isinitialpadding=False)\n",
    "end = timer()\n",
    "df.head(2) # NBVAL_CHECK_OUTPUT"
   ]
  },
  {
   "cell_type": "code",
   "execution_count": 36,
   "metadata": {},
   "outputs": [
    {
     "name": "stdout",
     "output_type": "stream",
     "text": [
      "Time to execute the function: 1.70 secs\n"
     ]
    }
   ],
   "source": [
    "# Print time required for execution\n",
    "sklearn_time_later = end - start\n",
    "print(f\"Time to execute the function: \"\n",
    "      f\"{sklearn_time_later:.2f} secs\")  "
   ]
  },
  {
   "cell_type": "markdown",
   "metadata": {},
   "source": [
    "**Visualization with Matplotlib.imshow() function**"
   ]
  },
  {
   "cell_type": "code",
   "execution_count": 37,
   "metadata": {},
   "outputs": [
    {
     "data": {
      "image/png": "[encoded data removed]",
      "text/plain": [
       "<Figure size 432x288 with 1 Axes>"
      ]
     },
     "metadata": {
      "needs_background": "light"
     },
     "output_type": "display_data"
    },
    {
     "name": "stdout",
     "output_type": "stream",
     "text": [
      "Shape of one-hot matrix :  (37, 260)\n",
      "Associated canonical SMILES:  Lc1c(OCc2cc(F)ccc2)ccc(Nc2c(C#Cc3ncccn3)cncn2)c1\n"
     ]
    }
   ],
   "source": [
    "# choose index of the compound for which the OHE matrix is visualised \n",
    "index = 0\n",
    "one_hot_matrix_plot(df.iloc[index]['sklearn_ohe_matrix_later_padding'],\n",
    "                    unique_char,\n",
    "                    df.iloc[index]['processed_canonical_smiles'])  # NBVAL_CHECK_OUTPUT"
   ]
  },
  {
   "cell_type": "code",
   "execution_count": 38,
   "metadata": {},
   "outputs": [
    {
     "data": {
      "image/png": "[encoded data removed]",
      "text/plain": [
       "<Figure size 432x288 with 1 Axes>"
      ]
     },
     "metadata": {
      "needs_background": "light"
     },
     "output_type": "display_data"
    },
    {
     "name": "stdout",
     "output_type": "stream",
     "text": [
      "Shape of one-hot matrix :  (37, 260)\n",
      "Associated canonical SMILES:  O=C(N[C$H]1C(=O)N[C@H](CCC[NH3+])C(=O)N[C$H]([C@H](CC)C)C(=O)N[C@H](Cc2ccccc2)C(=O)N[C$H](Cc2[nH]cnc2)C(=O)N[C@H](CC(=O)[O-])C(=O)N[C$H](CC(=O)N)C(=O)NCCCC1)[C$H](NC(=O)[C@H](NC(=O)[C$H](NC(=O)[C@H]1N=C([C$H]([NH3+])[C@H](CC)C)SC1)CC(C)C)CCC(=O)[O-])[C@H](CC)C\n"
     ]
    }
   ],
   "source": [
    "index = 2705\n",
    "one_hot_matrix_plot(df.iloc[index]['sklearn_ohe_matrix_later_padding'],\n",
    "                    unique_char,\n",
    "                    df.iloc[index]['processed_canonical_smiles'])  # NBVAL_CHECK_OUTPUT"
   ]
  },
  {
   "cell_type": "markdown",
   "metadata": {},
   "source": [
    "Now we can observe that the dimensions (37, 267) are equal."
   ]
  },
  {
   "cell_type": "markdown",
   "metadata": {},
   "source": [
    "##### Padding before one-hot encoding is performed\n",
    "\n",
    "In this case, padding is performed after label or integer encoding the list of SMILES characters by passing **True** to the `initial_padding` boolean parameter in `sklearn_one_hot_encoded_matrix` function, afterwards we defined a function named `initial_padded_encoding` which one hot encodes padded integer encoded SMILES strings."
   ]
  },
  {
   "cell_type": "code",
   "execution_count": 39,
   "metadata": {},
   "outputs": [],
   "source": [
    "def initial_padded_encoding(smiles, uniquechar, maxlen):\n",
    "    \"\"\"\n",
    "    One-hot encodes initially padded SMILES strings\n",
    "    using sklearn_OneHotEncode function.\n",
    "\n",
    "    Parameters\n",
    "    ----------\n",
    "    smiles : str\n",
    "       SMILES string.\n",
    "    uniquechar: list\n",
    "       List of unique characters in the string dataset.\n",
    "    maxlen: int\n",
    "       Maximum length of the SMILES string\n",
    "\n",
    "    Returns\n",
    "    -------\n",
    "    ndarray\n",
    "      One-hot encoded matrix with intial padding of shape\n",
    "      (unique char in smiles, max smile_length).\n",
    "    \"\"\"\n",
    "    # Calling 'sklearn_one_hot_encoded_matrix' function by passing \n",
    "    # False to 'later_padding' and True to 'initial_padding'\n",
    "    sklearnOHC = sklearn_one_hot_encoded_matrix(smiles, False, True)\n",
    "    sklearnOHC = sklearnOHC.transpose()\n",
    "    column_padding = np.ndarray(shape=(SMILES_maxlen,\n",
    "                                len(unique_char)-len(sklearnOHC[0])))\n",
    "    column_padding.fill(0)\n",
    "    \n",
    "    sklearnOHC = np.append(sklearnOHC, column_padding, axis=1)\n",
    "    return sklearnOHC.transpose()"
   ]
  },
  {
   "cell_type": "code",
   "execution_count": 40,
   "metadata": {},
   "outputs": [
    {
     "data": {
      "text/html": [
       "<div>\n",
       "<style scoped>\n",
       "    .dataframe tbody tr th:only-of-type {\n",
       "        vertical-align: middle;\n",
       "    }\n",
       "\n",
       "    .dataframe tbody tr th {\n",
       "        vertical-align: top;\n",
       "    }\n",
       "\n",
       "    .dataframe thead th {\n",
       "        text-align: right;\n",
       "    }\n",
       "</style>\n",
       "<table border=\"1\" class=\"dataframe\">\n",
       "  <thead>\n",
       "    <tr style=\"text-align: right;\">\n",
       "      <th></th>\n",
       "      <th>chembl_id</th>\n",
       "      <th>canonical_smiles</th>\n",
       "      <th>pIC50</th>\n",
       "      <th>Mol2D</th>\n",
       "      <th>own_ohe_matrix</th>\n",
       "      <th>processed_canonical_smiles</th>\n",
       "      <th>unique_char_ohe_matrix</th>\n",
       "      <th>sklearn_ohe_matrix_no_padding</th>\n",
       "      <th>sklearn_ohe_matrix_later_padding</th>\n",
       "      <th>sklearn_ohe_matrix_initial_padding</th>\n",
       "    </tr>\n",
       "  </thead>\n",
       "  <tbody>\n",
       "    <tr>\n",
       "      <th>0</th>\n",
       "      <td>CHEMBL207869</td>\n",
       "      <td>Clc1c(OCc2cc(F)ccc2)ccc(Nc2c(C#Cc3ncccn3)cncn2)c1</td>\n",
       "      <td>7.113509</td>\n",
       "      <td><img data-content=\"rdkit/molecule\" src=\"data:image/png;base64,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\" alt=\"Mol\"/></td>\n",
       "      <td>[[0, 0, 0, 0, 0, 0, 0, 0, 0, 0, 0, 0, 0, 0, 0,...</td>\n",
       "      <td>Lc1c(OCc2cc(F)ccc2)ccc(Nc2c(C#Cc3ncccn3)cncn2)c1</td>\n",
       "      <td>[[0.0, 0.0, 0.0, 0.0, 0.0, 0.0, 0.0, 0.0, 0.0,...</td>\n",
       "      <td>[[0.0, 0.0, 0.0, 0.0, 0.0, 0.0, 0.0, 0.0, 0.0,...</td>\n",
       "      <td>[[0.0, 0.0, 0.0, 0.0, 0.0, 0.0, 0.0, 0.0, 0.0,...</td>\n",
       "      <td>[[0.0, 0.0, 0.0, 0.0, 0.0, 0.0, 0.0, 0.0, 0.0,...</td>\n",
       "    </tr>\n",
       "    <tr>\n",
       "      <th>1</th>\n",
       "      <td>CHEMBL3940060</td>\n",
       "      <td>ClCC(=O)OCCN1C(=O)Oc2c1cc1c(Nc3cc(Cl)c(F)cc3)n...</td>\n",
       "      <td>6.481486</td>\n",
       "      <td><img data-content=\"rdkit/molecule\" src=\"data:image/png;base64,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\" alt=\"Mol\"/></td>\n",
       "      <td>[[0, 0, 0, 0, 0, 0, 0, 0, 0, 0, 0, 0, 0, 0, 0,...</td>\n",
       "      <td>LCC(=O)OCCN1C(=O)Oc2c1cc1c(Nc3cc(L)c(F)cc3)ncn...</td>\n",
       "      <td>[[0.0, 0.0, 0.0, 0.0, 0.0, 0.0, 0.0, 0.0, 0.0,...</td>\n",
       "      <td>[[0.0, 0.0, 0.0, 1.0, 0.0, 0.0, 0.0, 0.0, 0.0,...</td>\n",
       "      <td>[[0.0, 0.0, 0.0, 1.0, 0.0, 0.0, 0.0, 0.0, 0.0,...</td>\n",
       "      <td>[[0.0, 0.0, 0.0, 1.0, 0.0, 0.0, 0.0, 0.0, 0.0,...</td>\n",
       "    </tr>\n",
       "  </tbody>\n",
       "</table>\n",
       "</div>"
      ],
      "text/plain": [
       "       chembl_id                                   canonical_smiles     pIC50  \\\n",
       "0   CHEMBL207869  Clc1c(OCc2cc(F)ccc2)ccc(Nc2c(C#Cc3ncccn3)cncn2)c1  7.113509   \n",
       "1  CHEMBL3940060  ClCC(=O)OCCN1C(=O)Oc2c1cc1c(Nc3cc(Cl)c(F)cc3)n...  6.481486   \n",
       "\n",
       "                                               Mol2D  \\\n",
       "0  <img data-content=\"rdkit/molecule\" src=\"data:i...   \n",
       "1  <img data-content=\"rdkit/molecule\" src=\"data:i...   \n",
       "\n",
       "                                      own_ohe_matrix  \\\n",
       "0  [[0, 0, 0, 0, 0, 0, 0, 0, 0, 0, 0, 0, 0, 0, 0,...   \n",
       "1  [[0, 0, 0, 0, 0, 0, 0, 0, 0, 0, 0, 0, 0, 0, 0,...   \n",
       "\n",
       "                          processed_canonical_smiles  \\\n",
       "0   Lc1c(OCc2cc(F)ccc2)ccc(Nc2c(C#Cc3ncccn3)cncn2)c1   \n",
       "1  LCC(=O)OCCN1C(=O)Oc2c1cc1c(Nc3cc(L)c(F)cc3)ncn...   \n",
       "\n",
       "                              unique_char_ohe_matrix  \\\n",
       "0  [[0.0, 0.0, 0.0, 0.0, 0.0, 0.0, 0.0, 0.0, 0.0,...   \n",
       "1  [[0.0, 0.0, 0.0, 0.0, 0.0, 0.0, 0.0, 0.0, 0.0,...   \n",
       "\n",
       "                       sklearn_ohe_matrix_no_padding  \\\n",
       "0  [[0.0, 0.0, 0.0, 0.0, 0.0, 0.0, 0.0, 0.0, 0.0,...   \n",
       "1  [[0.0, 0.0, 0.0, 1.0, 0.0, 0.0, 0.0, 0.0, 0.0,...   \n",
       "\n",
       "                    sklearn_ohe_matrix_later_padding  \\\n",
       "0  [[0.0, 0.0, 0.0, 0.0, 0.0, 0.0, 0.0, 0.0, 0.0,...   \n",
       "1  [[0.0, 0.0, 0.0, 1.0, 0.0, 0.0, 0.0, 0.0, 0.0,...   \n",
       "\n",
       "                  sklearn_ohe_matrix_initial_padding  \n",
       "0  [[0.0, 0.0, 0.0, 0.0, 0.0, 0.0, 0.0, 0.0, 0.0,...  \n",
       "1  [[0.0, 0.0, 0.0, 1.0, 0.0, 0.0, 0.0, 0.0, 0.0,...  "
      ]
     },
     "execution_count": 40,
     "metadata": {},
     "output_type": "execute_result"
    }
   ],
   "source": [
    "# Apply the function over the processed canonical SMILES strings\n",
    "start = timer()\n",
    "df['sklearn_ohe_matrix_initial_padding'] = df['processed_canonical_smiles'].apply(\n",
    "                                               initial_padded_encoding, \n",
    "                                               uniquechar = unique_char, \n",
    "                                               maxlen = SMILES_maxlen)\n",
    "\n",
    "end = timer()\n",
    "df.head(2)"
   ]
  },
  {
   "cell_type": "code",
   "execution_count": 41,
   "metadata": {},
   "outputs": [
    {
     "name": "stdout",
     "output_type": "stream",
     "text": [
      "Time to execute the function: 1.87 secs\n"
     ]
    }
   ],
   "source": [
    "# Print time required for execution\n",
    "sklearn_time_initial = end - start\n",
    "print(f\"Time to execute the function: \"\n",
    "      f\"{sklearn_time_initial:.2f} secs\")  "
   ]
  },
  {
   "cell_type": "markdown",
   "metadata": {},
   "source": [
    "**Visualization with Matplotlib.imshow() function** "
   ]
  },
  {
   "cell_type": "code",
   "execution_count": 42,
   "metadata": {},
   "outputs": [
    {
     "data": {
      "image/png": "[encoded data removed]",
      "text/plain": [
       "<Figure size 432x288 with 1 Axes>"
      ]
     },
     "metadata": {
      "needs_background": "light"
     },
     "output_type": "display_data"
    },
    {
     "name": "stdout",
     "output_type": "stream",
     "text": [
      "Shape of one-hot matrix :  (37, 260)\n",
      "Associated canonical SMILES:  Lc1c(OCc2cc(F)ccc2)ccc(Nc2c(C#Cc3ncccn3)cncn2)c1\n"
     ]
    }
   ],
   "source": [
    "# Choose index of the compound for which the OHE matrix is visualised \n",
    "index = 0\n",
    "one_hot_matrix_plot(df.iloc[index]['sklearn_ohe_matrix_initial_padding'],\n",
    "                    unique_char,\n",
    "                    df.iloc[index]['processed_canonical_smiles'])  # NBVAL_CHECK_OUTPUT"
   ]
  },
  {
   "cell_type": "code",
   "execution_count": 43,
   "metadata": {},
   "outputs": [
    {
     "data": {
      "image/png": "[encoded data removed]",
      "text/plain": [
       "<Figure size 432x288 with 1 Axes>"
      ]
     },
     "metadata": {
      "needs_background": "light"
     },
     "output_type": "display_data"
    },
    {
     "name": "stdout",
     "output_type": "stream",
     "text": [
      "Shape of one-hot matrix :  (37, 260)\n",
      "Associated canonical SMILES:  O=C(N[C$H]1C(=O)N[C@H](CCC[NH3+])C(=O)N[C$H]([C@H](CC)C)C(=O)N[C@H](Cc2ccccc2)C(=O)N[C$H](Cc2[nH]cnc2)C(=O)N[C@H](CC(=O)[O-])C(=O)N[C$H](CC(=O)N)C(=O)NCCCC1)[C$H](NC(=O)[C@H](NC(=O)[C$H](NC(=O)[C@H]1N=C([C$H]([NH3+])[C@H](CC)C)SC1)CC(C)C)CCC(=O)[O-])[C@H](CC)C\n"
     ]
    }
   ],
   "source": [
    "index = 2705\n",
    "one_hot_matrix_plot(df.iloc[index]['sklearn_ohe_matrix_initial_padding'],\n",
    "                    unique_char,\n",
    "                    df.iloc[index]['processed_canonical_smiles'])  # NBVAL_CHECK_OUTPUT"
   ]
  },
  {
   "cell_type": "markdown",
   "metadata": {},
   "source": [
    "Both initial and later padding was performed to check if there is any major time difference in executing one hot encoding using scikit-learn implementation and if there is any change in the resulted one hot encoded matrices.\n",
    "\n",
    "Results will be discussed in the discussion section."
   ]
  },
  {
   "cell_type": "markdown",
   "metadata": {},
   "source": [
    "### Apply one-hot encoding using implementation in keras"
   ]
  },
  {
   "cell_type": "markdown",
   "metadata": {},
   "source": [
    "Keras is also a very powerful and intensively used library, especially employed in deep learning tasks. \n",
    "There may be a case where we have sequences or strings that are already integer encoded, then we can use the function called [to_categorical()](https://keras.io/api/utils/), provided by the keras library, to one-hot encode integer data directly, otherwise we can use [Tokenizer](https://keras.io/api/preprocessing/text/) to first integer encode the string data and then use `to_categorical` function to one-hot encode the string data."
   ]
  },
  {
   "cell_type": "code",
   "execution_count": 44,
   "metadata": {},
   "outputs": [],
   "source": [
    "# Use keras implementation of one-hot encoding\n",
    "def keras_one_hot_encoded_matrix(smiles, islaterpadding, maxlen, uniquechar):\n",
    "    \"\"\"\n",
    "    One-hot encodes the SMILES using keras\n",
    "    implementation.\n",
    "    \n",
    "    Parameters\n",
    "    ----------\n",
    "    canonical_char : array\n",
    "        Canonical character array.\n",
    "    islaterpadding : bool\n",
    "        The paramater is `True` if later_padding is required,\n",
    "        `False` otherwise.\n",
    "    maxlen: int\n",
    "        Maximum length of the SMILES string.\n",
    "    uniquechar: list\n",
    "        List of unique characters in the string dataset.\n",
    "        \n",
    "    Returns\n",
    "    -------\n",
    "    encoded : ndarray\n",
    "        One-hot encoded matrix of shape\n",
    "        (chars in SMILES, length of SMILES).\n",
    "    \"\"\"\n",
    "   \n",
    "    # Integer encoding using Tokenizer\n",
    "    input = smiles\n",
    "    tokenizer = Tokenizer(char_level=True)\n",
    "    tokenizer.fit_on_texts([input])\n",
    "    integer_encoded = tokenizer.texts_to_sequences([input])[0]\n",
    "    \n",
    "    # One-hot encoding using to_categorical function\n",
    "    encoded = to_categorical(integer_encoded)\n",
    "    if (islaterpadding == True):\n",
    "        encoded = later_padding(encoded, SMILES_maxlen,unique_char)\n",
    "    encoded = encoded.transpose()\n",
    "    return encoded"
   ]
  },
  {
   "cell_type": "markdown",
   "metadata": {},
   "source": [
    "Next, we will implement two scenarios, \n",
    "- one, when there is no later padding performed which will result in unequal dimensions of the produced one-hot encoded matrix and \n",
    "- the other, where later padding will be performed by passing `True` to the boolean parameter `islaterpadding` in the `keras_one_hot_encoded_matrix` function."
   ]
  },
  {
   "cell_type": "markdown",
   "metadata": {},
   "source": [
    "#### Without padding (unequal dimension)"
   ]
  },
  {
   "cell_type": "code",
   "execution_count": 45,
   "metadata": {},
   "outputs": [
    {
     "data": {
      "text/html": [
       "<div>\n",
       "<style scoped>\n",
       "    .dataframe tbody tr th:only-of-type {\n",
       "        vertical-align: middle;\n",
       "    }\n",
       "\n",
       "    .dataframe tbody tr th {\n",
       "        vertical-align: top;\n",
       "    }\n",
       "\n",
       "    .dataframe thead th {\n",
       "        text-align: right;\n",
       "    }\n",
       "</style>\n",
       "<table border=\"1\" class=\"dataframe\">\n",
       "  <thead>\n",
       "    <tr style=\"text-align: right;\">\n",
       "      <th></th>\n",
       "      <th>chembl_id</th>\n",
       "      <th>canonical_smiles</th>\n",
       "      <th>pIC50</th>\n",
       "      <th>Mol2D</th>\n",
       "      <th>own_ohe_matrix</th>\n",
       "      <th>processed_canonical_smiles</th>\n",
       "      <th>unique_char_ohe_matrix</th>\n",
       "      <th>sklearn_ohe_matrix_no_padding</th>\n",
       "      <th>sklearn_ohe_matrix_later_padding</th>\n",
       "      <th>sklearn_ohe_matrix_initial_padding</th>\n",
       "      <th>keras_ohe_matrix_without_padding</th>\n",
       "    </tr>\n",
       "  </thead>\n",
       "  <tbody>\n",
       "    <tr>\n",
       "      <th>0</th>\n",
       "      <td>CHEMBL207869</td>\n",
       "      <td>Clc1c(OCc2cc(F)ccc2)ccc(Nc2c(C#Cc3ncccn3)cncn2)c1</td>\n",
       "      <td>7.113509</td>\n",
       "      <td><img data-content=\"rdkit/molecule\" src=\"data:image/png;base64,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\" alt=\"Mol\"/></td>\n",
       "      <td>[[0, 0, 0, 0, 0, 0, 0, 0, 0, 0, 0, 0, 0, 0, 0,...</td>\n",
       "      <td>Lc1c(OCc2cc(F)ccc2)ccc(Nc2c(C#Cc3ncccn3)cncn2)c1</td>\n",
       "      <td>[[0.0, 0.0, 0.0, 0.0, 0.0, 0.0, 0.0, 0.0, 0.0,...</td>\n",
       "      <td>[[0.0, 0.0, 0.0, 0.0, 0.0, 0.0, 0.0, 0.0, 0.0,...</td>\n",
       "      <td>[[0.0, 0.0, 0.0, 0.0, 0.0, 0.0, 0.0, 0.0, 0.0,...</td>\n",
       "      <td>[[0.0, 0.0, 0.0, 0.0, 0.0, 0.0, 0.0, 0.0, 0.0,...</td>\n",
       "      <td>[[0.0, 0.0, 0.0, 0.0, 0.0, 0.0, 0.0, 0.0, 0.0,...</td>\n",
       "    </tr>\n",
       "    <tr>\n",
       "      <th>1</th>\n",
       "      <td>CHEMBL3940060</td>\n",
       "      <td>ClCC(=O)OCCN1C(=O)Oc2c1cc1c(Nc3cc(Cl)c(F)cc3)n...</td>\n",
       "      <td>6.481486</td>\n",
       "      <td><img data-content=\"rdkit/molecule\" src=\"data:image/png;base64,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\" alt=\"Mol\"/></td>\n",
       "      <td>[[0, 0, 0, 0, 0, 0, 0, 0, 0, 0, 0, 0, 0, 0, 0,...</td>\n",
       "      <td>LCC(=O)OCCN1C(=O)Oc2c1cc1c(Nc3cc(L)c(F)cc3)ncn...</td>\n",
       "      <td>[[0.0, 0.0, 0.0, 0.0, 0.0, 0.0, 0.0, 0.0, 0.0,...</td>\n",
       "      <td>[[0.0, 0.0, 0.0, 1.0, 0.0, 0.0, 0.0, 0.0, 0.0,...</td>\n",
       "      <td>[[0.0, 0.0, 0.0, 1.0, 0.0, 0.0, 0.0, 0.0, 0.0,...</td>\n",
       "      <td>[[0.0, 0.0, 0.0, 1.0, 0.0, 0.0, 0.0, 0.0, 0.0,...</td>\n",
       "      <td>[[0.0, 0.0, 0.0, 0.0, 0.0, 0.0, 0.0, 0.0, 0.0,...</td>\n",
       "    </tr>\n",
       "  </tbody>\n",
       "</table>\n",
       "</div>"
      ],
      "text/plain": [
       "       chembl_id                                   canonical_smiles     pIC50  \\\n",
       "0   CHEMBL207869  Clc1c(OCc2cc(F)ccc2)ccc(Nc2c(C#Cc3ncccn3)cncn2)c1  7.113509   \n",
       "1  CHEMBL3940060  ClCC(=O)OCCN1C(=O)Oc2c1cc1c(Nc3cc(Cl)c(F)cc3)n...  6.481486   \n",
       "\n",
       "                                               Mol2D  \\\n",
       "0  <img data-content=\"rdkit/molecule\" src=\"data:i...   \n",
       "1  <img data-content=\"rdkit/molecule\" src=\"data:i...   \n",
       "\n",
       "                                      own_ohe_matrix  \\\n",
       "0  [[0, 0, 0, 0, 0, 0, 0, 0, 0, 0, 0, 0, 0, 0, 0,...   \n",
       "1  [[0, 0, 0, 0, 0, 0, 0, 0, 0, 0, 0, 0, 0, 0, 0,...   \n",
       "\n",
       "                          processed_canonical_smiles  \\\n",
       "0   Lc1c(OCc2cc(F)ccc2)ccc(Nc2c(C#Cc3ncccn3)cncn2)c1   \n",
       "1  LCC(=O)OCCN1C(=O)Oc2c1cc1c(Nc3cc(L)c(F)cc3)ncn...   \n",
       "\n",
       "                              unique_char_ohe_matrix  \\\n",
       "0  [[0.0, 0.0, 0.0, 0.0, 0.0, 0.0, 0.0, 0.0, 0.0,...   \n",
       "1  [[0.0, 0.0, 0.0, 0.0, 0.0, 0.0, 0.0, 0.0, 0.0,...   \n",
       "\n",
       "                       sklearn_ohe_matrix_no_padding  \\\n",
       "0  [[0.0, 0.0, 0.0, 0.0, 0.0, 0.0, 0.0, 0.0, 0.0,...   \n",
       "1  [[0.0, 0.0, 0.0, 1.0, 0.0, 0.0, 0.0, 0.0, 0.0,...   \n",
       "\n",
       "                    sklearn_ohe_matrix_later_padding  \\\n",
       "0  [[0.0, 0.0, 0.0, 0.0, 0.0, 0.0, 0.0, 0.0, 0.0,...   \n",
       "1  [[0.0, 0.0, 0.0, 1.0, 0.0, 0.0, 0.0, 0.0, 0.0,...   \n",
       "\n",
       "                  sklearn_ohe_matrix_initial_padding  \\\n",
       "0  [[0.0, 0.0, 0.0, 0.0, 0.0, 0.0, 0.0, 0.0, 0.0,...   \n",
       "1  [[0.0, 0.0, 0.0, 1.0, 0.0, 0.0, 0.0, 0.0, 0.0,...   \n",
       "\n",
       "                    keras_ohe_matrix_without_padding  \n",
       "0  [[0.0, 0.0, 0.0, 0.0, 0.0, 0.0, 0.0, 0.0, 0.0,...  \n",
       "1  [[0.0, 0.0, 0.0, 0.0, 0.0, 0.0, 0.0, 0.0, 0.0,...  "
      ]
     },
     "execution_count": 45,
     "metadata": {},
     "output_type": "execute_result"
    }
   ],
   "source": [
    "# Apply the function over the processed canonical SMILES strings\n",
    "start = timer()\n",
    "df['keras_ohe_matrix_without_padding'] = df['processed_canonical_smiles'].apply(\n",
    "                                            keras_one_hot_encoded_matrix, \n",
    "                                            maxlen = SMILES_maxlen, \n",
    "                                            uniquechar = unique_char, \n",
    "                                            islaterpadding=False)\n",
    "end = timer()\n",
    "df.head(2)"
   ]
  },
  {
   "cell_type": "code",
   "execution_count": 46,
   "metadata": {},
   "outputs": [
    {
     "name": "stdout",
     "output_type": "stream",
     "text": [
      "Time to execute the function: 0.20 secs\n"
     ]
    }
   ],
   "source": [
    "# Print time required for execution\n",
    "keras_time_no_padding = end - start\n",
    "print(f\"Time to execute the function: \"\n",
    "      f\"{keras_time_no_padding:.2f} secs\")  "
   ]
  },
  {
   "cell_type": "markdown",
   "metadata": {},
   "source": [
    "**Visualization with Matplotlib.imshow() function** "
   ]
  },
  {
   "cell_type": "code",
   "execution_count": 47,
   "metadata": {},
   "outputs": [
    {
     "data": {
      "image/png": "[encoded data removed]",
      "text/plain": [
       "<Figure size 432x288 with 1 Axes>"
      ]
     },
     "metadata": {
      "needs_background": "light"
     },
     "output_type": "display_data"
    },
    {
     "name": "stdout",
     "output_type": "stream",
     "text": [
      "Shape of one-hot matrix :  (12, 48)\n",
      "Associated canonical SMILES:  Lc1c(OCc2cc(F)ccc2)ccc(Nc2c(C#Cc3ncccn3)cncn2)c1\n"
     ]
    }
   ],
   "source": [
    "# choose index of the compound for which the OHE matrix is visualised \n",
    "index = 0\n",
    "one_hot_matrix_plot(df.iloc[index]['keras_ohe_matrix_without_padding'],\n",
    "                    df.iloc[index]['keras_ohe_matrix_without_padding'],\n",
    "                    df.iloc[index]['processed_canonical_smiles'])  # NBVAL_CHECK_OUTPUT"
   ]
  },
  {
   "cell_type": "code",
   "execution_count": 48,
   "metadata": {},
   "outputs": [
    {
     "data": {
      "image/png": "[encoded data removed]",
      "text/plain": [
       "<Figure size 432x288 with 1 Axes>"
      ]
     },
     "metadata": {
      "needs_background": "light"
     },
     "output_type": "display_data"
    },
    {
     "name": "stdout",
     "output_type": "stream",
     "text": [
      "Shape of one-hot matrix :  (14, 43)\n",
      "Associated canonical SMILES:  N([C@H](C)c1ccccc1)c1ncnc2oc(-c3ccccc3)cc12\n"
     ]
    }
   ],
   "source": [
    "index = 100\n",
    "one_hot_matrix_plot(df.iloc[index]['keras_ohe_matrix_without_padding'],\n",
    "                    df.iloc[index]['keras_ohe_matrix_without_padding'],\n",
    "                    df.iloc[index]['processed_canonical_smiles'])  # NBVAL_CHECK_OUTPUT"
   ]
  },
  {
   "cell_type": "markdown",
   "metadata": {},
   "source": [
    "#### With padding (equal dimension)"
   ]
  },
  {
   "cell_type": "code",
   "execution_count": 49,
   "metadata": {},
   "outputs": [
    {
     "data": {
      "text/html": [
       "<div>\n",
       "<style scoped>\n",
       "    .dataframe tbody tr th:only-of-type {\n",
       "        vertical-align: middle;\n",
       "    }\n",
       "\n",
       "    .dataframe tbody tr th {\n",
       "        vertical-align: top;\n",
       "    }\n",
       "\n",
       "    .dataframe thead th {\n",
       "        text-align: right;\n",
       "    }\n",
       "</style>\n",
       "<table border=\"1\" class=\"dataframe\">\n",
       "  <thead>\n",
       "    <tr style=\"text-align: right;\">\n",
       "      <th></th>\n",
       "      <th>chembl_id</th>\n",
       "      <th>canonical_smiles</th>\n",
       "      <th>pIC50</th>\n",
       "      <th>Mol2D</th>\n",
       "      <th>own_ohe_matrix</th>\n",
       "      <th>processed_canonical_smiles</th>\n",
       "      <th>unique_char_ohe_matrix</th>\n",
       "      <th>sklearn_ohe_matrix_no_padding</th>\n",
       "      <th>sklearn_ohe_matrix_later_padding</th>\n",
       "      <th>sklearn_ohe_matrix_initial_padding</th>\n",
       "      <th>keras_ohe_matrix_without_padding</th>\n",
       "      <th>keras_ohe_matrix_padding</th>\n",
       "    </tr>\n",
       "  </thead>\n",
       "  <tbody>\n",
       "    <tr>\n",
       "      <th>0</th>\n",
       "      <td>CHEMBL207869</td>\n",
       "      <td>Clc1c(OCc2cc(F)ccc2)ccc(Nc2c(C#Cc3ncccn3)cncn2)c1</td>\n",
       "      <td>7.113509</td>\n",
       "      <td><img data-content=\"rdkit/molecule\" src=\"data:image/png;base64,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\" alt=\"Mol\"/></td>\n",
       "      <td>[[0, 0, 0, 0, 0, 0, 0, 0, 0, 0, 0, 0, 0, 0, 0,...</td>\n",
       "      <td>Lc1c(OCc2cc(F)ccc2)ccc(Nc2c(C#Cc3ncccn3)cncn2)c1</td>\n",
       "      <td>[[0.0, 0.0, 0.0, 0.0, 0.0, 0.0, 0.0, 0.0, 0.0,...</td>\n",
       "      <td>[[0.0, 0.0, 0.0, 0.0, 0.0, 0.0, 0.0, 0.0, 0.0,...</td>\n",
       "      <td>[[0.0, 0.0, 0.0, 0.0, 0.0, 0.0, 0.0, 0.0, 0.0,...</td>\n",
       "      <td>[[0.0, 0.0, 0.0, 0.0, 0.0, 0.0, 0.0, 0.0, 0.0,...</td>\n",
       "      <td>[[0.0, 0.0, 0.0, 0.0, 0.0, 0.0, 0.0, 0.0, 0.0,...</td>\n",
       "      <td>[[0.0, 0.0, 0.0, 0.0, 0.0, 0.0, 0.0, 0.0, 0.0,...</td>\n",
       "    </tr>\n",
       "    <tr>\n",
       "      <th>1</th>\n",
       "      <td>CHEMBL3940060</td>\n",
       "      <td>ClCC(=O)OCCN1C(=O)Oc2c1cc1c(Nc3cc(Cl)c(F)cc3)n...</td>\n",
       "      <td>6.481486</td>\n",
       "      <td><img data-content=\"rdkit/molecule\" src=\"data:image/png;base64,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\" alt=\"Mol\"/></td>\n",
       "      <td>[[0, 0, 0, 0, 0, 0, 0, 0, 0, 0, 0, 0, 0, 0, 0,...</td>\n",
       "      <td>LCC(=O)OCCN1C(=O)Oc2c1cc1c(Nc3cc(L)c(F)cc3)ncn...</td>\n",
       "      <td>[[0.0, 0.0, 0.0, 0.0, 0.0, 0.0, 0.0, 0.0, 0.0,...</td>\n",
       "      <td>[[0.0, 0.0, 0.0, 1.0, 0.0, 0.0, 0.0, 0.0, 0.0,...</td>\n",
       "      <td>[[0.0, 0.0, 0.0, 1.0, 0.0, 0.0, 0.0, 0.0, 0.0,...</td>\n",
       "      <td>[[0.0, 0.0, 0.0, 1.0, 0.0, 0.0, 0.0, 0.0, 0.0,...</td>\n",
       "      <td>[[0.0, 0.0, 0.0, 0.0, 0.0, 0.0, 0.0, 0.0, 0.0,...</td>\n",
       "      <td>[[0.0, 0.0, 0.0, 0.0, 0.0, 0.0, 0.0, 0.0, 0.0,...</td>\n",
       "    </tr>\n",
       "  </tbody>\n",
       "</table>\n",
       "</div>"
      ],
      "text/plain": [
       "       chembl_id                                   canonical_smiles     pIC50  \\\n",
       "0   CHEMBL207869  Clc1c(OCc2cc(F)ccc2)ccc(Nc2c(C#Cc3ncccn3)cncn2)c1  7.113509   \n",
       "1  CHEMBL3940060  ClCC(=O)OCCN1C(=O)Oc2c1cc1c(Nc3cc(Cl)c(F)cc3)n...  6.481486   \n",
       "\n",
       "                                               Mol2D  \\\n",
       "0  <img data-content=\"rdkit/molecule\" src=\"data:i...   \n",
       "1  <img data-content=\"rdkit/molecule\" src=\"data:i...   \n",
       "\n",
       "                                      own_ohe_matrix  \\\n",
       "0  [[0, 0, 0, 0, 0, 0, 0, 0, 0, 0, 0, 0, 0, 0, 0,...   \n",
       "1  [[0, 0, 0, 0, 0, 0, 0, 0, 0, 0, 0, 0, 0, 0, 0,...   \n",
       "\n",
       "                          processed_canonical_smiles  \\\n",
       "0   Lc1c(OCc2cc(F)ccc2)ccc(Nc2c(C#Cc3ncccn3)cncn2)c1   \n",
       "1  LCC(=O)OCCN1C(=O)Oc2c1cc1c(Nc3cc(L)c(F)cc3)ncn...   \n",
       "\n",
       "                              unique_char_ohe_matrix  \\\n",
       "0  [[0.0, 0.0, 0.0, 0.0, 0.0, 0.0, 0.0, 0.0, 0.0,...   \n",
       "1  [[0.0, 0.0, 0.0, 0.0, 0.0, 0.0, 0.0, 0.0, 0.0,...   \n",
       "\n",
       "                       sklearn_ohe_matrix_no_padding  \\\n",
       "0  [[0.0, 0.0, 0.0, 0.0, 0.0, 0.0, 0.0, 0.0, 0.0,...   \n",
       "1  [[0.0, 0.0, 0.0, 1.0, 0.0, 0.0, 0.0, 0.0, 0.0,...   \n",
       "\n",
       "                    sklearn_ohe_matrix_later_padding  \\\n",
       "0  [[0.0, 0.0, 0.0, 0.0, 0.0, 0.0, 0.0, 0.0, 0.0,...   \n",
       "1  [[0.0, 0.0, 0.0, 1.0, 0.0, 0.0, 0.0, 0.0, 0.0,...   \n",
       "\n",
       "                  sklearn_ohe_matrix_initial_padding  \\\n",
       "0  [[0.0, 0.0, 0.0, 0.0, 0.0, 0.0, 0.0, 0.0, 0.0,...   \n",
       "1  [[0.0, 0.0, 0.0, 1.0, 0.0, 0.0, 0.0, 0.0, 0.0,...   \n",
       "\n",
       "                    keras_ohe_matrix_without_padding  \\\n",
       "0  [[0.0, 0.0, 0.0, 0.0, 0.0, 0.0, 0.0, 0.0, 0.0,...   \n",
       "1  [[0.0, 0.0, 0.0, 0.0, 0.0, 0.0, 0.0, 0.0, 0.0,...   \n",
       "\n",
       "                            keras_ohe_matrix_padding  \n",
       "0  [[0.0, 0.0, 0.0, 0.0, 0.0, 0.0, 0.0, 0.0, 0.0,...  \n",
       "1  [[0.0, 0.0, 0.0, 0.0, 0.0, 0.0, 0.0, 0.0, 0.0,...  "
      ]
     },
     "execution_count": 49,
     "metadata": {},
     "output_type": "execute_result"
    }
   ],
   "source": [
    "# Apply the function over the Processed_canonical_smiles strings\n",
    "start = timer()\n",
    "df['keras_ohe_matrix_padding'] = df['processed_canonical_smiles'].apply(\n",
    "                                    keras_one_hot_encoded_matrix, \n",
    "                                    maxlen = SMILES_maxlen,\n",
    "                                    uniquechar = unique_char, \n",
    "                                    islaterpadding=True)\n",
    "end = timer()\n",
    "df.head(2)"
   ]
  },
  {
   "cell_type": "code",
   "execution_count": 50,
   "metadata": {
    "scrolled": true
   },
   "outputs": [
    {
     "name": "stdout",
     "output_type": "stream",
     "text": [
      "Time to execute the function: 0.61 secs\n"
     ]
    }
   ],
   "source": [
    "# Print time required for execution\n",
    "keras_time_padding = end - start\n",
    "print(f\"Time to execute the function: \"\n",
    "      f\"{keras_time_padding:.2f} secs\")  "
   ]
  },
  {
   "cell_type": "markdown",
   "metadata": {},
   "source": [
    "**Visualization with Matplotlib.imshow() function**"
   ]
  },
  {
   "cell_type": "code",
   "execution_count": 51,
   "metadata": {},
   "outputs": [
    {
     "data": {
      "image/png": "[encoded data removed]",
      "text/plain": [
       "<Figure size 432x288 with 1 Axes>"
      ]
     },
     "metadata": {
      "needs_background": "light"
     },
     "output_type": "display_data"
    },
    {
     "name": "stdout",
     "output_type": "stream",
     "text": [
      "Shape of one-hot matrix :  (37, 260)\n",
      "Associated canonical SMILES:  Lc1c(OCc2cc(F)ccc2)ccc(Nc2c(C#Cc3ncccn3)cncn2)c1\n"
     ]
    }
   ],
   "source": [
    "# choose index of the compound for which the OHE matrix is visualised \n",
    "index = 0\n",
    "one_hot_matrix_plot(df.iloc[index]['keras_ohe_matrix_padding'],\n",
    "                    unique_char,\n",
    "                    df.iloc[index]['processed_canonical_smiles'])  # NBVAL_CHECK_OUTPUT"
   ]
  },
  {
   "cell_type": "code",
   "execution_count": 52,
   "metadata": {},
   "outputs": [
    {
     "data": {
      "image/png": "[encoded data removed]",
      "text/plain": [
       "<Figure size 432x288 with 1 Axes>"
      ]
     },
     "metadata": {
      "needs_background": "light"
     },
     "output_type": "display_data"
    },
    {
     "name": "stdout",
     "output_type": "stream",
     "text": [
      "Shape of one-hot matrix :  (37, 260)\n",
      "Associated canonical SMILES:  O=C(N[C$H]1C(=O)N[C@H](CCC[NH3+])C(=O)N[C$H]([C@H](CC)C)C(=O)N[C@H](Cc2ccccc2)C(=O)N[C$H](Cc2[nH]cnc2)C(=O)N[C@H](CC(=O)[O-])C(=O)N[C$H](CC(=O)N)C(=O)NCCCC1)[C$H](NC(=O)[C@H](NC(=O)[C$H](NC(=O)[C@H]1N=C([C$H]([NH3+])[C@H](CC)C)SC1)CC(C)C)CCC(=O)[O-])[C@H](CC)C\n"
     ]
    }
   ],
   "source": [
    "index = 2705\n",
    "one_hot_matrix_plot(df.iloc[index]['keras_ohe_matrix_padding'],\n",
    "                    unique_char,\n",
    "                    df.iloc[index]['processed_canonical_smiles'])  # NBVAL_CHECK_OUTPUT"
   ]
  },
  {
   "cell_type": "code",
   "execution_count": 53,
   "metadata": {},
   "outputs": [
    {
     "data": {
      "text/html": [
       "<div>\n",
       "<style scoped>\n",
       "    .dataframe tbody tr th:only-of-type {\n",
       "        vertical-align: middle;\n",
       "    }\n",
       "\n",
       "    .dataframe tbody tr th {\n",
       "        vertical-align: top;\n",
       "    }\n",
       "\n",
       "    .dataframe thead th {\n",
       "        text-align: right;\n",
       "    }\n",
       "</style>\n",
       "<table border=\"1\" class=\"dataframe\">\n",
       "  <thead>\n",
       "    <tr style=\"text-align: right;\">\n",
       "      <th></th>\n",
       "      <th>chembl_id</th>\n",
       "      <th>canonical_smiles</th>\n",
       "      <th>pIC50</th>\n",
       "      <th>Mol2D</th>\n",
       "      <th>own_ohe_matrix</th>\n",
       "      <th>processed_canonical_smiles</th>\n",
       "      <th>unique_char_ohe_matrix</th>\n",
       "      <th>sklearn_ohe_matrix_no_padding</th>\n",
       "      <th>sklearn_ohe_matrix_later_padding</th>\n",
       "      <th>sklearn_ohe_matrix_initial_padding</th>\n",
       "      <th>keras_ohe_matrix_without_padding</th>\n",
       "      <th>keras_ohe_matrix_padding</th>\n",
       "    </tr>\n",
       "  </thead>\n",
       "  <tbody>\n",
       "    <tr>\n",
       "      <th>0</th>\n",
       "      <td>CHEMBL207869</td>\n",
       "      <td>Clc1c(OCc2cc(F)ccc2)ccc(Nc2c(C#Cc3ncccn3)cncn2)c1</td>\n",
       "      <td>7.113509</td>\n",
       "      <td><img data-content=\"rdkit/molecule\" src=\"data:image/png;base64,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\" alt=\"Mol\"/></td>\n",
       "      <td>[[0, 0, 0, 0, 0, 0, 0, 0, 0, 0, 0, 0, 0, 0, 0,...</td>\n",
       "      <td>Lc1c(OCc2cc(F)ccc2)ccc(Nc2c(C#Cc3ncccn3)cncn2)c1</td>\n",
       "      <td>[[0.0, 0.0, 0.0, 0.0, 0.0, 0.0, 0.0, 0.0, 0.0,...</td>\n",
       "      <td>[[0.0, 0.0, 0.0, 0.0, 0.0, 0.0, 0.0, 0.0, 0.0,...</td>\n",
       "      <td>[[0.0, 0.0, 0.0, 0.0, 0.0, 0.0, 0.0, 0.0, 0.0,...</td>\n",
       "      <td>[[0.0, 0.0, 0.0, 0.0, 0.0, 0.0, 0.0, 0.0, 0.0,...</td>\n",
       "      <td>[[0.0, 0.0, 0.0, 0.0, 0.0, 0.0, 0.0, 0.0, 0.0,...</td>\n",
       "      <td>[[0.0, 0.0, 0.0, 0.0, 0.0, 0.0, 0.0, 0.0, 0.0,...</td>\n",
       "    </tr>\n",
       "    <tr>\n",
       "      <th>1</th>\n",
       "      <td>CHEMBL3940060</td>\n",
       "      <td>ClCC(=O)OCCN1C(=O)Oc2c1cc1c(Nc3cc(Cl)c(F)cc3)n...</td>\n",
       "      <td>6.481486</td>\n",
       "      <td><img data-content=\"rdkit/molecule\" src=\"data:image/png;base64,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\" alt=\"Mol\"/></td>\n",
       "      <td>[[0, 0, 0, 0, 0, 0, 0, 0, 0, 0, 0, 0, 0, 0, 0,...</td>\n",
       "      <td>LCC(=O)OCCN1C(=O)Oc2c1cc1c(Nc3cc(L)c(F)cc3)ncn...</td>\n",
       "      <td>[[0.0, 0.0, 0.0, 0.0, 0.0, 0.0, 0.0, 0.0, 0.0,...</td>\n",
       "      <td>[[0.0, 0.0, 0.0, 1.0, 0.0, 0.0, 0.0, 0.0, 0.0,...</td>\n",
       "      <td>[[0.0, 0.0, 0.0, 1.0, 0.0, 0.0, 0.0, 0.0, 0.0,...</td>\n",
       "      <td>[[0.0, 0.0, 0.0, 1.0, 0.0, 0.0, 0.0, 0.0, 0.0,...</td>\n",
       "      <td>[[0.0, 0.0, 0.0, 0.0, 0.0, 0.0, 0.0, 0.0, 0.0,...</td>\n",
       "      <td>[[0.0, 0.0, 0.0, 0.0, 0.0, 0.0, 0.0, 0.0, 0.0,...</td>\n",
       "    </tr>\n",
       "    <tr>\n",
       "      <th>2</th>\n",
       "      <td>CHEMBL3678951</td>\n",
       "      <td>FC(F)(F)c1cc(Nc2n(C(C)C)c3nc(Nc4ccc(N5CC[NH+](...</td>\n",
       "      <td>9.000000</td>\n",
       "      <td><img data-content=\"rdkit/molecule\" src=\"data:image/png;base64,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\" alt=\"Mol\"/></td>\n",
       "      <td>[[0, 0, 0, 0, 0, 0, 0, 0, 0, 0, 0, 0, 0, 0, 0,...</td>\n",
       "      <td>FC(F)(F)c1cc(Nc2n(C(C)C)c3nc(Nc4ccc(N5CC[NH+](...</td>\n",
       "      <td>[[0.0, 0.0, 0.0, 0.0, 0.0, 0.0, 0.0, 0.0, 0.0,...</td>\n",
       "      <td>[[0.0, 0.0, 1.0, 0.0, 0.0, 1.0, 0.0, 0.0, 0.0,...</td>\n",
       "      <td>[[0.0, 0.0, 1.0, 0.0, 0.0, 1.0, 0.0, 0.0, 0.0,...</td>\n",
       "      <td>[[0.0, 0.0, 1.0, 0.0, 0.0, 1.0, 0.0, 0.0, 0.0,...</td>\n",
       "      <td>[[0.0, 0.0, 0.0, 0.0, 0.0, 0.0, 0.0, 0.0, 0.0,...</td>\n",
       "      <td>[[0.0, 0.0, 0.0, 0.0, 0.0, 0.0, 0.0, 0.0, 0.0,...</td>\n",
       "    </tr>\n",
       "  </tbody>\n",
       "</table>\n",
       "</div>"
      ],
      "text/plain": [
       "       chembl_id                                   canonical_smiles     pIC50  \\\n",
       "0   CHEMBL207869  Clc1c(OCc2cc(F)ccc2)ccc(Nc2c(C#Cc3ncccn3)cncn2)c1  7.113509   \n",
       "1  CHEMBL3940060  ClCC(=O)OCCN1C(=O)Oc2c1cc1c(Nc3cc(Cl)c(F)cc3)n...  6.481486   \n",
       "2  CHEMBL3678951  FC(F)(F)c1cc(Nc2n(C(C)C)c3nc(Nc4ccc(N5CC[NH+](...  9.000000   \n",
       "\n",
       "                                               Mol2D  \\\n",
       "0  <img data-content=\"rdkit/molecule\" src=\"data:i...   \n",
       "1  <img data-content=\"rdkit/molecule\" src=\"data:i...   \n",
       "2  <img data-content=\"rdkit/molecule\" src=\"data:i...   \n",
       "\n",
       "                                      own_ohe_matrix  \\\n",
       "0  [[0, 0, 0, 0, 0, 0, 0, 0, 0, 0, 0, 0, 0, 0, 0,...   \n",
       "1  [[0, 0, 0, 0, 0, 0, 0, 0, 0, 0, 0, 0, 0, 0, 0,...   \n",
       "2  [[0, 0, 0, 0, 0, 0, 0, 0, 0, 0, 0, 0, 0, 0, 0,...   \n",
       "\n",
       "                          processed_canonical_smiles  \\\n",
       "0   Lc1c(OCc2cc(F)ccc2)ccc(Nc2c(C#Cc3ncccn3)cncn2)c1   \n",
       "1  LCC(=O)OCCN1C(=O)Oc2c1cc1c(Nc3cc(L)c(F)cc3)ncn...   \n",
       "2  FC(F)(F)c1cc(Nc2n(C(C)C)c3nc(Nc4ccc(N5CC[NH+](...   \n",
       "\n",
       "                              unique_char_ohe_matrix  \\\n",
       "0  [[0.0, 0.0, 0.0, 0.0, 0.0, 0.0, 0.0, 0.0, 0.0,...   \n",
       "1  [[0.0, 0.0, 0.0, 0.0, 0.0, 0.0, 0.0, 0.0, 0.0,...   \n",
       "2  [[0.0, 0.0, 0.0, 0.0, 0.0, 0.0, 0.0, 0.0, 0.0,...   \n",
       "\n",
       "                       sklearn_ohe_matrix_no_padding  \\\n",
       "0  [[0.0, 0.0, 0.0, 0.0, 0.0, 0.0, 0.0, 0.0, 0.0,...   \n",
       "1  [[0.0, 0.0, 0.0, 1.0, 0.0, 0.0, 0.0, 0.0, 0.0,...   \n",
       "2  [[0.0, 0.0, 1.0, 0.0, 0.0, 1.0, 0.0, 0.0, 0.0,...   \n",
       "\n",
       "                    sklearn_ohe_matrix_later_padding  \\\n",
       "0  [[0.0, 0.0, 0.0, 0.0, 0.0, 0.0, 0.0, 0.0, 0.0,...   \n",
       "1  [[0.0, 0.0, 0.0, 1.0, 0.0, 0.0, 0.0, 0.0, 0.0,...   \n",
       "2  [[0.0, 0.0, 1.0, 0.0, 0.0, 1.0, 0.0, 0.0, 0.0,...   \n",
       "\n",
       "                  sklearn_ohe_matrix_initial_padding  \\\n",
       "0  [[0.0, 0.0, 0.0, 0.0, 0.0, 0.0, 0.0, 0.0, 0.0,...   \n",
       "1  [[0.0, 0.0, 0.0, 1.0, 0.0, 0.0, 0.0, 0.0, 0.0,...   \n",
       "2  [[0.0, 0.0, 1.0, 0.0, 0.0, 1.0, 0.0, 0.0, 0.0,...   \n",
       "\n",
       "                    keras_ohe_matrix_without_padding  \\\n",
       "0  [[0.0, 0.0, 0.0, 0.0, 0.0, 0.0, 0.0, 0.0, 0.0,...   \n",
       "1  [[0.0, 0.0, 0.0, 0.0, 0.0, 0.0, 0.0, 0.0, 0.0,...   \n",
       "2  [[0.0, 0.0, 0.0, 0.0, 0.0, 0.0, 0.0, 0.0, 0.0,...   \n",
       "\n",
       "                            keras_ohe_matrix_padding  \n",
       "0  [[0.0, 0.0, 0.0, 0.0, 0.0, 0.0, 0.0, 0.0, 0.0,...  \n",
       "1  [[0.0, 0.0, 0.0, 0.0, 0.0, 0.0, 0.0, 0.0, 0.0,...  \n",
       "2  [[0.0, 0.0, 0.0, 0.0, 0.0, 0.0, 0.0, 0.0, 0.0,...  "
      ]
     },
     "execution_count": 53,
     "metadata": {},
     "output_type": "execute_result"
    }
   ],
   "source": [
    "# Final dataframe with all the one-hot encoded matrices\n",
    "df.head(3)  # NBVAL_CHECK_OUTPUT"
   ]
  },
  {
   "cell_type": "markdown",
   "metadata": {},
   "source": [
    "Compare times no padding"
   ]
  },
  {
   "cell_type": "code",
   "execution_count": 54,
   "metadata": {},
   "outputs": [
    {
     "name": "stdout",
     "output_type": "stream",
     "text": [
      " smiles_encoder_time no padding: 0.15 secs\n",
      " sklearn_time_without_padding: 1.23 secs\n",
      " keras_time_no_padding: 0.20 secs\n"
     ]
    }
   ],
   "source": [
    "print(f\" smiles_encoder_time no padding: \"\n",
    "      f\"{smiles_encoder_time:.2f} secs\")\n",
    "print(f\" sklearn_time_without_padding: \"\n",
    "      f\"{sklearn_time_without_padding:.2f} secs\")\n",
    "print(f\" keras_time_no_padding: \"\n",
    "      f\"{keras_time_no_padding:.2f} secs\")"
   ]
  },
  {
   "cell_type": "markdown",
   "metadata": {},
   "source": [
    "Compare times with padding"
   ]
  },
  {
   "cell_type": "code",
   "execution_count": 55,
   "metadata": {},
   "outputs": [
    {
     "name": "stdout",
     "output_type": "stream",
     "text": [
      " smiles_encoder_equal_dim: 0.32 secs\n",
      " sklearn_time_later: 1.70 secs\n",
      " sklearn_time_initial: 1.87 secs\n",
      " keras_time_padding: 0.61 secs\n"
     ]
    }
   ],
   "source": [
    "print(f\" smiles_encoder_equal_dim: \"\n",
    "      f\"{smiles_encoder_equal_dim:.2f} secs\")  \n",
    "print(f\" sklearn_time_later: \"\n",
    "      f\"{sklearn_time_later:.2f} secs\")  \n",
    "print(f\" sklearn_time_initial: \"\n",
    "      f\"{sklearn_time_initial:.2f} secs\")  \n",
    "print(f\" keras_time_padding: \"\n",
    "      f\"{keras_time_padding:.2f} secs\")  "
   ]
  },
  {
   "cell_type": "markdown",
   "metadata": {},
   "source": [
    "## Discussion \n",
    "\n",
    "- As we notice from the simulations above, the execution time varies with different implementations:\n",
    "   - **Unequal dimension** (when no padding was performed)\n",
    "      - Unexpectedly, our own `new_smiles_encoder` function calculates the results fastest, followed by the implementation in keras and one-hot encoding with the scikit-learn implementation. But since the dimensions differ, machine learning models cannot be applied.\n",
    "    \n",
    "   - **Equal dimension** (when padding was performed)\n",
    "     - Surprisingly, even after creating equal dimensions (adding padding), our own functions `new_smiles_encoder` along with `preprocessing_data` again outperform the other two implementations with respect to execution time, followed by keras and again scikit-learn required most time for execution. Generally, all three executions times increased for the equal dimension experiment. One explanation for this difference may be the additional padding performed on the strings.\n",
    "     \n",
    "       \n",
    "- Note that there is also a small time execution difference using scikit-learn when padding is performed: One possible reason for this time difference could be that if we perform padding after label encoding, we will have more  characters to one-hot encode as compared to just pad after one-hot encoding is accomplished.\n",
    "   \n",
    "- The produced one-hot encoded matrices after performing initial and later padding found to be similar because the used `LabelEncoder` function resulted in same integer encoding of the same SMILES string data which resulted in the same vectors produced for all the characters in the SMILES string in both the scenarios. Hence, the one-hot encoded matrices are similar.\n",
    "\n",
    "**Note:** Execution times might slightly differ depending on the environment and hardware used."
   ]
  },
  {
   "cell_type": "markdown",
   "metadata": {},
   "source": [
    "### Challenges "
   ]
  },
  {
   "cell_type": "markdown",
   "metadata": {},
   "source": [
    "There were several challenges faced during the task, for instance:\n",
    "\n",
    "- Making equal dimensions of the one-hot encoded matrix.\n",
    "\n",
    "- Replacing two letter elements with unique characters (note: the selected replacement might need to be extended for other datasets).\n",
    "\n",
    "- After searching for two letter elements, we found a specific element `Sc` which is a metallic element. In our dataset both 'S' and 'c' elements are present individually as well. So if we would have replaced `Sc` with single a letter element then it might have effected our actual strings. So we assumed that since `Sc` is a metallic element and is rarely present in SMILES, we did not replace this element."
   ]
  },
  {
   "cell_type": "markdown",
   "metadata": {},
   "source": [
    "### Quiz"
   ]
  },
  {
   "cell_type": "raw",
   "metadata": {},
   "source": [
    "- Why is it required to have equal dimensions of the one-hot encoded matrix ?\n",
    "- Is there any other way to pre-process the data ?\n",
    "- How and which machine learning models can be applied on the above dataset ?"
   ]
  }
 ],
 "metadata": {
  "kernelspec": {
   "display_name": "Python 3",
   "language": "python",
   "name": "python3"
  },
  "language_info": {
   "codemirror_mode": {
    "name": "ipython",
    "version": 3
   },
   "file_extension": ".py",
   "mimetype": "text/x-python",
   "name": "python",
   "nbconvert_exporter": "python",
   "pygments_lexer": "ipython3",
   "version": "3.8.5"
  },
  "toc-autonumbering": true
 },
 "nbformat": 4,
 "nbformat_minor": 4
}
