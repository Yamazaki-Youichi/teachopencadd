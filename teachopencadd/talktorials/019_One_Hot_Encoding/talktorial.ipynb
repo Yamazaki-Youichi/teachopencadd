{
 "cells": [
  {
   "cell_type": "markdown",
   "metadata": {},
   "source": [
    "# T021 ·  One-Hot Encoding\n",
    "\n",
    "Developed in the CADD seminar 2020, Volkamer Lab, Charité/FU Berlin \n",
    "\n",
    "Authors :\n",
    "\n",
    "- Sakshi Misra, CADD seminar 2020, Charité/FU Berlin\n",
    "- Talia B. Kimber, 2020, [Volkamer lab](https://volkamerlab.org), Charité\n",
    "- Yonghui Chen, 2020, [Volkamer lab](https://volkamerlab.org), Charité\n",
    "- Andrea Volkamer, 2020, [Volkamer lab](https://volkamerlab.org), Charité"
   ]
  },
  {
   "cell_type": "markdown",
   "metadata": {},
   "source": [
    "## Aim of this talktorial\n",
    "\n",
    "The aim of the talktorial is to perform one-hot encoding of SMILES structures on a subset of the ChEMBL data set to gain a deeper understanding on the one-hot encoding concept and why it is useful as a pre-processing step in various machine learning algorithms. \n",
    "\n",
    "<div style=\"text-align: center;\">\n",
    "<img src=\"images/logo.PNG\" width=\"200\" align='center'>\n",
    "</div>\n",
    "\n",
    "*Figure 1* : One-hot encoding in python. The figure is taken from the [blogpost](https://towardsdatascience.com/learning-one-hot-encoding-in-python-the-easy-way-665010457ad9)."
   ]
  },
  {
   "cell_type": "markdown",
   "metadata": {},
   "source": [
    "### Contents in *Theory*\n",
    "\n",
    "- Molecular data and representation\n",
    "    - ChEMBL database\n",
    "    - SMILES structures and rules\n",
    "- What is categorical data?\n",
    "     - What is the problem with categorical data?\n",
    "     - How to convert categorical data to numerical data?\n",
    "- The One-Hot Encoding (OHE) concept\n",
    "     - Why using one-hot encoding?\n",
    "     - Example of one-hot encoding\n",
    "     - Advantages and disadvantages of one-hot encoding\n",
    "- Similar: Integer or label encoding\n",
    "- What is *padding*?\n",
    "- Further readings"
   ]
  },
  {
   "cell_type": "markdown",
   "metadata": {},
   "source": [
    "### Contents in *Practical*\n",
    "\n",
    "- Import necessary packages\n",
    "- Read the input data\n",
    "- Process the data\n",
    "     - Double digit replacement\n",
    "     - Compute longest (& shortest) SMILES\n",
    "- Python one-hot encoding implementation\n",
    "     - One-hot encode (padding=True)\n",
    "     - Visualization\n",
    "          - Shortest SMILES\n",
    "          - Longest SMILES \n",
    "- Supplementary material\n",
    "   - Scikit learn implementation\n",
    "   - Keras implementation"
   ]
  },
  {
   "cell_type": "markdown",
   "metadata": {},
   "source": [
    "## References\n",
    "\n",
    "- Theoretical background:\n",
    "     - ChEMBL database: \"The ChEMBL bioactivity database: an update.\" ([<i>Nucleic acids research<i> (2014), <b>42.D1</b>, D1083-D1090](https://doi.org/10.1093/nar/gkt1031))\n",
    "     - Blogpost: Jason Brownlee, *How to One Hot Encode Sequence Data in Python*, [Machine Learning Mastery, accessed November 9th, 2020](https://machinelearningmastery.com/how-to-one-hot-encode-sequence-data-in-python/).\n",
    "     - Blogpost: Krishna Kumar Mahto, *One-Hot-Encoding, Multicollinearity and the Dummy Variable Trap*, towardsdatascience, Available from [one-hot-encoding-multicollinearity](https://towardsdatascience.com/one-hot-encoding-multicollinearity-and-the-dummy-variable-trap-b5840be3c41a/), accessed July 8th, 2019.\n",
    "     - Blogpost: Chris, *What is padding in a neural network?*, MachineCurve, [Padding](https://www.machinecurve.com/index.php/2020/02/07/what-is-padding-in-a-neural-network/#:~:text=Padding%20avoids%20the%20loss%20of%20spatial%20dimensions,-Sometimes%2C%20however%2C%20you&text=You%20need%20the%20output%20images,in%20order%20to%20generate%20them.) section, accessed February 7th, 2020\n",
    "     \n",
    "\n",
    "- Packages and functions:\n",
    "     - [**rdkit**](https://www.rdkit.org/docs/GettingStartedInPython.html): Greg Landrum,  *RDKit Documentation*, [PDF](https://buildmedia.readthedocs.org/media/pdf/rdkit/latest/rdkit.pdf), Release on 2019.09.1.\n",
    "     - [**scikit-learn**](https://scikit-learn.org/stable/): \n",
    "        - [Scikit-learn: Machine Learning in Python](https://jmlr.csail.mit.edu/papers/v12/pedregosa11a.html), Pedregosa *et al.*, JMLR 12, pp. 2825-2830, 2011.\n",
    "        - Jiangang Hao, et al. \"A Review of Scikit-learn Package in Python Programming Language.\" [*Journal of Education and Behavioral Statistics* **Volume: 44 issue: 3** (2019), page(s): 348-361](https://doi.org/10.3102/1076998619832248)\n",
    "     - [**keras**](https://keras.io/): Book chapter: \"An Introduction to Deep Learning and Keras\" in [*Learn Keras for Deep Neural Networks* (2019), **page(s):1-16**](https://doi.org/10.1007/978-1-4842-4240-7).\n",
    "     - [**Matplotlib**](https://matplotlib.org/)\n",
    "     - [**timeit**](https://docs.python.org/3/library/timeit.html)\n",
    "     - `smiles encoder` function: Blogpost by iwatobipen, *encode and decode SMILES strings* , [Wordpress, accessed November 9th, 2020](https://iwatobipen.wordpress.com/2017/01/22/encode-and-decode-smiles-strings/)"
   ]
  },
  {
   "cell_type": "markdown",
   "metadata": {},
   "source": [
    "## Theory"
   ]
  },
  {
   "cell_type": "markdown",
   "metadata": {},
   "source": [
    "### Molecular data and representation"
   ]
  },
  {
   "cell_type": "markdown",
   "metadata": {},
   "source": [
    "#### ChEMBL database\n",
    "\n",
    "- [ChEMBL](https://www.ebi.ac.uk/chembl/) is an open large-scale bioactivity database, containing molecules with drug-like properties. \n",
    "- The recent release v.17 contains information extracted from  more than 51,000 publications, together with bioactivity   data sets from 18 other sources (depositors and databases). In total, there are now more than 1.3 million distinct compounds and 12 million bioactivity data points available.\n",
    "- It is maintained by [European Bioinformatics Institute](https://en.wikipedia.org/wiki/European_Bioinformatics_Institute). (Please refer to [talktorial T001](https://github.com/volkamerlab/teachopencadd/blob/master/teachopencadd/talktorials/T001_query_chembl/talktorial.ipynb) for more details)"
   ]
  },
  {
   "cell_type": "markdown",
   "metadata": {},
   "source": [
    "#### SMILES structures and rules\n",
    "\n",
    "- [SMILES](https://en.wikipedia.org/wiki/Simplified_molecular-input_line-entry_system) (Simplified Molecular Input Line Entry System) notation is a chemical notation that allows a user to represent a chemical structure of a molecule in a linear way that can be read by the computer (see \"Modern Aspects of the Smiles Rearrangement\" (2017), [*Chemistry A European Journal*, **Volume23, Issue38**, 8992-9008](https://doi.org/10.1002/chem.201700353) for further information).\n",
    "- It contains a sequence of letters, numbers and characters that specify a molecule's atoms, their connectivity, bond order and chirality."
   ]
  },
  {
   "cell_type": "markdown",
   "metadata": {},
   "source": [
    "**Some SMILES specification rules**\n",
    "\n",
    "- **Atoms** - are represented by their atomic symbols. Also metal atoms are represented with symbols in square bracket, e.g. Gold `[Au]`.\n",
    "- **Bonds** - single, double and triple bonds are represented by symbols `-`, `=` and `#`, respectively. Single bonds are the default and therefore do not need to be specified. \n",
    "- **Aromaticity** - While atomic symbols are generally used in upper case, such as C, O, S and N; to specify aromatic atoms lower case symbols are used instead, such as 'c', 'o', 's' and 'n'. Sometimes implicit bonds in rings (alternating `=` and `-`) are also used to describe aromatic atoms such as C1=CC=CC=C1.\n",
    "- **Rings** - SMILES allows a user to identify ring structures by using numbers to identify the opening and closing ring atom. For example, in `C1CCCCC1`, the first carbon has a number '1' which connects by a single bond with the last carbon which also has a number '1'. The resulting structure is cyclohexane.\n",
    "- **Branches** - are specified by enclosing them in parentheses, and can be nested or arranged. For example, 2-Propanol is represented by `CC(O)C`."
   ]
  },
  {
   "cell_type": "markdown",
   "metadata": {},
   "source": [
    "### What is categorical data?\n",
    "\n",
    "Categorical data are variables that contain labels rather than numeric values.\n",
    "Some examples include:\n",
    "\n",
    "- A “pet” variable with the values: “dog” and “cat“.\n",
    "- A “color” variable with the values: “red“, “green” and “blue“.\n",
    "- A “place” variable with the values: “first”, “second” and “third“."
   ]
  },
  {
   "cell_type": "markdown",
   "metadata": {},
   "source": [
    "#### What is the problem with categorical data?\n",
    "\n",
    "Machine learning is, after all, a bunch of mathematical operations translated to a computer via low-level programming languages. Computers are brilliant when dealing with numbers. So we must somehow convert our input data to numbers. \n",
    "There are many machine learning algorithms which cannot operate on categorical data directly. Thus, categorical data must be converted to a numerical form, that all input and output variables are numeric (see [**Blogpost**](https://www.analyticsvidhya.com/blog/2020/03/one-hot-encoding-vs-label-encoding-using-scikit-learn/): Alakh Sethi, *One-Hot Encoding vs. Label Encoding using Scikit-Learn* , Analytics Vidya, accessed March 6th, 2020 for further information).\n",
    "\n",
    "<div style=\"text-align: center;\">\n",
    "<img src=\"https://cdn.analyticsvidhya.com/wp-content/uploads/2020/03/external-content.duckduckgo.com_.jpeg\" alt=\"Drawing\" style=\"max-width: 500px; width:400%;\"/>\n",
    "</div>\n",
    "\n",
    "*Figure 2*: Displays the categorical encoding required for computers to understand the input. The figure comes from this [blogpost](https://www.analyticsvidhya.com/blog/2020/03/one-hot-encoding-vs-label-encoding-using-scikit-learn/)."
   ]
  },
  {
   "cell_type": "markdown",
   "metadata": {},
   "source": [
    "#### How to convert categorical data to numerical data?\n",
    "\n",
    "There are many ways to convert categorical values into numerical values. Each approach has its own positive and negative impact on the feature set. Hereby, two main methods will be the focus: *One-hot* encoding and *Label* encoding.\n",
    "Both of these encoders are part of the [scikit-learn](https://scikit-learn.org/stable/modules/generated/sklearn.preprocessing.LabelEncoder.html) library (one of the most widely used Python libraries) and are used to convert text or categorical data into numerical data which the model expects and and can work with."
   ]
  },
  {
   "cell_type": "markdown",
   "metadata": {},
   "source": [
    "### The *One-Hot Encoding* (OHE) concept\n",
    "\n",
    "The one-hot encoding is a vector representation where all the elements of the vector are set to `0` except one, which has `1` as its value. For example, `[0 0 0 1 0 0]` is a one-hot vector.\n",
    "Simply put, one-hot encoding, also known as binary encoding, is a binary representation of categorical variables as binary vectors. \n",
    "\n",
    "The figure shown below helps us gain an overall idea of the one-hot encoding concept. \n",
    "\n",
    "\n",
    "\n",
    "<div style=\"text-align: center;\">\n",
    "    <img src=\"images/OneHotEncoding.png\" style=\"max-width: 500px; width:100%;\" />\n",
    "</div>\n",
    "\n",
    "\n",
    "*Figure 3* : Displays the one-hot encoding of the toluene molecule. Figure taken from the article [<i>BMC Bioinformatics.</i> (2018), <b>19</b>,526](https://doi.org/10.1186/s12859-018-2523-5), more information can be found there.\n",
    " \n",
    "\n",
    "Let us take a deeper look into the concept with the help of a simple example that will describe the basic concept of one-hot encoding, why it is useful and how one can approach it."
   ]
  },
  {
   "cell_type": "markdown",
   "metadata": {},
   "source": [
    "#### Why using one-hot encoding?\n",
    "\n",
    "One-hot encoding allows the representation of categorical data to be more expressive.\n",
    "It is difficult for many machine learning algorithms to work with categorical data directly that's why the label values which are categorical must be converted into numbers first as a preprocessing step. This is required for both input and output variables that are categorical.\n",
    "\n",
    "We could also use an *integer encoding* directly. This may work for problems where there is a natural ordinal relationship between the categories, and in turn the integer values, such as labels for temperature ‘cold’, warm’, and ‘hot’.\n",
    "There may be problems when there is no ordinal relationship and allowing the representation to lean on any such relationship by using integer encoding might be not useful to solve the problem. An example might be the labels ‘dog’ and ‘cat’."
   ]
  },
  {
   "cell_type": "markdown",
   "metadata": {},
   "source": [
    "#### Example of one-hot encoding\n",
    "\n",
    "Let us take a look at a very simple example to understand this concept. Assume we have the “color” variable which has three labels `red` , `blue` and `green`.\n",
    "All these labels must be converted into numeric form in order to work with our machine learning algorithm. This can be done by creating three new columns having all three labels and use `1` for the color of the respective label and `0` for the other colors as shown in Figure 4.\n",
    "\n",
    "\n",
    "<div style=\"text-align: center;\">\n",
    "    <img src=\"images/OneHotEncoding_eg.png\" style=\"max-width: 700px; width:200%;\" />\n",
    "</div>\n",
    "\n",
    "*Figure 4* : The visual demonstration of one-hot encoding done on the variable \"color\". Figure taken from the article: \"*Building a One Hot Encoding Layer with TensorFlow*\", George Novack, [towardsdatascience](https://towardsdatascience.com/building-a-one-hot-encoding-layer-with-tensorflow-f907d686bf39), more details can be found there."
   ]
  },
  {
   "cell_type": "markdown",
   "metadata": {},
   "source": [
    "####  Advantages and disadvantages of one-hot encoding \n",
    "\n",
    "**Advantages**\n",
    "-  If the cardinality (the number of categories) of the categorical features is low (relative to the amount of data), one-hot encoding will work best.\n",
    "-  One-hot encoding has the advantage that the result is binary rather than ordinal and that everything sits in an orthogonal vector space.\n",
    "\n",
    "**Disadvantages**\n",
    "-  Increase in dimensionality, after adding several columns based on categorical variables which may result in an increase in the computational cost.\n",
    "- There is a high chance of multi-collinearity due to dummy variables (unique category added as a feature) which can affect the performance of the model.\n",
    "-  One-hot encoding can result in increasing the [sparsity](https://en.wikipedia.org/wiki/Sparse_matrix) of a data set (a sparse matrix is a matrix in which most of the elements are zero)."
   ]
  },
  {
   "cell_type": "markdown",
   "metadata": {},
   "source": [
    "### Similar: Integer or label encoding\n",
    "\n",
    "[Label Encoding](https://scikit-learn.org/stable/modules/generated/sklearn.preprocessing.LabelEncoder.html), or integer encoding, is a popular encoding technique for handling categorical variables and is easily reversible. In this technique, each label is assigned a unique integer based on alphabetical ordering, so that machines can work with it properly.\n",
    "Machine learning algorithms can then decide in a better way on how labels must be operated on.\n",
    "It is an important preprocessing step for structured data sets in supervised learning."
   ]
  },
  {
   "cell_type": "markdown",
   "metadata": {},
   "source": [
    "**Example of integer encoding**\n",
    "\n",
    "Let us use a similar example as above: We have a color variable and we can assign `red` as `0`, `green` as `1`, and `blue` as `2` as shown in Figure 5.\n",
    "\n",
    "\n",
    "\n",
    "![OneHotEncoding Example](images/label_encoding_example.png)\n",
    "\n",
    "*Figure 5* : The visual demonstration of label encoding done on the variable \"color\". Figure taken from the article: \"*Know about Categorical Encoding, even New Ones!*\", Ahmed Othmen, [towardsdatascience](https://towardsdatascience.com/know-about-categorical-encoding-even-new-ones-c266227b9cbd), more details can be found there.\n"
   ]
  },
  {
   "cell_type": "markdown",
   "metadata": {},
   "source": [
    "**Difference between label and one-hot encoding**\n",
    "\n",
    "There is not much difference between these two encoding techniques, it mainly depends on the type of data and model used. For example, if we have categorical features which are not ordinal (dog or cat) then we can use one-hot encoding. Label encoding works best with ordinal data like `good=0, better=1, best=2`.\n",
    "Also when there are many categorical variables then it might be good to choose label encoding just to avoid high memory consumption and sparsity."
   ]
  },
  {
   "cell_type": "markdown",
   "metadata": {},
   "source": [
    "### What is *padding*? \n",
    "\n",
    "Padding is used to add zeros to the resulted one-hot encoded matrix. There are different types of padding, we chose to performed zero padding in here. For more details, please refer to this [Blogpost](https://www.machinecurve.com/index.php/2020/02/07/what-is-padding-in-a-neural-network/#:~:text=Padding%20avoids%20the%20loss%20of%20spatial%20dimensions,-Sometimes%2C%20however%2C%20you&text=You%20need%20the%20output%20images,in%20order%20to%20generate%20them.).\n",
    "\n",
    "**Why is it performed?**\n",
    "\n",
    "Padding is performed to make the dimensions of the matrix equal - or to preserve the height and the width - and to not have to worry too much about tensor dimensions when used as an input for the deep learning models.\n",
    "\n",
    "\n",
    "**How is it performed?**\n",
    "\n",
    "Padding can be performed by using the [numpy.pad](https://numpy.org/doc/stable/reference/generated/numpy.pad.html) function which takes several parameters like the `array` which needs to be padded, `pad_width` which is number of values added to the edges of each axis and `mode` which by default is 'constant'.\n",
    "\n",
    "In this talktorial, *padding* is performed\n",
    "\n",
    "- *implicitly*: when applying one-hot encoding using a python implementation on the preprocessed data, where we have given the maximum length of the string as the parameter so that all the resulting one-hot encoded matrices are of the same dimension\n",
    "- *explicitly*: More info on this can be found in the **supplementary section**, where we apply one-hot encoding using *keras* and *scikit-learn* implementations."
   ]
  },
  {
   "cell_type": "markdown",
   "metadata": {},
   "source": [
    "### Further readings\n",
    "\n",
    "This section lists some resources for further reading:\n",
    "\n",
    "- [What is one-hot encoding and when is it used in data science?](https://www.quora.com/What-is-one-hot-encoding-and-when-is-it-used-in-data-science)\n",
    "- [Categorical encoding using Label-Encoding and One-Hot-Encoder](https://towardsdatascience.com/categorical-encoding-using-label-encoding-and-one-hot-encoder-911ef77fb5bd#:~:text=One%2DHot%20Encoding%20in%20Python&text=OneHotEncoder%20from%20SciKit%20library%20only,apply%20OneHotEncoder%20on%20column%20Bridge_Types_Cat.)\n",
    "- Hirohara, M., Saito, Y., Koda, Y. et al. Convolutional neural network based on SMILES representation of compounds for detecting chemical motif. [_BMC Bioinformatics_ **19**, 526 (2018)](https://doi.org/10.1186/s12859-018-2523-5)\n",
    "- [How one can use matplotlib.pyplot.imshow() in Python](https://www.geeksforgeeks.org/matplotlib-pyplot-imshow-in-python/)"
   ]
  },
  {
   "cell_type": "markdown",
   "metadata": {},
   "source": [
    "## Practical"
   ]
  },
  {
   "cell_type": "markdown",
   "metadata": {},
   "source": [
    "### Import necessary packages"
   ]
  },
  {
   "cell_type": "code",
   "execution_count": 1,
   "metadata": {},
   "outputs": [
    {
     "name": "stderr",
     "output_type": "stream",
     "text": [
      "Matplotlib created a temporary config/cache directory at /tmp/matplotlib-rj0scuad because the default path (/home/andrea/.cache/matplotlib) is not a writable directory; it is highly recommended to set the MPLCONFIGDIR environment variable to a writable directory, in particular to speed up the import of Matplotlib and to better support multiprocessing.\n"
     ]
    }
   ],
   "source": [
    "from pathlib import Path\n",
    "from warnings import filterwarnings\n",
    "\n",
    "import pandas as pd\n",
    "import numpy as np\n",
    "from pathlib import Path\n",
    "from rdkit import Chem\n",
    "from rdkit.Chem import Draw, PandasTools\n",
    "from sklearn.preprocessing import LabelEncoder\n",
    "from sklearn.preprocessing import OneHotEncoder\n",
    "import keras\n",
    "from keras.utils import to_categorical\n",
    "from keras.preprocessing.text import Tokenizer\n",
    "import matplotlib.pyplot as plt\n",
    "\n",
    "# Silence some expected warnings\n",
    "filterwarnings(\"ignore\")"
   ]
  },
  {
   "cell_type": "code",
   "execution_count": 2,
   "metadata": {},
   "outputs": [],
   "source": [
    "# Set path to this notebook\n",
    "HERE = Path(_dh[-1])\n",
    "DATA = HERE / \"data\""
   ]
  },
  {
   "cell_type": "markdown",
   "metadata": {},
   "source": [
    "### Read the input data\n",
    "\n",
    "Using the `pandas` library, we first load the subset of the ChEMBL data set and draw the molecules using the `rdkit.draw` function. We then preprocess the data and apply our `one-hot encoding` python implementation.\n",
    "\n",
    "Let's load the data and quickly analyze its column values and check if there are any missing values:"
   ]
  },
  {
   "cell_type": "code",
   "execution_count": 3,
   "metadata": {},
   "outputs": [],
   "source": [
    "df = pd.read_csv(DATA /'CHEMBL25_activities_EGFR.csv',\n",
    "                 index_col=0)  \n",
    "# NBVAL_CHECK_OUTPUT\n",
    "df=df.reset_index(drop=True)"
   ]
  },
  {
   "cell_type": "markdown",
   "metadata": {},
   "source": [
    "Check the dimension and missing value of the data"
   ]
  },
  {
   "cell_type": "code",
   "execution_count": 4,
   "metadata": {},
   "outputs": [
    {
     "name": "stdout",
     "output_type": "stream",
     "text": [
      "Shape of dataframe: (3905, 5)\n",
      "\n",
      "<class 'pandas.core.frame.DataFrame'>\n",
      "RangeIndex: 3905 entries, 0 to 3904\n",
      "Data columns (total 5 columns):\n",
      " #   Column            Non-Null Count  Dtype  \n",
      "---  ------            --------------  -----  \n",
      " 0   chembl_id         3905 non-null   object \n",
      " 1   IC50              3905 non-null   float64\n",
      " 2   units             3905 non-null   object \n",
      " 3   canonical_smiles  3905 non-null   object \n",
      " 4   pIC50             3905 non-null   float64\n",
      "dtypes: float64(2), object(3)\n",
      "memory usage: 152.7+ KB\n"
     ]
    }
   ],
   "source": [
    "print(f\"Shape of dataframe: {df.shape}\\n\")\n",
    "df.info()"
   ]
  },
  {
   "cell_type": "markdown",
   "metadata": {},
   "source": [
    "Look at the first 3 rows"
   ]
  },
  {
   "cell_type": "code",
   "execution_count": 5,
   "metadata": {},
   "outputs": [
    {
     "data": {
      "text/html": [
       "<div>\n",
       "<style scoped>\n",
       "    .dataframe tbody tr th:only-of-type {\n",
       "        vertical-align: middle;\n",
       "    }\n",
       "\n",
       "    .dataframe tbody tr th {\n",
       "        vertical-align: top;\n",
       "    }\n",
       "\n",
       "    .dataframe thead th {\n",
       "        text-align: right;\n",
       "    }\n",
       "</style>\n",
       "<table border=\"1\" class=\"dataframe\">\n",
       "  <thead>\n",
       "    <tr style=\"text-align: right;\">\n",
       "      <th></th>\n",
       "      <th>chembl_id</th>\n",
       "      <th>IC50</th>\n",
       "      <th>units</th>\n",
       "      <th>canonical_smiles</th>\n",
       "      <th>pIC50</th>\n",
       "    </tr>\n",
       "  </thead>\n",
       "  <tbody>\n",
       "    <tr>\n",
       "      <th>0</th>\n",
       "      <td>CHEMBL207869</td>\n",
       "      <td>77.0</td>\n",
       "      <td>nM</td>\n",
       "      <td>Clc1c(OCc2cc(F)ccc2)ccc(Nc2c(C#Cc3ncccn3)cncn2)c1</td>\n",
       "      <td>7.113509</td>\n",
       "    </tr>\n",
       "    <tr>\n",
       "      <th>1</th>\n",
       "      <td>CHEMBL3940060</td>\n",
       "      <td>330.0</td>\n",
       "      <td>nM</td>\n",
       "      <td>ClCC(=O)OCCN1C(=O)Oc2c1cc1c(Nc3cc(Cl)c(F)cc3)n...</td>\n",
       "      <td>6.481486</td>\n",
       "    </tr>\n",
       "    <tr>\n",
       "      <th>2</th>\n",
       "      <td>CHEMBL3678951</td>\n",
       "      <td>1.0</td>\n",
       "      <td>nM</td>\n",
       "      <td>FC(F)(F)c1cc(Nc2n(C(C)C)c3nc(Nc4ccc(N5CC[NH+](...</td>\n",
       "      <td>9.000000</td>\n",
       "    </tr>\n",
       "  </tbody>\n",
       "</table>\n",
       "</div>"
      ],
      "text/plain": [
       "       chembl_id   IC50 units  \\\n",
       "0   CHEMBL207869   77.0    nM   \n",
       "1  CHEMBL3940060  330.0    nM   \n",
       "2  CHEMBL3678951    1.0    nM   \n",
       "\n",
       "                                    canonical_smiles     pIC50  \n",
       "0  Clc1c(OCc2cc(F)ccc2)ccc(Nc2c(C#Cc3ncccn3)cncn2)c1  7.113509  \n",
       "1  ClCC(=O)OCCN1C(=O)Oc2c1cc1c(Nc3cc(Cl)c(F)cc3)n...  6.481486  \n",
       "2  FC(F)(F)c1cc(Nc2n(C(C)C)c3nc(Nc4ccc(N5CC[NH+](...  9.000000  "
      ]
     },
     "execution_count": 5,
     "metadata": {},
     "output_type": "execute_result"
    }
   ],
   "source": [
    "df.head(3)  \n",
    "# NBVAL_CHECK_OUTPUT"
   ]
  },
  {
   "cell_type": "markdown",
   "metadata": {},
   "source": [
    "Select the columns which are necessary for our study"
   ]
  },
  {
   "cell_type": "code",
   "execution_count": 6,
   "metadata": {},
   "outputs": [],
   "source": [
    "df = df[['chembl_id', 'canonical_smiles']]"
   ]
  },
  {
   "cell_type": "markdown",
   "metadata": {},
   "source": [
    "We can visualize the molecules with their ChEMBL ID using pandas tools and the `draw` method as shown below."
   ]
  },
  {
   "cell_type": "code",
   "execution_count": 7,
   "metadata": {},
   "outputs": [
    {
     "data": {
      "image/png": "[encoded data removed]",
      "text/plain": [
       "<IPython.core.display.Image object>"
      ]
     },
     "execution_count": 7,
     "metadata": {},
     "output_type": "execute_result"
    }
   ],
   "source": [
    "# Using PandasTools and the respective Draw method\n",
    "PandasTools.AddMoleculeColumnToFrame(df, smilesCol='canonical_smiles', molCol='Mol2D' )\n",
    "Draw.MolsToGridImage(list(df.Mol2D[0:10]),\n",
    "                     legends=list(df.chembl_id[0:20]),\n",
    "                     molsPerRow=5)  \n",
    "# NBVAL_CHECK_OUTPUT"
   ]
  },
  {
   "cell_type": "markdown",
   "metadata": {},
   "source": [
    "### Process the data\n",
    "\n",
    "SMILES preprocessing: Since in SMILES representation, atoms can be described by one or two characters (depending on the periodic element they represent) while the machine will read the input position-wise, we convert the SMILES in a chemical-aware representation.\n",
    "\n",
    "- First, we search for all unique characters present in the current data set, which allows us to remove the characters which are not present in the current data.\n",
    "\n",
    "- Second, we search for all double-character elements in our SMILES data set by comparing the atoms present in our strings with all the possible elements present in the periodic table and replacing all the two alphabetic elements by *artificially* selected characters, for example changing 'Cl' to 'L'.\n",
    "\n",
    "For padding:\n",
    "\n",
    "- SMILES strings have unequal dimension since their string length differ. For machine learning application, having equal dimension throughout the data set is required. In order to achieve this, we can first search for the SMILES string with the maximum length (e.g. [len()](https://www.geeksforgeeks.org/python-string-length-len/) method) and pass it as an argument in our function for all the strings."
   ]
  },
  {
   "cell_type": "markdown",
   "metadata": {},
   "source": [
    "#### Double digit replacement"
   ]
  },
  {
   "cell_type": "code",
   "execution_count": 8,
   "metadata": {},
   "outputs": [],
   "source": [
    "def assess_two_letter_elements(df):\n",
    "    \"\"\"\n",
    "    Find the two letter elements in dataframe.\n",
    "\n",
    "    Parameters\n",
    "    ----------\n",
    "    df : pandas.DataFrame\n",
    "        Dataframe which requires preprocessing.\n",
    "\n",
    "    Returns\n",
    "    -------\n",
    "    two_letter_elements : list\n",
    "        List with found two letter elements\n",
    "    \"\"\"\n",
    "    \n",
    "    # Search for unique characters in SMILES strings\n",
    "    unique_chars = set(df.canonical_smiles.apply(list).sum())\n",
    "    # Get upper and lower case letters only\n",
    "    upper_chars = [] \n",
    "    lower_chars = [] \n",
    "    for entry in unique_chars:\n",
    "        if entry.isalpha():\n",
    "            if entry.isupper():\n",
    "                upper_chars.append(entry)\n",
    "            elif entry.islower():\n",
    "                lower_chars.append(entry)\n",
    "    print(f'Upper letter characters {upper_chars}')\n",
    "    print(f'Lower letter characters {lower_chars}')\n",
    "    \n",
    "    # List of all possible periodic elements\n",
    "    periodic_elements = ['Ac',\n",
    "                         'Al', 'Am', 'Sb', 'Ar', 'As', 'At', 'Ba',\n",
    "                         'Bk', 'Be', 'Bi', 'Bh', 'B', 'Br', 'Cd', 'Ca',\n",
    "                         'Cf', 'C', 'Ce', 'Cs', 'Cl', 'Cr', 'Co', 'Cn',\n",
    "                         'Cu', 'Cm', 'Ds', 'Db', 'Dy', 'Es', 'Er', 'Eu',\n",
    "                         'Fm', 'Fl', 'F', 'Fr', 'Gd', 'Ga', 'Ge', 'Au',\n",
    "                         'Hf', 'Hs', 'He', 'Ho', 'H', 'In', 'I', 'Ir',\n",
    "                         'Fe', 'Kr', 'La', 'Lr', 'Pb', 'Li', 'Lv',\n",
    "                         'Lu', 'Mg', 'Mn', 'Mt', 'Md', 'Hg', 'Mo',\n",
    "                         'Mc', 'Nd', 'Ne', 'Np', 'Ni', 'Nh', 'Nb',\n",
    "                         'N', 'No', 'Og', 'Os', 'O', 'Pd', 'P',\n",
    "                         'Pt', 'Pu', 'Po', 'K', 'Pr', 'Pm', 'Pa',\n",
    "                         'Ra', 'Rn', 'Re', 'Rh', 'Rg', 'Rb', 'Ru', 'Rf',\n",
    "                         'Sm', 'Sc', 'Sg', 'Se', 'Si', 'Ag', 'Na',\n",
    "                         'Sr', 'S', 'Ta', 'Tc', 'Te', 'Ts', 'Tb', 'Tl', 'Th',\n",
    "                         'Tm', 'Sn',\n",
    "                         'Ti', 'W', 'U', 'V', 'Xe', 'Yb', 'Y', 'Zn', 'Zr']\n",
    "\n",
    "    # The two_char_elements list contains all two letter elements\n",
    "    # which can be generated by all possible combination of upper x lower characters\n",
    "    # and are valid periodic elements.\n",
    "    two_char_elements = []\n",
    "    for upper in upper_chars:\n",
    "        for lower in lower_chars:\n",
    "            ch = upper + lower\n",
    "            if (ch in periodic_elements):\n",
    "                two_char_elements.append(ch)\n",
    "    \n",
    "    # This list is then reduced to the subset of two-letter elements \n",
    "    # that actually appear in the SMILES strings, specific to our data set.\n",
    "    two_char_elements_smiles = set()\n",
    "    for char in two_char_elements:\n",
    "        for index in range(len(df)):\n",
    "            if (df['canonical_smiles'].iloc[index].find(char) != -1):\n",
    "                two_char_elements_smiles.add(char)\n",
    "    return(two_char_elements_smiles)"
   ]
  },
  {
   "cell_type": "code",
   "execution_count": 9,
   "metadata": {},
   "outputs": [
    {
     "name": "stdout",
     "output_type": "stream",
     "text": [
      "Upper letter characters ['H', 'C', 'O', 'F', 'I', 'S', 'N', 'P', 'B']\n",
      "Lower letter characters ['o', 'n', 'l', 's', 'r', 'e', 'c']\n",
      "\n",
      "Two letter elements found in the data set: {'Br', 'Cn', 'Se', 'Cl', 'Sc'}\n"
     ]
    }
   ],
   "source": [
    "elements_found = assess_two_letter_elements(df)\n",
    "print(f'\\nTwo letter elements found in the data set: {elements_found}')"
   ]
  },
  {
   "cell_type": "markdown",
   "metadata": {},
   "source": [
    "Based on this finding, we defined our own dictionary for replacement. Note that their are several shortcomings with this *simple* implementation that we (partially) manually address here:\n",
    "\n",
    "- We exclude *Sc* and *Cn* from the replacement, since it is more likely that sulfur (S) and an aromatic carbon (c) are contained in a molecule than scandium (Sc), same for carbon (C) and an aromatic nitrogen (n) over Copernicium (Cn). Thus, only the elements chlorine (Cl), bromine (Br) and selenium (Se) are replaced. \n",
    "- In isomeric SMILES `@` and `@@` are used to describe enantiomers, thus we also need to replace the latter by a one letter code.\n",
    "- If you are working wit a different data set, you may want to adapt the below mapping dictionary."
   ]
  },
  {
   "cell_type": "markdown",
   "metadata": {},
   "source": [
    "This resulted in the following dictionary to replace the two letter elements found in this data set"
   ]
  },
  {
   "cell_type": "code",
   "execution_count": 10,
   "metadata": {},
   "outputs": [],
   "source": [
    "replace_dict ={'Cl':'L', 'Br':'R' , 'Se':'X' , '@@':'Z'}"
   ]
  },
  {
   "cell_type": "markdown",
   "metadata": {},
   "source": [
    "Based on this dictionary, we define a function to create the preprocessed data."
   ]
  },
  {
   "cell_type": "code",
   "execution_count": 11,
   "metadata": {},
   "outputs": [],
   "source": [
    "def preprocessing_data(df, replacement):\n",
    "    \"\"\"\n",
    "    Preprocess the SMILES structures in a data set.\n",
    "\n",
    "    Parameters\n",
    "    ----------\n",
    "    df : pandas.DataFrame\n",
    "      Dataframe which requires preprocessing.\n",
    "    replacement : dict\n",
    "      Dictionary with mapping for replacement.\n",
    "       \n",
    "    Returns\n",
    "    -------\n",
    "    df : pandas.DataFrame\n",
    "        Dataframe with new processed canonical SMILES column.\n",
    "    unique_char : list\n",
    "        List with unique characters present in SMILES.\n",
    "    \"\"\"\n",
    "    # Print warning if the data set has a 'Sc' element\n",
    "    for smiles in df.canonical_smiles:\n",
    "        df.canonical_smiles.str.contains(\"Sc\")\n",
    "        print('**Warning**: \"Sc\" element is found in the data set, since the element is rarely found '\n",
    "                  'in the drugs so we are not converting  '\n",
    "                  'it to single letter element, instead considering \"S\" '\n",
    "                  'and \"c\" as seperate elements. ')\n",
    "        break\n",
    "\n",
    "    \n",
    "    # Create a new column having processed canonical SMILES\n",
    "    df['processed_canonical_smiles'] = \"\"\n",
    "\n",
    "    # Replace the two letter elements found\n",
    "    # with one character\n",
    "    for index in range(len(df)):\n",
    "        cur_smiles = df[\"canonical_smiles\"].iloc[index]\n",
    "        for key, value in replacement.items():\n",
    "            cur_smiles = cur_smiles.replace(key,value)\n",
    "        df[\"processed_canonical_smiles\"].iloc[index] = cur_smiles\n",
    "    \n",
    "    unique_char = set(df.processed_canonical_smiles.apply(list).sum())\n",
    "    return df, unique_char"
   ]
  },
  {
   "cell_type": "code",
   "execution_count": 12,
   "metadata": {},
   "outputs": [
    {
     "name": "stdout",
     "output_type": "stream",
     "text": [
      "**Warning**: \"Sc\" element is found in the data set, since the element is rarely found in the drugs so we are not converting  it to single letter element, instead considering \"S\" and \"c\" as seperate elements. \n"
     ]
    },
    {
     "data": {
      "text/html": [
       "<div>\n",
       "<style scoped>\n",
       "    .dataframe tbody tr th:only-of-type {\n",
       "        vertical-align: middle;\n",
       "    }\n",
       "\n",
       "    .dataframe tbody tr th {\n",
       "        vertical-align: top;\n",
       "    }\n",
       "\n",
       "    .dataframe thead th {\n",
       "        text-align: right;\n",
       "    }\n",
       "</style>\n",
       "<table border=\"1\" class=\"dataframe\">\n",
       "  <thead>\n",
       "    <tr style=\"text-align: right;\">\n",
       "      <th></th>\n",
       "      <th>chembl_id</th>\n",
       "      <th>canonical_smiles</th>\n",
       "      <th>Mol2D</th>\n",
       "      <th>processed_canonical_smiles</th>\n",
       "    </tr>\n",
       "  </thead>\n",
       "  <tbody>\n",
       "    <tr>\n",
       "      <th>0</th>\n",
       "      <td>CHEMBL207869</td>\n",
       "      <td>Clc1c(OCc2cc(F)ccc2)ccc(Nc2c(C#Cc3ncccn3)cncn2)c1</td>\n",
       "      <td><img data-content=\"rdkit/molecule\" src=\"data:image/png;base64,iVBORw0KGgoAAAANSUhEUgAAAMgAAADICAIAAAAiOjnJAAAABmJLR0QA/wD/AP+gvaeTAAAahElEQVR4nO3deVhTV94H8G8WCEtYAimjaBFRVBbBrYozuI3WpYtjBac61bbu2ygK06pYrOuIjkLHKlVrqbag1qp1Y5RaccTiI4uiVBGBoCj7kgASSMhy3j9uXx7Hash2CZXzefqHj95z7tF+ubm555zf5RBCQFHmxrX0AKiXEw0WxQoaLIoVNFgUK2iwKFbQYFGsoMGiWEGDRbGCBotiBQ0WxQoaLIoVNFgUK2iwKFbQYFGsoMGiWEGDRbGCBotiBQ0WxQoaLIoVNFgUK2iwKFbQYFGsoMGiWEGDRbGCBotiBQ0WxQoaLIoVNFgUK2iwKFbQYFGsoMGiWEGDRbGCBotiBQ0WxQoaLIoVNFgUK2iwKFbQYFGsoMGiWEGDRbGCBotiBQ0WxQoaLIoVNFgUK2iwKFbQYFGsoMGiWEGDRbGCBotiBQ0WxQoaLIoVfEsPgLKM6urqK1euODs7A3B0dOTxeHZ2dgKBwNra2t7ensvlOjk5mdI/DVZndPz48fPnz8fHx7d5pJOTE5fLHT58eExMTN++ffU/BYe+xb6zqa+v9/HxKS8vHzp0qKOjI/M7Wq1WLpe3tLQolcqmpiaNRtPQ0NDaRCQSyeXy3NzcXr166XkWesXqdCIjI8vLy4ODg1NTU9VqdVpamoODAwCRSATAwcGBz+fb2tra2NgAqKurI4QsW7YsMTExKirq8OHD+p6GUJ1JZmYmj8fj8/m3bt0ihJSVlenIBp/P37NnDyGktLTUzs6Ow+FkZWXpeSL6rbAT0Wg0Cxcu1Gg0ERERgYGBALhc7qhRowYPHjxo0CAvLy8vLy+xWCwSiQQCAQC1Ws00dHd3X7ZsGSHkH//4h57novdYnci+fZW7d7/z5EnZ3bt37e3t2zxepVJptVomZHV1db169ZJKpT/++OPrr7/e9sl0XM1KFYpihaK2pcXU6y/VAZSUEEdHwuVqLlx4aFwP27ZtAxAYGKjRaNo8WFewwgsLk2trf2lsNG4cVIcSGkoAMnWq8T00Nzd7eHgAOHLkSJsH67rHIoSoCXHk8fS80lIdVnIyjh+HnR127jS+Exsbm08//RRAZGRkS0uL7oN1BcuZzw8UCsVWVsaPheoAmpuxZAkAbNoET0+Tuvrggw/8/PwePHiwf/9+3UfqCpYNj9dNILCjV6zfuexs1NRgwAAsX25qVzwe75///CeAjRs3Pv0E9bd0BWuRu7sW+EkmW15QoKFfHn+H1q6FTIZevbBnDxITwTfH4/DJkyePHj26uro6JiZGx2G6guXI42kJ2VNaeq2hIam21gyDotpXSQm2b4dcjtpa+Pqardvo6GgOh7Nz586KiooXHdPGA1I+h7PI3R3A3rIyhVZrtqFR7UIsRvfuSE83W4dyuRzAsGHDJk+e3NjYGB0d/aIj237yPt7FxcfOrkqlOlZVZbYBUu1l0SJ89515ulIoFIMGDVqwYEFjY2NwcLCTk1NwcPCLDm47WBxgRffuAL6uqGj4/2f81O9CUBB4PERFwdoarZeFx4+N7G3r1q35+fnXrl1TKpWxsbH19fX19fUvPFrPh2NL8vPHZ2fvOn3a+OdrlIXExBAOhyxdShobybhxRCQiUqnBneTn59vY2HA4nMuXLy9evBhAcHCwVqt90fH6ButOaalQJLK1tX38+LHBg6IsKi+P8PnEyooUFJDx4wlAPv7YsB60WjJ//lVra+HcuXMzMjKeXh/xIgYsm5kxYwaAuXPnGjYoqgOYN48AZPp0cusW4XKJjQ0pLjag+bffEoAMGSKvrKwcOHAggNWrV+tuYkCwioqKrK2teTzenTt3DBgU1QGUlhI7O8LhkOvXyYwZxN5eGxl5Xc+2dXWka1cCkK+/JrGxZOTIhwMGjG9sawbZsIV+f//73wFMmTLFoFZUR7BqFQHIhAnaoiKFu/sAHo939+5dfRouXEgAMmIEefyYODgQgJw713Yrw9ZjVVZW9urVSy6XDx8+XCwW29jYWFlZCYVCDofzov0e3t7eAwYMMPJ7CGU+dXWYNq04P3/2gQNrzp49+/nnn//lL385depUmw2vXEFYGA4fxrp1OHECISE4flyP8xmU+paWlu7du3fp0kX/v09oaGhMTIxBZ6FYsn37dgCBgYEVFRXMNoqff/5Zn4ZaLTl/ngDEwYHo+eXNsCvWtm3bVq9e3aNHj7i4OLVarVQqW1pa5HK5VqtlHmk8s9+jqqoqOTmZz+ffu3fPy8tL/xNRbFAoFH379n306NHhw4fz8/NPnz4dFxcXFBTUZsPmZvj7o6gIMTFYuVK/k+mf9+LiYqFQCCApKUn/VrNnzwbw3nvv6d+EYg+zl7Bnz54NDQ36LARlSKVk5kwycCBRqfQ9kQHBmjx5MoDp06fn5ORs3rxZqVS22SQ3N7ekpITZ4HHjxg39z0WxRK1W+/v7A1i6dOm1a9eysrJycnIkEsmDBw+k0iaplDwTtrAwcuwYIYSsXk3kcgNOpG+wTp48CcDR0fHRo0d/+tOfAGzYsEF3k+XLl3O53DNnzjBbOyZMmGDAuCjWHDhwwM7O7refXaNHpwKE+c/enohEpEsXsnIlCQsjdXUkLMyws+gVLLlc7unpCWD37t3M0sEuXbrIZDLdrXbt2gWgX79+VVVVLi4uAH766SfDRkex4K233gLw6quvBgUFDR482N/f38vLq0ePHhMnpotEhMMhrfHicklEBHn0iKxdy06wwsPDAQwZMqSyslIsFgM4evRom61aWlp69+4NID4+fuvWrUwPOmaXqHZw4sQJ5pOntLRUx2FPnhCplJSXk4gIQgiJjSULFhh2oraDlZOTY2VlxeVy09PT33//fQDjx4/Xs3dmR3a3bt1qa2tfffVVAN99951hA6TMp6GhoXv37gCY/c36YOYDW1pIZqZh52ojWBqNZvjw4QDCwsKuXLnC4XAEAkFeXp6evWu12sGDBwPYvn37l19+CcDLy0ufu36KDStXrmQ+N9RqNdvnaiNYX3zxBXNHVVVV5ePjA2DTpk0GneDHH38E4OzsXFVV5evra9CPC2VGzCcPj8drn6/nuoJVUVHBVCA5duzYxo0bAfTp00ehUBh6jnHjxgFYtWoV89XSzc2toaHBhDFTBmv95FmxYkX7nFFXsGbOnMk8JigsLLS1tQVw6dIlI85x69YtLpdrY2PT+qhi48aNxg6YMsaePXsAdO3alSlL1A5eGKyqqiqxWCwQCCQSyZ07dwYPHjxr1iyjTzN9+nQA8+fPv3r1KgChUPjo0SOje6MM0vrJc/z48XY76Qt3mqlUKltbW7Va7ebmJhQK09PTm5ub9Zsleo7Nmzfb2tp+8sknHh4eI0aMyMjIYKoAMCsgnrs4onXdRFBQUFhYGJdLKy4ZKTw8XCaTTZw4MSQkpN1OqmsSOjg4OC0tbf369cyOfbNQqVT9+/cvLCzkcDhq/bZmeHt7CwSCzMxMpsacuSiVyocPH65Zs6a1gN0zdV2Z8pv29vbW1tYCgcDFxUXHppQO68qVK2PGjLGxsblz5067rgPQcTW7fv06h8MRCoUVFRXmukIyT0p79+7d3NxMCFEoFFKptKamRiKRSCSSmzdvZmVlXbly5eLFi0lJSceOHTty5AjzlHXHjh3mGgNjw4YN3bp10/8fytPTc82aNSr9p2E7AIVC0a9fPwBbt25t51O3sWxmypQpp0+fXrZsGTM/Y6JHjx75+vrK5fKkpKQ33nhDz1bJyckTJ04UiUSFhYXM1JDpCgsL+/fvr1Qq169f7+Pj89y6rsx9bmNjo0qlUigUaWlpUql03759CxYsMMsY2sH69es3bNjg5+eXnZ1t1b7FXdoI1v379/39/TkcTm5uLnPlMMXkyZPPnj07Y8YMA2qkAgDGjRt36dKlNWvWMBUpTPfGG2+cP39+9uzZ8fHxhJBFixbhf+u6Mnd4AEQiUd++fQMCAo4fPz5t2rSuXbsWFBToUw7PUvbt2xcSEiIWiwsKCkJDQzUazeeffz5mzJj2Hkeb17Q5c+YAmDFjhonXRj1nqZ4rMzOTw+GYa/NZYmIiABcXl6qqKkJIm19KPvnkE6Yh8yhoy5Ytpo+BJcnJyQA8PDyUSiXz+HDOnDkWGUnbK0hLS0v79OnT3NycmZnJzM8Yoampyc/P7+HDh3v27FnCFGsy0LvvvluYk3PwnXf6m3bRamho8PHxKSsrO3DgwNy5cwGoVKqvv/6a+SONRtPU1NS6MpYQUldX99e//jU0NBRAamrqqFGjnJycJBKJq6urKcNgg1KpDAwMvH///rZt27p16zZz5kxXV9d79+698sorFhiNPun7+OOPYcjc82+ZPktVX1CgtbYmfD65d8/oYRBC9NnFq8OkSZMAhIeHmzIGlkRFRQHw8/Orqalxd3cHEB8fn5aWJjdohZ6Z6BUsmUzG3DVfvHjRiHOYbZZqyRITy2jquYtXh5ycHC6Xa21tLZFIjB4GG57eAs/cMgYHB5eUlDg6Onp6elZXV7fzePRdQcoUrHm6Yu7y5csXLFiwbNmyVatWRUZGRkdHR0dH7927d9++fQkJCRkZGcxh5pylqqz8dWNbWpoRrdVqtZ67eHWbNWsWgA8++MCUTsxu7NixAObNm5eRkcHlcvl8/u3bt6dNmwbgnXfeaf/x6Bus5uZmZkFV6xI/Zv/QiyxcuJA5LC4uDmacpYqK+nX3pOGYCnQeHh5t7uLV7eHDhwKBgMvlZmdnm9KPGX3zzTcAXF1dKyoqmB+eNWvWXLhwAYCdnd2DBw/af0gGbP/66quv5s2b17Nnz7y8PGtr62+++UahUCgUiubmZrVa/eTJEwAymQzAkydPXn/99dmzZ1dWVvr4+Mhksu+//565/zVVQwN690Z9PbKzDapRV15e7uPjU19ff+bMmbffftvEUYSHh8fGxr755pvnzp0zsSvTyWQyZv33wYMHa2trIyIiPDw8bty4ERQUJJFIduzYERER0f6jMiBYGo0mICAgNzd3yJAhXl5ebb7qzsnJKTY29sKFCxMmTGB+eswjORkiEdLSIBJh5kw9C2uGhIScPHkyJCTkuF7beNtQU1PTu3fv+vr6S5cu/fnPfza9Q1MsXLhw//79I0aMOHr0qK+vL/PDk56evmXLlv79+9+4caOdH43+yqDr24ULF5hvVXrq2rWrUCgsKioy83V21iwilZKsLBIVRTIyyE8/kawskpVF8vOJRKKoqJBKpU9/3p0/fx6Ag4ODGWswbdq0CcDQoUMtu4pfrVaHhoZaW1vn5uZOnToVQEhIyP3795kP62vXrllqYAa/S6esrCwtLe1FW5+fmRIJDAz86KOP3NzcDDpFG2QybNsGpvrlwoXIzER29tN/fmPUqCFXrjC/Zi6fzEOpmJiYlfpu421bc3Nznz59SkpKTpw4wfwf1S0+Hv7+GDoUBw+ipQULFuDJEyQlYfp0MwymoKBAIpFMmjTJwcHh7t27H374YUpKyqJFi5gFwBZhcIFmd3d35ruGxTg6QioFAIUCPB4GDYJIBKZmYX09tNpmoVAkEjE3f1qtViaTMTMwAQEBAJKTk1NTU7ds2WL0+eVyub29va2t7apVq5YtWxYaGmpra/v0nUBQUNy9e687O4PDgVAIKyvY2MDZGVlZGDQIt29DpQIApRJ5eWb49wDQrVu3iRMnAti4cWNKSkpKSopYLN68ebN5ejeOpS6VJvnhBxIVRT76iBQU6D5QrVZLpVLmyeFrr71WVVXFbMtOT0837sxlZWVubm5RUVFqtXrdunXP/ScdPTqldWte63/Ll5OsLPLZZ2TFCvLWW2TzZhIZST791LhRPIv5Cw4cOFClUjGXz2+//dY8XRvr9xksAzU1NTHbnr7//vu1a9cCGDlypHFdvfvuuwAmTZpUUFDAPJBMSUlpbGyUSqXl5eUSieT+/fvZ2ZVZWeTiRXLxIjl5khw7Rg4dIitXEkJIZCSZP58sXUoIIdXV5gnWnTt3XFxcRo8ezfy0aLXaM2fOWHz/ZqcIFiFk7969APr06VNbW8vc8/3nP/8xtBNmitfOzq6oqMjQKV6mAoJMRqKjyfbthBDS2EgMH8KztFrt6NGjASxZssTUvsyqswRLrVYz29f27t3LPCnt37+//uVWCCFMDSAA27ZtS0hIwFPrI/R36RKxtiYDBjxbe8NoBw4cAPCHP/xBakQlZDZ1lmARQpgnWF27dpVKpcwiXYNuRH47xfvVV18ZOgalknh5EYAkJBja9DlqamqYlQuJiYlm6M6sOlGwCCF//OMfAWzevPnQoUMAPD099dwmaWiVcx0OHiQA8fQkhm/QfBZTe2z06NEWv6P6rc4VrNTUVAAODg7l5eXMnFpsbKw+DZ+e4jVxfYRGQwYMIAD57DPjOvjV1atXDa140J46V7AIIW+++SaAlStXJiUlARCLxW3Ojv92itfE9RHnzhGAuLlp6+uNLGOhUqmYx3Lr1683ZSTs6XTBenpB1ahRo1xcXK5evarjeKVSyWzmOXjwoLnWRxBCZs7M8PV9LSoqyrjmzNp/b29vZrNTB9TpgkUIYYoxzZo1SyKRtFk+jhBy+/btsLCw0tJSZnL9zJkzpo8hPT2dw+HY29uXl5cb2vbhw4fMXIJx6y7bR2cMVuuCqps3b+rfqnWK11zDYDo04vkTU5Kvg9cLNngS+uUQERERExPTo0ePCRMm6Hj7QesSoNzc3LCwMAcHh9zcXOYhvuny8/P9/PwA/PLLL8y2Un0wu9AcHR3v3bvHPPXooCydbMs4d+6cra0t35CXJAuFQrO/CWH+/PkAxo4de/HixdTU1KysrOzsbGZTeG1trVQqbWlpefr41pJ8cXFx5h2J2XXGK5ZarR48eHBOTs7UqVMnTJig5xKgxMRELy8vg7LYpqKiIj8/P3t7+1qdr9y2sbFp/TGorq4eMmRIenp6B6+SYs5/pt+Lf/3rXzk5Od7e3omJieYtNGIoZnm3UCgcN27cixZ5q9VqZgk408TW1tbPz6+DpwrofB+FxcXFHeQrVevT/JSUFN1HNjU1SaXSysrKpKQkpoRdsUGvG7SEThcsZidFR/hKxayPmDt3bmZmpv6TfX/7298AzJ49m9Wxma5zBetM6hkAzs7ORjw9Mi9mfYSrq2vr5NK+fft0HK/RaA4dOvThhx8+ePBAIBB0/NeRdqJgNagbuud0H/LVkAOJByw7EpmMvPXWT1ZWdvHx8bGxsdDjaX5dXR1TLeLChQvLly8HMHny5HYbsBE6UbBWPF6BG3jt3mtqLetVznVbtIgAJDS07tGjUgcHBwBnz55ts9WOHTsABAQEVFZWMruFL1++zP5gjdRZgnW76Tb/Jp93k3dTbsDTdjZkZBAul/D55PZtMm0aGTEi7733/q5Pw+bmZqZwa0JCwoYNGwAMGzasAy6YYXSKYGmIZnjecNzAyscrLTsSlYoMHEgAsmbNr+8stbMj+u+AZ8oteXp61tTUMO+5PXXqFIvDNcHLH6wWbcvOip24ga45XevU7VTl/EV27CAA6dGDVFf/upR0504Dmms0GuYF2//+9793794NoG/fvh2zLOpLG6z/PvlvREnERyUf/dz4c/ec7riB47L2q3L+ImPGEIAkJZHkZGJtTQIDDXhnKePs2bMAxGJxTU2Nt7c3gAMHLPxd5Lle2mDNfDCTEKIhmrzmvF1Vu76s/tKCg0lPJz/8QAghR46Q1vce371LjFuFyhQUXbdu3dGjRwG4u7tbpLSabh1+ZsBYAo4AABdc5tfzxPMsOJiCAuzfj6oqXL+O1mrRvr4IDDSmt+joaA6Hs3PnzpEjRw4bNqysrIz5WOxQXtpgcTncQmXh45bHSq3S0mMBgBUrfi03YbqhQ4dOmTJFLBYXFxcz++ijo6Pr6urM07uZvLST0DHdYxKkCYSQt53fHm4/3NLDgasrfH2RkGCe3vbu3evk5CQQCBQKhYuLy9ixYy07m/5bL22whFzhIvEi5tfdrcyzNM9o3t545RXMmYOKCly/jqAgUztsLeCzdetWqVSam5vL4/FM7dSsOuN6LEupqsKgQZDLIZHALG/YKCgoCAgIUCqVKSkpzEb7juOlvcfqgNzc4O+Pujps3WqeDhcvXqxQKObMmdPRUgV6xWpnOTkYOBDW1rh/Hx4eJnWVkJAwa9YsV1fXvLw8sVhspgGaDb1itauAAMyYAYUCJr6or74eu3aFDBq0aseOHR0wVaBXrPb34AH69YNGg1u3tP7+Rv5gL16MvXsxahQuXyYcDse8IzQLGiwLWLtWnpp6zNX13KlTJ4xonpmJoCDw+YaWJG9XNFgWUFNT06tXr4aGhpSUFGZ+prS0tKGh4an9jM5OTs+/DqnVGDoU2dmIjIQJhVTZZ8n5pE5s48aNeKqa9zM1/gUCJVO51MmJPPOmmNb1ESaXj2AXvXm3jPDw8C5dumRkZJw+fRqAm5tbv379vLy8unXr5urqKhBYM4fV10Or/Z+Gbm5wcUFcHDrwuzgB+lFoQXFxcUuXLu3Zs+fRo0d5PJ6zszPzBm4rK2sbG2dbWwCoq4NAAFtb5OYiPBznzyM6Gu+/D0NeZm0ZNFgWo1Kp/Pz8WlpaiouLn/59Z2dRXZ0UAJ8PBwcAEInw3nsoKcGIEXj4EOHhcHKyyJAN8NLOFXZ8VlZWmZmZX3zxBVMctXXrs5OTi0IBhQJqNWQyAJDJoFRixAjk5ECttuyo9UWvWB2XSoXGRhCCujpUViIvD5MmYdAg3Lv3O7hi0WD9PtTXQyaDpycyMjBwICzyPi+D0GBRrKCPGyhW0GBRrKDBolhBg0WxggaLYgUNFsUKGiyKFTRYFCtosChW0GBRrKDBolhBg0WxggaLYgUNFsUKGiyKFTRYFCtosChW0GBRrKDBolhBg0WxggaLYgUNFsUKGiyKFTRYFCtosChW0GBRrKDBolhBg0WxggaLYgUNFsUKGiyKFTRYFCtosChW0GBRrKDBolhBg0WxggaLYgUNFsUKGiyKFTRYFCtosChW0GBRrKDBolhBg0WxggaLYgUNFsUKGiyKFTRYFCtosChW0GBRrKDBolhBg0Wx4v8AQQAVI2mDZTkAAAIzelRYdHJka2l0UEtMIHJka2l0IDIwMjAuMDkuNAAAeJx7v2/tPQYg4AFiRgYIkAdiJSBuYBRkUACJszloAClmFhjNwQCmmdgYEoA0ExNCPgNEM8M1cML0w8WJYUD0sjOABZgwbGcD286EoGEaIDQzHrMxlBAW4AYGCyNTBhMTswIzCwMLKwMrWwYTG3sCOwcDO2cGEydXAhc3UJYngYc3g4mXL4GPX4FfQEFAMEFQSEFIWINZWERBRDSDSVQsQUw8g0lcIkFCMoNJUCqDSUo6QVomg0lGNoFPLoNJjjGBmzVBViCDSVIkQYSFjVGOj5eHiY2NnZOLm5VNVExcQlKETUpaRlZAUBwWTwzyT2/qHdiV5HkAxJl76sf+Gbnv94PYF55qHvi6iwfMLnnbcqDQixHM3rJ29oHTVwPsQWyHFacP+LnFgNmNGY8OLJ7J7QBitxlyHjxSygdmL5socvDy3yQwe8050YPh6sVg9T15XAdPfdy7D8TufvTkwKVLV8Ds4kfv9h/+YglWw/tw9z6HFj0w+4/SBrs/s5XBbnj36bV9A48+mP2jUtlB35sB7P6O7Y0OAerMYPblj7Mc2t+6gtXI6WxxMDzEADYnK+2sw9cdj8FszWXbHDpT3MBuK31w3sGGowfMZrj930F7VheYvcCX29F9jQOY/S3hr8NmhntgvSfKZzjErw8H2/Wrqs5h2dopYPbjVjmHafaTwezDXI/sZb8Hgtk7Gx/vu6X6FeweMQDKzacyXypZcAAAAh96VFh0TU9MIHJka2l0IDIwMjAuMDkuNAAAeJydVUuqFEEQ3M8p6gIW+c+qtaMb8QkuvIPg0vtj1qeLFhTe5DAMkdR0dGTkpx5lfL4/v/z8Xc6Hno9HYSwspcA/v7338oMA4BF//0DVmWAgrijmgwNqnEL5+Ot/FPfvZMHahX2h5qB3lvJuFqqmMlmgqnTPsUhFFdgsoHBj+fYKS7Pr2YbaclqssglvFgPJsXgF18lCFRtyjqVVdbHFQqQ9x9IrNZ0sHDX6q18+v8LCxtvdLj3pbot+oV1pdoSsu6i0u05Qk10XfW+2K+NkyUpHHuY7D2uY0xJPsFwTYNwxxxIZydgik6XxvUZv72ehqjonIKYbYPXf61qkgq79EizScxMQLE2ufvFYezkWDU+vSVa4uvhVFotea2357J6tkVYHb2sa52JP1Si0dMPlELslM/Lau+pm4eSWKi0yMt0ZYfImGVpiUW53Yxhyvkh1mx0bdyM7JGvEtfvcDHGnBB3ltFAVt75ZAJO+hBs26xsZUQNPaRl7UtZMx70fyzOjJcyk+TuCQEEnK1honwTSEwSyEwTy80ygdoJA/fytlXEvrJNAiCfAgnR7KR4FgVBOIGWYvQMteBQEGgt6B17wKAiER0GgsXN4BoEIr5NAdBQEoqMgEB0FgegoCER2ew8dDwLRURCI+gl6YbilwMcDXlXYJzRN3Scwk9sENlXP4Gspn96ejz9RCp9C6sdwwgAAAXJ6VFh0U01JTEVTIHJka2l0IDIwMjAuMDkuNAAAeJwlUjmOHEEM+4oBJztAbUH3gQkH2NB+RKXGvGAfb6q2g4aaoCiR6q/DB8/H6+8RvP89UP85+j7vc/T1+zXlOW8FLo/Dv74/PntLucfS7RZp6/lZ29O8l2wR70F6a0jHot3WxX1J4dy9PmlrUpcDy80u4YMZeyQDC7SaNForyKwAGUprH4g9Qy7Erj9qTk42mGCC/ai5dcq0MhbQqIWiklwvLVUINN1sEbMHxpup9dAaK0ENW5oR56iFNmHWExqmegdEaRacynY3lQVVoskApAzvKy9FY0m2ZTQ4toPYgehu2IiL2PgxNE2BJoRDNQi2HTMQtpYcpExIZnqmIq71dKxGOlk5IW64CwRZ6QtbZI+O76TMwrVgofoyOtiXYRIkcnc7UsanMow8Cw1hPg1MLpfBRT2SiOSmpRENHxMDI9Wbc0Xcq6UgLr7HpcR18Vdwsfh6fP8HFJqAuy4zlSgAAAAASUVORK5CYII=\" alt=\"Mol\"/></td>\n",
       "      <td>Lc1c(OCc2cc(F)ccc2)ccc(Nc2c(C#Cc3ncccn3)cncn2)c1</td>\n",
       "    </tr>\n",
       "    <tr>\n",
       "      <th>1</th>\n",
       "      <td>CHEMBL3940060</td>\n",
       "      <td>ClCC(=O)OCCN1C(=O)Oc2c1cc1c(Nc3cc(Cl)c(F)cc3)n...</td>\n",
       "      <td><img data-content=\"rdkit/molecule\" src=\"data:image/png;base64,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\" alt=\"Mol\"/></td>\n",
       "      <td>LCC(=O)OCCN1C(=O)Oc2c1cc1c(Nc3cc(L)c(F)cc3)ncn...</td>\n",
       "    </tr>\n",
       "    <tr>\n",
       "      <th>2</th>\n",
       "      <td>CHEMBL3678951</td>\n",
       "      <td>FC(F)(F)c1cc(Nc2n(C(C)C)c3nc(Nc4ccc(N5CC[NH+](...</td>\n",
       "      <td><img data-content=\"rdkit/molecule\" src=\"data:image/png;base64,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\" alt=\"Mol\"/></td>\n",
       "      <td>FC(F)(F)c1cc(Nc2n(C(C)C)c3nc(Nc4ccc(N5CC[NH+](...</td>\n",
       "    </tr>\n",
       "  </tbody>\n",
       "</table>\n",
       "</div>"
      ],
      "text/plain": [
       "       chembl_id                                   canonical_smiles  \\\n",
       "0   CHEMBL207869  Clc1c(OCc2cc(F)ccc2)ccc(Nc2c(C#Cc3ncccn3)cncn2)c1   \n",
       "1  CHEMBL3940060  ClCC(=O)OCCN1C(=O)Oc2c1cc1c(Nc3cc(Cl)c(F)cc3)n...   \n",
       "2  CHEMBL3678951  FC(F)(F)c1cc(Nc2n(C(C)C)c3nc(Nc4ccc(N5CC[NH+](...   \n",
       "\n",
       "                                               Mol2D  \\\n",
       "0  <img data-content=\"rdkit/molecule\" src=\"data:i...   \n",
       "1  <img data-content=\"rdkit/molecule\" src=\"data:i...   \n",
       "2  <img data-content=\"rdkit/molecule\" src=\"data:i...   \n",
       "\n",
       "                          processed_canonical_smiles  \n",
       "0   Lc1c(OCc2cc(F)ccc2)ccc(Nc2c(C#Cc3ncccn3)cncn2)c1  \n",
       "1  LCC(=O)OCCN1C(=O)Oc2c1cc1c(Nc3cc(L)c(F)cc3)ncn...  \n",
       "2  FC(F)(F)c1cc(Nc2n(C(C)C)c3nc(Nc4ccc(N5CC[NH+](...  "
      ]
     },
     "execution_count": 12,
     "metadata": {},
     "output_type": "execute_result"
    }
   ],
   "source": [
    "# Calling function\n",
    "df, unique_char = preprocessing_data(df, replace_dict)\n",
    "df.head(3)"
   ]
  },
  {
   "cell_type": "code",
   "execution_count": 13,
   "metadata": {},
   "outputs": [
    {
     "name": "stdout",
     "output_type": "stream",
     "text": [
      "All unique characters found in the preprocessed data set:\n",
      "['#', '(', ')', '+', '-', '/', '0', '1', '2', '3', '4', '5', '6', '7', '=', '@', 'B', 'C', 'F', 'H', 'I', 'L', 'N', 'O', 'P', 'R', 'S', 'X', 'Z', '[', '\\\\', ']', 'c', 'n', 'o', 's']\n"
     ]
    }
   ],
   "source": [
    "# Print unique characters\n",
    "print(f'All unique characters found in the preprocessed data set:\\n{sorted(unique_char)}')"
   ]
  },
  {
   "cell_type": "markdown",
   "metadata": {},
   "source": [
    "#### Compute longest (& shortest) SMILES\n",
    "\n",
    "Here, we compute the length and the indices in the data frame of the longest and shortest SMILES, which we will use later in the sections for visualization purpose."
   ]
  },
  {
   "cell_type": "code",
   "execution_count": 14,
   "metadata": {},
   "outputs": [
    {
     "name": "stdout",
     "output_type": "stream",
     "text": [
      "Longest SMILES: O=C(N[C@@H]1C(=O)N[C@H](CCC[NH3+])C(=O)N[C@@H]([C@H](CC)C)C(=O)N[C@H](Cc2ccccc2)C(=O)N[C@@H](Cc2[nH]cnc2)C(=O)N[C@H](CC(=O)[O-])C(=O)N[C@@H](CC(=O)N)C(=O)NCCCC1)[C@@H](NC(=O)[C@H](NC(=O)[C@@H](NC(=O)[C@H]1N=C([C@@H]([NH3+])[C@H](CC)C)SC1)CC(C)C)CCC(=O)[O-])[C@H](CC)C\n",
      "Contains 267 characters, index in dataframe: 2704.\n"
     ]
    }
   ],
   "source": [
    "# Index of the longest SMILES string\n",
    "longest_smiles = max(df[\"canonical_smiles\"], key = len) \n",
    "longest_smiles_index = df.canonical_smiles[df.canonical_smiles == longest_smiles].index.tolist()\n",
    "print(f'Longest SMILES: {longest_smiles}')\n",
    "print(f'Contains {len(longest_smiles)} characters, index in dataframe: {longest_smiles_index[0]}.')\n",
    "smiles_maxlen = len(longest_smiles)\n",
    "# NBVAL_CHECK_OUTPUT"
   ]
  },
  {
   "cell_type": "code",
   "execution_count": 15,
   "metadata": {},
   "outputs": [
    {
     "name": "stdout",
     "output_type": "stream",
     "text": [
      "Shortest SMILES: Oc1c(O)cccc1\n",
      "Contains 12 characters, index in dataframe: 3428.\n"
     ]
    }
   ],
   "source": [
    "# Index of the shortest SMILES string\n",
    "shortest_smiles = min(df[\"canonical_smiles\"], key = len) \n",
    "shortest_smiles_index = df.canonical_smiles[df.canonical_smiles == shortest_smiles].index.tolist()\n",
    "print(f'Shortest SMILES: {shortest_smiles}')\n",
    "print(f'Contains {len(shortest_smiles)} characters, index in dataframe: {shortest_smiles_index[0]}.')\n",
    "# NBVAL_CHECK_OUTPUT"
   ]
  },
  {
   "cell_type": "markdown",
   "metadata": {},
   "source": [
    "### Python one-hot encoding implementation"
   ]
  },
  {
   "cell_type": "markdown",
   "metadata": {},
   "source": [
    "#### One-hot encode (padding=True)\n",
    "\n",
    "We define a function `smiles_encoder` that takes SMILES, the maximum length of the SMILES string (`max_len`) for padding and the list of unique characters (`unique_char`) present in the `processed_canonical_smiles` column; and returns the one-hot encoded matrix of fixed shape."
   ]
  },
  {
   "cell_type": "code",
   "execution_count": 16,
   "metadata": {},
   "outputs": [],
   "source": [
    "# Function defined to create one-hot encoded matrix\n",
    "def smiles_encoder(smiles, max_len, unique_char):\n",
    "    \"\"\"\n",
    "    Function defined using all unique characters in our\n",
    "    processed canonical SMILES structures created\n",
    "    with the preprocessing_data function.\n",
    "\n",
    "    Parameters\n",
    "    ----------\n",
    "    smiles : str\n",
    "         SMILES of a molecule in string format.\n",
    "    unique_char : list\n",
    "         List of unique characters in the string data set.\n",
    "    max_len : int\n",
    "         Maximum length of the SMILES string.\n",
    "\n",
    "    Returns\n",
    "    -------\n",
    "    smiles_matrix : numpy.ndarray\n",
    "         One-hot encoded matrix of fixed shape\n",
    "         (unique char in smiles, max SMILES length).\n",
    "    \"\"\"\n",
    "    # create dictionary of the unique char data set\n",
    "    smi2index = dict((char, index) for index, char in enumerate(unique_char))\n",
    "    # one-hot encoding\n",
    "    # zero padding to max_len\n",
    "    smiles_matrix = np.zeros((len(unique_char), max_len))\n",
    "    for index, char in enumerate(smiles):\n",
    "        smiles_matrix[smi2index[char], index] = 1\n",
    "    return smiles_matrix"
   ]
  },
  {
   "cell_type": "code",
   "execution_count": 17,
   "metadata": {},
   "outputs": [
    {
     "data": {
      "text/html": [
       "<div>\n",
       "<style scoped>\n",
       "    .dataframe tbody tr th:only-of-type {\n",
       "        vertical-align: middle;\n",
       "    }\n",
       "\n",
       "    .dataframe tbody tr th {\n",
       "        vertical-align: top;\n",
       "    }\n",
       "\n",
       "    .dataframe thead th {\n",
       "        text-align: right;\n",
       "    }\n",
       "</style>\n",
       "<table border=\"1\" class=\"dataframe\">\n",
       "  <thead>\n",
       "    <tr style=\"text-align: right;\">\n",
       "      <th></th>\n",
       "      <th>chembl_id</th>\n",
       "      <th>canonical_smiles</th>\n",
       "      <th>Mol2D</th>\n",
       "      <th>processed_canonical_smiles</th>\n",
       "      <th>unique_char_ohe_matrix</th>\n",
       "    </tr>\n",
       "  </thead>\n",
       "  <tbody>\n",
       "    <tr>\n",
       "      <th>0</th>\n",
       "      <td>CHEMBL207869</td>\n",
       "      <td>Clc1c(OCc2cc(F)ccc2)ccc(Nc2c(C#Cc3ncccn3)cncn2)c1</td>\n",
       "      <td><img data-content=\"rdkit/molecule\" src=\"data:image/png;base64,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\" alt=\"Mol\"/></td>\n",
       "      <td>Lc1c(OCc2cc(F)ccc2)ccc(Nc2c(C#Cc3ncccn3)cncn2)c1</td>\n",
       "      <td>[[0.0, 0.0, 0.0, 0.0, 0.0, 0.0, 0.0, 0.0, 0.0,...</td>\n",
       "    </tr>\n",
       "    <tr>\n",
       "      <th>1</th>\n",
       "      <td>CHEMBL3940060</td>\n",
       "      <td>ClCC(=O)OCCN1C(=O)Oc2c1cc1c(Nc3cc(Cl)c(F)cc3)n...</td>\n",
       "      <td><img data-content=\"rdkit/molecule\" src=\"data:image/png;base64,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\" alt=\"Mol\"/></td>\n",
       "      <td>LCC(=O)OCCN1C(=O)Oc2c1cc1c(Nc3cc(L)c(F)cc3)ncn...</td>\n",
       "      <td>[[0.0, 0.0, 0.0, 0.0, 0.0, 0.0, 0.0, 0.0, 0.0,...</td>\n",
       "    </tr>\n",
       "    <tr>\n",
       "      <th>2</th>\n",
       "      <td>CHEMBL3678951</td>\n",
       "      <td>FC(F)(F)c1cc(Nc2n(C(C)C)c3nc(Nc4ccc(N5CC[NH+](...</td>\n",
       "      <td><img data-content=\"rdkit/molecule\" src=\"data:image/png;base64,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\" alt=\"Mol\"/></td>\n",
       "      <td>FC(F)(F)c1cc(Nc2n(C(C)C)c3nc(Nc4ccc(N5CC[NH+](...</td>\n",
       "      <td>[[0.0, 0.0, 0.0, 0.0, 0.0, 0.0, 0.0, 0.0, 0.0,...</td>\n",
       "    </tr>\n",
       "  </tbody>\n",
       "</table>\n",
       "</div>"
      ],
      "text/plain": [
       "       chembl_id                                   canonical_smiles  \\\n",
       "0   CHEMBL207869  Clc1c(OCc2cc(F)ccc2)ccc(Nc2c(C#Cc3ncccn3)cncn2)c1   \n",
       "1  CHEMBL3940060  ClCC(=O)OCCN1C(=O)Oc2c1cc1c(Nc3cc(Cl)c(F)cc3)n...   \n",
       "2  CHEMBL3678951  FC(F)(F)c1cc(Nc2n(C(C)C)c3nc(Nc4ccc(N5CC[NH+](...   \n",
       "\n",
       "                                               Mol2D  \\\n",
       "0  <img data-content=\"rdkit/molecule\" src=\"data:i...   \n",
       "1  <img data-content=\"rdkit/molecule\" src=\"data:i...   \n",
       "2  <img data-content=\"rdkit/molecule\" src=\"data:i...   \n",
       "\n",
       "                          processed_canonical_smiles  \\\n",
       "0   Lc1c(OCc2cc(F)ccc2)ccc(Nc2c(C#Cc3ncccn3)cncn2)c1   \n",
       "1  LCC(=O)OCCN1C(=O)Oc2c1cc1c(Nc3cc(L)c(F)cc3)ncn...   \n",
       "2  FC(F)(F)c1cc(Nc2n(C(C)C)c3nc(Nc4ccc(N5CC[NH+](...   \n",
       "\n",
       "                              unique_char_ohe_matrix  \n",
       "0  [[0.0, 0.0, 0.0, 0.0, 0.0, 0.0, 0.0, 0.0, 0.0,...  \n",
       "1  [[0.0, 0.0, 0.0, 0.0, 0.0, 0.0, 0.0, 0.0, 0.0,...  \n",
       "2  [[0.0, 0.0, 0.0, 0.0, 0.0, 0.0, 0.0, 0.0, 0.0,...  "
      ]
     },
     "execution_count": 17,
     "metadata": {},
     "output_type": "execute_result"
    }
   ],
   "source": [
    "# Apply the function to the processed canonical SMILES strings\n",
    "df['unique_char_ohe_matrix'] = df['processed_canonical_smiles'].apply(\n",
    "                                  smiles_encoder, max_len=smiles_maxlen, \n",
    "                                  unique_char=unique_char)\n",
    "df.head(3)  \n",
    "# NBVAL_CHECK_OUTPUT"
   ]
  },
  {
   "cell_type": "markdown",
   "metadata": {},
   "source": [
    "#### Visualization"
   ]
  },
  {
   "cell_type": "markdown",
   "metadata": {},
   "source": [
    "`Matplotlib` is a plotting library for the python programming language and `Pyplot` is a state-based interface to a matplotlib module which provides a MATLAB-like interface.\n",
    "The [imshow()](https://matplotlib.org/3.2.1/api/_as_gen/matplotlib.pyplot.imshow.html) function in the pyplot module of the matplotlib library is used to display data as an image i.e. on a 2D space.\n",
    "\n",
    "We now visualize our one-hot encoded matrix using `imshow()` by defining the `one_hot_matrix_plot` function as shown below."
   ]
  },
  {
   "cell_type": "code",
   "execution_count": 38,
   "metadata": {},
   "outputs": [],
   "source": [
    "def one_hot_matrix_plot(ohe_matrix, smiles_char, smiles):\n",
    "    \"\"\"\n",
    "    Visualize one-hot encoded matrix\n",
    "    using matplotlib imshow() function.\n",
    "\n",
    "    Parameters\n",
    "    ----------\n",
    "    ohe_matrix : numpy.ndarray\n",
    "       One-hot encoded (ohe) matrix of shape\n",
    "       (`smiles_char`, `len(smiles)`).\n",
    "    smiles_char : list\n",
    "        List of all possible SMILES characters.\n",
    "    smiles : string\n",
    "        Original SMILES string of respective molecule.        \n",
    "\n",
    "    Returns\n",
    "    ------\n",
    "    None\n",
    "\n",
    "    \"\"\"\n",
    "    im = plt.imshow(ohe_matrix, cmap='hot', interpolation='None')\n",
    "    plt.xlabel('Length of SMILES string')\n",
    "    plt.ylabel(f'Char in SMILES ({len(smiles_char)})')\n",
    "    plt.title('Visualization of one-hot encoded matrix')\n",
    "    plt.show()\n",
    "    print('Shape of one-hot matrix : ', ohe_matrix.shape)\n",
    "    print('Associated canonical SMILES: ', smiles)\n",
    "    return None"
   ]
  },
  {
   "cell_type": "code",
   "execution_count": 19,
   "metadata": {},
   "outputs": [
    {
     "data": {
      "image/png": "[encoded data removed]",
      "text/plain": [
       "<Figure size 432x288 with 1 Axes>"
      ]
     },
     "metadata": {
      "needs_background": "light"
     },
     "output_type": "display_data"
    },
    {
     "name": "stdout",
     "output_type": "stream",
     "text": [
      "Shape of one-hot matrix :  (36, 267)\n",
      "Associated canonical SMILES:  O=C(N[C@@H]1C(=O)N[C@H](CCC[NH3+])C(=O)N[C@@H]([C@H](CC)C)C(=O)N[C@H](Cc2ccccc2)C(=O)N[C@@H](Cc2[nH]cnc2)C(=O)N[C@H](CC(=O)[O-])C(=O)N[C@@H](CC(=O)N)C(=O)NCCCC1)[C@@H](NC(=O)[C@H](NC(=O)[C@@H](NC(=O)[C@H]1N=C([C@@H]([NH3+])[C@H](CC)C)SC1)CC(C)C)CCC(=O)[O-])[C@H](CC)C\n"
     ]
    }
   ],
   "source": [
    "# Pass the index of the longest SMILES string to visualize the matrix\n",
    "one_hot_matrix_plot(df.iloc[longest_smiles_index[0]]['unique_char_ohe_matrix'], unique_char, \n",
    "                    longest_smiles)  \n",
    "# NBVAL_CHECK_OUTPUT"
   ]
  },
  {
   "cell_type": "code",
   "execution_count": 20,
   "metadata": {},
   "outputs": [
    {
     "data": {
      "image/png": "[encoded data removed]",
      "text/plain": [
       "<rdkit.Chem.rdchem.Mol at 0x7f90e1d81440>"
      ]
     },
     "execution_count": 20,
     "metadata": {},
     "output_type": "execute_result"
    }
   ],
   "source": [
    "# Draw the molecules with the longest SMILES\n",
    "longest_smiles_mol = Chem.MolFromSmiles(longest_smiles)\n",
    "longest_smiles_mol"
   ]
  },
  {
   "cell_type": "code",
   "execution_count": 21,
   "metadata": {},
   "outputs": [
    {
     "data": {
      "image/png": "[encoded data removed]",
      "text/plain": [
       "<Figure size 432x288 with 1 Axes>"
      ]
     },
     "metadata": {
      "needs_background": "light"
     },
     "output_type": "display_data"
    },
    {
     "name": "stdout",
     "output_type": "stream",
     "text": [
      "Shape of one-hot matrix :  (36, 267)\n",
      "Associated canonical SMILES:  Oc1c(O)cccc1\n"
     ]
    }
   ],
   "source": [
    "# Pass the index of the shortest SMILES string to visualize the matrix\n",
    "one_hot_matrix_plot(df.iloc[shortest_smiles_index[0]]['unique_char_ohe_matrix'], unique_char, \n",
    "                    shortest_smiles)  \n",
    "# NBVAL_CHECK_OUTPUT"
   ]
  },
  {
   "cell_type": "markdown",
   "metadata": {},
   "source": [
    "From above, the matrix visualization was performed using matplotlib imshow() function, we can also visualize the entire matrix using the `numpy.matrix` function, e.g. the one-hot encoded matrix of the longest SMILES string as shown below."
   ]
  },
  {
   "cell_type": "code",
   "execution_count": 22,
   "metadata": {},
   "outputs": [
    {
     "data": {
      "image/png": "[encoded data removed]",
      "text/plain": [
       "<rdkit.Chem.rdchem.Mol at 0x7f90cafb0030>"
      ]
     },
     "execution_count": 22,
     "metadata": {},
     "output_type": "execute_result"
    }
   ],
   "source": [
    "# Draw the molecules with the shortest SMILES\n",
    "shortest_smiles_mol = Chem.MolFromSmiles(shortest_smiles)\n",
    "shortest_smiles_mol"
   ]
  },
  {
   "cell_type": "code",
   "execution_count": 23,
   "metadata": {},
   "outputs": [
    {
     "name": "stdout",
     "output_type": "stream",
     "text": [
      "First 5 rows of the ohe matrix, representing the characters ['7', 'Z', '-', '4', '@']\n",
      "\n",
      "[[0. 0. 0. 0. 0. 0. 0. 0. 0. 0. 0. 0. 0. 0. 0. 0. 0. 0. 0. 0. 0. 0. 0. 0.\n",
      "  0. 0. 0. 0. 0. 0. 0. 0. 0. 0. 0. 0. 0. 0. 0. 0. 0. 0. 0. 0. 0. 0. 0. 0.\n",
      "  0. 0. 0. 0. 0. 0. 0. 0. 0. 0. 0. 0. 0. 0. 0. 0. 0. 0. 0. 0. 0. 0. 0. 0.\n",
      "  0. 0. 0. 0. 0. 0. 0. 0. 0. 0. 0. 0. 0. 0. 0. 0. 0. 0. 0. 0. 0. 0. 0. 0.\n",
      "  0. 0. 0. 0. 0. 0. 0. 0. 0. 0. 0. 0. 0. 0. 0. 0. 0. 0. 0. 0. 0. 0. 0. 0.\n",
      "  0. 0. 0. 0. 0. 0. 0. 0. 0. 0. 0. 0. 0. 0. 0. 0. 0. 0. 0. 0. 0. 0. 0. 0.\n",
      "  0. 0. 0. 0. 0. 0. 0. 0. 0. 0. 0. 0. 0. 0. 0. 0. 0. 0. 0. 0. 0. 0. 0. 0.\n",
      "  0. 0. 0. 0. 0. 0. 0. 0. 0. 0. 0. 0. 0. 0. 0. 0. 0. 0. 0. 0. 0. 0. 0. 0.\n",
      "  0. 0. 0. 0. 0. 0. 0. 0. 0. 0. 0. 0. 0. 0. 0. 0. 0. 0. 0. 0. 0. 0. 0. 0.\n",
      "  0. 0. 0. 0. 0. 0. 0. 0. 0. 0. 0. 0. 0. 0. 0. 0. 0. 0. 0. 0. 0. 0. 0. 0.\n",
      "  0. 0. 0. 0. 0. 0. 0. 0. 0. 0. 0. 0. 0. 0. 0. 0. 0. 0. 0. 0. 0. 0. 0. 0.\n",
      "  0. 0. 0.]\n",
      " [0. 0. 0. 0. 0. 0. 0. 1. 0. 0. 0. 0. 0. 0. 0. 0. 0. 0. 0. 0. 0. 0. 0. 0.\n",
      "  0. 0. 0. 0. 0. 0. 0. 0. 0. 0. 0. 0. 0. 0. 0. 0. 0. 1. 0. 0. 0. 0. 0. 0.\n",
      "  0. 0. 0. 0. 0. 0. 0. 0. 0. 0. 0. 0. 0. 0. 0. 0. 0. 0. 0. 0. 0. 0. 0. 0.\n",
      "  0. 0. 0. 0. 0. 0. 0. 0. 0. 0. 0. 0. 0. 0. 1. 0. 0. 0. 0. 0. 0. 0. 0. 0.\n",
      "  0. 0. 0. 0. 0. 0. 0. 0. 0. 0. 0. 0. 0. 0. 0. 0. 0. 0. 0. 0. 0. 0. 0. 0.\n",
      "  0. 0. 0. 0. 0. 0. 0. 0. 0. 0. 0. 0. 0. 1. 0. 0. 0. 0. 0. 0. 0. 0. 0. 0.\n",
      "  0. 0. 0. 0. 0. 0. 0. 0. 0. 0. 0. 0. 0. 0. 0. 1. 0. 0. 0. 0. 0. 0. 0. 0.\n",
      "  0. 0. 0. 0. 0. 0. 0. 0. 0. 0. 0. 0. 0. 0. 0. 1. 0. 0. 0. 0. 0. 0. 0. 0.\n",
      "  0. 0. 0. 0. 0. 0. 0. 0. 0. 0. 0. 0. 0. 1. 0. 0. 0. 0. 0. 0. 0. 0. 0. 0.\n",
      "  0. 0. 0. 0. 0. 0. 0. 0. 0. 0. 0. 0. 0. 0. 0. 0. 0. 0. 0. 0. 0. 0. 0. 0.\n",
      "  0. 0. 0. 0. 0. 0. 0. 0. 0. 0. 0. 0. 0. 0. 0. 0. 0. 0. 0. 0. 0. 0. 0. 0.\n",
      "  0. 0. 0.]\n",
      " [0. 0. 0. 0. 0. 0. 0. 0. 0. 0. 0. 0. 0. 0. 0. 0. 0. 0. 0. 0. 0. 0. 0. 0.\n",
      "  0. 0. 0. 0. 0. 0. 0. 0. 0. 0. 0. 0. 0. 0. 0. 0. 0. 0. 0. 0. 0. 0. 0. 0.\n",
      "  0. 0. 0. 0. 0. 0. 0. 0. 0. 0. 0. 0. 0. 0. 0. 0. 0. 0. 0. 0. 0. 0. 0. 0.\n",
      "  0. 0. 0. 0. 0. 0. 0. 0. 0. 0. 0. 0. 0. 0. 0. 0. 0. 0. 0. 0. 0. 0. 0. 0.\n",
      "  0. 0. 0. 0. 0. 0. 0. 0. 0. 0. 0. 0. 0. 0. 0. 0. 0. 0. 0. 0. 0. 0. 0. 0.\n",
      "  0. 0. 1. 0. 0. 0. 0. 0. 0. 0. 0. 0. 0. 0. 0. 0. 0. 0. 0. 0. 0. 0. 0. 0.\n",
      "  0. 0. 0. 0. 0. 0. 0. 0. 0. 0. 0. 0. 0. 0. 0. 0. 0. 0. 0. 0. 0. 0. 0. 0.\n",
      "  0. 0. 0. 0. 0. 0. 0. 0. 0. 0. 0. 0. 0. 0. 0. 0. 0. 0. 0. 0. 0. 0. 0. 0.\n",
      "  0. 0. 0. 0. 0. 0. 0. 0. 0. 0. 0. 0. 0. 0. 0. 0. 0. 0. 0. 0. 0. 0. 0. 0.\n",
      "  0. 0. 0. 0. 0. 0. 0. 0. 0. 0. 0. 0. 0. 0. 0. 0. 0. 0. 0. 0. 0. 0. 0. 0.\n",
      "  0. 0. 0. 0. 0. 0. 0. 1. 0. 0. 0. 0. 0. 0. 0. 0. 0. 0. 0. 0. 0. 0. 0. 0.\n",
      "  0. 0. 0.]\n",
      " [0. 0. 0. 0. 0. 0. 0. 0. 0. 0. 0. 0. 0. 0. 0. 0. 0. 0. 0. 0. 0. 0. 0. 0.\n",
      "  0. 0. 0. 0. 0. 0. 0. 0. 0. 0. 0. 0. 0. 0. 0. 0. 0. 0. 0. 0. 0. 0. 0. 0.\n",
      "  0. 0. 0. 0. 0. 0. 0. 0. 0. 0. 0. 0. 0. 0. 0. 0. 0. 0. 0. 0. 0. 0. 0. 0.\n",
      "  0. 0. 0. 0. 0. 0. 0. 0. 0. 0. 0. 0. 0. 0. 0. 0. 0. 0. 0. 0. 0. 0. 0. 0.\n",
      "  0. 0. 0. 0. 0. 0. 0. 0. 0. 0. 0. 0. 0. 0. 0. 0. 0. 0. 0. 0. 0. 0. 0. 0.\n",
      "  0. 0. 0. 0. 0. 0. 0. 0. 0. 0. 0. 0. 0. 0. 0. 0. 0. 0. 0. 0. 0. 0. 0. 0.\n",
      "  0. 0. 0. 0. 0. 0. 0. 0. 0. 0. 0. 0. 0. 0. 0. 0. 0. 0. 0. 0. 0. 0. 0. 0.\n",
      "  0. 0. 0. 0. 0. 0. 0. 0. 0. 0. 0. 0. 0. 0. 0. 0. 0. 0. 0. 0. 0. 0. 0. 0.\n",
      "  0. 0. 0. 0. 0. 0. 0. 0. 0. 0. 0. 0. 0. 0. 0. 0. 0. 0. 0. 0. 0. 0. 0. 0.\n",
      "  0. 0. 0. 0. 0. 0. 0. 0. 0. 0. 0. 0. 0. 0. 0. 0. 0. 0. 0. 0. 0. 0. 0. 0.\n",
      "  0. 0. 0. 0. 0. 0. 0. 0. 0. 0. 0. 0. 0. 0. 0. 0. 0. 0. 0. 0. 0. 0. 0. 0.\n",
      "  0. 0. 0.]\n",
      " [0. 0. 0. 0. 0. 0. 0. 0. 0. 0. 0. 0. 0. 0. 0. 0. 0. 0. 0. 1. 0. 0. 0. 0.\n",
      "  0. 0. 0. 0. 0. 0. 0. 0. 0. 0. 0. 0. 0. 0. 0. 0. 0. 0. 0. 0. 0. 0. 0. 1.\n",
      "  0. 0. 0. 0. 0. 0. 0. 0. 0. 0. 0. 0. 0. 0. 0. 0. 1. 0. 0. 0. 0. 0. 0. 0.\n",
      "  0. 0. 0. 0. 0. 0. 0. 0. 0. 0. 0. 0. 0. 0. 0. 0. 0. 0. 0. 0. 0. 0. 0. 0.\n",
      "  0. 0. 0. 0. 0. 0. 0. 0. 0. 0. 0. 0. 0. 0. 1. 0. 0. 0. 0. 0. 0. 0. 0. 0.\n",
      "  0. 0. 0. 0. 0. 0. 0. 0. 0. 0. 0. 0. 0. 0. 0. 0. 0. 0. 0. 0. 0. 0. 0. 0.\n",
      "  0. 0. 0. 0. 0. 0. 0. 0. 0. 0. 0. 0. 0. 0. 0. 0. 0. 0. 0. 0. 0. 0. 0. 0.\n",
      "  0. 0. 0. 1. 0. 0. 0. 0. 0. 0. 0. 0. 0. 0. 0. 0. 0. 0. 0. 0. 0. 0. 0. 0.\n",
      "  0. 0. 0. 1. 0. 0. 0. 0. 0. 0. 0. 0. 0. 0. 0. 0. 0. 0. 0. 0. 0. 0. 0. 0.\n",
      "  0. 0. 1. 0. 0. 0. 0. 0. 0. 0. 0. 0. 0. 0. 0. 0. 0. 0. 0. 0. 0. 0. 0. 0.\n",
      "  0. 0. 0. 0. 0. 0. 0. 0. 0. 0. 0. 0. 1. 0. 0. 0. 0. 0. 0. 0. 0. 0. 0. 0.\n",
      "  0. 0. 0.]]\n"
     ]
    }
   ],
   "source": [
    "# Print the some rows of the matrix for the molecule with the longest smiles\n",
    "np.set_printoptions(threshold=np.inf)\n",
    "subset=5\n",
    "unique_char=list(unique_char)\n",
    "print(f'First {subset} rows of the ohe matrix, representing the characters {unique_char[0:subset]}\\n')\n",
    "print(np.matrix(df.iloc[longest_smiles_index[0]]['unique_char_ohe_matrix'])[0:subset, :])"
   ]
  },
  {
   "cell_type": "markdown",
   "metadata": {},
   "source": [
    "## Discussion \n",
    "\n",
    "OHE can be an important preprocessing step to convert data to a numerical format. It has applications in various fields such as: \n",
    "\n",
    "- **Natural language processing (NLP)**: NLP deals with corpus of words which is categorical data. A one-hot vector in NLP is a 1 × N matrix (vector) used to distinguish each word in a vocabulary from every other word in the vocabulary. \n",
    "- **Machine learning (neural networks)**: In machine learning, one-hot encoding is a frequently used method to deal with categorical data because many machine learning models need their input variables to be numeric."
   ]
  },
  {
   "cell_type": "markdown",
   "metadata": {},
   "source": [
    "### Quiz"
   ]
  },
  {
   "cell_type": "markdown",
   "metadata": {},
   "source": [
    "- Why is it required to have equal dimensions of the one-hot encoded matrix?\n",
    "- Is there any other way to pre-process the data?\n",
    "- How and which machine learning models can be applied on the above data set?"
   ]
  },
  {
   "cell_type": "markdown",
   "metadata": {},
   "source": [
    "## Supplementary material \n",
    "\n",
    "If you are interested in other implementations of one-hot encoding, please keep reading this section. This includes:\n",
    "\n",
    "* Exploring **scikit-learn** and **keras** implementations of one-hot encoding.\n",
    "* Performing **padding** before and after OHE"
   ]
  },
  {
   "cell_type": "markdown",
   "metadata": {},
   "source": [
    "### Scikit-learn implementation of one-hot encoding"
   ]
  },
  {
   "cell_type": "markdown",
   "metadata": {},
   "source": [
    "Before implementing one-hot encoding using scikit-learn, we have defined the functions named \n",
    "\n",
    "* `later_padding`, which adds horizontal and vertical padding to the given matrix \n",
    "* and `initial_padding` which adds zeros to the character list after they are label encoded \n",
    "\n",
    "both using the numpy.pad function as discussed in the theory section.\n",
    "\n",
    "These functions are later used as a boolean parameter (islaterpadding and isinitialpadding) in the scikit-learn and keras implementations to choose if later padding or initial padding is required."
   ]
  },
  {
   "cell_type": "code",
   "execution_count": 24,
   "metadata": {},
   "outputs": [],
   "source": [
    "# Function to add padding after one-hot encoding\n",
    "def later_padding(ohe_matrix, smiles_maxlen, unique_char):\n",
    "    \"\"\"\n",
    "    Add horizontal and vertical padding\n",
    "    to the given matrix using numpy.pad() function.\n",
    "\n",
    "    Parameters\n",
    "    ----------\n",
    "    ohe_matrix : ndarray\n",
    "        Character array.\n",
    "    smiles_max_len : int\n",
    "        Maximum length of the SMILES string.\n",
    "    unique_char : list\n",
    "        List of unique characters in the string data set.\n",
    "            \n",
    "    Returns\n",
    "    -------\n",
    "    padded_matrix : numpy.ndarray\n",
    "           Padded one-hot encoded matrix of\n",
    "           shape (unique char in smiles, max smile_length).\n",
    "   \"\"\"\n",
    "    \n",
    "    padded_matrix = np.pad(ohe_matrix, ((0, smiles_maxlen-len(ohe_matrix)),\n",
    "                                        (0, len(unique_char)-len(\n",
    "                                        ohe_matrix[0]))), 'constant')\n",
    "    return padded_matrix"
   ]
  },
  {
   "cell_type": "code",
   "execution_count": 25,
   "metadata": {},
   "outputs": [],
   "source": [
    "# Function to add padding before one-hot encoding\n",
    "# after label (integer) encoding\n",
    "def initial_padding(smiles, max_len):\n",
    "    \"\"\"\n",
    "    Add zeroes to the list of characters \n",
    "    after integer encoding them\n",
    "\n",
    "    Parameters\n",
    "    ----------\n",
    "    smiles : str\n",
    "       SMILES string.\n",
    "    max_len : int\n",
    "       Maximum length of the SMILES string\n",
    "\n",
    "    Returns\n",
    "    -------\n",
    "    canonical_char_padded : numpy.ndarray\n",
    "      Canonical character array padded to max_len.\n",
    "    \"\"\"\n",
    "    canonical_char = list(smiles)\n",
    "    # Perform padding on the list of characters\n",
    "    canonical_char_padded = np.pad(canonical_char, (0,\n",
    "                         max_len-len(canonical_char)), 'constant')\n",
    "    return canonical_char_padded"
   ]
  },
  {
   "cell_type": "markdown",
   "metadata": {},
   "source": [
    "**One-hot encoding using scikit-learn**\n",
    "\n",
    "Now, we proceed with our second implementation of one-hot encoding from scikit-learn. We can use the [OneHotEncoder](https://scikit-learn.org/stable/modules/generated/sklearn.preprocessing.OneHotEncoder.html) from the `sklearn` library. \n",
    "\n",
    "* The function takes only numerical categorical values, hence any value of type string should be [label_encoded](https://scikit-learn.org/stable/modules/generated/sklearn.preprocessing.LabelEncoder.html) first before one-hot encoding.\n",
    "* Thus, in the functions below first label (integer) encoded SMILES are produced, then the integer encoded SMILES are transformed to one-hot encoded matrices.\n",
    "* By default, the OneHotEncoder class returns a more efficient sparse encoding, which we disabled by setting the `sparse=False` argument."
   ]
  },
  {
   "cell_type": "code",
   "execution_count": 26,
   "metadata": {},
   "outputs": [],
   "source": [
    "# Use Scikit-learn implementation of one-hot encoding\n",
    "def sklearn_one_hot_encoded_matrix(smiles, islaterpadding, isinitialpadding, smiles_maxlen, unique_char):\n",
    "    \"\"\"\n",
    "    Label and one-hot encodes the SMILES\n",
    "    using sklearn LabelEncoder and OneHotEncoder implementation.\n",
    "    \n",
    "    Parameters\n",
    "    ----------\n",
    "    smiles : str\n",
    "        SMILES string of a compound.\n",
    "    islaterpadding : bool\n",
    "        Paramater is `True` if `later_padding` is required,\n",
    "        `False` otherwise.\n",
    "    isinitialpadding : bool\n",
    "        Paramater is `True` if `initial_padding` is required,\n",
    "        `False` otherwise.\n",
    "    smile_maxlen : int\n",
    "       Maximum length of the SMILES string\n",
    "    unique_char : list\n",
    "        List of unique characters in the string data set.\n",
    "        \n",
    "    Returns\n",
    "    -------\n",
    "    onehot_encoded : numpy.ndarray\n",
    "        One-hot encoded matrix of shape\n",
    "        (chars in individual SMILES, length of individual SMILES).\n",
    "    \"\"\"\n",
    "    # Integer encoding\n",
    "    canonical_char = list(smiles)\n",
    "    label_encoder = LabelEncoder()\n",
    "    # Fit_transform function is used to first fit the data and then transform it\n",
    "    integer_encoded = label_encoder.fit_transform(canonical_char)\n",
    "    \n",
    "    # If initial padding, add zeros to vector (columns in matrix)\n",
    "    if (isinitialpadding == True):\n",
    "        integer_encoded = initial_padding(integer_encoded, smiles_maxlen)\n",
    "        \n",
    "    # One-hot encoding\n",
    "    onehot_encoder = OneHotEncoder(sparse=False)\n",
    "    # Reshape the integer encoded data\n",
    "    integer_encoded = integer_encoded.reshape(len(integer_encoded), 1)\n",
    "    onehot_encoded = onehot_encoder.fit_transform(integer_encoded)\n",
    "    \n",
    "    # If later padding, add zeros to ohe matrix\n",
    "    if (islaterpadding == True):\n",
    "        onehot_encoded = later_padding(onehot_encoded, smiles_maxlen, unique_char)\n",
    "    \n",
    "    onehot_encoded = onehot_encoded.transpose()\n",
    "    \n",
    "    #If initial padding, add zeros to rows\n",
    "    if (isinitialpadding == True):\n",
    "        row_padding = np.ndarray(shape=(len(unique_char)-len(onehot_encoded),\n",
    "                                    smiles_maxlen,))\n",
    "        row_padding.fill(0)\n",
    "        onehot_encoded = np.append(onehot_encoded, row_padding, axis=0)\n",
    "    return onehot_encoded"
   ]
  },
  {
   "cell_type": "markdown",
   "metadata": {},
   "source": [
    "#### Without padding (unequal dimension)\n",
    "\n",
    "We can use the `sklearn_one_hot_encoded_matrix` function defined above to create the one-hot encoded matrix without padding. \n",
    "This will create matrices with unequal dimensions, because it will first label encode all the characters present in the SMILES strings (individually) and then one-hot encode them."
   ]
  },
  {
   "cell_type": "code",
   "execution_count": 27,
   "metadata": {},
   "outputs": [
    {
     "data": {
      "text/html": [
       "<div>\n",
       "<style scoped>\n",
       "    .dataframe tbody tr th:only-of-type {\n",
       "        vertical-align: middle;\n",
       "    }\n",
       "\n",
       "    .dataframe tbody tr th {\n",
       "        vertical-align: top;\n",
       "    }\n",
       "\n",
       "    .dataframe thead th {\n",
       "        text-align: right;\n",
       "    }\n",
       "</style>\n",
       "<table border=\"1\" class=\"dataframe\">\n",
       "  <thead>\n",
       "    <tr style=\"text-align: right;\">\n",
       "      <th></th>\n",
       "      <th>chembl_id</th>\n",
       "      <th>canonical_smiles</th>\n",
       "      <th>Mol2D</th>\n",
       "      <th>processed_canonical_smiles</th>\n",
       "      <th>unique_char_ohe_matrix</th>\n",
       "      <th>sklearn_ohe_matrix_no_padding</th>\n",
       "    </tr>\n",
       "  </thead>\n",
       "  <tbody>\n",
       "    <tr>\n",
       "      <th>0</th>\n",
       "      <td>CHEMBL207869</td>\n",
       "      <td>Clc1c(OCc2cc(F)ccc2)ccc(Nc2c(C#Cc3ncccn3)cncn2)c1</td>\n",
       "      <td><img data-content=\"rdkit/molecule\" src=\"data:image/png;base64,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\" alt=\"Mol\"/></td>\n",
       "      <td>Lc1c(OCc2cc(F)ccc2)ccc(Nc2c(C#Cc3ncccn3)cncn2)c1</td>\n",
       "      <td>[[0.0, 0.0, 0.0, 0.0, 0.0, 0.0, 0.0, 0.0, 0.0,...</td>\n",
       "      <td>[[0.0, 0.0, 0.0, 0.0, 0.0, 0.0, 0.0, 0.0, 0.0,...</td>\n",
       "    </tr>\n",
       "    <tr>\n",
       "      <th>1</th>\n",
       "      <td>CHEMBL3940060</td>\n",
       "      <td>ClCC(=O)OCCN1C(=O)Oc2c1cc1c(Nc3cc(Cl)c(F)cc3)n...</td>\n",
       "      <td><img data-content=\"rdkit/molecule\" src=\"data:image/png;base64,iVBORw0KGgoAAAANSUhEUgAAAMgAAADICAIAAAAiOjnJAAAABmJLR0QA/wD/AP+gvaeTAAAYVElEQVR4nO2deViUVdvA71mAYXlnyBRxBxVUXFJBC7m0F0XEFl8TUeuLcinQtNLKUPOScrvG9cJeW8brUyN7SzFzT1lE9NUrRUoDCSVBSzZFZEDW2e7vj4PzkSIOzHNm6/5d/MEszzlneH7c5zzPnHNuESICQQiN2NoNIBwTEovgAolFcIHEIrhAYhFcILEILpBYBBdILIILJBbBBRKL4AKJRXCBxCK4QGIRXCCxCC6QWAQXSCyCCyQWwQUSi+ACiUVwgcQiuEBiEVwgsQgukFgEF0gsggskFsEFEovgAolFcIHEIrhAYhFcILEILpBYBBdILIILJBbBBRKL4AKJRXCBxCK4QGIRXCCxCC6QWAQXSCyCCyQWwQUSi+ACiUVwgcQiuEBiEVwgsQgukFgEF0gsggskltWor4cbNwAA1GpQq63cGMEhsaxGfj6MHQsVFXD6NJw6Ze3WCA2JZU1mzICVK63dCD6QWKZiMBh0Op1erxektD//BETo3h26d4dz56ChAeLioKREkLJtAhLLJHJzc4ODgxcsWODn57dt2zadTtfuohBh2zYYOBD27gUAWLgQkpPh2DFYvx58fSE2FoqLBWu2NUGiVTQazcqVK52dnQFALpezP1q/fv127dql0+naWlpeHo4ahQAIgDNnYm4uImJODiYn49SpKBYjALq64jvvYEmJ8J/FkpBYrZGdnR0UFAQAIpEoJiZGrVYnJSX5+/szvXx9fVUqlVarNaUorRYTEtDNDQHQ2xt/+KHF6v6iV3z8f0rs1i+HE6u0FJctw7g4PHLEnGI0Go1SqWSBytfXNy0tjT3f0NCg1+vbqldOTs6UKb8AoEiEs2djZWUL73n/fUxIwPp6vHwZo6NxyJBqAHB2do6JiSkuLjbns1gFhxNr9mwsL0dEjI3F9p6PS5cuDRs2zBio7t27Z3xpypQpISEh6enpD+jVu3fvFvXSarVKpdLFxcXXt5+vb/3Bgy3XeO0aSiQIgF274pYtWF+P2dlXIyMjRSIRALi6ui5cuNC+opfDifU//9P0S2Ii7tmD8+fjvn1YUWHi0fX19fHx8U5OTsyV9PT05q/euXPH09OTmRQeHn727Fmml5+fX3O9jGOv5oLOnTu3urrmUfUaDHjwIA4f3jT8GjPm7pYtW+rr63/99dcpU6YY9Tp69Gh7/ibWwOHEevllZOd1xQrcuLHpRInFGBCAMTGYlIRq9aMO/emnnwYMGAAAYrE4JiampqYFD6qrq5VKpVGvkJCQkydPPqzX559/vnbtWtaT+vj4GHvSx5KaiiNGYGDgUgDw8vJSKpV1dXU5OTnR0dEymWzSpEnlLB7bPI4lVmMjnj+PsbG4ZAmuWYNXr+LKlfjPf6KLS5NhAB+EhgYGBsbFxaWmpjY0NLDj6urq4uLiJBIJAPTt2/fUqVOt19OiXhqNZvv27b179zZecYvF4rfffrtFQVvBYMCDBw8OHz6cFdKtW7fKykpE7NOnDwDk5eW1729jYRxILI0Ghw7F99/HuroHX6qrw5QUXLIER44c2r+/8cS7u7tHREQsWLCA2SCVSpcuXWq07bFUVFQsX77ceA8iIiLi3LlzTC8XFxcASE1NNecDpaamBgUFTZ48mT0cMWIEAJw7d86cMi2GA4m1ciUCoJ9fC2I14969e6mpqXFxcYGBgWzs4uLiIhaLBw0alJmZ2Y5qKyoq4uPjWfT68MMP2ZNeXl4AUFpa2p4P0gyDwaC+33ePHz8eAI4fP25mmZbBUcS6ehVlMhSJsC1BorS0dOfOnQDg5OTU2NhoTv0set2+fZs9ZOOtK1eumFPmA0ydOhUA9uzZI2CZ/HCIr3QQYd48aGiAOXMgLMz047y9vWfOnOns7MxuE5jThA4dOqxatapTp07soUKhAICqqipzynwAHmXywyHEUqkgPR28vWH9ehOPKCkpmTZt2pw5c4DPCWM9I4llx5SUlGQeOAASCXz6KTzxhIlHGQyGvXv3Jicnw/0TphZ0rh2PMjt3/sjbu6i2doGAZfLD7sVasGDB08nJG2bOhKgo049qfuLtpduSyTqUlXWrqJAJWCY/7Fusffv27d+/Xy6Xv/zxx2060MPDQyKR1NbW6nQ6exFLoQAAsJOeEKTWbkAbUKvVVfdRq9X+/v7vvvsuACiVyu7du7epKJFIJJfLKysrq6ur7Usse5kdbzNiIUJDA7i6woULsHMnVFVBdTVUVbGflAEDJhw//sARY8eOLS4ufuaZZ2JjY9tRoUKhqKysVKvVbKDNY4xFEcvaZGTAd99B165w5w6EhMAXXzzwutzXFwDkcrniPhKJ5OTJk87Ozjt27BCL29OhG8+9/VwVApBYbWPbNvjmGxCLYcsWEIth61ZQKEChALmc/TLM09Pg6clulDOKiooiIiJu377duXPn9tXJVSweZT7xBPTqBV27ClgkR2xDLLEYWNTx9gZE8PKCqiq4dcvYFRZ5eLz5229saMXGWDqdrkuXLuXl5dOnTz927JhU2uYPYgwq/MQStnvduRMOHIChQ2HzZnjvPQEL5oJtiNWxI1y5Av7+kJwMs2bBmDEPvC4fMeLkhQvNn3F1dZ08efKhQ4fS0tI++OCDhISEttZpPPc2G7EuXYLBg0EiaXpYUgIJCbBjB+Tlmd9A7tiGWGvXwtatUFUFMTHQty9ERjZ1hfd/ZB07prm5eXp6enp6spEWm+oUHR0dGhq6ZcuWgICAmJiYNtVpPPfsitJ8sc6cObNq1ap9+/Z5eHiYKVZDA3z8MWzcCGvXwocfNj0plcK0aaBSmdlMS2HtLyvNhX2L7OrqevZs26YSfPXVV9OmTfvxxx/T0tIAIDQ0tN1tqK6unjt3LhsCKpVKRMzLywMAd3f3goKCtpb23/+ivz8CoFSKK1YgIh45gp98grGxiIixsTh1artbajnsXixEXLJkRWDgcS8vvHGjPYdfuHABAIYPH96+2pOTk3v27AkATk5OcXFxjY2NSUlJnTp1kkqlYrHYyckpOjo6Pz/flKJqamoWLYrr1k0HgIMGYWYmVlRgdHTTHNhZsxARb97EqKj2tdSiOIJYOh0+9xwC4FNPYRtna2JWVtaMGTOcnZ0VCkVCQkJ9fb3px6rV6piYGBaonnrqqV9++aW0tHTKlCmsKwgJCZk6dSq7qnBycpo9e3ZhYWErpaWnp7P5hs8888ny5djYiEeOYLduTUvBlEps+ypGa+IIYiFiVRUGBCAAvvQS6vWPf/+tW7c2bNjQ//5sUsn9EXLPnj2/+OILU+Zm/fjjjz169AAAmUwWHx+v0WiSkpI6duwIAHK5PCEhQa/XI+L169djYmKMerUYvRobG+fNm8cEHTp06MWLF8vL9TNmGBdW4O+/t+uPYlUcRCxEvHIFPT0RAOPjH/kevR6PH8fo6Dls7A8A3bp1W758eUFBwaFDh4zTzHv06NFK9KqsrDReKAQHB//222+lpaUvvfQSe2bChAl//PHHA4c8Vq/Jkyc370n79Bnu7a1zc0Ol0qT/ExvEccRCxGPHUCJBiQSvXn3wpeJiVCrR15fFgLckEklYWFhSUlLzlYAGg6G5Xj179mxRLzaT083NbfPmzWx9TocOHQBAoVCoVCqDwfCo5j2s1+/3Y1FxcXFOTk5ZWZmxJ501a0erPaet41BiIeLWrXjwIH7xBSJidTWePIk//IDPPde0HBQA+/bFhISiVhZ/Mr3YesAW9bp27VpERMTvv/9eXFw8adIk9rbnnnvu5s2bprTwUXq12JPaL44mFqNvX/zuO7x5E199tcknmQxfeQXT0/HRAeUvtK6XwWBQqVRsfY6np6dKpWprC/Pz81977TWjXsY1iREREX/++WdbS7NBHFOs2FicORMvX8YVK3DiRNyyxfS10H+hRb2uXr0adn9m/QsvvGDOxgosekkkEh8fH3d399Z7UvvCYcXKz8dXX21tIG86er1+9+7dAwcOZDK5ubkBgJeXV1JSkgClI8bFxQFALLsB6ijY9wzSVvDzg2Zrks1CLBZPnz49OzubRa+33357xowZubm5UW2ZDN0KbImzUHsF2gi28V2hoGi1UF8P330HH30EtbWCFSsWi1988cXnn3++fdO/WoHHVAir44AR6/x5+PprWL0anJ1NX7ZjKoJbBfa2rstEHFCs9HQAgHHjrN0OkyGx7IMTJwAAxo61djtMxiHFcrQxVl0dnD8PEgk8+6y1m2Iynp4+QUHlMpmTtRsiJI4m1pkz0NgII0YIP7rih1zumpXl6upq7XYIiqN1hefO1YhE9tQPAoC7Ozg5QX09NDZauynC4WhiHT4c2qHDgAkTfrN2Q9oG27ytutra7RAOhxJLrVZfvHjx3r3CkSN7WbstbcO+1gyagkOJxfaZDQ4Odnd3t3Zb2gbbzZTEslFOnDgBAOPs6BbWfVjEunfP2u0QDocSKz09HexErIwMKCoCADhxAk6ehJdfBraj4J9/ClO+Xq9fv3797t27FyxYUMRqsjDW/hZcME6cOCESiTw8PDQajbXb8ngSEvCXXxAR16/Hzz/HwEC8dg23bsWffxag8MuXL48cORLu33p1cXGZP3++ifMQhcK+I9adO3f27t0bGxvbs2fPcePGDRw48K233mJ5JWyfzz6Djz4CtonOu+/CqlVNz5szy0Gn061bty4wMDAzM7Nr165r1qyJjo7W6XSfffZZnz59YmNjLRe9LGmxIGg0moyMjGXLlgUFBTX/SrhLly6LFi2ydutM5YGIdfAg7tqF4eG4fTv6+KBKhablFPsLD+Qqq6qqYs/n5uZGR0ezlUgs65MFopfdiFVQUKBSqaKiolh4Z8hksrCwMKVSmZWVZV9zLx8WCxFDQ/H555vmUvv5YWKiqWsJm+cq8/HxaZ644Msvv9y0aVNtbe3DehUVFfH4aAybFquurm7fvn2xsbG+vr7No+ygQYPee++948eP17WaK8CWMS6VeGDNhF6PSUnYr1+TXr6+j49ereQqq6mpYQs0OnfuvHnzZkvqZbtisQnBxj2xnnzyyaioKJVK9fCqPceD6cV2cFAoKocMGdZizrrWc5UxUlNT2UAeADp16qRUKi2jl+2KlZWVBQAKhWL16tWZmZn2vhyqHWi1+NVXGBm5jmnh7+/fPF+wKbnKjLSoV05OTlRUFBunymSylJQUARtvu2KtW7cOAN544w1rN8TKPJzQdevWrYsXLzY9V5mRFvW6fPlydHS0q6vrxIkTjeN987FdsSZMmAAA3377rbUbYhNotdqdO3eyZRcMqVS6ZMmSNu1iwjh8+DC7eASAqPs717B9KK5fvy5Ug21UrMbGRnd3d5FIZH4CLUdCq9Xu2LGDxarz58+bUxSLXhkZGezhkCFDAODixYtCNBPRZsU6deoUu/qzdkNsEXbDpbLFlOXtZfTo0QBg9Mx8bPTOO/vWb6x9TdizFMY58hs3bhw1atShQ4cELNP8ohjmTU3euBHUaqirgw8/BG9vgZoEADArO7vr6NHDJkwQsEyHwbgO8ebNmz/99FNhYaH5ZQq+Mb0ZYp05A1IprF4NpaWwejVs3SpUm6CurtfRozF6PYwaJViZDgSPHeoFXzRrRld45QoMHQoA0KWLwBleTp8GjQaCguB+Nm+iOfzEEjBimSFWv37w668AALduNRnwzTewcaMAjbK7lYGWxS7EMqMrHD0azp6FZcugrg4++giuX4fZs0GrBZ0Oliwxq1F2t5bZshjHQyzdiyD9ly2JBfD/Ah0/Dk8/DYmJ8NprsHQpaDSwYkU7y7x7Fy5dAhcXGmA9CuN4iN2Ot82IJcTthsOH4cUXYfx4mDABdu0CqRTi49sftIqLYcgQCAkBB1vBKRw8ukLBrwqFEGvECPD3h59/hnHjICwMvv4apFJYt65w06Y2F3X6NOzaBePHC3mN6XDYxVWhQHfey8pw4EAEwAEDsLQUd+8uCA11kkgWL17chkJqavCVV9BgwLo6nDZNmIY5It9++y0ATJ8+vaysDAC8vLzMLzM3NxcA+vfvb35RDIHuvHfuDKmpMGAA5OXB+PG60NCL8+eDWLxhw4YPPvjgMcdqtXDqFCxbBhkZMHAgiETg6gpOTk3LVoiHeCBitTvM1NbWfvrpp4gINjd4b06XLpCRAWFhRe7uL4wd+2NKyv79+yMjIzdt2mQwGDZv3vzg+wsLIS0N0tIgJaVppebKlWCc6q/VQrO0l0RzjBLIZLI333zTw8NDr9cbk2uYyJkzZ+bMmZOfn+/k5DRv3jxj/mKDwSDM5nJChT6G9tatoKFDAaB///4lJSVHjx6VyWQAMHfuXIPBUFlZyaYa75g0qWnuLfsZNAjfew8zM1GlwsWLcf58FHTSmYNx+fJlAAgICGjf4bW1tXFxccyewYMHZ2Vl3b17NyYmRiaTubm5BQQEJCYm6sxO3CP87Ia7d++y6T5+fn5FRUXHjh1zdnYeNmzYqFGjjHlQ+3TogF5eGBWFKhX+DaYaC8vNmzcBQC6X/972JDvJycm9evWCZrnK9uzZ4+XlBQBubm7sFwAYNGhQUlKSObN2uUybqaysHDFiBAD4+PgcOHCAZZpkH+bZZ59ds2bNhQsXDH+/qcZCodFotm/fLhKJxGJxVFTU1YcTvLTEw7nKysrKWPoWABg9enR+fn5jY+OXX37JzGN6/XDoUPvOE6/5WMa4JZPJxGLxrFmzDh48WF1dzam6vxt//PHHnDlz2DIKqVT6+uuvtx69TMxVxtBoNImJiWy26svffBOVm3vkzh19G1fXcZzoZ8yS1adPH361/J25cePGO++84+LiAgCtRK+lS5eyCBQcHJyXl/fYXGWMxsbGL1WqadnZgVlZgVlZ03Nz0+7eNT168Z1BqlQqAeDNN9/kWsvfnMfqdfLkSTc3N6VSqdPpTM9VxtAaDEfu3PlXTg7Ti0Wv72/f/t+Skv/cutXKgXzFGj9+PADs3r2bay0EPk6v8vLy9uUqYzTX658XLy4rLKzT6+tbHSVzFMu4IKKsrIxfLURzbty4YcxZx/TKz883P1cZQ2Mw7L19e9/t22/l528pKjraauIrjmJlZGSwOyX8qiBapKCgYNasWUwvqVTq4+PDAlVkZKQg/+SfmLBKjONiCvvdX8/e6d27944dO65duxYTE4OIAODp6ZmYmPj999+zKVyWwHx/H0VISAgAHDp0iF8VxGNZtGgRACxcuFDAMqtMuC/PK2LV1NRkZmZKpdIxY8ZwqoIwBbZRj1arFbBMuQnfS/IS6/Tp01qtNigoqPl2VoTlEXwGn4nwEsuO9pl1bKyVDJGXWGzkTkuZrY61UotxEauioiI7O1smkwUHB/MonzAda4nFJftXenq6wWAICQlxtJRWdoinj+fT/31a7iK3cL3Ci6XRaNikbOoHbQHFPxTn3c4rJJa+hBJMrMLCwrS0tLS0tJSUlKqqqnHjxoWHhwtVONFu5GK5CET39PcMYBBbMBGJWWKp9eoz588cTjyckpJy48YN4/ODBw9evXq1cds4wopIRBJ3sXuNoaZGXyOXWK5DfIxYBY0FlfrK4W7D96v3R3pGAoAe9ZfqL6XdS0urTjtVc2rkuZFnt50FgI4dO4aGhoaFhU2cOJHNKSNsBIVEUWOoqdJX2YpYn5V/VqGr8JP5levKk6uT7+ruJlcnp99Lr9RXsjc4iZw6jum4du3a8PDwYcOGCbO6gxAahURRrC2u0lf1AMv9w7cm1qmaU0m+Sez3A+oD626tK2gsAIDeLr3D/hEW9o+wcHm4QqIA6vFsG0+JJwBU6S16x6E1sUTwl5V9Szov0YM+XB7u6+z7qEMIG2Rj942p1amV+spL9ZfKteXj5eMtUGlrYvk6++5T7wuQBUhFUgB4o+MbFmgQISzluvINtzb8u8e/L9ZdLNeWl+vKLVNva6Oitd3WSkXSMzVnZCLZ60++bpkGEcJyrvbcVM+p3Zy6vaB4wVnsbLF6W4tYYhD/S/Ev9nsPZ7rQs0tcxa7F2mLL18vlKx3CdnjW41lVuUomkpVqS59xf8Zi9YqQNnVxdHSou9Jw5UnpkwqJQoc6y9zNIrEILtAtTYILJBbBBRKL4AKJRXCBxCK4QGIRXCCxCC6QWAQXSCyCCyQWwQUSi+ACiUVwgcQiuEBiEVwgsQgukFgEF0gsggskFsEFEovgAolFcIHEIrhAYhFcILEILpBYBBdILIILJBbBBRKL4AKJRXCBxCK4QGIRXCCxCC6QWAQXSCyCCyQWwQUSi+ACiUVwgcQiuEBiEVwgsQgukFgEF0gsggskFsEFEovgAolFcIHEIrhAYhFcILEILpBYBBf+DwNrnEhwxNvaAAACKXpUWHRyZGtpdFBLTCByZGtpdCAyMDIwLjA5LjQAAHice79v7T0GIOABYkYGCJADYkUgbmAUZFAAibMxJAApJiY2Bg0gzczCAaGZYDRCHkKzO4DFmdkc0NQ7QNVDxRF0Blg9I7oEOwNYgokRp0qYC6FcThgXrgzKQDgJQwDNZG5gODAyMTAxazAxsSiwsDKwsjGwsTOwcyRwcGowcXAlcHEncPNkMPHwJvDyZTDx8SfwCygICCoICmUwCQknCIswCItmMImKMYiKJ4hLZDDxS2YwSUolSElnMEnLJMjIAnWyJ8jwJchyJ0gIJoiwsLJzcHHzsPHyycgCKSFhUXEJQTZJKWkZPn5xWIwwyK29wnrww8y+AyBOStLdA5G3G8HsNI+LByZeUAOz40o/H7A/f2w/iF3IuPhAUjAvWLz4+bQDHFsdweK/HAIPzG7Yvg/E/sdjeUDqTbc9iG31u/RAnaqAA4jN+mLVAdVSLjA7y9HpwE+WRDB78rZT+/9e8ACzH4Tu3x/14yJY7xxv2X1sf8rBbPdFPfbea5+C2VHqMg5fNvWD2ZuvKzqsu7UfbO/LteUOzB9bwe5xjqt1CDyrBHanzayVDrWnfMHszKI1DsvOTwOztddedLj5SQLMdpvxx4HlgzOY/e/KOQeVihSwOY9fLna4ypsENt/cN8fBJukn2N67c9Ic3rXGgN28/JiAQ+/BZjB7imOjfenqIDA7efXKfQtX1ILZYgDvC50ESozh6AAAAhx6VFh0TU9MIHJka2l0IDIwMjAuMDkuNAAAeJydVcuK3DAQvM9X9A9E9Futc2ZzWbKBHPIPgRzz/6QlebReyIJHxgxVI6tcrX74Bv36eX/9/RfWxffbDQRBBAD/e7fW4Bcj4i0f/xJFXLUjLWouXQNLriJ8/fOZxPkeKl4ahUwVtMCzCjyhYorUERdHtz2VmntjqFAxEz6p/LiuYgWbtOmFMTZVtFSy6AhLNa97EUlhbz5VxEL3VLhEo7GXemx0Unl7xkuojMzkuRjLnhcrohhThVx073SloNjIjBQja3sqWSUhdaqQ1NiLiIo2jXm6rriZIyxk4nNv89irl5HfuZdKbbrnJTOj0tpUIWbfVTGOowOk6jmi61WXmYmaO8Y5o/pmRFKaxdHTprKXacjaxTmlsi/J9qZUV4mGjxnBH7xcnruQE9NYZ0SptxlRzckwqq53lNM5om/XVbyoj8mQmY7G2+eStSZThRk3I5LijXnWbrbleUo9VXWOIhOp2mY35px0HtNWC1HVPS9Z9zjzm1XXaPNLkj0o8xuQvfBx7l5WyVB4/HaSSBZJpOOvg9haSeSLJKqLJIpFErWh0UkDwqWWhB4riYgXYSBZRKBHdxCFXsoHMSBfxIGWg0S0HCSi5SAR44Mk6kmkRZaDRLzOoJPlIBHb6aW8HCTiukiF3v8HCeDlIJHgKTiI08p7cPnM+4HkG+nx2HeAl7f77R9ofpL5K6yluwAAAWx6VFh0U01JTEVTIHJka2l0IDIwMjAuMDkuNAAAeJwtkUuO4zAQQ6/SSxuQBdW/CkFWBmY5OYS2g8wF+vBNKQ14oyeaVaRez/u473/n677fNI/n6/w/edLEd/ydMueBy3n8OeeU8z3f4Pz1fVzRfeTIdlE3E26Py7vpGNUuxpVrblSU7O3SPiyHAGUXV+WF1JwLyPooKVk/8kgmIO1BFtau0cPcfcmks5fVYmKp2417FsGNlgXpVqWKeoOX8a+9KGxByOUjGWKsTbqR1bJBhpQAIInwDbQ0Cb6OQctldDJxxBu9PD3B1tAMaKJUrD24q1ThTMy+z8YZn4VDEag9sJ0XNBgw1LE4SFlmrvCmEmgN+46xmkVgMv2QzIq2a+GED7o2lt21ZCHcI9CErHaQzsl4adRlV5jFatsHm8kizAO9rulezCsn4gptMATPKV3xPLFCsDNx004Ukjs1YhMUXBS0qxEhSQcqNMzt/P4BQYV7djDEiVAAAAAASUVORK5CYII=\" alt=\"Mol\"/></td>\n",
       "      <td>LCC(=O)OCCN1C(=O)Oc2c1cc1c(Nc3cc(L)c(F)cc3)ncn...</td>\n",
       "      <td>[[0.0, 0.0, 0.0, 0.0, 0.0, 0.0, 0.0, 0.0, 0.0,...</td>\n",
       "      <td>[[0.0, 0.0, 0.0, 1.0, 0.0, 0.0, 0.0, 0.0, 0.0,...</td>\n",
       "    </tr>\n",
       "  </tbody>\n",
       "</table>\n",
       "</div>"
      ],
      "text/plain": [
       "       chembl_id                                   canonical_smiles  \\\n",
       "0   CHEMBL207869  Clc1c(OCc2cc(F)ccc2)ccc(Nc2c(C#Cc3ncccn3)cncn2)c1   \n",
       "1  CHEMBL3940060  ClCC(=O)OCCN1C(=O)Oc2c1cc1c(Nc3cc(Cl)c(F)cc3)n...   \n",
       "\n",
       "                                               Mol2D  \\\n",
       "0  <img data-content=\"rdkit/molecule\" src=\"data:i...   \n",
       "1  <img data-content=\"rdkit/molecule\" src=\"data:i...   \n",
       "\n",
       "                          processed_canonical_smiles  \\\n",
       "0   Lc1c(OCc2cc(F)ccc2)ccc(Nc2c(C#Cc3ncccn3)cncn2)c1   \n",
       "1  LCC(=O)OCCN1C(=O)Oc2c1cc1c(Nc3cc(L)c(F)cc3)ncn...   \n",
       "\n",
       "                              unique_char_ohe_matrix  \\\n",
       "0  [[0.0, 0.0, 0.0, 0.0, 0.0, 0.0, 0.0, 0.0, 0.0,...   \n",
       "1  [[0.0, 0.0, 0.0, 0.0, 0.0, 0.0, 0.0, 0.0, 0.0,...   \n",
       "\n",
       "                       sklearn_ohe_matrix_no_padding  \n",
       "0  [[0.0, 0.0, 0.0, 0.0, 0.0, 0.0, 0.0, 0.0, 0.0,...  \n",
       "1  [[0.0, 0.0, 0.0, 1.0, 0.0, 0.0, 0.0, 0.0, 0.0,...  "
      ]
     },
     "execution_count": 27,
     "metadata": {},
     "output_type": "execute_result"
    }
   ],
   "source": [
    "# Apply the function over the processed canonical SMILES strings\n",
    "df['sklearn_ohe_matrix_no_padding'] = df['processed_canonical_smiles'].apply(\n",
    "                                          sklearn_one_hot_encoded_matrix, \n",
    "                                          islaterpadding=False, \n",
    "                                          isinitialpadding=False,\n",
    "                                          smiles_maxlen=smiles_maxlen,\n",
    "                                          unique_char=unique_char)\n",
    "df.head(2) \n",
    "# NBVAL_CHECK_OUTPUT"
   ]
  },
  {
   "cell_type": "markdown",
   "metadata": {},
   "source": [
    "**Visualization of one-hot encoded matrix (unequal dimension)**"
   ]
  },
  {
   "cell_type": "code",
   "execution_count": 28,
   "metadata": {},
   "outputs": [
    {
     "data": {
      "image/png": "[encoded data removed]",
      "text/plain": [
       "<Figure size 432x288 with 1 Axes>"
      ]
     },
     "metadata": {
      "needs_background": "light"
     },
     "output_type": "display_data"
    },
    {
     "name": "stdout",
     "output_type": "stream",
     "text": [
      "Shape of one-hot matrix :  (15, 43)\n",
      "Associated canonical SMILES:  N([C@H](C)c1ccccc1)c1ncnc2oc(-c3ccccc3)cc12\n"
     ]
    }
   ],
   "source": [
    "# Choose index of the compound for which the OHE matrix is visualised \n",
    "index = 100\n",
    "one_hot_matrix_plot(df.iloc[index]['sklearn_ohe_matrix_no_padding'],\n",
    "                    df.iloc[index]['sklearn_ohe_matrix_no_padding'],\n",
    "                    df.iloc[index]['processed_canonical_smiles'])  \n",
    "# NBVAL_CHECK_OUTPUT"
   ]
  },
  {
   "cell_type": "markdown",
   "metadata": {},
   "source": [
    "#### With padding (equal dimension)\n",
    "Padding can either be done before or after one-hot encoding is performed on the SMILES strings, meaning after we label encode the SMILES characters. \n",
    "We discuss both scenarios in the next sections."
   ]
  },
  {
   "cell_type": "markdown",
   "metadata": {},
   "source": [
    "##### Padding after one-hot encoding is performed\n",
    "\n",
    "We simply pass **True** to the `islaterpadding` boolean parameter to the `sklearn_one_hot_encoded_matrix` function as shown below to pad the matrix after one-hot encoding is performed,"
   ]
  },
  {
   "cell_type": "code",
   "execution_count": 29,
   "metadata": {},
   "outputs": [
    {
     "data": {
      "text/html": [
       "<div>\n",
       "<style scoped>\n",
       "    .dataframe tbody tr th:only-of-type {\n",
       "        vertical-align: middle;\n",
       "    }\n",
       "\n",
       "    .dataframe tbody tr th {\n",
       "        vertical-align: top;\n",
       "    }\n",
       "\n",
       "    .dataframe thead th {\n",
       "        text-align: right;\n",
       "    }\n",
       "</style>\n",
       "<table border=\"1\" class=\"dataframe\">\n",
       "  <thead>\n",
       "    <tr style=\"text-align: right;\">\n",
       "      <th></th>\n",
       "      <th>chembl_id</th>\n",
       "      <th>canonical_smiles</th>\n",
       "      <th>Mol2D</th>\n",
       "      <th>processed_canonical_smiles</th>\n",
       "      <th>unique_char_ohe_matrix</th>\n",
       "      <th>sklearn_ohe_matrix_no_padding</th>\n",
       "      <th>sklearn_ohe_matrix_later_padding</th>\n",
       "    </tr>\n",
       "  </thead>\n",
       "  <tbody>\n",
       "    <tr>\n",
       "      <th>0</th>\n",
       "      <td>CHEMBL207869</td>\n",
       "      <td>Clc1c(OCc2cc(F)ccc2)ccc(Nc2c(C#Cc3ncccn3)cncn2)c1</td>\n",
       "      <td><img data-content=\"rdkit/molecule\" src=\"data:image/png;base64,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\" alt=\"Mol\"/></td>\n",
       "      <td>Lc1c(OCc2cc(F)ccc2)ccc(Nc2c(C#Cc3ncccn3)cncn2)c1</td>\n",
       "      <td>[[0.0, 0.0, 0.0, 0.0, 0.0, 0.0, 0.0, 0.0, 0.0,...</td>\n",
       "      <td>[[0.0, 0.0, 0.0, 0.0, 0.0, 0.0, 0.0, 0.0, 0.0,...</td>\n",
       "      <td>[[0.0, 0.0, 0.0, 0.0, 0.0, 0.0, 0.0, 0.0, 0.0,...</td>\n",
       "    </tr>\n",
       "    <tr>\n",
       "      <th>1</th>\n",
       "      <td>CHEMBL3940060</td>\n",
       "      <td>ClCC(=O)OCCN1C(=O)Oc2c1cc1c(Nc3cc(Cl)c(F)cc3)n...</td>\n",
       "      <td><img data-content=\"rdkit/molecule\" src=\"data:image/png;base64,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\" alt=\"Mol\"/></td>\n",
       "      <td>LCC(=O)OCCN1C(=O)Oc2c1cc1c(Nc3cc(L)c(F)cc3)ncn...</td>\n",
       "      <td>[[0.0, 0.0, 0.0, 0.0, 0.0, 0.0, 0.0, 0.0, 0.0,...</td>\n",
       "      <td>[[0.0, 0.0, 0.0, 1.0, 0.0, 0.0, 0.0, 0.0, 0.0,...</td>\n",
       "      <td>[[0.0, 0.0, 0.0, 1.0, 0.0, 0.0, 0.0, 0.0, 0.0,...</td>\n",
       "    </tr>\n",
       "  </tbody>\n",
       "</table>\n",
       "</div>"
      ],
      "text/plain": [
       "       chembl_id                                   canonical_smiles  \\\n",
       "0   CHEMBL207869  Clc1c(OCc2cc(F)ccc2)ccc(Nc2c(C#Cc3ncccn3)cncn2)c1   \n",
       "1  CHEMBL3940060  ClCC(=O)OCCN1C(=O)Oc2c1cc1c(Nc3cc(Cl)c(F)cc3)n...   \n",
       "\n",
       "                                               Mol2D  \\\n",
       "0  <img data-content=\"rdkit/molecule\" src=\"data:i...   \n",
       "1  <img data-content=\"rdkit/molecule\" src=\"data:i...   \n",
       "\n",
       "                          processed_canonical_smiles  \\\n",
       "0   Lc1c(OCc2cc(F)ccc2)ccc(Nc2c(C#Cc3ncccn3)cncn2)c1   \n",
       "1  LCC(=O)OCCN1C(=O)Oc2c1cc1c(Nc3cc(L)c(F)cc3)ncn...   \n",
       "\n",
       "                              unique_char_ohe_matrix  \\\n",
       "0  [[0.0, 0.0, 0.0, 0.0, 0.0, 0.0, 0.0, 0.0, 0.0,...   \n",
       "1  [[0.0, 0.0, 0.0, 0.0, 0.0, 0.0, 0.0, 0.0, 0.0,...   \n",
       "\n",
       "                       sklearn_ohe_matrix_no_padding  \\\n",
       "0  [[0.0, 0.0, 0.0, 0.0, 0.0, 0.0, 0.0, 0.0, 0.0,...   \n",
       "1  [[0.0, 0.0, 0.0, 1.0, 0.0, 0.0, 0.0, 0.0, 0.0,...   \n",
       "\n",
       "                    sklearn_ohe_matrix_later_padding  \n",
       "0  [[0.0, 0.0, 0.0, 0.0, 0.0, 0.0, 0.0, 0.0, 0.0,...  \n",
       "1  [[0.0, 0.0, 0.0, 1.0, 0.0, 0.0, 0.0, 0.0, 0.0,...  "
      ]
     },
     "execution_count": 29,
     "metadata": {},
     "output_type": "execute_result"
    }
   ],
   "source": [
    "# Apply the function over the processed canonical SMILES strings\n",
    "df['sklearn_ohe_matrix_later_padding'] = df['processed_canonical_smiles'].apply(\n",
    "                                             sklearn_one_hot_encoded_matrix, \n",
    "                                             islaterpadding=True, \n",
    "                                             isinitialpadding=False,\n",
    "                                             smiles_maxlen=smiles_maxlen,\n",
    "                                             unique_char=unique_char)\n",
    "df.head(2) \n",
    "# NBVAL_CHECK_OUTPUT"
   ]
  },
  {
   "cell_type": "markdown",
   "metadata": {},
   "source": [
    "**Visualization of one-hot encoded matrix (equal dimension)**"
   ]
  },
  {
   "cell_type": "code",
   "execution_count": 30,
   "metadata": {},
   "outputs": [
    {
     "data": {
      "image/png": "[encoded data removed]",
      "text/plain": [
       "<Figure size 432x288 with 1 Axes>"
      ]
     },
     "metadata": {
      "needs_background": "light"
     },
     "output_type": "display_data"
    },
    {
     "name": "stdout",
     "output_type": "stream",
     "text": [
      "Shape of one-hot matrix :  (36, 267)\n",
      "Associated canonical SMILES:  O(C)c1c(C(=Cc2c3c(N)nc(N)nc3oc2)CCCC)cccc1\n"
     ]
    }
   ],
   "source": [
    "# Choose index of the compound for which the OHE matrix is visualised \n",
    "index = 2705\n",
    "one_hot_matrix_plot(df.iloc[index]['sklearn_ohe_matrix_later_padding'],\n",
    "                    unique_char,\n",
    "                    df.iloc[index]['processed_canonical_smiles'])  \n",
    "# NBVAL_CHECK_OUTPUT"
   ]
  },
  {
   "cell_type": "markdown",
   "metadata": {},
   "source": [
    "##### Padding before one-hot encoding is performed\n",
    "\n",
    "In this case, padding is performed before OHE - but after integer encoding - the list of SMILES characters by passing **True** to the `initial_padding` boolean parameter to the `sklearn_one_hot_encoded_matrix` function."
   ]
  },
  {
   "cell_type": "code",
   "execution_count": 31,
   "metadata": {},
   "outputs": [
    {
     "data": {
      "text/html": [
       "<div>\n",
       "<style scoped>\n",
       "    .dataframe tbody tr th:only-of-type {\n",
       "        vertical-align: middle;\n",
       "    }\n",
       "\n",
       "    .dataframe tbody tr th {\n",
       "        vertical-align: top;\n",
       "    }\n",
       "\n",
       "    .dataframe thead th {\n",
       "        text-align: right;\n",
       "    }\n",
       "</style>\n",
       "<table border=\"1\" class=\"dataframe\">\n",
       "  <thead>\n",
       "    <tr style=\"text-align: right;\">\n",
       "      <th></th>\n",
       "      <th>chembl_id</th>\n",
       "      <th>canonical_smiles</th>\n",
       "      <th>Mol2D</th>\n",
       "      <th>processed_canonical_smiles</th>\n",
       "      <th>unique_char_ohe_matrix</th>\n",
       "      <th>sklearn_ohe_matrix_no_padding</th>\n",
       "      <th>sklearn_ohe_matrix_later_padding</th>\n",
       "      <th>sklearn_ohe_matrix_initial_padding</th>\n",
       "    </tr>\n",
       "  </thead>\n",
       "  <tbody>\n",
       "    <tr>\n",
       "      <th>0</th>\n",
       "      <td>CHEMBL207869</td>\n",
       "      <td>Clc1c(OCc2cc(F)ccc2)ccc(Nc2c(C#Cc3ncccn3)cncn2)c1</td>\n",
       "      <td><img data-content=\"rdkit/molecule\" src=\"data:image/png;base64,iVBORw0KGgoAAAANSUhEUgAAAMgAAADICAIAAAAiOjnJAAAABmJLR0QA/wD/AP+gvaeTAAAahElEQVR4nO3deVhTV94H8G8WCEtYAimjaBFRVBbBrYozuI3WpYtjBac61bbu2ygK06pYrOuIjkLHKlVrqbag1qp1Y5RaccTiI4uiVBGBoCj7kgASSMhy3j9uXx7Hash2CZXzefqHj95z7tF+ubm555zf5RBCQFHmxrX0AKiXEw0WxQoaLIoVNFgUK2iwKFbQYFGsoMGiWEGDRbGCBotiBQ0WxQoaLIoVNFgUK2iwKFbQYFGsoMGiWEGDRbGCBotiBQ0WxQoaLIoVNFgUK2iwKFbQYFGsoMGiWEGDRbGCBotiBQ0WxQoaLIoVNFgUK2iwKFbQYFGsoMGiWEGDRbGCBotiBQ0WxQoaLIoVNFgUK2iwKFbQYFGsoMGiWEGDRbGCBotiBQ0WxQoaLIoVNFgUK2iwKFbQYFGsoMGiWEGDRbGCBotiBQ0WxQoaLIoVfEsPgLKM6urqK1euODs7A3B0dOTxeHZ2dgKBwNra2t7ensvlOjk5mdI/DVZndPz48fPnz8fHx7d5pJOTE5fLHT58eExMTN++ffU/BYe+xb6zqa+v9/HxKS8vHzp0qKOjI/M7Wq1WLpe3tLQolcqmpiaNRtPQ0NDaRCQSyeXy3NzcXr166XkWesXqdCIjI8vLy4ODg1NTU9VqdVpamoODAwCRSATAwcGBz+fb2tra2NgAqKurI4QsW7YsMTExKirq8OHD+p6GUJ1JZmYmj8fj8/m3bt0ihJSVlenIBp/P37NnDyGktLTUzs6Ow+FkZWXpeSL6rbAT0Wg0Cxcu1Gg0ERERgYGBALhc7qhRowYPHjxo0CAvLy8vLy+xWCwSiQQCAQC1Ws00dHd3X7ZsGSHkH//4h57novdYnci+fZW7d7/z5EnZ3bt37e3t2zxepVJptVomZHV1db169ZJKpT/++OPrr7/e9sl0XM1KFYpihaK2pcXU6y/VAZSUEEdHwuVqLlx4aFwP27ZtAxAYGKjRaNo8WFewwgsLk2trf2lsNG4cVIcSGkoAMnWq8T00Nzd7eHgAOHLkSJsH67rHIoSoCXHk8fS80lIdVnIyjh+HnR127jS+Exsbm08//RRAZGRkS0uL7oN1BcuZzw8UCsVWVsaPheoAmpuxZAkAbNoET0+Tuvrggw/8/PwePHiwf/9+3UfqCpYNj9dNILCjV6zfuexs1NRgwAAsX25qVzwe75///CeAjRs3Pv0E9bd0BWuRu7sW+EkmW15QoKFfHn+H1q6FTIZevbBnDxITwTfH4/DJkyePHj26uro6JiZGx2G6guXI42kJ2VNaeq2hIam21gyDotpXSQm2b4dcjtpa+Pqardvo6GgOh7Nz586KiooXHdPGA1I+h7PI3R3A3rIyhVZrtqFR7UIsRvfuSE83W4dyuRzAsGHDJk+e3NjYGB0d/aIj237yPt7FxcfOrkqlOlZVZbYBUu1l0SJ89515ulIoFIMGDVqwYEFjY2NwcLCTk1NwcPCLDm47WBxgRffuAL6uqGj4/2f81O9CUBB4PERFwdoarZeFx4+N7G3r1q35+fnXrl1TKpWxsbH19fX19fUvPFrPh2NL8vPHZ2fvOn3a+OdrlIXExBAOhyxdShobybhxRCQiUqnBneTn59vY2HA4nMuXLy9evBhAcHCwVqt90fH6ButOaalQJLK1tX38+LHBg6IsKi+P8PnEyooUFJDx4wlAPv7YsB60WjJ//lVra+HcuXMzMjKeXh/xIgYsm5kxYwaAuXPnGjYoqgOYN48AZPp0cusW4XKJjQ0pLjag+bffEoAMGSKvrKwcOHAggNWrV+tuYkCwioqKrK2teTzenTt3DBgU1QGUlhI7O8LhkOvXyYwZxN5eGxl5Xc+2dXWka1cCkK+/JrGxZOTIhwMGjG9sawbZsIV+f//73wFMmTLFoFZUR7BqFQHIhAnaoiKFu/sAHo939+5dfRouXEgAMmIEefyYODgQgJw713Yrw9ZjVVZW9urVSy6XDx8+XCwW29jYWFlZCYVCDofzov0e3t7eAwYMMPJ7CGU+dXWYNq04P3/2gQNrzp49+/nnn//lL385depUmw2vXEFYGA4fxrp1OHECISE4flyP8xmU+paWlu7du3fp0kX/v09oaGhMTIxBZ6FYsn37dgCBgYEVFRXMNoqff/5Zn4ZaLTl/ngDEwYHo+eXNsCvWtm3bVq9e3aNHj7i4OLVarVQqW1pa5HK5VqtlHmk8s9+jqqoqOTmZz+ffu3fPy8tL/xNRbFAoFH379n306NHhw4fz8/NPnz4dFxcXFBTUZsPmZvj7o6gIMTFYuVK/k+mf9+LiYqFQCCApKUn/VrNnzwbw3nvv6d+EYg+zl7Bnz54NDQ36LARlSKVk5kwycCBRqfQ9kQHBmjx5MoDp06fn5ORs3rxZqVS22SQ3N7ekpITZ4HHjxg39z0WxRK1W+/v7A1i6dOm1a9eysrJycnIkEsmDBw+k0iaplDwTtrAwcuwYIYSsXk3kcgNOpG+wTp48CcDR0fHRo0d/+tOfAGzYsEF3k+XLl3O53DNnzjBbOyZMmGDAuCjWHDhwwM7O7refXaNHpwKE+c/enohEpEsXsnIlCQsjdXUkLMyws+gVLLlc7unpCWD37t3M0sEuXbrIZDLdrXbt2gWgX79+VVVVLi4uAH766SfDRkex4K233gLw6quvBgUFDR482N/f38vLq0ePHhMnpotEhMMhrfHicklEBHn0iKxdy06wwsPDAQwZMqSyslIsFgM4evRom61aWlp69+4NID4+fuvWrUwPOmaXqHZw4sQJ5pOntLRUx2FPnhCplJSXk4gIQgiJjSULFhh2oraDlZOTY2VlxeVy09PT33//fQDjx4/Xs3dmR3a3bt1qa2tfffVVAN99951hA6TMp6GhoXv37gCY/c36YOYDW1pIZqZh52ojWBqNZvjw4QDCwsKuXLnC4XAEAkFeXp6evWu12sGDBwPYvn37l19+CcDLy0ufu36KDStXrmQ+N9RqNdvnaiNYX3zxBXNHVVVV5ePjA2DTpk0GneDHH38E4OzsXFVV5evra9CPC2VGzCcPj8drn6/nuoJVUVHBVCA5duzYxo0bAfTp00ehUBh6jnHjxgFYtWoV89XSzc2toaHBhDFTBmv95FmxYkX7nFFXsGbOnMk8JigsLLS1tQVw6dIlI85x69YtLpdrY2PT+qhi48aNxg6YMsaePXsAdO3alSlL1A5eGKyqqiqxWCwQCCQSyZ07dwYPHjxr1iyjTzN9+nQA8+fPv3r1KgChUPjo0SOje6MM0vrJc/z48XY76Qt3mqlUKltbW7Va7ebmJhQK09PTm5ub9Zsleo7Nmzfb2tp+8sknHh4eI0aMyMjIYKoAMCsgnrs4onXdRFBQUFhYGJdLKy4ZKTw8XCaTTZw4MSQkpN1OqmsSOjg4OC0tbf369cyOfbNQqVT9+/cvLCzkcDhq/bZmeHt7CwSCzMxMpsacuSiVyocPH65Zs6a1gN0zdV2Z8pv29vbW1tYCgcDFxUXHppQO68qVK2PGjLGxsblz5067rgPQcTW7fv06h8MRCoUVFRXmukIyT0p79+7d3NxMCFEoFFKptKamRiKRSCSSmzdvZmVlXbly5eLFi0lJSceOHTty5AjzlHXHjh3mGgNjw4YN3bp10/8fytPTc82aNSr9p2E7AIVC0a9fPwBbt25t51O3sWxmypQpp0+fXrZsGTM/Y6JHjx75+vrK5fKkpKQ33nhDz1bJyckTJ04UiUSFhYXM1JDpCgsL+/fvr1Qq169f7+Pj89y6rsx9bmNjo0qlUigUaWlpUql03759CxYsMMsY2sH69es3bNjg5+eXnZ1t1b7FXdoI1v379/39/TkcTm5uLnPlMMXkyZPPnj07Y8YMA2qkAgDGjRt36dKlNWvWMBUpTPfGG2+cP39+9uzZ8fHxhJBFixbhf+u6Mnd4AEQiUd++fQMCAo4fPz5t2rSuXbsWFBToUw7PUvbt2xcSEiIWiwsKCkJDQzUazeeffz5mzJj2Hkeb17Q5c+YAmDFjhonXRj1nqZ4rMzOTw+GYa/NZYmIiABcXl6qqKkJIm19KPvnkE6Yh8yhoy5Ytpo+BJcnJyQA8PDyUSiXz+HDOnDkWGUnbK0hLS0v79OnT3NycmZnJzM8Yoampyc/P7+HDh3v27FnCFGsy0LvvvluYk3PwnXf6m3bRamho8PHxKSsrO3DgwNy5cwGoVKqvv/6a+SONRtPU1NS6MpYQUldX99e//jU0NBRAamrqqFGjnJycJBKJq6urKcNgg1KpDAwMvH///rZt27p16zZz5kxXV9d79+698sorFhiNPun7+OOPYcjc82+ZPktVX1CgtbYmfD65d8/oYRBC9NnFq8OkSZMAhIeHmzIGlkRFRQHw8/Orqalxd3cHEB8fn5aWJjdohZ6Z6BUsmUzG3DVfvHjRiHOYbZZqyRITy2jquYtXh5ycHC6Xa21tLZFIjB4GG57eAs/cMgYHB5eUlDg6Onp6elZXV7fzePRdQcoUrHm6Yu7y5csXLFiwbNmyVatWRUZGRkdHR0dH7927d9++fQkJCRkZGcxh5pylqqz8dWNbWpoRrdVqtZ67eHWbNWsWgA8++MCUTsxu7NixAObNm5eRkcHlcvl8/u3bt6dNmwbgnXfeaf/x6Bus5uZmZkFV6xI/Zv/QiyxcuJA5LC4uDmacpYqK+nX3pOGYCnQeHh5t7uLV7eHDhwKBgMvlZmdnm9KPGX3zzTcAXF1dKyoqmB+eNWvWXLhwAYCdnd2DBw/af0gGbP/66quv5s2b17Nnz7y8PGtr62+++UahUCgUiubmZrVa/eTJEwAymQzAkydPXn/99dmzZ1dWVvr4+Mhksu+//565/zVVQwN690Z9PbKzDapRV15e7uPjU19ff+bMmbffftvEUYSHh8fGxr755pvnzp0zsSvTyWQyZv33wYMHa2trIyIiPDw8bty4ERQUJJFIduzYERER0f6jMiBYGo0mICAgNzd3yJAhXl5ebb7qzsnJKTY29sKFCxMmTGB+eswjORkiEdLSIBJh5kw9C2uGhIScPHkyJCTkuF7beNtQU1PTu3fv+vr6S5cu/fnPfza9Q1MsXLhw//79I0aMOHr0qK+vL/PDk56evmXLlv79+9+4caOdH43+yqDr24ULF5hvVXrq2rWrUCgsKioy83V21iwilZKsLBIVRTIyyE8/kawskpVF8vOJRKKoqJBKpU9/3p0/fx6Ag4ODGWswbdq0CcDQoUMtu4pfrVaHhoZaW1vn5uZOnToVQEhIyP3795kP62vXrllqYAa/S6esrCwtLe1FW5+fmRIJDAz86KOP3NzcDDpFG2QybNsGpvrlwoXIzER29tN/fmPUqCFXrjC/Zi6fzEOpmJiYlfpu421bc3Nznz59SkpKTpw4wfwf1S0+Hv7+GDoUBw+ipQULFuDJEyQlYfp0MwymoKBAIpFMmjTJwcHh7t27H374YUpKyqJFi5gFwBZhcIFmd3d35ruGxTg6QioFAIUCPB4GDYJIBKZmYX09tNpmoVAkEjE3f1qtViaTMTMwAQEBAJKTk1NTU7ds2WL0+eVyub29va2t7apVq5YtWxYaGmpra/v0nUBQUNy9e687O4PDgVAIKyvY2MDZGVlZGDQIt29DpQIApRJ5eWb49wDQrVu3iRMnAti4cWNKSkpKSopYLN68ebN5ejeOpS6VJvnhBxIVRT76iBQU6D5QrVZLpVLmyeFrr71WVVXFbMtOT0837sxlZWVubm5RUVFqtXrdunXP/ScdPTqldWte63/Ll5OsLPLZZ2TFCvLWW2TzZhIZST791LhRPIv5Cw4cOFClUjGXz2+//dY8XRvr9xksAzU1NTHbnr7//vu1a9cCGDlypHFdvfvuuwAmTZpUUFDAPJBMSUlpbGyUSqXl5eUSieT+/fvZ2ZVZWeTiRXLxIjl5khw7Rg4dIitXEkJIZCSZP58sXUoIIdXV5gnWnTt3XFxcRo8ezfy0aLXaM2fOWHz/ZqcIFiFk7969APr06VNbW8vc8/3nP/8xtBNmitfOzq6oqMjQKV6mAoJMRqKjyfbthBDS2EgMH8KztFrt6NGjASxZssTUvsyqswRLrVYz29f27t3LPCnt37+//uVWCCFMDSAA27ZtS0hIwFPrI/R36RKxtiYDBjxbe8NoBw4cAPCHP/xBakQlZDZ1lmARQpgnWF27dpVKpcwiXYNuRH47xfvVV18ZOgalknh5EYAkJBja9DlqamqYlQuJiYlm6M6sOlGwCCF//OMfAWzevPnQoUMAPD099dwmaWiVcx0OHiQA8fQkhm/QfBZTe2z06NEWv6P6rc4VrNTUVAAODg7l5eXMnFpsbKw+DZ+e4jVxfYRGQwYMIAD57DPjOvjV1atXDa140J46V7AIIW+++SaAlStXJiUlARCLxW3Ojv92itfE9RHnzhGAuLlp6+uNLGOhUqmYx3Lr1683ZSTs6XTBenpB1ahRo1xcXK5evarjeKVSyWzmOXjwoLnWRxBCZs7M8PV9LSoqyrjmzNp/b29vZrNTB9TpgkUIYYoxzZo1SyKRtFk+jhBy+/btsLCw0tJSZnL9zJkzpo8hPT2dw+HY29uXl5cb2vbhw4fMXIJx6y7bR2cMVuuCqps3b+rfqnWK11zDYDo04vkTU5Kvg9cLNngS+uUQERERExPTo0ePCRMm6Hj7QesSoNzc3LCwMAcHh9zcXOYhvuny8/P9/PwA/PLLL8y2Un0wu9AcHR3v3bvHPPXooCydbMs4d+6cra0t35CXJAuFQrO/CWH+/PkAxo4de/HixdTU1KysrOzsbGZTeG1trVQqbWlpefr41pJ8cXFx5h2J2XXGK5ZarR48eHBOTs7UqVMnTJig5xKgxMRELy8vg7LYpqKiIj8/P3t7+1qdr9y2sbFp/TGorq4eMmRIenp6B6+SYs5/pt+Lf/3rXzk5Od7e3omJieYtNGIoZnm3UCgcN27cixZ5q9VqZgk408TW1tbPz6+DpwrofB+FxcXFHeQrVevT/JSUFN1HNjU1SaXSysrKpKQkpoRdsUGvG7SEThcsZidFR/hKxayPmDt3bmZmpv6TfX/7298AzJ49m9Wxma5zBetM6hkAzs7ORjw9Mi9mfYSrq2vr5NK+fft0HK/RaA4dOvThhx8+ePBAIBB0/NeRdqJgNagbuud0H/LVkAOJByw7EpmMvPXWT1ZWdvHx8bGxsdDjaX5dXR1TLeLChQvLly8HMHny5HYbsBE6UbBWPF6BG3jt3mtqLetVznVbtIgAJDS07tGjUgcHBwBnz55ts9WOHTsABAQEVFZWMruFL1++zP5gjdRZgnW76Tb/Jp93k3dTbsDTdjZkZBAul/D55PZtMm0aGTEi7733/q5Pw+bmZqZwa0JCwoYNGwAMGzasAy6YYXSKYGmIZnjecNzAyscrLTsSlYoMHEgAsmbNr+8stbMj+u+AZ8oteXp61tTUMO+5PXXqFIvDNcHLH6wWbcvOip24ga45XevU7VTl/EV27CAA6dGDVFf/upR0504Dmms0GuYF2//+9793794NoG/fvh2zLOpLG6z/PvlvREnERyUf/dz4c/ec7riB47L2q3L+ImPGEIAkJZHkZGJtTQIDDXhnKePs2bMAxGJxTU2Nt7c3gAMHLPxd5Lle2mDNfDCTEKIhmrzmvF1Vu76s/tKCg0lPJz/8QAghR46Q1vce371LjFuFyhQUXbdu3dGjRwG4u7tbpLSabh1+ZsBYAo4AABdc5tfzxPMsOJiCAuzfj6oqXL+O1mrRvr4IDDSmt+joaA6Hs3PnzpEjRw4bNqysrIz5WOxQXtpgcTncQmXh45bHSq3S0mMBgBUrfi03YbqhQ4dOmTJFLBYXFxcz++ijo6Pr6urM07uZvLST0DHdYxKkCYSQt53fHm4/3NLDgasrfH2RkGCe3vbu3evk5CQQCBQKhYuLy9ixYy07m/5bL22whFzhIvEi5tfdrcyzNM9o3t545RXMmYOKCly/jqAgUztsLeCzdetWqVSam5vL4/FM7dSsOuN6LEupqsKgQZDLIZHALG/YKCgoCAgIUCqVKSkpzEb7juOlvcfqgNzc4O+Pujps3WqeDhcvXqxQKObMmdPRUgV6xWpnOTkYOBDW1rh/Hx4eJnWVkJAwa9YsV1fXvLw8sVhspgGaDb1itauAAMyYAYUCJr6or74eu3aFDBq0aseOHR0wVaBXrPb34AH69YNGg1u3tP7+Rv5gL16MvXsxahQuXyYcDse8IzQLGiwLWLtWnpp6zNX13KlTJ4xonpmJoCDw+YaWJG9XNFgWUFNT06tXr4aGhpSUFGZ+prS0tKGh4an9jM5OTs+/DqnVGDoU2dmIjIQJhVTZZ8n5pE5s48aNeKqa9zM1/gUCJVO51MmJPPOmmNb1ESaXj2AXvXm3jPDw8C5dumRkZJw+fRqAm5tbv379vLy8unXr5urqKhBYM4fV10Or/Z+Gbm5wcUFcHDrwuzgB+lFoQXFxcUuXLu3Zs+fRo0d5PJ6zszPzBm4rK2sbG2dbWwCoq4NAAFtb5OYiPBznzyM6Gu+/D0NeZm0ZNFgWo1Kp/Pz8WlpaiouLn/59Z2dRXZ0UAJ8PBwcAEInw3nsoKcGIEXj4EOHhcHKyyJAN8NLOFXZ8VlZWmZmZX3zxBVMctXXrs5OTi0IBhQJqNWQyAJDJoFRixAjk5ECttuyo9UWvWB2XSoXGRhCCujpUViIvD5MmYdAg3Lv3O7hi0WD9PtTXQyaDpycyMjBwICzyPi+D0GBRrKCPGyhW0GBRrKDBolhBg0WxggaLYgUNFsUKGiyKFTRYFCtosChW0GBRrKDBolhBg0WxggaLYgUNFsUKGiyKFTRYFCtosChW0GBRrKDBolhBg0WxggaLYgUNFsUKGiyKFTRYFCtosChW0GBRrKDBolhBg0WxggaLYgUNFsUKGiyKFTRYFCtosChW0GBRrKDBolhBg0WxggaLYgUNFsUKGiyKFTRYFCtosChW0GBRrKDBolhBg0WxggaLYgUNFsUKGiyKFTRYFCtosChW0GBRrKDBolhBg0Wx4v8AQQAVI2mDZTkAAAIzelRYdHJka2l0UEtMIHJka2l0IDIwMjAuMDkuNAAAeJx7v2/tPQYg4AFiRgYIkAdiJSBuYBRkUACJszloAClmFhjNwQCmmdgYEoA0ExNCPgNEM8M1cML0w8WJYUD0sjOABZgwbGcD286EoGEaIDQzHrMxlBAW4AYGCyNTBhMTswIzCwMLKwMrWwYTG3sCOwcDO2cGEydXAhc3UJYngYc3g4mXL4GPX4FfQEFAMEFQSEFIWINZWERBRDSDSVQsQUw8g0lcIkFCMoNJUCqDSUo6QVomg0lGNoFPLoNJjjGBmzVBViCDSVIkQYSFjVGOj5eHiY2NnZOLm5VNVExcQlKETUpaRlZAUBwWTwzyT2/qHdiV5HkAxJl76sf+Gbnv94PYF55qHvi6iwfMLnnbcqDQixHM3rJ29oHTVwPsQWyHFacP+LnFgNmNGY8OLJ7J7QBitxlyHjxSygdmL5socvDy3yQwe8050YPh6sVg9T15XAdPfdy7D8TufvTkwKVLV8Ds4kfv9h/+YglWw/tw9z6HFj0w+4/SBrs/s5XBbnj36bV9A48+mP2jUtlB35sB7P6O7Y0OAerMYPblj7Mc2t+6gtXI6WxxMDzEADYnK+2sw9cdj8FszWXbHDpT3MBuK31w3sGGowfMZrj930F7VheYvcCX29F9jQOY/S3hr8NmhntgvSfKZzjErw8H2/Wrqs5h2dopYPbjVjmHafaTwezDXI/sZb8Hgtk7Gx/vu6X6FeweMQDKzacyXypZcAAAAh96VFh0TU9MIHJka2l0IDIwMjAuMDkuNAAAeJydVUuqFEEQ3M8p6gIW+c+qtaMb8QkuvIPg0vtj1qeLFhTe5DAMkdR0dGTkpx5lfL4/v/z8Xc6Hno9HYSwspcA/v7338oMA4BF//0DVmWAgrijmgwNqnEL5+Ot/FPfvZMHahX2h5qB3lvJuFqqmMlmgqnTPsUhFFdgsoHBj+fYKS7Pr2YbaclqssglvFgPJsXgF18lCFRtyjqVVdbHFQqQ9x9IrNZ0sHDX6q18+v8LCxtvdLj3pbot+oV1pdoSsu6i0u05Qk10XfW+2K+NkyUpHHuY7D2uY0xJPsFwTYNwxxxIZydgik6XxvUZv72ehqjonIKYbYPXf61qkgq79EizScxMQLE2ufvFYezkWDU+vSVa4uvhVFotea2357J6tkVYHb2sa52JP1Si0dMPlELslM/Lau+pm4eSWKi0yMt0ZYfImGVpiUW53Yxhyvkh1mx0bdyM7JGvEtfvcDHGnBB3ltFAVt75ZAJO+hBs26xsZUQNPaRl7UtZMx70fyzOjJcyk+TuCQEEnK1honwTSEwSyEwTy80ygdoJA/fytlXEvrJNAiCfAgnR7KR4FgVBOIGWYvQMteBQEGgt6B17wKAiER0GgsXN4BoEIr5NAdBQEoqMgEB0FgegoCER2ew8dDwLRURCI+gl6YbilwMcDXlXYJzRN3Scwk9sENlXP4Gspn96ejz9RCp9C6sdwwgAAAXJ6VFh0U01JTEVTIHJka2l0IDIwMjAuMDkuNAAAeJwlUjmOHEEM+4oBJztAbUH3gQkH2NB+RKXGvGAfb6q2g4aaoCiR6q/DB8/H6+8RvP89UP85+j7vc/T1+zXlOW8FLo/Dv74/PntLucfS7RZp6/lZ29O8l2wR70F6a0jHot3WxX1J4dy9PmlrUpcDy80u4YMZeyQDC7SaNForyKwAGUprH4g9Qy7Erj9qTk42mGCC/ai5dcq0MhbQqIWiklwvLVUINN1sEbMHxpup9dAaK0ENW5oR56iFNmHWExqmegdEaRacynY3lQVVoskApAzvKy9FY0m2ZTQ4toPYgehu2IiL2PgxNE2BJoRDNQi2HTMQtpYcpExIZnqmIq71dKxGOlk5IW64CwRZ6QtbZI+O76TMwrVgofoyOtiXYRIkcnc7UsanMow8Cw1hPg1MLpfBRT2SiOSmpRENHxMDI9Wbc0Xcq6UgLr7HpcR18Vdwsfh6fP8HFJqAuy4zlSgAAAAASUVORK5CYII=\" alt=\"Mol\"/></td>\n",
       "      <td>Lc1c(OCc2cc(F)ccc2)ccc(Nc2c(C#Cc3ncccn3)cncn2)c1</td>\n",
       "      <td>[[0.0, 0.0, 0.0, 0.0, 0.0, 0.0, 0.0, 0.0, 0.0,...</td>\n",
       "      <td>[[0.0, 0.0, 0.0, 0.0, 0.0, 0.0, 0.0, 0.0, 0.0,...</td>\n",
       "      <td>[[0.0, 0.0, 0.0, 0.0, 0.0, 0.0, 0.0, 0.0, 0.0,...</td>\n",
       "      <td>[[0.0, 0.0, 0.0, 0.0, 0.0, 0.0, 0.0, 0.0, 0.0,...</td>\n",
       "    </tr>\n",
       "    <tr>\n",
       "      <th>1</th>\n",
       "      <td>CHEMBL3940060</td>\n",
       "      <td>ClCC(=O)OCCN1C(=O)Oc2c1cc1c(Nc3cc(Cl)c(F)cc3)n...</td>\n",
       "      <td><img data-content=\"rdkit/molecule\" src=\"data:image/png;base64,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\" alt=\"Mol\"/></td>\n",
       "      <td>LCC(=O)OCCN1C(=O)Oc2c1cc1c(Nc3cc(L)c(F)cc3)ncn...</td>\n",
       "      <td>[[0.0, 0.0, 0.0, 0.0, 0.0, 0.0, 0.0, 0.0, 0.0,...</td>\n",
       "      <td>[[0.0, 0.0, 0.0, 1.0, 0.0, 0.0, 0.0, 0.0, 0.0,...</td>\n",
       "      <td>[[0.0, 0.0, 0.0, 1.0, 0.0, 0.0, 0.0, 0.0, 0.0,...</td>\n",
       "      <td>[[0.0, 0.0, 0.0, 1.0, 0.0, 0.0, 0.0, 0.0, 0.0,...</td>\n",
       "    </tr>\n",
       "  </tbody>\n",
       "</table>\n",
       "</div>"
      ],
      "text/plain": [
       "       chembl_id                                   canonical_smiles  \\\n",
       "0   CHEMBL207869  Clc1c(OCc2cc(F)ccc2)ccc(Nc2c(C#Cc3ncccn3)cncn2)c1   \n",
       "1  CHEMBL3940060  ClCC(=O)OCCN1C(=O)Oc2c1cc1c(Nc3cc(Cl)c(F)cc3)n...   \n",
       "\n",
       "                                               Mol2D  \\\n",
       "0  <img data-content=\"rdkit/molecule\" src=\"data:i...   \n",
       "1  <img data-content=\"rdkit/molecule\" src=\"data:i...   \n",
       "\n",
       "                          processed_canonical_smiles  \\\n",
       "0   Lc1c(OCc2cc(F)ccc2)ccc(Nc2c(C#Cc3ncccn3)cncn2)c1   \n",
       "1  LCC(=O)OCCN1C(=O)Oc2c1cc1c(Nc3cc(L)c(F)cc3)ncn...   \n",
       "\n",
       "                              unique_char_ohe_matrix  \\\n",
       "0  [[0.0, 0.0, 0.0, 0.0, 0.0, 0.0, 0.0, 0.0, 0.0,...   \n",
       "1  [[0.0, 0.0, 0.0, 0.0, 0.0, 0.0, 0.0, 0.0, 0.0,...   \n",
       "\n",
       "                       sklearn_ohe_matrix_no_padding  \\\n",
       "0  [[0.0, 0.0, 0.0, 0.0, 0.0, 0.0, 0.0, 0.0, 0.0,...   \n",
       "1  [[0.0, 0.0, 0.0, 1.0, 0.0, 0.0, 0.0, 0.0, 0.0,...   \n",
       "\n",
       "                    sklearn_ohe_matrix_later_padding  \\\n",
       "0  [[0.0, 0.0, 0.0, 0.0, 0.0, 0.0, 0.0, 0.0, 0.0,...   \n",
       "1  [[0.0, 0.0, 0.0, 1.0, 0.0, 0.0, 0.0, 0.0, 0.0,...   \n",
       "\n",
       "                  sklearn_ohe_matrix_initial_padding  \n",
       "0  [[0.0, 0.0, 0.0, 0.0, 0.0, 0.0, 0.0, 0.0, 0.0,...  \n",
       "1  [[0.0, 0.0, 0.0, 1.0, 0.0, 0.0, 0.0, 0.0, 0.0,...  "
      ]
     },
     "execution_count": 31,
     "metadata": {},
     "output_type": "execute_result"
    }
   ],
   "source": [
    "# Apply the function over the processed canonical SMILES strings\n",
    "df['sklearn_ohe_matrix_initial_padding'] = df['processed_canonical_smiles'].apply(\n",
    "                                               sklearn_one_hot_encoded_matrix, \n",
    "                                               islaterpadding=False, \n",
    "                                               isinitialpadding=True,\n",
    "                                               smiles_maxlen=smiles_maxlen,\n",
    "                                               unique_char=unique_char)\n",
    "\n",
    "df.head(2)\n",
    "# NBVAL_CHECK_OUTPUT"
   ]
  },
  {
   "cell_type": "markdown",
   "metadata": {},
   "source": [
    "**Visualization of one-hot encoded matrix (equal dimension)**"
   ]
  },
  {
   "cell_type": "code",
   "execution_count": 32,
   "metadata": {},
   "outputs": [
    {
     "data": {
      "image/png": "[encoded data removed]",
      "text/plain": [
       "<Figure size 432x288 with 1 Axes>"
      ]
     },
     "metadata": {
      "needs_background": "light"
     },
     "output_type": "display_data"
    },
    {
     "name": "stdout",
     "output_type": "stream",
     "text": [
      "Shape of one-hot matrix :  (36, 267)\n",
      "Associated canonical SMILES:  O(C)c1c(C(=Cc2c3c(N)nc(N)nc3oc2)CCCC)cccc1\n"
     ]
    }
   ],
   "source": [
    "# Choose index of the compound for which the OHE matrix is visualised \n",
    "index = 2705\n",
    "one_hot_matrix_plot(df.iloc[index]['sklearn_ohe_matrix_later_padding'],\n",
    "                    unique_char,\n",
    "                    df.iloc[index]['processed_canonical_smiles'])  \n",
    "# NBVAL_CHECK_OUTPUT"
   ]
  },
  {
   "cell_type": "markdown",
   "metadata": {},
   "source": [
    "### Keras implementation of one-hot encoding"
   ]
  },
  {
   "cell_type": "markdown",
   "metadata": {},
   "source": [
    "Keras is also a very powerful and intensively used library, especially employed in deep learning tasks. \n",
    "There may be a case where we have sequences or strings that are already integer encoded, then we can use the function called [to_categorical()](https://keras.io/api/utils/), provided by the keras library, to one-hot encode integer data directly, otherwise we can use [Tokenizer](https://keras.io/api/preprocessing/text/) to first integer encode the string data and then use the `to_categorical` function to one-hot encode the data."
   ]
  },
  {
   "cell_type": "code",
   "execution_count": 33,
   "metadata": {},
   "outputs": [],
   "source": [
    "# Use keras implementation of one-hot encoding\n",
    "def keras_one_hot_encoded_matrix(smiles, islaterpadding, smiles_maxlen, unique_char):\n",
    "    \"\"\"\n",
    "    One-hot encodes the SMILES using keras\n",
    "    implementation.\n",
    "    \n",
    "    Parameters\n",
    "    ----------\n",
    "    canonical_char : array\n",
    "        Canonical character array.\n",
    "    islaterpadding : bool\n",
    "        The paramater is `True` if later_padding is required,\n",
    "        `False` otherwise.\n",
    "    smiles_maxlen : int\n",
    "        Maximum length of the SMILES string.\n",
    "    unique_char : list\n",
    "        List of unique characters in the string data set.\n",
    "        \n",
    "    Returns\n",
    "    -------\n",
    "    encoded : numpy.ndarray\n",
    "        One-hot encoded matrix of shape\n",
    "        (chars in SMILES, length of SMILES).\n",
    "    \"\"\"\n",
    "   \n",
    "    # Integer encoding using Tokenizer\n",
    "    input_smiles = smiles\n",
    "    tokenizer = Tokenizer(char_level=True)\n",
    "    tokenizer.fit_on_texts([input_smiles])\n",
    "    integer_encoded = tokenizer.texts_to_sequences([input_smiles])[0]\n",
    "    \n",
    "    # One-hot encoding using to_categorical function\n",
    "    encoded = to_categorical(integer_encoded)\n",
    "    if (islaterpadding == True):\n",
    "        encoded = later_padding(encoded, smiles_maxlen, unique_char)\n",
    "    encoded = encoded.transpose()\n",
    "    return encoded"
   ]
  },
  {
   "cell_type": "markdown",
   "metadata": {},
   "source": [
    "Next, we implement two scenarios: \n",
    "\n",
    "- OHE without padding, which will result in unequal dimensions of the produced one-hot encoded matrix and \n",
    "- OHE with later padding by passing `True` to the boolean parameter `islaterpadding` in the `keras_one_hot_encoded_matrix` function."
   ]
  },
  {
   "cell_type": "markdown",
   "metadata": {},
   "source": [
    "#### Without padding (unequal dimension)"
   ]
  },
  {
   "cell_type": "code",
   "execution_count": 34,
   "metadata": {},
   "outputs": [
    {
     "data": {
      "text/html": [
       "<div>\n",
       "<style scoped>\n",
       "    .dataframe tbody tr th:only-of-type {\n",
       "        vertical-align: middle;\n",
       "    }\n",
       "\n",
       "    .dataframe tbody tr th {\n",
       "        vertical-align: top;\n",
       "    }\n",
       "\n",
       "    .dataframe thead th {\n",
       "        text-align: right;\n",
       "    }\n",
       "</style>\n",
       "<table border=\"1\" class=\"dataframe\">\n",
       "  <thead>\n",
       "    <tr style=\"text-align: right;\">\n",
       "      <th></th>\n",
       "      <th>chembl_id</th>\n",
       "      <th>canonical_smiles</th>\n",
       "      <th>Mol2D</th>\n",
       "      <th>processed_canonical_smiles</th>\n",
       "      <th>unique_char_ohe_matrix</th>\n",
       "      <th>sklearn_ohe_matrix_no_padding</th>\n",
       "      <th>sklearn_ohe_matrix_later_padding</th>\n",
       "      <th>sklearn_ohe_matrix_initial_padding</th>\n",
       "      <th>keras_ohe_matrix_without_padding</th>\n",
       "    </tr>\n",
       "  </thead>\n",
       "  <tbody>\n",
       "    <tr>\n",
       "      <th>0</th>\n",
       "      <td>CHEMBL207869</td>\n",
       "      <td>Clc1c(OCc2cc(F)ccc2)ccc(Nc2c(C#Cc3ncccn3)cncn2)c1</td>\n",
       "      <td><img data-content=\"rdkit/molecule\" src=\"data:image/png;base64,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\" alt=\"Mol\"/></td>\n",
       "      <td>Lc1c(OCc2cc(F)ccc2)ccc(Nc2c(C#Cc3ncccn3)cncn2)c1</td>\n",
       "      <td>[[0.0, 0.0, 0.0, 0.0, 0.0, 0.0, 0.0, 0.0, 0.0,...</td>\n",
       "      <td>[[0.0, 0.0, 0.0, 0.0, 0.0, 0.0, 0.0, 0.0, 0.0,...</td>\n",
       "      <td>[[0.0, 0.0, 0.0, 0.0, 0.0, 0.0, 0.0, 0.0, 0.0,...</td>\n",
       "      <td>[[0.0, 0.0, 0.0, 0.0, 0.0, 0.0, 0.0, 0.0, 0.0,...</td>\n",
       "      <td>[[0.0, 0.0, 0.0, 0.0, 0.0, 0.0, 0.0, 0.0, 0.0,...</td>\n",
       "    </tr>\n",
       "    <tr>\n",
       "      <th>1</th>\n",
       "      <td>CHEMBL3940060</td>\n",
       "      <td>ClCC(=O)OCCN1C(=O)Oc2c1cc1c(Nc3cc(Cl)c(F)cc3)n...</td>\n",
       "      <td><img data-content=\"rdkit/molecule\" src=\"data:image/png;base64,iVBORw0KGgoAAAANSUhEUgAAAMgAAADICAIAAAAiOjnJAAAABmJLR0QA/wD/AP+gvaeTAAAYVElEQVR4nO2deViUVdvA71mAYXlnyBRxBxVUXFJBC7m0F0XEFl8TUeuLcinQtNLKUPOScrvG9cJeW8brUyN7SzFzT1lE9NUrRUoDCSVBSzZFZEDW2e7vj4PzkSIOzHNm6/5d/MEszzlneH7c5zzPnHNuESICQQiN2NoNIBwTEovgAolFcIHEIrhAYhFcILEILpBYBBdILIILJBbBBRKL4AKJRXCBxCK4QGIRXCCxCC6QWAQXSCyCCyQWwQUSi+ACiUVwgcQiuEBiEVwgsQgukFgEF0gsggskFsEFEovgAolFcIHEIrhAYhFcILEILpBYBBdILIILJBbBBRKL4AKJRXCBxCK4QGIRXCCxCC6QWAQXSCyCCyQWwQUSi+ACiUVwgcQiuEBiEVwgsQgukFgEF0gsggskltWor4cbNwAA1GpQq63cGMEhsaxGfj6MHQsVFXD6NJw6Ze3WCA2JZU1mzICVK63dCD6QWKZiMBh0Op1erxektD//BETo3h26d4dz56ChAeLioKREkLJtAhLLJHJzc4ODgxcsWODn57dt2zadTtfuohBh2zYYOBD27gUAWLgQkpPh2DFYvx58fSE2FoqLBWu2NUGiVTQazcqVK52dnQFALpezP1q/fv127dql0+naWlpeHo4ahQAIgDNnYm4uImJODiYn49SpKBYjALq64jvvYEmJ8J/FkpBYrZGdnR0UFAQAIpEoJiZGrVYnJSX5+/szvXx9fVUqlVarNaUorRYTEtDNDQHQ2xt/+KHF6v6iV3z8f0rs1i+HE6u0FJctw7g4PHLEnGI0Go1SqWSBytfXNy0tjT3f0NCg1+vbqldOTs6UKb8AoEiEs2djZWUL73n/fUxIwPp6vHwZo6NxyJBqAHB2do6JiSkuLjbns1gFhxNr9mwsL0dEjI3F9p6PS5cuDRs2zBio7t27Z3xpypQpISEh6enpD+jVu3fvFvXSarVKpdLFxcXXt5+vb/3Bgy3XeO0aSiQIgF274pYtWF+P2dlXIyMjRSIRALi6ui5cuNC+opfDifU//9P0S2Ii7tmD8+fjvn1YUWHi0fX19fHx8U5OTsyV9PT05q/euXPH09OTmRQeHn727Fmml5+fX3O9jGOv5oLOnTu3urrmUfUaDHjwIA4f3jT8GjPm7pYtW+rr63/99dcpU6YY9Tp69Gh7/ibWwOHEevllZOd1xQrcuLHpRInFGBCAMTGYlIRq9aMO/emnnwYMGAAAYrE4JiampqYFD6qrq5VKpVGvkJCQkydPPqzX559/vnbtWtaT+vj4GHvSx5KaiiNGYGDgUgDw8vJSKpV1dXU5OTnR0dEymWzSpEnlLB7bPI4lVmMjnj+PsbG4ZAmuWYNXr+LKlfjPf6KLS5NhAB+EhgYGBsbFxaWmpjY0NLDj6urq4uLiJBIJAPTt2/fUqVOt19OiXhqNZvv27b179zZecYvF4rfffrtFQVvBYMCDBw8OHz6cFdKtW7fKykpE7NOnDwDk5eW1729jYRxILI0Ghw7F99/HuroHX6qrw5QUXLIER44c2r+/8cS7u7tHREQsWLCA2SCVSpcuXWq07bFUVFQsX77ceA8iIiLi3LlzTC8XFxcASE1NNecDpaamBgUFTZ48mT0cMWIEAJw7d86cMi2GA4m1ciUCoJ9fC2I14969e6mpqXFxcYGBgWzs4uLiIhaLBw0alJmZ2Y5qKyoq4uPjWfT68MMP2ZNeXl4AUFpa2p4P0gyDwaC+33ePHz8eAI4fP25mmZbBUcS6ehVlMhSJsC1BorS0dOfOnQDg5OTU2NhoTv0set2+fZs9ZOOtK1eumFPmA0ydOhUA9uzZI2CZ/HCIr3QQYd48aGiAOXMgLMz047y9vWfOnOns7MxuE5jThA4dOqxatapTp07soUKhAICqqipzynwAHmXywyHEUqkgPR28vWH9ehOPKCkpmTZt2pw5c4DPCWM9I4llx5SUlGQeOAASCXz6KTzxhIlHGQyGvXv3Jicnw/0TphZ0rh2PMjt3/sjbu6i2doGAZfLD7sVasGDB08nJG2bOhKgo049qfuLtpduSyTqUlXWrqJAJWCY/7Fusffv27d+/Xy6Xv/zxx2060MPDQyKR1NbW6nQ6exFLoQAAsJOeEKTWbkAbUKvVVfdRq9X+/v7vvvsuACiVyu7du7epKJFIJJfLKysrq6ur7Usse5kdbzNiIUJDA7i6woULsHMnVFVBdTVUVbGflAEDJhw//sARY8eOLS4ufuaZZ2JjY9tRoUKhqKysVKvVbKDNY4xFEcvaZGTAd99B165w5w6EhMAXXzzwutzXFwDkcrniPhKJ5OTJk87Ozjt27BCL29OhG8+9/VwVApBYbWPbNvjmGxCLYcsWEIth61ZQKEChALmc/TLM09Pg6clulDOKiooiIiJu377duXPn9tXJVSweZT7xBPTqBV27ClgkR2xDLLEYWNTx9gZE8PKCqiq4dcvYFRZ5eLz5229saMXGWDqdrkuXLuXl5dOnTz927JhU2uYPYgwq/MQStnvduRMOHIChQ2HzZnjvPQEL5oJtiNWxI1y5Av7+kJwMs2bBmDEPvC4fMeLkhQvNn3F1dZ08efKhQ4fS0tI++OCDhISEttZpPPc2G7EuXYLBg0EiaXpYUgIJCbBjB+Tlmd9A7tiGWGvXwtatUFUFMTHQty9ERjZ1hfd/ZB07prm5eXp6enp6spEWm+oUHR0dGhq6ZcuWgICAmJiYNtVpPPfsitJ8sc6cObNq1ap9+/Z5eHiYKVZDA3z8MWzcCGvXwocfNj0plcK0aaBSmdlMS2HtLyvNhX2L7OrqevZs26YSfPXVV9OmTfvxxx/T0tIAIDQ0tN1tqK6unjt3LhsCKpVKRMzLywMAd3f3goKCtpb23/+ivz8CoFSKK1YgIh45gp98grGxiIixsTh1artbajnsXixEXLJkRWDgcS8vvHGjPYdfuHABAIYPH96+2pOTk3v27AkATk5OcXFxjY2NSUlJnTp1kkqlYrHYyckpOjo6Pz/flKJqamoWLYrr1k0HgIMGYWYmVlRgdHTTHNhZsxARb97EqKj2tdSiOIJYOh0+9xwC4FNPYRtna2JWVtaMGTOcnZ0VCkVCQkJ9fb3px6rV6piYGBaonnrqqV9++aW0tHTKlCmsKwgJCZk6dSq7qnBycpo9e3ZhYWErpaWnp7P5hs8888ny5djYiEeOYLduTUvBlEps+ypGa+IIYiFiVRUGBCAAvvQS6vWPf/+tW7c2bNjQ//5sUsn9EXLPnj2/+OILU+Zm/fjjjz169AAAmUwWHx+v0WiSkpI6duwIAHK5PCEhQa/XI+L169djYmKMerUYvRobG+fNm8cEHTp06MWLF8vL9TNmGBdW4O+/t+uPYlUcRCxEvHIFPT0RAOPjH/kevR6PH8fo6Dls7A8A3bp1W758eUFBwaFDh4zTzHv06NFK9KqsrDReKAQHB//222+lpaUvvfQSe2bChAl//PHHA4c8Vq/Jkyc370n79Bnu7a1zc0Ol0qT/ExvEccRCxGPHUCJBiQSvXn3wpeJiVCrR15fFgLckEklYWFhSUlLzlYAGg6G5Xj179mxRLzaT083NbfPmzWx9TocOHQBAoVCoVCqDwfCo5j2s1+/3Y1FxcXFOTk5ZWZmxJ501a0erPaet41BiIeLWrXjwIH7xBSJidTWePIk//IDPPde0HBQA+/bFhISiVhZ/Mr3YesAW9bp27VpERMTvv/9eXFw8adIk9rbnnnvu5s2bprTwUXq12JPaL44mFqNvX/zuO7x5E199tcknmQxfeQXT0/HRAeUvtK6XwWBQqVRsfY6np6dKpWprC/Pz81977TWjXsY1iREREX/++WdbS7NBHFOs2FicORMvX8YVK3DiRNyyxfS10H+hRb2uXr0adn9m/QsvvGDOxgosekkkEh8fH3d399Z7UvvCYcXKz8dXX21tIG86er1+9+7dAwcOZDK5ubkBgJeXV1JSkgClI8bFxQFALLsB6ijY9wzSVvDzg2Zrks1CLBZPnz49OzubRa+33357xowZubm5UW2ZDN0KbImzUHsF2gi28V2hoGi1UF8P330HH30EtbWCFSsWi1988cXnn3++fdO/WoHHVAir44AR6/x5+PprWL0anJ1NX7ZjKoJbBfa2rstEHFCs9HQAgHHjrN0OkyGx7IMTJwAAxo61djtMxiHFcrQxVl0dnD8PEgk8+6y1m2Iynp4+QUHlMpmTtRsiJI4m1pkz0NgII0YIP7rih1zumpXl6upq7XYIiqN1hefO1YhE9tQPAoC7Ozg5QX09NDZauynC4WhiHT4c2qHDgAkTfrN2Q9oG27ytutra7RAOhxJLrVZfvHjx3r3CkSN7WbstbcO+1gyagkOJxfaZDQ4Odnd3t3Zb2gbbzZTEslFOnDgBAOPs6BbWfVjEunfP2u0QDocSKz09HexErIwMKCoCADhxAk6ehJdfBraj4J9/ClO+Xq9fv3797t27FyxYUMRqsjDW/hZcME6cOCESiTw8PDQajbXb8ngSEvCXXxAR16/Hzz/HwEC8dg23bsWffxag8MuXL48cORLu33p1cXGZP3++ifMQhcK+I9adO3f27t0bGxvbs2fPcePGDRw48K233mJ5JWyfzz6Djz4CtonOu+/CqlVNz5szy0Gn061bty4wMDAzM7Nr165r1qyJjo7W6XSfffZZnz59YmNjLRe9LGmxIGg0moyMjGXLlgUFBTX/SrhLly6LFi2ydutM5YGIdfAg7tqF4eG4fTv6+KBKhablFPsLD+Qqq6qqYs/n5uZGR0ezlUgs65MFopfdiFVQUKBSqaKiolh4Z8hksrCwMKVSmZWVZV9zLx8WCxFDQ/H555vmUvv5YWKiqWsJm+cq8/HxaZ644Msvv9y0aVNtbe3DehUVFfH4aAybFquurm7fvn2xsbG+vr7No+ygQYPee++948eP17WaK8CWMS6VeGDNhF6PSUnYr1+TXr6+j49ereQqq6mpYQs0OnfuvHnzZkvqZbtisQnBxj2xnnzyyaioKJVK9fCqPceD6cV2cFAoKocMGdZizrrWc5UxUlNT2UAeADp16qRUKi2jl+2KlZWVBQAKhWL16tWZmZn2vhyqHWi1+NVXGBm5jmnh7+/fPF+wKbnKjLSoV05OTlRUFBunymSylJQUARtvu2KtW7cOAN544w1rN8TKPJzQdevWrYsXLzY9V5mRFvW6fPlydHS0q6vrxIkTjeN987FdsSZMmAAA3377rbUbYhNotdqdO3eyZRcMqVS6ZMmSNu1iwjh8+DC7eASAqPs717B9KK5fvy5Ug21UrMbGRnd3d5FIZH4CLUdCq9Xu2LGDxarz58+bUxSLXhkZGezhkCFDAODixYtCNBPRZsU6deoUu/qzdkNsEXbDpbLFlOXtZfTo0QBg9Mx8bPTOO/vWb6x9TdizFMY58hs3bhw1atShQ4cELNP8ohjmTU3euBHUaqirgw8/BG9vgZoEADArO7vr6NHDJkwQsEyHwbgO8ebNmz/99FNhYaH5ZQq+Mb0ZYp05A1IprF4NpaWwejVs3SpUm6CurtfRozF6PYwaJViZDgSPHeoFXzRrRld45QoMHQoA0KWLwBleTp8GjQaCguB+Nm+iOfzEEjBimSFWv37w668AALduNRnwzTewcaMAjbK7lYGWxS7EMqMrHD0azp6FZcugrg4++giuX4fZs0GrBZ0Oliwxq1F2t5bZshjHQyzdiyD9ly2JBfD/Ah0/Dk8/DYmJ8NprsHQpaDSwYkU7y7x7Fy5dAhcXGmA9CuN4iN2Ot82IJcTthsOH4cUXYfx4mDABdu0CqRTi49sftIqLYcgQCAkBB1vBKRw8ukLBrwqFEGvECPD3h59/hnHjICwMvv4apFJYt65w06Y2F3X6NOzaBePHC3mN6XDYxVWhQHfey8pw4EAEwAEDsLQUd+8uCA11kkgWL17chkJqavCVV9BgwLo6nDZNmIY5It9++y0ATJ8+vaysDAC8vLzMLzM3NxcA+vfvb35RDIHuvHfuDKmpMGAA5OXB+PG60NCL8+eDWLxhw4YPPvjgMcdqtXDqFCxbBhkZMHAgiETg6gpOTk3LVoiHeCBitTvM1NbWfvrpp4gINjd4b06XLpCRAWFhRe7uL4wd+2NKyv79+yMjIzdt2mQwGDZv3vzg+wsLIS0N0tIgJaVppebKlWCc6q/VQrO0l0RzjBLIZLI333zTw8NDr9cbk2uYyJkzZ+bMmZOfn+/k5DRv3jxj/mKDwSDM5nJChT6G9tatoKFDAaB///4lJSVHjx6VyWQAMHfuXIPBUFlZyaYa75g0qWnuLfsZNAjfew8zM1GlwsWLcf58FHTSmYNx+fJlAAgICGjf4bW1tXFxccyewYMHZ2Vl3b17NyYmRiaTubm5BQQEJCYm6sxO3CP87Ia7d++y6T5+fn5FRUXHjh1zdnYeNmzYqFGjjHlQ+3TogF5eGBWFKhX+DaYaC8vNmzcBQC6X/972JDvJycm9evWCZrnK9uzZ4+XlBQBubm7sFwAYNGhQUlKSObN2uUybqaysHDFiBAD4+PgcOHCAZZpkH+bZZ59ds2bNhQsXDH+/qcZCodFotm/fLhKJxGJxVFTU1YcTvLTEw7nKysrKWPoWABg9enR+fn5jY+OXX37JzGN6/XDoUPvOE6/5WMa4JZPJxGLxrFmzDh48WF1dzam6vxt//PHHnDlz2DIKqVT6+uuvtx69TMxVxtBoNImJiWy26svffBOVm3vkzh19G1fXcZzoZ8yS1adPH361/J25cePGO++84+LiAgCtRK+lS5eyCBQcHJyXl/fYXGWMxsbGL1WqadnZgVlZgVlZ03Nz0+7eNT168Z1BqlQqAeDNN9/kWsvfnMfqdfLkSTc3N6VSqdPpTM9VxtAaDEfu3PlXTg7Ti0Wv72/f/t+Skv/cutXKgXzFGj9+PADs3r2bay0EPk6v8vLy9uUqYzTX658XLy4rLKzT6+tbHSVzFMu4IKKsrIxfLURzbty4YcxZx/TKz883P1cZQ2Mw7L19e9/t22/l528pKjraauIrjmJlZGSwOyX8qiBapKCgYNasWUwvqVTq4+PDAlVkZKQg/+SfmLBKjONiCvvdX8/e6d27944dO65duxYTE4OIAODp6ZmYmPj999+zKVyWwHx/H0VISAgAHDp0iF8VxGNZtGgRACxcuFDAMqtMuC/PK2LV1NRkZmZKpdIxY8ZwqoIwBbZRj1arFbBMuQnfS/IS6/Tp01qtNigoqPl2VoTlEXwGn4nwEsuO9pl1bKyVDJGXWGzkTkuZrY61UotxEauioiI7O1smkwUHB/MonzAda4nFJftXenq6wWAICQlxtJRWdoinj+fT/31a7iK3cL3Ci6XRaNikbOoHbQHFPxTn3c4rJJa+hBJMrMLCwrS0tLS0tJSUlKqqqnHjxoWHhwtVONFu5GK5CET39PcMYBBbMBGJWWKp9eoz588cTjyckpJy48YN4/ODBw9evXq1cds4wopIRBJ3sXuNoaZGXyOXWK5DfIxYBY0FlfrK4W7D96v3R3pGAoAe9ZfqL6XdS0urTjtVc2rkuZFnt50FgI4dO4aGhoaFhU2cOJHNKSNsBIVEUWOoqdJX2YpYn5V/VqGr8JP5levKk6uT7+ruJlcnp99Lr9RXsjc4iZw6jum4du3a8PDwYcOGCbO6gxAahURRrC2u0lf1AMv9w7cm1qmaU0m+Sez3A+oD626tK2gsAIDeLr3D/hEW9o+wcHm4QqIA6vFsG0+JJwBU6S16x6E1sUTwl5V9Szov0YM+XB7u6+z7qEMIG2Rj942p1amV+spL9ZfKteXj5eMtUGlrYvk6++5T7wuQBUhFUgB4o+MbFmgQISzluvINtzb8u8e/L9ZdLNeWl+vKLVNva6Oitd3WSkXSMzVnZCLZ60++bpkGEcJyrvbcVM+p3Zy6vaB4wVnsbLF6W4tYYhD/S/Ev9nsPZ7rQs0tcxa7F2mLL18vlKx3CdnjW41lVuUomkpVqS59xf8Zi9YqQNnVxdHSou9Jw5UnpkwqJQoc6y9zNIrEILtAtTYILJBbBBRKL4AKJRXCBxCK4QGIRXCCxCC6QWAQXSCyCCyQWwQUSi+ACiUVwgcQiuEBiEVwgsQgukFgEF0gsggskFsEFEovgAolFcIHEIrhAYhFcILEILpBYBBdILIILJBbBBRKL4AKJRXCBxCK4QGIRXCCxCC6QWAQXSCyCCyQWwQUSi+ACiUVwgcQiuEBiEVwgsQgukFgEF0gsggskFsEFEovgAolFcIHEIrhAYhFcILEILpBYBBf+DwNrnEhwxNvaAAACKXpUWHRyZGtpdFBLTCByZGtpdCAyMDIwLjA5LjQAAHice79v7T0GIOABYkYGCJADYkUgbmAUZFAAibMxJAApJiY2Bg0gzczCAaGZYDRCHkKzO4DFmdkc0NQ7QNVDxRF0Blg9I7oEOwNYgokRp0qYC6FcThgXrgzKQDgJQwDNZG5gODAyMTAxazAxsSiwsDKwsjGwsTOwcyRwcGowcXAlcHEncPNkMPHwJvDyZTDx8SfwCygICCoICmUwCQknCIswCItmMImKMYiKJ4hLZDDxS2YwSUolSElnMEnLJMjIAnWyJ8jwJchyJ0gIJoiwsLJzcHHzsPHyycgCKSFhUXEJQTZJKWkZPn5xWIwwyK29wnrww8y+AyBOStLdA5G3G8HsNI+LByZeUAOz40o/H7A/f2w/iF3IuPhAUjAvWLz4+bQDHFsdweK/HAIPzG7Yvg/E/sdjeUDqTbc9iG31u/RAnaqAA4jN+mLVAdVSLjA7y9HpwE+WRDB78rZT+/9e8ACzH4Tu3x/14yJY7xxv2X1sf8rBbPdFPfbea5+C2VHqMg5fNvWD2ZuvKzqsu7UfbO/LteUOzB9bwe5xjqt1CDyrBHanzayVDrWnfMHszKI1DsvOTwOztddedLj5SQLMdpvxx4HlgzOY/e/KOQeVihSwOY9fLna4ypsENt/cN8fBJukn2N67c9Ic3rXGgN28/JiAQ+/BZjB7imOjfenqIDA7efXKfQtX1ILZYgDvC50ESozh6AAAAhx6VFh0TU9MIHJka2l0IDIwMjAuMDkuNAAAeJydVcuK3DAQvM9X9A9E9Futc2ZzWbKBHPIPgRzz/6QlebReyIJHxgxVI6tcrX74Bv36eX/9/RfWxffbDQRBBAD/e7fW4Bcj4i0f/xJFXLUjLWouXQNLriJ8/fOZxPkeKl4ahUwVtMCzCjyhYorUERdHtz2VmntjqFAxEz6p/LiuYgWbtOmFMTZVtFSy6AhLNa97EUlhbz5VxEL3VLhEo7GXemx0Unl7xkuojMzkuRjLnhcrohhThVx073SloNjIjBQja3sqWSUhdaqQ1NiLiIo2jXm6rriZIyxk4nNv89irl5HfuZdKbbrnJTOj0tpUIWbfVTGOowOk6jmi61WXmYmaO8Y5o/pmRFKaxdHTprKXacjaxTmlsi/J9qZUV4mGjxnBH7xcnruQE9NYZ0SptxlRzckwqq53lNM5om/XVbyoj8mQmY7G2+eStSZThRk3I5LijXnWbrbleUo9VXWOIhOp2mY35px0HtNWC1HVPS9Z9zjzm1XXaPNLkj0o8xuQvfBx7l5WyVB4/HaSSBZJpOOvg9haSeSLJKqLJIpFErWh0UkDwqWWhB4riYgXYSBZRKBHdxCFXsoHMSBfxIGWg0S0HCSi5SAR44Mk6kmkRZaDRLzOoJPlIBHb6aW8HCTiukiF3v8HCeDlIJHgKTiI08p7cPnM+4HkG+nx2HeAl7f77R9ofpL5K6yluwAAAWx6VFh0U01JTEVTIHJka2l0IDIwMjAuMDkuNAAAeJwtkUuO4zAQQ6/SSxuQBdW/CkFWBmY5OYS2g8wF+vBNKQ14oyeaVaRez/u473/n677fNI/n6/w/edLEd/ydMueBy3n8OeeU8z3f4Pz1fVzRfeTIdlE3E26Py7vpGNUuxpVrblSU7O3SPiyHAGUXV+WF1JwLyPooKVk/8kgmIO1BFtau0cPcfcmks5fVYmKp2417FsGNlgXpVqWKeoOX8a+9KGxByOUjGWKsTbqR1bJBhpQAIInwDbQ0Cb6OQctldDJxxBu9PD3B1tAMaKJUrD24q1ThTMy+z8YZn4VDEag9sJ0XNBgw1LE4SFlmrvCmEmgN+46xmkVgMv2QzIq2a+GED7o2lt21ZCHcI9CErHaQzsl4adRlV5jFatsHm8kizAO9rulezCsn4gptMATPKV3xPLFCsDNx004Ukjs1YhMUXBS0qxEhSQcqNMzt/P4BQYV7djDEiVAAAAAASUVORK5CYII=\" alt=\"Mol\"/></td>\n",
       "      <td>LCC(=O)OCCN1C(=O)Oc2c1cc1c(Nc3cc(L)c(F)cc3)ncn...</td>\n",
       "      <td>[[0.0, 0.0, 0.0, 0.0, 0.0, 0.0, 0.0, 0.0, 0.0,...</td>\n",
       "      <td>[[0.0, 0.0, 0.0, 1.0, 0.0, 0.0, 0.0, 0.0, 0.0,...</td>\n",
       "      <td>[[0.0, 0.0, 0.0, 1.0, 0.0, 0.0, 0.0, 0.0, 0.0,...</td>\n",
       "      <td>[[0.0, 0.0, 0.0, 1.0, 0.0, 0.0, 0.0, 0.0, 0.0,...</td>\n",
       "      <td>[[0.0, 0.0, 0.0, 0.0, 0.0, 0.0, 0.0, 0.0, 0.0,...</td>\n",
       "    </tr>\n",
       "  </tbody>\n",
       "</table>\n",
       "</div>"
      ],
      "text/plain": [
       "       chembl_id                                   canonical_smiles  \\\n",
       "0   CHEMBL207869  Clc1c(OCc2cc(F)ccc2)ccc(Nc2c(C#Cc3ncccn3)cncn2)c1   \n",
       "1  CHEMBL3940060  ClCC(=O)OCCN1C(=O)Oc2c1cc1c(Nc3cc(Cl)c(F)cc3)n...   \n",
       "\n",
       "                                               Mol2D  \\\n",
       "0  <img data-content=\"rdkit/molecule\" src=\"data:i...   \n",
       "1  <img data-content=\"rdkit/molecule\" src=\"data:i...   \n",
       "\n",
       "                          processed_canonical_smiles  \\\n",
       "0   Lc1c(OCc2cc(F)ccc2)ccc(Nc2c(C#Cc3ncccn3)cncn2)c1   \n",
       "1  LCC(=O)OCCN1C(=O)Oc2c1cc1c(Nc3cc(L)c(F)cc3)ncn...   \n",
       "\n",
       "                              unique_char_ohe_matrix  \\\n",
       "0  [[0.0, 0.0, 0.0, 0.0, 0.0, 0.0, 0.0, 0.0, 0.0,...   \n",
       "1  [[0.0, 0.0, 0.0, 0.0, 0.0, 0.0, 0.0, 0.0, 0.0,...   \n",
       "\n",
       "                       sklearn_ohe_matrix_no_padding  \\\n",
       "0  [[0.0, 0.0, 0.0, 0.0, 0.0, 0.0, 0.0, 0.0, 0.0,...   \n",
       "1  [[0.0, 0.0, 0.0, 1.0, 0.0, 0.0, 0.0, 0.0, 0.0,...   \n",
       "\n",
       "                    sklearn_ohe_matrix_later_padding  \\\n",
       "0  [[0.0, 0.0, 0.0, 0.0, 0.0, 0.0, 0.0, 0.0, 0.0,...   \n",
       "1  [[0.0, 0.0, 0.0, 1.0, 0.0, 0.0, 0.0, 0.0, 0.0,...   \n",
       "\n",
       "                  sklearn_ohe_matrix_initial_padding  \\\n",
       "0  [[0.0, 0.0, 0.0, 0.0, 0.0, 0.0, 0.0, 0.0, 0.0,...   \n",
       "1  [[0.0, 0.0, 0.0, 1.0, 0.0, 0.0, 0.0, 0.0, 0.0,...   \n",
       "\n",
       "                    keras_ohe_matrix_without_padding  \n",
       "0  [[0.0, 0.0, 0.0, 0.0, 0.0, 0.0, 0.0, 0.0, 0.0,...  \n",
       "1  [[0.0, 0.0, 0.0, 0.0, 0.0, 0.0, 0.0, 0.0, 0.0,...  "
      ]
     },
     "execution_count": 34,
     "metadata": {},
     "output_type": "execute_result"
    }
   ],
   "source": [
    "# Apply the function over the processed canonical SMILES strings\n",
    "df['keras_ohe_matrix_without_padding'] = df['processed_canonical_smiles'].apply(\n",
    "                                            keras_one_hot_encoded_matrix, \n",
    "                                            smiles_maxlen = smiles_maxlen, \n",
    "                                            unique_char = unique_char, \n",
    "                                            islaterpadding=False)\n",
    "df.head(2)\n",
    "# NBVAL_CHECK_OUTPUT"
   ]
  },
  {
   "cell_type": "markdown",
   "metadata": {},
   "source": [
    "**Visualization of one-hot encoded matrix (unequal dimension)**"
   ]
  },
  {
   "cell_type": "code",
   "execution_count": 35,
   "metadata": {},
   "outputs": [
    {
     "data": {
      "image/png": "[encoded data removed]",
      "text/plain": [
       "<Figure size 432x288 with 1 Axes>"
      ]
     },
     "metadata": {
      "needs_background": "light"
     },
     "output_type": "display_data"
    },
    {
     "name": "stdout",
     "output_type": "stream",
     "text": [
      "Shape of one-hot matrix :  (14, 43)\n",
      "Associated canonical SMILES:  N([C@H](C)c1ccccc1)c1ncnc2oc(-c3ccccc3)cc12\n"
     ]
    }
   ],
   "source": [
    "# Choose index of the compound for which the OHE matrix is visualised \n",
    "index = 100\n",
    "one_hot_matrix_plot(df.iloc[index]['keras_ohe_matrix_without_padding'],\n",
    "                    df.iloc[index]['keras_ohe_matrix_without_padding'],\n",
    "                    df.iloc[index]['processed_canonical_smiles'])  \n",
    "# NBVAL_CHECK_OUTPUT"
   ]
  },
  {
   "cell_type": "markdown",
   "metadata": {},
   "source": [
    "#### With padding (equal dimension)"
   ]
  },
  {
   "cell_type": "code",
   "execution_count": 36,
   "metadata": {},
   "outputs": [
    {
     "data": {
      "text/html": [
       "<div>\n",
       "<style scoped>\n",
       "    .dataframe tbody tr th:only-of-type {\n",
       "        vertical-align: middle;\n",
       "    }\n",
       "\n",
       "    .dataframe tbody tr th {\n",
       "        vertical-align: top;\n",
       "    }\n",
       "\n",
       "    .dataframe thead th {\n",
       "        text-align: right;\n",
       "    }\n",
       "</style>\n",
       "<table border=\"1\" class=\"dataframe\">\n",
       "  <thead>\n",
       "    <tr style=\"text-align: right;\">\n",
       "      <th></th>\n",
       "      <th>chembl_id</th>\n",
       "      <th>canonical_smiles</th>\n",
       "      <th>Mol2D</th>\n",
       "      <th>processed_canonical_smiles</th>\n",
       "      <th>unique_char_ohe_matrix</th>\n",
       "      <th>sklearn_ohe_matrix_no_padding</th>\n",
       "      <th>sklearn_ohe_matrix_later_padding</th>\n",
       "      <th>sklearn_ohe_matrix_initial_padding</th>\n",
       "      <th>keras_ohe_matrix_without_padding</th>\n",
       "      <th>keras_ohe_matrix_padding</th>\n",
       "    </tr>\n",
       "  </thead>\n",
       "  <tbody>\n",
       "    <tr>\n",
       "      <th>0</th>\n",
       "      <td>CHEMBL207869</td>\n",
       "      <td>Clc1c(OCc2cc(F)ccc2)ccc(Nc2c(C#Cc3ncccn3)cncn2)c1</td>\n",
       "      <td><img data-content=\"rdkit/molecule\" src=\"data:image/png;base64,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\" alt=\"Mol\"/></td>\n",
       "      <td>Lc1c(OCc2cc(F)ccc2)ccc(Nc2c(C#Cc3ncccn3)cncn2)c1</td>\n",
       "      <td>[[0.0, 0.0, 0.0, 0.0, 0.0, 0.0, 0.0, 0.0, 0.0,...</td>\n",
       "      <td>[[0.0, 0.0, 0.0, 0.0, 0.0, 0.0, 0.0, 0.0, 0.0,...</td>\n",
       "      <td>[[0.0, 0.0, 0.0, 0.0, 0.0, 0.0, 0.0, 0.0, 0.0,...</td>\n",
       "      <td>[[0.0, 0.0, 0.0, 0.0, 0.0, 0.0, 0.0, 0.0, 0.0,...</td>\n",
       "      <td>[[0.0, 0.0, 0.0, 0.0, 0.0, 0.0, 0.0, 0.0, 0.0,...</td>\n",
       "      <td>[[0.0, 0.0, 0.0, 0.0, 0.0, 0.0, 0.0, 0.0, 0.0,...</td>\n",
       "    </tr>\n",
       "    <tr>\n",
       "      <th>1</th>\n",
       "      <td>CHEMBL3940060</td>\n",
       "      <td>ClCC(=O)OCCN1C(=O)Oc2c1cc1c(Nc3cc(Cl)c(F)cc3)n...</td>\n",
       "      <td><img data-content=\"rdkit/molecule\" src=\"data:image/png;base64,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\" alt=\"Mol\"/></td>\n",
       "      <td>LCC(=O)OCCN1C(=O)Oc2c1cc1c(Nc3cc(L)c(F)cc3)ncn...</td>\n",
       "      <td>[[0.0, 0.0, 0.0, 0.0, 0.0, 0.0, 0.0, 0.0, 0.0,...</td>\n",
       "      <td>[[0.0, 0.0, 0.0, 1.0, 0.0, 0.0, 0.0, 0.0, 0.0,...</td>\n",
       "      <td>[[0.0, 0.0, 0.0, 1.0, 0.0, 0.0, 0.0, 0.0, 0.0,...</td>\n",
       "      <td>[[0.0, 0.0, 0.0, 1.0, 0.0, 0.0, 0.0, 0.0, 0.0,...</td>\n",
       "      <td>[[0.0, 0.0, 0.0, 0.0, 0.0, 0.0, 0.0, 0.0, 0.0,...</td>\n",
       "      <td>[[0.0, 0.0, 0.0, 0.0, 0.0, 0.0, 0.0, 0.0, 0.0,...</td>\n",
       "    </tr>\n",
       "  </tbody>\n",
       "</table>\n",
       "</div>"
      ],
      "text/plain": [
       "       chembl_id                                   canonical_smiles  \\\n",
       "0   CHEMBL207869  Clc1c(OCc2cc(F)ccc2)ccc(Nc2c(C#Cc3ncccn3)cncn2)c1   \n",
       "1  CHEMBL3940060  ClCC(=O)OCCN1C(=O)Oc2c1cc1c(Nc3cc(Cl)c(F)cc3)n...   \n",
       "\n",
       "                                               Mol2D  \\\n",
       "0  <img data-content=\"rdkit/molecule\" src=\"data:i...   \n",
       "1  <img data-content=\"rdkit/molecule\" src=\"data:i...   \n",
       "\n",
       "                          processed_canonical_smiles  \\\n",
       "0   Lc1c(OCc2cc(F)ccc2)ccc(Nc2c(C#Cc3ncccn3)cncn2)c1   \n",
       "1  LCC(=O)OCCN1C(=O)Oc2c1cc1c(Nc3cc(L)c(F)cc3)ncn...   \n",
       "\n",
       "                              unique_char_ohe_matrix  \\\n",
       "0  [[0.0, 0.0, 0.0, 0.0, 0.0, 0.0, 0.0, 0.0, 0.0,...   \n",
       "1  [[0.0, 0.0, 0.0, 0.0, 0.0, 0.0, 0.0, 0.0, 0.0,...   \n",
       "\n",
       "                       sklearn_ohe_matrix_no_padding  \\\n",
       "0  [[0.0, 0.0, 0.0, 0.0, 0.0, 0.0, 0.0, 0.0, 0.0,...   \n",
       "1  [[0.0, 0.0, 0.0, 1.0, 0.0, 0.0, 0.0, 0.0, 0.0,...   \n",
       "\n",
       "                    sklearn_ohe_matrix_later_padding  \\\n",
       "0  [[0.0, 0.0, 0.0, 0.0, 0.0, 0.0, 0.0, 0.0, 0.0,...   \n",
       "1  [[0.0, 0.0, 0.0, 1.0, 0.0, 0.0, 0.0, 0.0, 0.0,...   \n",
       "\n",
       "                  sklearn_ohe_matrix_initial_padding  \\\n",
       "0  [[0.0, 0.0, 0.0, 0.0, 0.0, 0.0, 0.0, 0.0, 0.0,...   \n",
       "1  [[0.0, 0.0, 0.0, 1.0, 0.0, 0.0, 0.0, 0.0, 0.0,...   \n",
       "\n",
       "                    keras_ohe_matrix_without_padding  \\\n",
       "0  [[0.0, 0.0, 0.0, 0.0, 0.0, 0.0, 0.0, 0.0, 0.0,...   \n",
       "1  [[0.0, 0.0, 0.0, 0.0, 0.0, 0.0, 0.0, 0.0, 0.0,...   \n",
       "\n",
       "                            keras_ohe_matrix_padding  \n",
       "0  [[0.0, 0.0, 0.0, 0.0, 0.0, 0.0, 0.0, 0.0, 0.0,...  \n",
       "1  [[0.0, 0.0, 0.0, 0.0, 0.0, 0.0, 0.0, 0.0, 0.0,...  "
      ]
     },
     "execution_count": 36,
     "metadata": {},
     "output_type": "execute_result"
    }
   ],
   "source": [
    "# Apply the function over the Processed_canonical_smiles strings\n",
    "df['keras_ohe_matrix_padding'] = df['processed_canonical_smiles'].apply(\n",
    "                                    keras_one_hot_encoded_matrix, \n",
    "                                    smiles_maxlen = smiles_maxlen,\n",
    "                                    unique_char = unique_char, \n",
    "                                    islaterpadding=True)\n",
    "df.head(2)\n",
    "# NBVAL_CHECK_OUTPUT"
   ]
  },
  {
   "cell_type": "markdown",
   "metadata": {},
   "source": [
    "**Visualization of one-hot encoded matrix (unequal dimension)**"
   ]
  },
  {
   "cell_type": "code",
   "execution_count": 37,
   "metadata": {},
   "outputs": [
    {
     "data": {
      "image/png": "[encoded data removed]",
      "text/plain": [
       "<Figure size 432x288 with 1 Axes>"
      ]
     },
     "metadata": {
      "needs_background": "light"
     },
     "output_type": "display_data"
    },
    {
     "name": "stdout",
     "output_type": "stream",
     "text": [
      "Shape of one-hot matrix :  (36, 267)\n",
      "Associated canonical SMILES:  O(C)c1c(C(=Cc2c3c(N)nc(N)nc3oc2)CCCC)cccc1\n"
     ]
    }
   ],
   "source": [
    "# Choose index of the compound for which the OHE matrix is visualised \n",
    "index = 2705\n",
    "one_hot_matrix_plot(df.iloc[index]['keras_ohe_matrix_padding'],\n",
    "                    unique_char,\n",
    "                    df.iloc[index]['processed_canonical_smiles'])  \n",
    "# NBVAL_CHECK_OUTPUT"
   ]
  },
  {
   "cell_type": "code",
   "execution_count": null,
   "metadata": {},
   "outputs": [],
   "source": []
  }
 ],
 "metadata": {
  "kernelspec": {
   "display_name": "Python 3",
   "language": "python",
   "name": "python3"
  },
  "language_info": {
   "codemirror_mode": {
    "name": "ipython",
    "version": 3
   },
   "file_extension": ".py",
   "mimetype": "text/x-python",
   "name": "python",
   "nbconvert_exporter": "python",
   "pygments_lexer": "ipython3",
   "version": "3.8.5"
  },
  "toc-autonumbering": true
 },
 "nbformat": 4,
 "nbformat_minor": 4
}
