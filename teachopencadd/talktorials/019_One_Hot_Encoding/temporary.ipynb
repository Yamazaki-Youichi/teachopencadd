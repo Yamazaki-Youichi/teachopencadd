{
 "cells": [
  {
   "cell_type": "markdown",
   "metadata": {},
   "source": [
    "## New structure\n",
    "\n",
    "### Practical\n",
    "1. Read data\n",
    "2. Process data\n",
    "     - Double digit replacement\n",
    "     - Compute longest (& shortest) smiles\n",
    "3. Python implementation\n",
    "     - One-hot encode (padding=True)\n",
    "     - Visualization\n",
    "          - Shortest smiles\n",
    "          - Longest smiles \n",
    "4. Supplementary material or Other implementations (depending of the length of the notebook)\n",
    "   - Scikit learn implementation\n",
    "   - Keras implementation\n"
   ]
  },
  {
   "cell_type": "markdown",
   "metadata": {},
   "source": [
    "## Practical"
   ]
  },
  {
   "cell_type": "markdown",
   "metadata": {},
   "source": [
    "### Import necessary packages"
   ]
  },
  {
   "cell_type": "code",
   "execution_count": 1,
   "metadata": {},
   "outputs": [],
   "source": [
    "from pathlib import Path\n",
    "from warnings import filterwarnings\n",
    "from timeit import default_timer as timer\n",
    "\n",
    "import pandas as pd\n",
    "import numpy as np\n",
    "from pathlib import Path\n",
    "from rdkit import Chem\n",
    "from rdkit.Chem import Draw, PandasTools\n",
    "from sklearn.preprocessing import LabelEncoder\n",
    "from sklearn.preprocessing import OneHotEncoder\n",
    "import keras\n",
    "from keras.utils import to_categorical\n",
    "from keras.preprocessing.text import Tokenizer\n",
    "import matplotlib.pyplot as plt\n",
    "\n",
    "# Silence some expected warnings\n",
    "filterwarnings(\"ignore\")"
   ]
  },
  {
   "cell_type": "code",
   "execution_count": 2,
   "metadata": {},
   "outputs": [],
   "source": [
    "# Set path to this notebook\n",
    "HERE = Path(_dh[-1])\n",
    "DATA = HERE / \"data\""
   ]
  },
  {
   "cell_type": "markdown",
   "metadata": {},
   "source": [
    "### Read data\n",
    "\n",
    "Using the `pandas` library, we first load the subset of the ChEMBL dataset and draw the molecules using the `rdkit.draw` function. We then python implementations of `one-hot encoding` to the SMILES structures.\n",
    "\n",
    "Let's load the data and quickly analyze its column values and check if there are any missing values:"
   ]
  },
  {
   "cell_type": "code",
   "execution_count": 3,
   "metadata": {},
   "outputs": [],
   "source": [
    "df = pd.read_csv(DATA/'CHEMBL25_activities_EGFR.csv',\n",
    "                 lineterminator='\\n', index_col=0)  # NBVAL_CHECK_OUTPUT\n",
    "df=df.reset_index(drop=True)"
   ]
  },
  {
   "cell_type": "code",
   "execution_count": 4,
   "metadata": {},
   "outputs": [
    {
     "name": "stdout",
     "output_type": "stream",
     "text": [
      "Shape of dataframe :  (3906, 5)\n",
      "<class 'pandas.core.frame.DataFrame'>\n",
      "RangeIndex: 3906 entries, 0 to 3905\n",
      "Data columns (total 5 columns):\n",
      " #   Column            Non-Null Count  Dtype  \n",
      "---  ------            --------------  -----  \n",
      " 0   chembl_id         3906 non-null   object \n",
      " 1   IC50              3906 non-null   float64\n",
      " 2   units             3906 non-null   object \n",
      " 3   canonical_smiles  3906 non-null   object \n",
      " 4   pIC50\r",
      "            3906 non-null   float64\n",
      "dtypes: float64(2), object(3)\n",
      "memory usage: 152.7+ KB\n"
     ]
    }
   ],
   "source": [
    "# Check the dimension and missing value of the data\n",
    "print(\"Shape of dataframe : \", df.shape)\n",
    "df.info()"
   ]
  },
  {
   "cell_type": "code",
   "execution_count": 5,
   "metadata": {},
   "outputs": [
    {
     "data": {
      "text/html": [
       "<div>\n",
       "<style scoped>\n",
       "    .dataframe tbody tr th:only-of-type {\n",
       "        vertical-align: middle;\n",
       "    }\n",
       "\n",
       "    .dataframe tbody tr th {\n",
       "        vertical-align: top;\n",
       "    }\n",
       "\n",
       "    .dataframe thead th {\n",
       "        text-align: right;\n",
       "    }\n",
       "</style>\n",
       "<table border=\"1\" class=\"dataframe\">\n",
       "  <thead>\n",
       "    <tr style=\"text-align: right;\">\n",
       "      <th></th>\n",
       "      <th>chembl_id</th>\n",
       "      <th>IC50</th>\n",
       "      <th>units</th>\n",
       "      <th>canonical_smiles</th>\n",
       "      <th>pIC50\\r</th>\n",
       "    </tr>\n",
       "  </thead>\n",
       "  <tbody>\n",
       "    <tr>\n",
       "      <th>0</th>\n",
       "      <td>CHEMBL207869</td>\n",
       "      <td>77.0</td>\n",
       "      <td>nM</td>\n",
       "      <td>Clc1c(OCc2cc(F)ccc2)ccc(Nc2c(C#Cc3ncccn3)cncn2)c1</td>\n",
       "      <td>7.113509</td>\n",
       "    </tr>\n",
       "    <tr>\n",
       "      <th>1</th>\n",
       "      <td>CHEMBL3940060</td>\n",
       "      <td>330.0</td>\n",
       "      <td>nM</td>\n",
       "      <td>ClCC(=O)OCCN1C(=O)Oc2c1cc1c(Nc3cc(Cl)c(F)cc3)n...</td>\n",
       "      <td>6.481486</td>\n",
       "    </tr>\n",
       "    <tr>\n",
       "      <th>2</th>\n",
       "      <td>CHEMBL3678951</td>\n",
       "      <td>1.0</td>\n",
       "      <td>nM</td>\n",
       "      <td>FC(F)(F)c1cc(Nc2n(C(C)C)c3nc(Nc4ccc(N5CC[NH+](...</td>\n",
       "      <td>9.000000</td>\n",
       "    </tr>\n",
       "  </tbody>\n",
       "</table>\n",
       "</div>"
      ],
      "text/plain": [
       "       chembl_id   IC50 units  \\\n",
       "0   CHEMBL207869   77.0    nM   \n",
       "1  CHEMBL3940060  330.0    nM   \n",
       "2  CHEMBL3678951    1.0    nM   \n",
       "\n",
       "                                    canonical_smiles   pIC50\\r  \n",
       "0  Clc1c(OCc2cc(F)ccc2)ccc(Nc2c(C#Cc3ncccn3)cncn2)c1  7.113509  \n",
       "1  ClCC(=O)OCCN1C(=O)Oc2c1cc1c(Nc3cc(Cl)c(F)cc3)n...  6.481486  \n",
       "2  FC(F)(F)c1cc(Nc2n(C(C)C)c3nc(Nc4ccc(N5CC[NH+](...  9.000000  "
      ]
     },
     "execution_count": 5,
     "metadata": {},
     "output_type": "execute_result"
    }
   ],
   "source": [
    "# Look at the first 3 rows\n",
    "df.head(3)  # NBVAL_CHECK_OUTPUT"
   ]
  },
  {
   "cell_type": "code",
   "execution_count": 6,
   "metadata": {},
   "outputs": [],
   "source": [
    "# select the columns which are necessary\n",
    "df = df[['chembl_id', 'canonical_smiles']]"
   ]
  },
  {
   "cell_type": "markdown",
   "metadata": {},
   "source": [
    "We can visualize the molecules with their ChEMBL ID using pandas tools and the `draw` method as shown below."
   ]
  },
  {
   "cell_type": "code",
   "execution_count": 7,
   "metadata": {},
   "outputs": [
    {
     "data": {
      "image/png": "[encoded data removed]",
      "text/plain": [
       "<PIL.PngImagePlugin.PngImageFile image mode=RGB size=1000x400 at 0x1B3FBEFF108>"
      ]
     },
     "execution_count": 7,
     "metadata": {},
     "output_type": "execute_result"
    }
   ],
   "source": [
    "# Using pandas tools and the draw method\n",
    "PandasTools.AddMoleculeColumnToFrame(df, smilesCol='canonical_smiles', molCol='Mol2D' )\n",
    "Draw.MolsToGridImage(list(df.Mol2D[0:10]),\n",
    "                     legends=list(df.chembl_id[0:20]),\n",
    "                     molsPerRow=5)  # NBVAL_CHECK_OUTPUT"
   ]
  },
  {
   "cell_type": "markdown",
   "metadata": {},
   "source": [
    "### Process data\n",
    "\n",
    "- SMILES strings could have unequal dimension since their string length might differ. For machine learning application, having equal dimension throughout the data set is required. In order to achieve this, we can first search for the SMILES string with the maximum length (e.g. [len()](https://www.geeksforgeeks.org/python-string-length-len/) method) and pass it as an argument in our function for all the strings.\n",
    "\n",
    "- We searched for all the unique characters present in the SMILES data set which will allow us to remove the characters not present in the current data.\n",
    "\n",
    "- As we know elements in the periodic table are represented by two characters, e.g. 'Cl' stands for chloride. This double-character phenomenon will be misinterpreted by the one hot encoding functions, i.e. it would split 'Cl' into two characters, namely 'C' and 'l', and that could lead to discrepancies, so searching for each unique character and encoding them may not be optimal. Hence, we suggest here to search for all double-character elements in our SMILES data set by comparing the atoms present in our strings with all the possible elements present in the periodic table and replacing all the two alphabetic elements with one character, for example changing 'Cl' to 'L'."
   ]
  },
  {
   "cell_type": "markdown",
   "metadata": {},
   "source": [
    "#### Double digit replacement"
   ]
  },
  {
   "cell_type": "code",
   "execution_count": 8,
   "metadata": {},
   "outputs": [],
   "source": [
    "def assess_two_letter_elements(df):\n",
    "    \"\"\"\n",
    "    Find the two letter elements in dataframe.\n",
    "\n",
    "    Parameters\n",
    "    ----------\n",
    "    df : pandas.DataFrame\n",
    "       Dataframe which requires preprocessing.\n",
    "\n",
    "    Returns\n",
    "    -------\n",
    "    two_letter_elements : list\n",
    "        List with found two letter elements\n",
    "    \"\"\"\n",
    "    # Search for unique characters in our SMILES strings\n",
    "    unique_chars = set(df.canonical_smiles.apply(list).sum())\n",
    "    upper_chars = [] \n",
    "    lower_chars = [] \n",
    "    for entry in unique_chars:\n",
    "        if entry.isalpha():\n",
    "            if entry.isupper():\n",
    "                upper_chars.append(entry)\n",
    "            elif entry.islower():\n",
    "                lower_chars.append(entry)\n",
    "    print(f'Upper letter characters {upper_chars}')\n",
    "    print(f'Lower letter characters {lower_chars}')\n",
    "    \n",
    "    # List of all possible periodic elements\n",
    "    periodic_elements = ['Ac',\n",
    "                         'Al', 'Am', 'Sb', 'Ar', 'As', 'At', 'Ba',\n",
    "                         'Bk', 'Be', 'Bi', 'Bh', 'B', 'Br', 'Cd', 'Ca',\n",
    "                         'Cf', 'C', 'Ce', 'Cs', 'Cl', 'Cr', 'Co', 'Cn',\n",
    "                         'Cu', 'Cm', 'Ds', 'Db', 'Dy', 'Es', 'Er', 'Eu',\n",
    "                         'Fm', 'Fl', 'F', 'Fr', 'Gd', 'Ga', 'Ge', 'Au',\n",
    "                         'Hf', 'Hs', 'He', 'Ho', 'H', 'In', 'I', 'Ir',\n",
    "                         'Fe', 'Kr', 'La', 'Lr', 'Pb', 'Li', 'Lv',\n",
    "                         'Lu', 'Mg', 'Mn', 'Mt', 'Md', 'Hg', 'Mo',\n",
    "                         'Mc', 'Nd', 'Ne', 'Np', 'Ni', 'Nh', 'Nb',\n",
    "                         'N', 'No', 'Og', 'Os', 'O', 'Pd', 'P',\n",
    "                         'Pt', 'Pu', 'Po', 'K', 'Pr', 'Pm', 'Pa',\n",
    "                         'Ra', 'Rn', 'Re', 'Rh', 'Rg', 'Rb', 'Ru', 'Rf',\n",
    "                         'Sm', 'Sc', 'Sg', 'Se', 'Si', 'Ag', 'Na',\n",
    "                         'Sr', 'S', 'Ta', 'Tc', 'Te', 'Ts', 'Tb', 'Tl', 'Th',\n",
    "                         'Tm', 'Sn',\n",
    "                         'Ti', 'W', 'U', 'V', 'Xe', 'Yb', 'Y', 'Zn', 'Zr']\n",
    "\n",
    "    # 'two_char_elements' is a list that contains two letter elements\n",
    "    # which are valid when compared with all the possible periodic elements.\n",
    "    two_char_elements = []\n",
    "    for upper in upper_chars:\n",
    "        for lower in lower_chars:\n",
    "            ch = upper + lower\n",
    "            if (ch in periodic_elements):\n",
    "                two_char_elements.append(ch)\n",
    "\n",
    "    # 'two_charc_elements_smiles' is a set that contains all the possible\n",
    "    # two letter elements in our SMILES strings, that is specific to our dataset.\n",
    "    two_char_elements_smiles = set()\n",
    "    for char in two_char_elements:\n",
    "        for index in range(len(df)):\n",
    "            if (df['canonical_smiles'].iloc[index].find(char) != -1):\n",
    "                two_char_elements_smiles.add(char)\n",
    "    return(two_char_elements_smiles)"
   ]
  },
  {
   "cell_type": "code",
   "execution_count": 9,
   "metadata": {},
   "outputs": [
    {
     "name": "stdout",
     "output_type": "stream",
     "text": [
      "Upper letter characters ['B', 'N', 'O', 'C', 'S', 'P', 'I', 'H', 'F']\n",
      "Lower letter characters ['s', 'o', 'r', 'n', 'e', 'c', 'l']\n",
      "Two letter elements found in data set: {'Cl', 'Sc', 'Se', 'Cn', 'Br'}\n"
     ]
    }
   ],
   "source": [
    "elements_found = assess_two_letter_elements(df)\n",
    "print(f'Two letter elements found in data set: {elements_found}')"
   ]
  },
  {
   "cell_type": "markdown",
   "metadata": {},
   "source": [
    "Based on this finding we defined our own dictionary for replacement. Note that\n",
    "- We excluded *Sc* from replacement, since it is more likely that sulfur (S) and and aromatic carbon (c) are contained in a molecule than scandium (Sc).\n",
    "- In isomeric SMILES `@` and `@@` are used to describe enantiomers, thus we also need to replace the latter by a one letter code.\n",
    "- If you are working wit a different data set, you may want to adapt the below mapping dictionary."
   ]
  },
  {
   "cell_type": "code",
   "execution_count": 10,
   "metadata": {},
   "outputs": [],
   "source": [
    "# Dictionary to replace the two letter elements found\n",
    "replace_dict ={'Cl':'L', 'Br':'R' ,'Cn':'X' , 'Se':'Z' , '@@':'$'}"
   ]
  },
  {
   "cell_type": "code",
   "execution_count": 11,
   "metadata": {},
   "outputs": [],
   "source": [
    "# Function used to create the preprocessed data\n",
    "def preprocessing_data(df, replacement):\n",
    "    \"\"\"\n",
    "    Preprocess the SMILES structures in a data set.\n",
    "\n",
    "    Parameters\n",
    "    ----------\n",
    "    df : pandas.DataFrame\n",
    "       Dataframe which requires preprocessing.\n",
    "    replacement : dict\n",
    "       Dictionary with mapping for replacement.\n",
    "       \n",
    "    Returns\n",
    "    -------\n",
    "    df : pandas.DataFrame\n",
    "        Dataframe with new processed canonical SMILES column.\n",
    "    unique_char : list\n",
    "        List with unique characters present in SMILES.\n",
    "    SMILES_maxlen : int\n",
    "        Maximum length of SMILES string.\n",
    "    \"\"\"\n",
    "    # Print warning if the dataset has a 'Sc' element\n",
    "    for tmp_smiles in df.canonical_smiles:\n",
    "        if (tmp_smiles.find('Sc') != -1): \n",
    "            print('**Warning**: \"Sc\" element is found in the dataset, since the element is rarely found '\n",
    "                  'in the drugs so we are not converting  '\n",
    "                  'it to single letter element, instead considering \"S\" '\n",
    "                  'and \"c\" as seperate elements. ')\n",
    "            break\n",
    "\n",
    "    \n",
    "    # Create a new column having processed canonical SMILES\n",
    "    df['processed_canonical_smiles'] = \"\"\n",
    "\n",
    "    # Replace the two letter elements found\n",
    "    # with one character\n",
    "    for index in range(len(df)):\n",
    "        cur_smiles = df['canonical_smiles'].iloc[index]\n",
    "        for key, value in replacement.items():\n",
    "            cur_smiles = cur_smiles.replace(key,value)\n",
    "        df['processed_canonical_smiles'].iloc[index] = cur_smiles\n",
    "    \n",
    "    # Calculate max length of the SMILES strings\n",
    "    SMILES_maxlen = df[\"processed_canonical_smiles\"].str.len().max()\n",
    "    \n",
    "    unique_char = set(df.processed_canonical_smiles.apply(list).sum())\n",
    "    return unique_char, df, SMILES_maxlen"
   ]
  },
  {
   "cell_type": "markdown",
   "metadata": {},
   "source": [
    "#### Compute longest (& shortest) smiles"
   ]
  },
  {
   "cell_type": "code",
   "execution_count": 12,
   "metadata": {},
   "outputs": [
    {
     "data": {
      "text/plain": [
       "[2705]"
      ]
     },
     "execution_count": 12,
     "metadata": {},
     "output_type": "execute_result"
    }
   ],
   "source": [
    "# Index of the longest smile string\n",
    "longest_smile = max(df[\"canonical_smiles\"], key = len) \n",
    "longest_smile_index = df.canonical_smiles[df.canonical_smiles == longest_smile].index.tolist()\n",
    "longest_smile_index"
   ]
  },
  {
   "cell_type": "code",
   "execution_count": 13,
   "metadata": {},
   "outputs": [
    {
     "data": {
      "text/plain": [
       "[1176]"
      ]
     },
     "execution_count": 13,
     "metadata": {},
     "output_type": "execute_result"
    }
   ],
   "source": [
    "# Index of the shortest smile string\n",
    "shortest_smile = min(df[\"canonical_smiles\"], key = len) \n",
    "shortest_smile_index = df.canonical_smiles[df.canonical_smiles == shortest_smile].index.tolist()\n",
    "shortest_smile_index"
   ]
  },
  {
   "cell_type": "markdown",
   "metadata": {},
   "source": [
    "### Python implementation of one-hot encoding"
   ]
  },
  {
   "cell_type": "markdown",
   "metadata": {},
   "source": [
    "#### One-hot encode (padding=True)"
   ]
  },
  {
   "cell_type": "code",
   "execution_count": 14,
   "metadata": {},
   "outputs": [
    {
     "name": "stdout",
     "output_type": "stream",
     "text": [
      "**Warning**: \"Sc\" element is found in the dataset, since the element is rarely found in the drugs so we are not converting  it to single letter element, instead considering \"S\" and \"c\" as seperate elements. \n"
     ]
    }
   ],
   "source": [
    "# Calling function\n",
    "unique_char, df, SMILES_maxlen = preprocessing_data(df, replace_dict)"
   ]
  },
  {
   "cell_type": "code",
   "execution_count": 15,
   "metadata": {},
   "outputs": [],
   "source": [
    "# Function defined to create one-hot encoded matrix\n",
    "def new_smiles_encoder(smiles, maxlen, uniquechar):\n",
    "    \"\"\"\n",
    "    Function defined using all unique characters in our\n",
    "    processed canonical smiles structures created\n",
    "    from preprocessed function.\n",
    "\n",
    "    Parameters\n",
    "    ----------\n",
    "    smiles : str\n",
    "         SMILES data in string format.\n",
    "    uniquechar : list\n",
    "         list of unique characters in the string dataset.\n",
    "    maxlen : int\n",
    "         maximum length of the SMILES string.\n",
    "\n",
    "    Returns\n",
    "    -------\n",
    "    smiles_matrix : ndarray\n",
    "         One-hot encoded matrix of fixed shape\n",
    "         (unique char in smiles, max smile length).\n",
    "    \"\"\"\n",
    "    # create dictionary of the unique char dataset\n",
    "    smi2index = dict((char, index) for index, char in enumerate(unique_char))\n",
    "    # one hot encoding\n",
    "    smiles_matrix = np.zeros((len(unique_char), maxlen))\n",
    "    for index, char in enumerate(smiles):\n",
    "        smiles_matrix[smi2index[char], index] = 1\n",
    "    return smiles_matrix"
   ]
  },
  {
   "cell_type": "code",
   "execution_count": 16,
   "metadata": {},
   "outputs": [
    {
     "data": {
      "text/html": [
       "<div>\n",
       "<style scoped>\n",
       "    .dataframe tbody tr th:only-of-type {\n",
       "        vertical-align: middle;\n",
       "    }\n",
       "\n",
       "    .dataframe tbody tr th {\n",
       "        vertical-align: top;\n",
       "    }\n",
       "\n",
       "    .dataframe thead th {\n",
       "        text-align: right;\n",
       "    }\n",
       "</style>\n",
       "<table border=\"1\" class=\"dataframe\">\n",
       "  <thead>\n",
       "    <tr style=\"text-align: right;\">\n",
       "      <th></th>\n",
       "      <th>chembl_id</th>\n",
       "      <th>canonical_smiles</th>\n",
       "      <th>Mol2D</th>\n",
       "      <th>processed_canonical_smiles</th>\n",
       "      <th>unique_char_ohe_matrix</th>\n",
       "    </tr>\n",
       "  </thead>\n",
       "  <tbody>\n",
       "    <tr>\n",
       "      <th>0</th>\n",
       "      <td>CHEMBL207869</td>\n",
       "      <td>Clc1c(OCc2cc(F)ccc2)ccc(Nc2c(C#Cc3ncccn3)cncn2)c1</td>\n",
       "      <td><img data-content=\"rdkit/molecule\" src=\"data:image/png;base64,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\" alt=\"Mol\"/></td>\n",
       "      <td>Lc1c(OCc2cc(F)ccc2)ccc(Nc2c(C#Cc3ncccn3)cncn2)c1</td>\n",
       "      <td>[[0.0, 0.0, 0.0, 0.0, 0.0, 0.0, 0.0, 0.0, 0.0,...</td>\n",
       "    </tr>\n",
       "    <tr>\n",
       "      <th>1</th>\n",
       "      <td>CHEMBL3940060</td>\n",
       "      <td>ClCC(=O)OCCN1C(=O)Oc2c1cc1c(Nc3cc(Cl)c(F)cc3)n...</td>\n",
       "      <td><img data-content=\"rdkit/molecule\" src=\"data:image/png;base64,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\" alt=\"Mol\"/></td>\n",
       "      <td>LCC(=O)OCCN1C(=O)Oc2c1cc1c(Nc3cc(L)c(F)cc3)ncn...</td>\n",
       "      <td>[[0.0, 0.0, 0.0, 0.0, 0.0, 0.0, 0.0, 0.0, 0.0,...</td>\n",
       "    </tr>\n",
       "    <tr>\n",
       "      <th>2</th>\n",
       "      <td>CHEMBL3678951</td>\n",
       "      <td>FC(F)(F)c1cc(Nc2n(C(C)C)c3nc(Nc4ccc(N5CC[NH+](...</td>\n",
       "      <td><img data-content=\"rdkit/molecule\" src=\"data:image/png;base64,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\" alt=\"Mol\"/></td>\n",
       "      <td>FC(F)(F)c1cc(Nc2n(C(C)C)c3nc(Nc4ccc(N5CC[NH+](...</td>\n",
       "      <td>[[0.0, 0.0, 0.0, 0.0, 0.0, 0.0, 0.0, 0.0, 0.0,...</td>\n",
       "    </tr>\n",
       "  </tbody>\n",
       "</table>\n",
       "</div>"
      ],
      "text/plain": [
       "       chembl_id                                   canonical_smiles  \\\n",
       "0   CHEMBL207869  Clc1c(OCc2cc(F)ccc2)ccc(Nc2c(C#Cc3ncccn3)cncn2)c1   \n",
       "1  CHEMBL3940060  ClCC(=O)OCCN1C(=O)Oc2c1cc1c(Nc3cc(Cl)c(F)cc3)n...   \n",
       "2  CHEMBL3678951  FC(F)(F)c1cc(Nc2n(C(C)C)c3nc(Nc4ccc(N5CC[NH+](...   \n",
       "\n",
       "                                               Mol2D  \\\n",
       "0  <img data-content=\"rdkit/molecule\" src=\"data:i...   \n",
       "1  <img data-content=\"rdkit/molecule\" src=\"data:i...   \n",
       "2  <img data-content=\"rdkit/molecule\" src=\"data:i...   \n",
       "\n",
       "                          processed_canonical_smiles  \\\n",
       "0   Lc1c(OCc2cc(F)ccc2)ccc(Nc2c(C#Cc3ncccn3)cncn2)c1   \n",
       "1  LCC(=O)OCCN1C(=O)Oc2c1cc1c(Nc3cc(L)c(F)cc3)ncn...   \n",
       "2  FC(F)(F)c1cc(Nc2n(C(C)C)c3nc(Nc4ccc(N5CC[NH+](...   \n",
       "\n",
       "                              unique_char_ohe_matrix  \n",
       "0  [[0.0, 0.0, 0.0, 0.0, 0.0, 0.0, 0.0, 0.0, 0.0,...  \n",
       "1  [[0.0, 0.0, 0.0, 0.0, 0.0, 0.0, 0.0, 0.0, 0.0,...  \n",
       "2  [[0.0, 0.0, 0.0, 0.0, 0.0, 0.0, 0.0, 0.0, 0.0,...  "
      ]
     },
     "execution_count": 16,
     "metadata": {},
     "output_type": "execute_result"
    }
   ],
   "source": [
    "# Apply the function to the processed canonical SMILES strings\n",
    "start = timer()\n",
    "df['unique_char_ohe_matrix'] = df['processed_canonical_smiles'].apply(\n",
    "                                  new_smiles_encoder, maxlen=SMILES_maxlen, \n",
    "                                  uniquechar=unique_char)\n",
    "end = timer()\n",
    "df.head(3)  # NBVAL_CHECK_OUTPUT"
   ]
  },
  {
   "cell_type": "code",
   "execution_count": 17,
   "metadata": {},
   "outputs": [
    {
     "name": "stdout",
     "output_type": "stream",
     "text": [
      "Time to execute the function: 0.23 secs\n"
     ]
    }
   ],
   "source": [
    "# Print time required for execution\n",
    "smiles_encoder_equal_dim = end - start\n",
    "print(f\"Time to execute the function: \"\n",
    "      f\"{smiles_encoder_equal_dim:.2f} secs\")  "
   ]
  },
  {
   "cell_type": "markdown",
   "metadata": {},
   "source": [
    "#### Visualization"
   ]
  },
  {
   "cell_type": "code",
   "execution_count": 18,
   "metadata": {},
   "outputs": [],
   "source": [
    "def one_hot_matrix_plot(ohe_matrix, smiles_char, smiles):\n",
    "    \"\"\"\n",
    "    Visualize one-hot encoded matrix\n",
    "    using matplotlib imshow() function.\n",
    "\n",
    "    Parameters\n",
    "    ----------\n",
    "    one_hot_matrix_plot : ndarray\n",
    "       One-hot encoded (ohe) matrix of shape\n",
    "       (`smiles_char`, `len(smiles)`).\n",
    "    smiles_char : list\n",
    "        list of all possible SMILES characters.\n",
    "    smiles : string\n",
    "        SMILES string of respective molecule        \n",
    "\n",
    "    Returns\n",
    "    ------\n",
    "    None\n",
    "\n",
    "    \"\"\"\n",
    "    im = plt.imshow(ohe_matrix, cmap='hot', interpolation='None')\n",
    "    plt.xlabel('Length of SMILES string')\n",
    "    plt.ylabel(f'Char in SMILES ({len(smiles_char)})')\n",
    "    plt.title('Visualization of one-hot encoded matrix')\n",
    "    plt.show()\n",
    "    print('Shape of one-hot matrix : ', ohe_matrix.shape)\n",
    "    print('Associated canonical SMILES: ', smiles)\n",
    "    return None"
   ]
  },
  {
   "cell_type": "code",
   "execution_count": 19,
   "metadata": {},
   "outputs": [
    {
     "data": {
      "image/png": "[encoded data removed]",
      "text/plain": [
       "<Figure size 432x288 with 1 Axes>"
      ]
     },
     "metadata": {
      "needs_background": "light"
     },
     "output_type": "display_data"
    },
    {
     "name": "stdout",
     "output_type": "stream",
     "text": [
      "Shape of one-hot matrix :  (37, 260)\n",
      "Associated canonical SMILES:  O=C(N[C@@H]1C(=O)N[C@H](CCC[NH3+])C(=O)N[C@@H]([C@H](CC)C)C(=O)N[C@H](Cc2ccccc2)C(=O)N[C@@H](Cc2[nH]cnc2)C(=O)N[C@H](CC(=O)[O-])C(=O)N[C@@H](CC(=O)N)C(=O)NCCCC1)[C@@H](NC(=O)[C@H](NC(=O)[C@@H](NC(=O)[C@H]1N=C([C@@H]([NH3+])[C@H](CC)C)SC1)CC(C)C)CCC(=O)[O-])[C@H](CC)C\n"
     ]
    }
   ],
   "source": [
    "# Pass the index of the longest smile string to visualize the matrix\n",
    "one_hot_matrix_plot(df.iloc[longest_smile_index[0]]['unique_char_ohe_matrix'], unique_char, \n",
    "                    longest_smile)  # NBVAL_CHECK_OUTPUT"
   ]
  },
  {
   "cell_type": "code",
   "execution_count": 20,
   "metadata": {},
   "outputs": [
    {
     "data": {
      "image/png": "[encoded data removed]",
      "text/plain": [
       "<Figure size 432x288 with 1 Axes>"
      ]
     },
     "metadata": {
      "needs_background": "light"
     },
     "output_type": "display_data"
    },
    {
     "name": "stdout",
     "output_type": "stream",
     "text": [
      "Shape of one-hot matrix :  (37, 260)\n",
      "Associated canonical SMILES:  [Cl-]\n"
     ]
    }
   ],
   "source": [
    "# Pass the index of the shortest smile string to visualize the matrix\n",
    "one_hot_matrix_plot(df.iloc[shortest_smile_index[0]]['unique_char_ohe_matrix'], unique_char, \n",
    "                    shortest_smile)  # NBVAL_CHECK_OUTPUT"
   ]
  },
  {
   "cell_type": "markdown",
   "metadata": {},
   "source": [
    "From above, the matrix visualization was performed using matplotlib imshow() function, we can also visualize the entire matrix using the numpy.matrix function, e.g. the one-hot encoded matrix of the longest SMILES string as shown below."
   ]
  },
  {
   "cell_type": "code",
   "execution_count": 23,
   "metadata": {},
   "outputs": [
    {
     "ename": "TypeError",
     "evalue": "'set' object is not subscriptable",
     "output_type": "error",
     "traceback": [
      "\u001b[1;31m---------------------------------------------------------------------------\u001b[0m",
      "\u001b[1;31mTypeError\u001b[0m                                 Traceback (most recent call last)",
      "\u001b[1;32m<ipython-input-23-bc72c9d556d1>\u001b[0m in \u001b[0;36m<module>\u001b[1;34m\u001b[0m\n\u001b[0;32m      2\u001b[0m \u001b[0mnp\u001b[0m\u001b[1;33m.\u001b[0m\u001b[0mset_printoptions\u001b[0m\u001b[1;33m(\u001b[0m\u001b[0mthreshold\u001b[0m\u001b[1;33m=\u001b[0m\u001b[0mnp\u001b[0m\u001b[1;33m.\u001b[0m\u001b[0minf\u001b[0m\u001b[1;33m)\u001b[0m\u001b[1;33m\u001b[0m\u001b[1;33m\u001b[0m\u001b[0m\n\u001b[0;32m      3\u001b[0m \u001b[1;31m#subset=5\u001b[0m\u001b[1;33m\u001b[0m\u001b[1;33m\u001b[0m\u001b[1;33m\u001b[0m\u001b[0m\n\u001b[1;32m----> 4\u001b[1;33m \u001b[0mprint\u001b[0m\u001b[1;33m(\u001b[0m\u001b[1;34mf'First {subset} rows of the ohe matrix, representing the charcters {unique_char[0:5]}\\n'\u001b[0m\u001b[1;33m)\u001b[0m\u001b[1;33m\u001b[0m\u001b[1;33m\u001b[0m\u001b[0m\n\u001b[0m\u001b[0;32m      5\u001b[0m \u001b[0mprint\u001b[0m\u001b[1;33m(\u001b[0m\u001b[0mnp\u001b[0m\u001b[1;33m.\u001b[0m\u001b[0mmatrix\u001b[0m\u001b[1;33m(\u001b[0m\u001b[0mdf\u001b[0m\u001b[1;33m.\u001b[0m\u001b[0miloc\u001b[0m\u001b[1;33m[\u001b[0m\u001b[0mlongest_smile_index\u001b[0m\u001b[1;33m[\u001b[0m\u001b[1;36m0\u001b[0m\u001b[1;33m]\u001b[0m\u001b[1;33m]\u001b[0m\u001b[1;33m[\u001b[0m\u001b[1;34m'unique_char_ohe_matrix'\u001b[0m\u001b[1;33m]\u001b[0m\u001b[1;33m)\u001b[0m\u001b[1;33m[\u001b[0m\u001b[1;36m0\u001b[0m\u001b[1;33m:\u001b[0m\u001b[1;36m5\u001b[0m\u001b[1;33m,\u001b[0m \u001b[1;33m:\u001b[0m\u001b[1;33m]\u001b[0m\u001b[1;33m)\u001b[0m\u001b[1;33m\u001b[0m\u001b[1;33m\u001b[0m\u001b[0m\n",
      "\u001b[1;31mTypeError\u001b[0m: 'set' object is not subscriptable"
     ]
    }
   ],
   "source": [
    "# Print the some rows of the matrix for the longest smile\n",
    "np.set_printoptions(threshold=np.inf)\n",
    "subset=5\n",
    "print(f'First {subset} rows of the ohe matrix, representing the charcters {unique_char[0:subset]}\\n')\n",
    "print(np.matrix(df.iloc[longest_smile_index[0]]['unique_char_ohe_matrix'])[0:subset, :])"
   ]
  },
  {
   "cell_type": "markdown",
   "metadata": {},
   "source": [
    "## Discussion "
   ]
  },
  {
   "cell_type": "markdown",
   "metadata": {},
   "source": [
    "### Challenges "
   ]
  },
  {
   "cell_type": "markdown",
   "metadata": {},
   "source": [
    "There were several challenges faced during the task, for instance:\n",
    "\n",
    "- Making equal dimensions of the one-hot encoded matrix.\n",
    "\n",
    "- Replacing two letter elements with unique characters (note: the selected replacement might need to be extended for other datasets).\n",
    "\n",
    "- After searching for two letter elements, we found a specific element `Sc` which is a metallic element. In our dataset both 'S' and 'c' elements are present individually as well. So if we would have replaced `Sc` with single a letter element then it might have effected our actual strings. So we assumed that since `Sc` is a metallic element and is rarely present in SMILES, we did not replace this element."
   ]
  },
  {
   "cell_type": "markdown",
   "metadata": {},
   "source": [
    "### Supplementary material "
   ]
  },
  {
   "cell_type": "markdown",
   "metadata": {},
   "source": [
    "#### Scikit-learn implementation of one-hot encoding"
   ]
  },
  {
   "cell_type": "markdown",
   "metadata": {},
   "source": [
    "Before implementing one hot encoding using scikit-learn, we have defined the functions named later_padding which adds horizontal and vertical padding to the given matrix and initial_padding which adds zeros to the character list after they are label encoded by using the numpy.pad function as discussed in the theory section.\n",
    "\n",
    "It is defined here because it will be used as a boolean parameter (islaterpadding and isinitialpadding) later in the scikit-learn and keras implementations to choose if later padding or initial padding is required or not."
   ]
  },
  {
   "cell_type": "code",
   "execution_count": null,
   "metadata": {},
   "outputs": [],
   "source": [
    "# Function to add padding after one-hot encoding\n",
    "def later_padding(ohe_matrix, maxlen, uniquechar):\n",
    "    \"\"\"\n",
    "    Add horizontal and vertical padding\n",
    "    to the given matrix using numpy.pad() function.\n",
    "\n",
    "    Parameters\n",
    "    ----------\n",
    "    ohe_matrix: ndarray\n",
    "        Character array.\n",
    "    smiles_max_len: int\n",
    "        Maximum length of the SMILES string.\n",
    "    unique_char: list\n",
    "        List of unique characters in the string dataset.\n",
    "            \n",
    "    Returns\n",
    "    -------\n",
    "    padded_matrix: ndarray\n",
    "           Padded one-hot encoded matrix of\n",
    "           shape (unique char in smiles, max smile_length).\n",
    "   \"\"\"\n",
    "    \n",
    "    padded_matrix = np.pad(ohe_matrix, ((0, SMILES_maxlen-len(ohe_matrix)),\n",
    "                                         (0, len(unique_char)-len(\n",
    "                                          ohe_matrix[0]))), 'constant')\n",
    "    return padded_matrix"
   ]
  },
  {
   "cell_type": "code",
   "execution_count": null,
   "metadata": {},
   "outputs": [],
   "source": [
    "# Function to add padding before one-hot encoding\n",
    "# after label (integer) encoding\n",
    "def initial_padding(smiles, maxlen):\n",
    "    \"\"\"\n",
    "    Add zeroes to the list of characters \n",
    "    after integer encoding them\n",
    "\n",
    "    Parameters\n",
    "    ----------\n",
    "    smiles : str\n",
    "       SMILES string.\n",
    "    maxlen: int\n",
    "       Maximum length of the SMILES string\n",
    "\n",
    "    Returns\n",
    "    -------\n",
    "    ndarray\n",
    "      One-hot encoded matrix with intial padding of shape\n",
    "      (unique char in smiles, max smile_length).\n",
    "    \"\"\"\n",
    "    canonical_char = list(smiles)\n",
    "    # perform padding on the list of characters\n",
    "    canonical_char_padded = np.pad(canonical_char, (0,\n",
    "                         maxlen-len(canonical_char)), 'constant')\n",
    "    return canonical_char_padded"
   ]
  },
  {
   "cell_type": "code",
   "execution_count": null,
   "metadata": {},
   "outputs": [],
   "source": [
    "# Use Scikit-learn implementation of one-hot encoding\n",
    "def sklearn_one_hot_encoded_matrix(smiles, islaterpadding, isinitialpadding):\n",
    "    \"\"\"\n",
    "    Label and one-hot encodes the SMILES\n",
    "    using sklearn LabelEncoder and OneHotEncoder implementation.\n",
    "    \n",
    "    Parameters\n",
    "    ----------\n",
    "    smiles : str\n",
    "        SMILES string of a compound.\n",
    "    islaterpadding : bool\n",
    "        Paramater is `True` if `later_padding` is required,\n",
    "        `False` otherwise.\n",
    "    isinitialpadding : bool\n",
    "        Paramater is `True` if `initial_padding` is required,\n",
    "        `False` otherwise.\n",
    "          \n",
    "    Returns\n",
    "    -------\n",
    "    onehot_encoded : ndarray\n",
    "        One-hot encoded matrix of shape\n",
    "        (chars in individual SMILES, length of individual SMILES).\n",
    "    \"\"\"\n",
    "    # Integer encoding\n",
    "    canonical_char = list(smiles)\n",
    "    label_encoder = LabelEncoder()\n",
    "    # Fit_transform function is used to first fit the data and then transform it\n",
    "    integer_encoded = label_encoder.fit_transform(canonical_char)\n",
    "    \n",
    "    if (isinitialpadding == True):\n",
    "        integer_encoded = initial_padding(integer_encoded, SMILES_maxlen)\n",
    "        \n",
    "    # One-hot encoding\n",
    "    onehot_encoder = OneHotEncoder(sparse=False)\n",
    "    integer_encoded = integer_encoded.reshape(len(integer_encoded), 1)\n",
    "    onehot_encoded = onehot_encoder.fit_transform(integer_encoded)\n",
    "    \n",
    "    if (islaterpadding == True):\n",
    "        onehot_encoded = later_padding(onehot_encoded, SMILES_maxlen, unique_char)\n",
    "    \n",
    "    onehot_encoded = onehot_encoded.transpose()\n",
    "    \n",
    "    if (isinitialpadding == True):\n",
    "        row_padding = np.ndarray(shape=(len(unique_char)-len(onehot_encoded),\n",
    "                                    SMILES_maxlen,))\n",
    "        row_padding.fill(0)\n",
    "        onehot_encoded = np.append(onehot_encoded, row_padding, axis=0)\n",
    "    return onehot_encoded"
   ]
  },
  {
   "cell_type": "markdown",
   "metadata": {},
   "source": [
    "#### Without padding (unequal dimension)\n",
    "\n",
    "We can use the `sklearn_one_hot_encoded_matrix` function defined above to create the one-hot encoded matrix and no padding is perfomed, it will create unequal dimensions of the matrix because it will first label encode all the characters present in the SMILES strings (individually) and then one-hot encode them."
   ]
  },
  {
   "cell_type": "code",
   "execution_count": null,
   "metadata": {},
   "outputs": [],
   "source": [
    "# Apply the function over the processed canonical SMILES strings\n",
    "start = timer()\n",
    "df['sklearn_ohe_matrix_no_padding'] = df['processed_canonical_smiles'].apply(\n",
    "                                          sklearn_one_hot_encoded_matrix, \n",
    "                                          islaterpadding=False, \n",
    "                                          isinitialpadding=False)\n",
    "end = timer()\n",
    "df.head(2) # NBVAL_CHECK_OUTPUT"
   ]
  },
  {
   "cell_type": "markdown",
   "metadata": {},
   "source": [
    "#### With padding (equal dimension)\n",
    "It can be either done after one-hot encoding is performed on the SMILES strings or before, meaning after we label encode the SMILES characters. We discuss both scenarios in the next sections."
   ]
  },
  {
   "cell_type": "markdown",
   "metadata": {},
   "source": [
    "##### Padding after one-hot encoding is performed\n",
    "\n",
    "We simply pass **True** to the `islaterpadding` boolean parameter in `sklearn_one_hot_encoded_matrix` function as shown below to pad the matrix after one hot encoding is performed,"
   ]
  },
  {
   "cell_type": "code",
   "execution_count": null,
   "metadata": {},
   "outputs": [],
   "source": [
    "# Apply the function over the processed canonical SMILES strings\n",
    "start = timer()\n",
    "df['sklearn_ohe_matrix_later_padding'] = df['processed_canonical_smiles'].apply(\n",
    "                                             sklearn_one_hot_encoded_matrix, \n",
    "                                             islaterpadding=True, isinitialpadding=False)\n",
    "end = timer()\n",
    "df.head(2) # NBVAL_CHECK_OUTPUT"
   ]
  },
  {
   "cell_type": "markdown",
   "metadata": {},
   "source": [
    "##### Padding before one-hot encoding is performed\n",
    "\n",
    "In this case, padding is performed after label or integer encoding the list of SMILES characters by passing **True** to the `initial_padding` boolean parameter in `sklearn_one_hot_encoded_matrix` function."
   ]
  },
  {
   "cell_type": "code",
   "execution_count": null,
   "metadata": {},
   "outputs": [],
   "source": [
    "# Apply the function over the processed canonical SMILES strings\n",
    "start = timer()\n",
    "df['sklearn_ohe_matrix_initial_padding'] = df['processed_canonical_smiles'].apply(\n",
    "                                               sklearn_one_hot_encoded_matrix, \n",
    "                                               islaterpadding=False, \n",
    "                                               isinitialpadding=True)\n",
    "\n",
    "end = timer()\n",
    "df.head(2)"
   ]
  },
  {
   "cell_type": "markdown",
   "metadata": {},
   "source": [
    "#### Keras implementation of one-hot encoding"
   ]
  },
  {
   "cell_type": "code",
   "execution_count": null,
   "metadata": {},
   "outputs": [],
   "source": [
    "# Use keras implementation of one-hot encoding\n",
    "def keras_one_hot_encoded_matrix(smiles, islaterpadding, maxlen, uniquechar):\n",
    "    \"\"\"\n",
    "    One-hot encodes the SMILES using keras\n",
    "    implementation.\n",
    "    \n",
    "    Parameters\n",
    "    ----------\n",
    "    canonical_char : array\n",
    "        Canonical character array.\n",
    "    islaterpadding : bool\n",
    "        The paramater is `True` if later_padding is required,\n",
    "        `False` otherwise.\n",
    "    maxlen: int\n",
    "        Maximum length of the SMILES string.\n",
    "    uniquechar: list\n",
    "        List of unique characters in the string dataset.\n",
    "        \n",
    "    Returns\n",
    "    -------\n",
    "    encoded : ndarray\n",
    "        One-hot encoded matrix of shape\n",
    "        (chars in SMILES, length of SMILES).\n",
    "    \"\"\"\n",
    "   \n",
    "    # Integer encoding using Tokenizer\n",
    "    input = smiles\n",
    "    tokenizer = Tokenizer(char_level=True)\n",
    "    tokenizer.fit_on_texts([input])\n",
    "    integer_encoded = tokenizer.texts_to_sequences([input])[0]\n",
    "    \n",
    "    # One-hot encoding using to_categorical function\n",
    "    encoded = to_categorical(integer_encoded)\n",
    "    if (islaterpadding == True):\n",
    "        encoded = later_padding(encoded, SMILES_maxlen,unique_char)\n",
    "    encoded = encoded.transpose()\n",
    "    return encoded"
   ]
  },
  {
   "cell_type": "markdown",
   "metadata": {},
   "source": [
    "Next, we will implement two scenarios, \n",
    "\n",
    "- one, when there is no later padding performed which will result in unequal dimensions of the produced one-hot encoded matrix and \n",
    "- the other, where later padding will be performed by passing `True` to the boolean parameter `islaterpadding` in the `keras_one_hot_encoded_matrix` function."
   ]
  },
  {
   "cell_type": "markdown",
   "metadata": {},
   "source": [
    "#### Without padding (unequal dimension)"
   ]
  },
  {
   "cell_type": "code",
   "execution_count": null,
   "metadata": {},
   "outputs": [],
   "source": [
    "# Apply the function over the processed canonical SMILES strings\n",
    "start = timer()\n",
    "df['keras_ohe_matrix_without_padding'] = df['processed_canonical_smiles'].apply(\n",
    "                                            keras_one_hot_encoded_matrix, \n",
    "                                            maxlen = SMILES_maxlen, \n",
    "                                            uniquechar = unique_char, \n",
    "                                            islaterpadding=False)\n",
    "end = timer()\n",
    "df.head(2)"
   ]
  },
  {
   "cell_type": "markdown",
   "metadata": {},
   "source": [
    "#### With padding (equal dimension)"
   ]
  },
  {
   "cell_type": "code",
   "execution_count": null,
   "metadata": {},
   "outputs": [],
   "source": [
    "# Apply the function over the Processed_canonical_smiles strings\n",
    "start = timer()\n",
    "df['keras_ohe_matrix_padding'] = df['processed_canonical_smiles'].apply(\n",
    "                                    keras_one_hot_encoded_matrix, \n",
    "                                    maxlen = SMILES_maxlen,\n",
    "                                    uniquechar = unique_char, \n",
    "                                    islaterpadding=True)\n",
    "end = timer()\n",
    "df.head(2)"
   ]
  }
 ],
 "metadata": {
  "kernelspec": {
   "display_name": "Python 3",
   "language": "python",
   "name": "python3"
  },
  "language_info": {
   "codemirror_mode": {
    "name": "ipython",
    "version": 3
   },
   "file_extension": ".py",
   "mimetype": "text/x-python",
   "name": "python",
   "nbconvert_exporter": "python",
   "pygments_lexer": "ipython3",
   "version": "3.7.7"
  }
 },
 "nbformat": 4,
 "nbformat_minor": 4
}
